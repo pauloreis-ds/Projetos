{
  "cells":[
    {
      "cell_type":"markdown",
      "source":[
        "[0.0 Imports](attachment:.\/#0.0-Imports)<br>\n",
        "&nbsp;[0.1 Helper Functions](attachment:.\/#0.1-Helper-Functions)<br>\n",
        "&nbsp;[0.2 Loading Data](attachment:.\/#0.2-Loading-Data)<br>\n",
        "\n",
        "[1.0 Describe Data](attachment:.\/#1.0-Describe-Data)<br>\n",
        "&nbsp;[1.1 Rename Columns](attachment:.\/#1.1-Rename-Columns)<br>\n",
        "&nbsp;[1.2 Change Data Types](attachment:.\/#1.2-Change-Data-Types)<br>\n",
        "&nbsp;[1.3 Descriptive Statistical](attachment:.\/#1.3-Descriptive-Statistical)<br>\n",
        "&nbsp;&nbsp;[1.3.1. Numerical Attributes](attachment:.\/#1.3.1.-Numerical-Attributes)<br>\n",
        "&nbsp;&nbsp;[1.3.2. Categorical Attributes](attachment:.\/#1.3.2.-Categorical-Attributes)<br>\n",
        "\n",
        "[2.0 Feature Engineering](attachment:.\/#2.0-Feature-Engineering)<br>\n",
        "&nbsp;[2.1 Annual Revenue](attachment:.\/#2.1-Annual-Revenue)<br>\n",
        "&nbsp;[2.2 Revenue per Product](attachment:.\/#2.2-Revenue-per-Product)<br>\n",
        "\n",
        "[3.0 Filtering The Features](attachment:.\/#3.0-Filtering-The-Features)<br>\n",
        "\n",
        "[4.0 Exploratory Data Analysis?](attachment:.\/#4.0-Exploratory-Data-Analysis)<br>\n",
        "\n",
        "[5.0 Machine Learning](attachment:.\/#5.0-Machine-Learning)<br>\n",
        "&nbsp;[5.1 Data Preparation](attachment:.\/#5.1-Data-Preparation)<br>\n",
        "&nbsp;&nbsp;[5.1.1. Feature Encoding](attachment:.\/#5.1.1.-Feature-Encoding)<br>\n",
        "&nbsp;&nbsp;[5.1.2. Vector Assembling](attachment:.\/#5.1.2.-Vector-Assembling)<br>\n",
        "&nbsp;&nbsp;[5.1.3. Train Test](attachment:.\/#5.1.3.-Train-Test)<br>\n",
        "&nbsp;[5.2 Random Forest Classifier](attachment:.\/#5.2-Random-Forest-Classifier)<br>\n",
        "&nbsp;[5.3 Oversampling by Copying](attachment:.\/#5.3-Oversampling-by-Copying)<br>\n",
        "&nbsp;[5.4 Retrain Model](attachment:.\/#5.4-Retrain-Model)<br>\n",
        "&nbsp;[](attachment:.\/#)<br>\n",
        "&nbsp;[](attachment:.\/#)<br>\n",
        "&nbsp;[](attachment:.\/#)<br>\n",
        "&nbsp;[](attachment:.\/#)<br>\n",
        "&nbsp;[](attachment:.\/#)<br>\n",
        "&nbsp;[](attachment:.\/#)<br>\n",
        "&nbsp;[](attachment:.\/#)<br>\n",
        "&nbsp;[](attachment:.\/#)<br>\n",
        "\n",
        "\n",
        "\n",
        "5.1 Data Preparation"
      ],
      "attachments":{
        
      },
      "metadata":{
        
      }
    },
    {
      "cell_type":"markdown",
      "source":[
        "## 0.0 Imports"
      ],
      "attachments":{
        
      },
      "metadata":{
        
      }
    },
    {
      "cell_type":"code",
      "source":[
        "from pyspark.sql import SparkSession\n",
        "import inflection\n",
        "\n",
        "import pandas as pd\n",
        "\n",
        "import pyspark.sql.functions as F"
      ],
      "execution_count":40,
      "outputs":[
        
      ],
      "metadata":{
        
      }
    },
    {
      "cell_type":"markdown",
      "source":[
        "### 0.1 Helper Functions"
      ],
      "attachments":{
        
      },
      "metadata":{
        
      }
    },
    {
      "cell_type":"code",
      "source":[
        "def describe_data(df):\n",
        "    described_df = pd.DataFrame(df.dtypes, columns=['column', 'data_type'])\n",
        "\n",
        "    nan_count = {col:df.filter(df[col].isNull()).count() for col in df.columns}\n",
        "    described_df['nan_count'] = nan_count.values()\n",
        "\n",
        "    described_df['nan_percentage'] = (described_df['nan_count']\/df.count()) * 100\n",
        "\n",
        "    described_df.set_index(\"column\", inplace=True)\n",
        "    return described_df\n",
        "\n",
        "\n",
        "def describe_to_pandas(df):\n",
        "    desc = df.describe().toPandas()\n",
        "    desc.set_index('summary', inplace=True)\n",
        "    return desc.T\n",
        "\n",
        "\n",
        "def select_dtypes(df, include=None, exclude=None):\n",
        "    if include and exclude:\n",
        "        include = [item for item in include if item not in exclude]\n",
        "    elif include is None and exclude is None:\n",
        "        raise ValueError(\"You have to select by including or excluding values\")\n",
        "\n",
        "    if include:\n",
        "        return [col for col, col_type in df.dtypes if col_type in include]\n",
        "    else:\n",
        "        return [col for col, col_type in df.dtypes if col_type not in exclude]\n",
        "\n",
        "\n",
        "def count_distinct(df, columns):\n",
        "    distinct_df = pd.DataFrame()\n",
        "    for column in columns:\n",
        "        distinct_count = df.select(column).distinct().count()\n",
        "        distinct_df[column] = [distinct_count]\n",
        "    distinct_df.index = ['distinct_count']\n",
        "    return distinct_df\n"
      ],
      "execution_count":41,
      "outputs":[
        
      ],
      "metadata":{
        
      }
    },
    {
      "cell_type":"markdown",
      "source":[
        "### 0.2 Loading Data"
      ],
      "attachments":{
        
      },
      "metadata":{
        
      }
    },
    {
      "cell_type":"code",
      "source":[
        "spark = SparkSession.builder.appName('pandasToSparkDF').getOrCreate()\n",
        "raw_data = spark.read.format(\"csv\").option(\"header\", \"true\").load(\"data\/churn.csv\")\n",
        "raw_data.show(5)"
      ],
      "execution_count":42,
      "outputs":[
        {
          "name":"stdout",
          "text":[
            "+---------+----------+--------+-----------+---------+------+---+------+---------+-------------+---------+--------------+---------------+------+\n",
            "|RowNumber|CustomerId| Surname|CreditScore|Geography|Gender|Age|Tenure|  Balance|NumOfProducts|HasCrCard|IsActiveMember|EstimatedSalary|Exited|\n",
            "+---------+----------+--------+-----------+---------+------+---+------+---------+-------------+---------+--------------+---------------+------+\n",
            "|        1|  15634602|Hargrave|        619|   France|Female| 42|     2|        0|            1|        1|             1|      101348.88|     1|\n",
            "|        2|  15647311|    Hill|        608|    Spain|Female| 41|     1| 83807.86|            1|        0|             1|      112542.58|     0|\n",
            "|        3|  15619304|    Onio|        502|   France|Female| 42|     8| 159660.8|            3|        1|             0|      113931.57|     1|\n",
            "|        4|  15701354|    Boni|        699|   France|Female| 39|     1|        0|            2|        0|             0|       93826.63|     0|\n",
            "|        5|  15737888|Mitchell|        850|    Spain|Female| 43|     2|125510.82|            1|        1|             1|        79084.1|     0|\n",
            "+---------+----------+--------+-----------+---------+------+---+------+---------+-------------+---------+--------------+---------------+------+\n",
            "only showing top 5 rows\n",
            "\n"
          ],
          "output_type":"stream"
        }
      ],
      "metadata":{
        
      }
    },
    {
      "cell_type":"markdown",
      "source":[
        "## 1.0 Describe Data"
      ],
      "attachments":{
        
      },
      "metadata":{
        
      }
    },
    {
      "cell_type":"code",
      "source":[
        "data_frame = raw_data"
      ],
      "execution_count":43,
      "outputs":[
        
      ],
      "metadata":{
        
      }
    },
    {
      "cell_type":"markdown",
      "source":[
        "### 1.1 Rename Columns"
      ],
      "attachments":{
        
      },
      "metadata":{
        
      }
    },
    {
      "cell_type":"code",
      "source":[
        "snakecase = lambda x: inflection.underscore(x)\n",
        "data_frame = data_frame.toDF(*map(snakecase, data_frame.columns))"
      ],
      "execution_count":44,
      "outputs":[
        
      ],
      "metadata":{
        
      }
    },
    {
      "cell_type":"markdown",
      "source":[
        "> **Data Dimension. Data Types. Check NaN.**"
      ],
      "attachments":{
        
      },
      "metadata":{
        
      }
    },
    {
      "cell_type":"code",
      "source":[
        "print(describe_data(data_frame))"
      ],
      "execution_count":45,
      "outputs":[
        {
          "name":"stdout",
          "text":[
            "                 data_type  nan_count  nan_percentage\n",
            "column                                               \n",
            "row_number          string          0             0.0\n",
            "customer_id         string          0             0.0\n",
            "surname             string          0             0.0\n",
            "credit_score        string          0             0.0\n",
            "geography           string          0             0.0\n",
            "gender              string          0             0.0\n",
            "age                 string          0             0.0\n",
            "tenure              string          0             0.0\n",
            "balance             string          0             0.0\n",
            "num_of_products     string          0             0.0\n",
            "has_cr_card         string          0             0.0\n",
            "is_active_member    string          0             0.0\n",
            "estimated_salary    string          0             0.0\n",
            "exited              string          0             0.0\n"
          ],
          "output_type":"stream"
        }
      ],
      "metadata":{
        
      }
    },
    {
      "cell_type":"markdown",
      "source":[
        "### 1.2 Change Data Types"
      ],
      "attachments":{
        
      },
      "metadata":{
        
      }
    },
    {
      "cell_type":"code",
      "source":[
        "data_frame = data_frame.withColumn(\"row_number\", data_frame[\"row_number\"].cast(\"int\"))\n",
        "data_frame = data_frame.withColumn(\"customer_id\", data_frame[\"customer_id\"].cast(\"int\"))\n",
        "data_frame = data_frame.withColumn(\"credit_score\", data_frame[\"credit_score\"].cast(\"float\"))\n",
        "data_frame = data_frame.withColumn(\"age\", data_frame[\"age\"].cast(\"int\"))\n",
        "data_frame = data_frame.withColumn(\"tenure\", data_frame[\"tenure\"].cast(\"int\"))\n",
        "data_frame = data_frame.withColumn(\"balance\", data_frame[\"balance\"].cast(\"float\"))\n",
        "data_frame = data_frame.withColumn(\"num_of_products\", data_frame[\"num_of_products\"].cast(\"int\"))\n",
        "data_frame = data_frame.withColumn(\"has_cr_card\", data_frame[\"has_cr_card\"].cast(\"int\"))\n",
        "data_frame = data_frame.withColumn(\"is_active_member\", data_frame[\"is_active_member\"].cast(\"int\"))\n",
        "data_frame = data_frame.withColumn(\"estimated_salary\", data_frame[\"estimated_salary\"].cast(\"float\"))\n",
        "data_frame = data_frame.withColumn(\"exited\", data_frame[\"exited\"].cast(\"int\"))\n",
        "print(describe_data(data_frame))"
      ],
      "execution_count":46,
      "outputs":[
        {
          "name":"stdout",
          "text":[
            "                 data_type  nan_count  nan_percentage\n",
            "column                                               \n",
            "row_number             int          0             0.0\n",
            "customer_id            int          0             0.0\n",
            "surname             string          0             0.0\n",
            "credit_score         float          0             0.0\n",
            "geography           string          0             0.0\n",
            "gender              string          0             0.0\n",
            "age                    int          0             0.0\n",
            "tenure                 int          0             0.0\n",
            "balance              float          0             0.0\n",
            "num_of_products        int          0             0.0\n",
            "has_cr_card            int          0             0.0\n",
            "is_active_member       int          0             0.0\n",
            "estimated_salary     float          0             0.0\n",
            "exited                 int          0             0.0\n"
          ],
          "output_type":"stream"
        }
      ],
      "metadata":{
        
      }
    },
    {
      "cell_type":"markdown",
      "source":[
        "### 1.3 Descriptive Statistical"
      ],
      "attachments":{
        
      },
      "metadata":{
        
      }
    },
    {
      "cell_type":"code",
      "source":[
        "numeric_columns = select_dtypes(data_frame, include=['int', 'float'])\n",
        "numerical_attributes = data_frame[numeric_columns]\n",
        "categorial_columns = select_dtypes(data_frame, exclude=['int', 'float'])\n",
        "categorical_attributes = data_frame[categorial_columns]"
      ],
      "execution_count":47,
      "outputs":[
        
      ],
      "metadata":{
        
      }
    },
    {
      "cell_type":"markdown",
      "source":[
        "#### 1.3.1. Numerical Attributes\n",
        "\n",
        "From here We already know that\n",
        "\n",
        "> 20% of customers are in churn. _[mean, exited]_\n",
        "\n",
        "> Half of customers are active members. _[mean, is_active_member]_\n",
        "\n",
        "> 70% has credit card. _[mean, has_cr_card]_\n",
        "\n",
        "And the minimum salary seems too low (we'll check it out later)."
      ],
      "attachments":{
        
      },
      "metadata":{
        
      }
    },
    {
      "cell_type":"code",
      "source":[
        "desc = numerical_attributes.describe().toPandas()\n",
        "desc.set_index('summary', inplace=True)\n",
        "desc.T"
      ],
      "execution_count":48,
      "outputs":[
        {
          "data":{
            "text\/html":[
              "<div>\n",
              "<style scoped>\n",
              "    .dataframe tbody tr th:only-of-type {\n",
              "        vertical-align: middle;\n",
              "    }\n",
              "\n",
              "    .dataframe tbody tr th {\n",
              "        vertical-align: top;\n",
              "    }\n",
              "\n",
              "    .dataframe thead th {\n",
              "        text-align: right;\n",
              "    }\n",
              "<\/style>\n",
              "<table border=\"1\" class=\"dataframe\">\n",
              "  <thead>\n",
              "    <tr style=\"text-align: right;\">\n",
              "      <th>summary<\/th>\n",
              "      <th>count<\/th>\n",
              "      <th>mean<\/th>\n",
              "      <th>stddev<\/th>\n",
              "      <th>min<\/th>\n",
              "      <th>max<\/th>\n",
              "    <\/tr>\n",
              "  <\/thead>\n",
              "  <tbody>\n",
              "    <tr>\n",
              "      <th>row_number<\/th>\n",
              "      <td>10000<\/td>\n",
              "      <td>5000.5<\/td>\n",
              "      <td>2886.8956799071675<\/td>\n",
              "      <td>1<\/td>\n",
              "      <td>10000<\/td>\n",
              "    <\/tr>\n",
              "    <tr>\n",
              "      <th>customer_id<\/th>\n",
              "      <td>10000<\/td>\n",
              "      <td>1.56909405694E7<\/td>\n",
              "      <td>71936.18612274907<\/td>\n",
              "      <td>15565701<\/td>\n",
              "      <td>15815690<\/td>\n",
              "    <\/tr>\n",
              "    <tr>\n",
              "      <th>credit_score<\/th>\n",
              "      <td>10000<\/td>\n",
              "      <td>650.5288<\/td>\n",
              "      <td>96.65329873613035<\/td>\n",
              "      <td>350.0<\/td>\n",
              "      <td>850.0<\/td>\n",
              "    <\/tr>\n",
              "    <tr>\n",
              "      <th>age<\/th>\n",
              "      <td>10000<\/td>\n",
              "      <td>38.9218<\/td>\n",
              "      <td>10.487806451704587<\/td>\n",
              "      <td>18<\/td>\n",
              "      <td>92<\/td>\n",
              "    <\/tr>\n",
              "    <tr>\n",
              "      <th>tenure<\/th>\n",
              "      <td>10000<\/td>\n",
              "      <td>5.0128<\/td>\n",
              "      <td>2.8921743770496837<\/td>\n",
              "      <td>0<\/td>\n",
              "      <td>10<\/td>\n",
              "    <\/tr>\n",
              "    <tr>\n",
              "      <th>balance<\/th>\n",
              "      <td>10000<\/td>\n",
              "      <td>76485.88928129883<\/td>\n",
              "      <td>62397.405179244066<\/td>\n",
              "      <td>0.0<\/td>\n",
              "      <td>250898.1<\/td>\n",
              "    <\/tr>\n",
              "    <tr>\n",
              "      <th>num_of_products<\/th>\n",
              "      <td>10000<\/td>\n",
              "      <td>1.5302<\/td>\n",
              "      <td>0.5816543579989917<\/td>\n",
              "      <td>1<\/td>\n",
              "      <td>4<\/td>\n",
              "    <\/tr>\n",
              "    <tr>\n",
              "      <th>has_cr_card<\/th>\n",
              "      <td>10000<\/td>\n",
              "      <td>0.7055<\/td>\n",
              "      <td>0.45584046447513327<\/td>\n",
              "      <td>0<\/td>\n",
              "      <td>1<\/td>\n",
              "    <\/tr>\n",
              "    <tr>\n",
              "      <th>is_active_member<\/th>\n",
              "      <td>10000<\/td>\n",
              "      <td>0.5151<\/td>\n",
              "      <td>0.49979692845891815<\/td>\n",
              "      <td>0<\/td>\n",
              "      <td>1<\/td>\n",
              "    <\/tr>\n",
              "    <tr>\n",
              "      <th>estimated_salary<\/th>\n",
              "      <td>10000<\/td>\n",
              "      <td>100090.23985771237<\/td>\n",
              "      <td>57510.49281035653<\/td>\n",
              "      <td>11.58<\/td>\n",
              "      <td>199992.48<\/td>\n",
              "    <\/tr>\n",
              "    <tr>\n",
              "      <th>exited<\/th>\n",
              "      <td>10000<\/td>\n",
              "      <td>0.2037<\/td>\n",
              "      <td>0.40276858399486065<\/td>\n",
              "      <td>0<\/td>\n",
              "      <td>1<\/td>\n",
              "    <\/tr>\n",
              "  <\/tbody>\n",
              "<\/table>\n",
              "<\/div>"
            ]
          },
          "metadata":{
            
          },
          "output_type":"display_data"
        }
      ],
      "metadata":{
        
      }
    },
    {
      "cell_type":"markdown",
      "source":[
        "### 1.3.2. Categorical Attributes"
      ],
      "attachments":{
        
      },
      "metadata":{
        
      }
    },
    {
      "cell_type":"code",
      "source":[
        "count_distinct(categorical_attributes, categorical_attributes.columns).T"
      ],
      "execution_count":49,
      "outputs":[
        {
          "data":{
            "text\/html":[
              "<div>\n",
              "<style scoped>\n",
              "    .dataframe tbody tr th:only-of-type {\n",
              "        vertical-align: middle;\n",
              "    }\n",
              "\n",
              "    .dataframe tbody tr th {\n",
              "        vertical-align: top;\n",
              "    }\n",
              "\n",
              "    .dataframe thead th {\n",
              "        text-align: right;\n",
              "    }\n",
              "<\/style>\n",
              "<table border=\"1\" class=\"dataframe\">\n",
              "  <thead>\n",
              "    <tr style=\"text-align: right;\">\n",
              "      <th><\/th>\n",
              "      <th>distinct_count<\/th>\n",
              "    <\/tr>\n",
              "  <\/thead>\n",
              "  <tbody>\n",
              "    <tr>\n",
              "      <th>surname<\/th>\n",
              "      <td>2932<\/td>\n",
              "    <\/tr>\n",
              "    <tr>\n",
              "      <th>geography<\/th>\n",
              "      <td>3<\/td>\n",
              "    <\/tr>\n",
              "    <tr>\n",
              "      <th>gender<\/th>\n",
              "      <td>2<\/td>\n",
              "    <\/tr>\n",
              "  <\/tbody>\n",
              "<\/table>\n",
              "<\/div>"
            ]
          },
          "metadata":{
            
          },
          "output_type":"display_data"
        }
      ],
      "metadata":{
        
      }
    },
    {
      "cell_type":"markdown",
      "source":[
        "## 2.0 Feature Engineering"
      ],
      "attachments":{
        
      },
      "metadata":{
        
      }
    },
    {
      "cell_type":"code",
      "source":[
        "df = data_frame"
      ],
      "execution_count":50,
      "outputs":[
        
      ],
      "metadata":{
        
      }
    },
    {
      "cell_type":"markdown",
      "source":[
        "### 2.1 Annual Revenue\n",
        "\n",
        "**_According to the TopBank Analytics team, each customer who has this bank account returns a monetary value of 15% of the value of their estimated salary, if it is less than the average and 20% if this salary is higher than the average, during the current period of your account. This value is calculated annually._**"
      ],
      "attachments":{
        
      },
      "metadata":{
        
      }
    },
    {
      "cell_type":"code",
      "source":[
        "average_salary = df.select(F.mean('estimated_salary')).collect()[0][0]\n",
        "TWELVE_MONTHS = 12"
      ],
      "execution_count":51,
      "outputs":[
        
      ],
      "metadata":{
        
      }
    },
    {
      "cell_type":"code",
      "source":[
        "def get_annual_revenue(salary):\n",
        "    if salary > average_salary:\n",
        "        return (salary\/TWELVE_MONTHS)*.2\n",
        "    else:    \n",
        "        return (salary\/TWELVE_MONTHS)*.15\n",
        "\n",
        "get_revenue = F.udf(lambda x:get_annual_revenue(x))\n",
        "\n",
        "\n",
        "df = df.withColumn(\"annual_revenue\", get_revenue(F.col(\"estimated_salary\")).cast('float'))"
      ],
      "execution_count":52,
      "outputs":[
        
      ],
      "metadata":{
        
      }
    },
    {
      "cell_type":"markdown",
      "source":[
        "### 2.2 Revenue per Product\n",
        "\n",
        "        Would it be \"How much is this customer paying for each product?\"?\n",
        "        Not quite, but since we don't have this specific data, let's use \n",
        "        it as an alternative."
      ],
      "attachments":{
        
      },
      "metadata":{
        
      }
    },
    {
      "cell_type":"code",
      "source":[
        "df = df.withColumn('revenue_per_product', (F.col('annual_revenue')\/F.col('num_of_products')).cast('float'))"
      ],
      "execution_count":53,
      "outputs":[
        
      ],
      "metadata":{
        
      }
    },
    {
      "cell_type":"markdown",
      "source":[
        "## 3.0 Filtering The Features\n",
        "\n",
        "        These columns won't be helpful at all. They're too specific,\n",
        "        We want to generalize so the solution will work for as much\n",
        "        observations as we'll have."
      ],
      "attachments":{
        
      },
      "metadata":{
        
      }
    },
    {
      "cell_type":"code",
      "source":[
        "df = df.drop('row_number','customer_id','surname')"
      ],
      "execution_count":54,
      "outputs":[
        
      ],
      "metadata":{
        
      }
    },
    {
      "cell_type":"markdown",
      "source":[
        "## 4.0 Exploratory Data Analysis\n",
        "\n",
        "        Spark Graphs?"
      ],
      "attachments":{
        
      },
      "metadata":{
        
      }
    },
    {
      "cell_type":"markdown",
      "source":[
        "## 5.0 Machine Learning"
      ],
      "attachments":{
        
      },
      "metadata":{
        
      }
    },
    {
      "cell_type":"code",
      "source":[
        "from pyspark.ml.classification import RandomForestClassifier\n",
        "from pyspark.ml.feature import IndexToString, StringIndexer, VectorAssembler\n",
        "from pyspark.mllib.evaluation import BinaryClassificationMetrics as metrics\n",
        "\n",
        "from sklearn.metrics import classification_report"
      ],
      "execution_count":55,
      "outputs":[
        
      ],
      "metadata":{
        
      }
    },
    {
      "cell_type":"code",
      "source":[
        "data = df"
      ],
      "execution_count":56,
      "outputs":[
        
      ],
      "metadata":{
        
      }
    },
    {
      "cell_type":"markdown",
      "source":[
        "### 5.1 Data Preparation\n",
        "\n",
        "#### 5.1.1. Feature Encoding"
      ],
      "attachments":{
        
      },
      "metadata":{
        
      }
    },
    {
      "cell_type":"code",
      "source":[
        "gender_indexer = StringIndexer(inputCol=\"gender\", outputCol=\"gender_cat\").fit(data)\n",
        "data = gender_indexer.transform(data)"
      ],
      "execution_count":57,
      "outputs":[
        
      ],
      "metadata":{
        
      }
    },
    {
      "cell_type":"code",
      "source":[
        "indexer = StringIndexer(inputCol=\"geography\", outputCol=\"geography_cat\").fit(data)\n",
        "data = indexer.transform(data)"
      ],
      "execution_count":58,
      "outputs":[
        
      ],
      "metadata":{
        
      }
    },
    {
      "cell_type":"code",
      "source":[
        "columns_to_drop = ['gender', 'geography']\n",
        "data = data.drop(*columns_to_drop)"
      ],
      "execution_count":59,
      "outputs":[
        
      ],
      "metadata":{
        
      }
    },
    {
      "cell_type":"markdown",
      "source":[
        "#### 5.1.2. Vector Assembling"
      ],
      "attachments":{
        
      },
      "metadata":{
        
      }
    },
    {
      "cell_type":"code",
      "source":[
        "features = data.columns\n",
        "features.remove(\"exited\")\n",
        "print(features)"
      ],
      "execution_count":60,
      "outputs":[
        {
          "name":"stdout",
          "text":[
            "['credit_score', 'age', 'tenure', 'balance', 'num_of_products', 'has_cr_card', 'is_active_member', 'estimated_salary', 'annual_revenue', 'revenue_per_product', 'gender_cat', 'geography_cat']\n"
          ],
          "output_type":"stream"
        }
      ],
      "metadata":{
        
      }
    },
    {
      "cell_type":"code",
      "source":[
        "vector_assembler = VectorAssembler(inputCols=features, outputCol='features')\n",
        "data = vector_assembler.transform(data)"
      ],
      "execution_count":61,
      "outputs":[
        
      ],
      "metadata":{
        
      }
    },
    {
      "cell_type":"markdown",
      "source":[
        "#### 5.1.3. Train Test"
      ],
      "attachments":{
        
      },
      "metadata":{
        
      }
    },
    {
      "cell_type":"code",
      "source":[
        "(trainingData, testData) = data.randomSplit([0.7, 0.3])"
      ],
      "execution_count":62,
      "outputs":[
        
      ],
      "metadata":{
        
      }
    },
    {
      "cell_type":"markdown",
      "source":[
        "## 5.2 Random Forest Classifier"
      ],
      "attachments":{
        
      },
      "metadata":{
        
      }
    },
    {
      "cell_type":"code",
      "source":[
        "rf = RandomForestClassifier(labelCol=\"exited\", featuresCol=\"features\", numTrees=300)\n",
        "fit = rf.fit(trainingData)\n",
        "transformed = fit.transform(testData)"
      ],
      "execution_count":63,
      "outputs":[
        
      ],
      "metadata":{
        
      }
    },
    {
      "cell_type":"code",
      "source":[
        "results = transformed.select('probability', 'exited', 'prediction').toPandas()"
      ],
      "execution_count":64,
      "outputs":[
        
      ],
      "metadata":{
        
      }
    },
    {
      "cell_type":"code",
      "source":[
        "print(classification_report(results['exited'], results['prediction'], target_names=['not churn', \"churn\"]))"
      ],
      "execution_count":65,
      "outputs":[
        {
          "name":"stdout",
          "text":[
            "              precision    recall  f1-score   support\n",
            "\n",
            "   not churn       0.85      0.98      0.91      2356\n",
            "       churn       0.82      0.35      0.49       648\n",
            "\n",
            "    accuracy                           0.84      3004\n",
            "   macro avg       0.83      0.67      0.70      3004\n",
            "weighted avg       0.84      0.84      0.82      3004\n",
            "\n"
          ],
          "output_type":"stream"
        }
      ],
      "metadata":{
        
      }
    },
    {
      "cell_type":"markdown",
      "source":[
        "## 5.3 Oversampling by Copying"
      ],
      "attachments":{
        
      },
      "metadata":{
        
      }
    },
    {
      "cell_type":"code",
      "source":[
        "describe_to_pandas(data.select(('exited')))"
      ],
      "execution_count":66,
      "outputs":[
        {
          "data":{
            "text\/html":[
              "<div>\n",
              "<style scoped>\n",
              "    .dataframe tbody tr th:only-of-type {\n",
              "        vertical-align: middle;\n",
              "    }\n",
              "\n",
              "    .dataframe tbody tr th {\n",
              "        vertical-align: top;\n",
              "    }\n",
              "\n",
              "    .dataframe thead th {\n",
              "        text-align: right;\n",
              "    }\n",
              "<\/style>\n",
              "<table border=\"1\" class=\"dataframe\">\n",
              "  <thead>\n",
              "    <tr style=\"text-align: right;\">\n",
              "      <th>summary<\/th>\n",
              "      <th>count<\/th>\n",
              "      <th>mean<\/th>\n",
              "      <th>stddev<\/th>\n",
              "      <th>min<\/th>\n",
              "      <th>max<\/th>\n",
              "    <\/tr>\n",
              "  <\/thead>\n",
              "  <tbody>\n",
              "    <tr>\n",
              "      <th>exited<\/th>\n",
              "      <td>10000<\/td>\n",
              "      <td>0.2037<\/td>\n",
              "      <td>0.40276858399486065<\/td>\n",
              "      <td>0<\/td>\n",
              "      <td>1<\/td>\n",
              "    <\/tr>\n",
              "  <\/tbody>\n",
              "<\/table>\n",
              "<\/div>"
            ]
          },
          "metadata":{
            
          },
          "output_type":"display_data"
        }
      ],
      "metadata":{
        
      }
    },
    {
      "cell_type":"code",
      "source":[
        "oversample = data.select(F.col('*')).filter(\"exited == 1\")\n",
        "data = data.union(oversample).union(oversample)\n",
        "describe_to_pandas(data.select(\"exited\"))"
      ],
      "execution_count":67,
      "outputs":[
        {
          "data":{
            "text\/html":[
              "<div>\n",
              "<style scoped>\n",
              "    .dataframe tbody tr th:only-of-type {\n",
              "        vertical-align: middle;\n",
              "    }\n",
              "\n",
              "    .dataframe tbody tr th {\n",
              "        vertical-align: top;\n",
              "    }\n",
              "\n",
              "    .dataframe thead th {\n",
              "        text-align: right;\n",
              "    }\n",
              "<\/style>\n",
              "<table border=\"1\" class=\"dataframe\">\n",
              "  <thead>\n",
              "    <tr style=\"text-align: right;\">\n",
              "      <th>summary<\/th>\n",
              "      <th>count<\/th>\n",
              "      <th>mean<\/th>\n",
              "      <th>stddev<\/th>\n",
              "      <th>min<\/th>\n",
              "      <th>max<\/th>\n",
              "    <\/tr>\n",
              "  <\/thead>\n",
              "  <tbody>\n",
              "    <tr>\n",
              "      <th>exited<\/th>\n",
              "      <td>14074<\/td>\n",
              "      <td>0.4342049168679835<\/td>\n",
              "      <td>0.4956697125500414<\/td>\n",
              "      <td>0<\/td>\n",
              "      <td>1<\/td>\n",
              "    <\/tr>\n",
              "  <\/tbody>\n",
              "<\/table>\n",
              "<\/div>"
            ]
          },
          "metadata":{
            
          },
          "output_type":"display_data"
        }
      ],
      "metadata":{
        
      }
    },
    {
      "cell_type":"markdown",
      "source":[
        "## 5.4 Retrain Model"
      ],
      "attachments":{
        
      },
      "metadata":{
        
      }
    },
    {
      "cell_type":"code",
      "source":[
        "(trainingData, testData) = data.randomSplit([0.7, 0.3])"
      ],
      "execution_count":68,
      "outputs":[
        
      ],
      "metadata":{
        
      }
    },
    {
      "cell_type":"code",
      "source":[
        "rf = RandomForestClassifier(labelCol=\"exited\", featuresCol=\"features\", numTrees=300)\n",
        "fit = rf.fit(trainingData)\n",
        "transformed = fit.transform(testData)"
      ],
      "execution_count":69,
      "outputs":[
        
      ],
      "metadata":{
        
      }
    },
    {
      "cell_type":"code",
      "source":[
        "results = transformed.select('probability', 'exited', 'prediction').toPandas()\n",
        "print(classification_report(results['exited'], results['prediction'], target_names=['not churn', \"churn\"]))"
      ],
      "execution_count":70,
      "outputs":[
        {
          "name":"stdout",
          "text":[
            "              precision    recall  f1-score   support\n",
            "\n",
            "   not churn       0.75      0.87      0.81      2440\n",
            "       churn       0.78      0.63      0.70      1887\n",
            "\n",
            "    accuracy                           0.76      4327\n",
            "   macro avg       0.77      0.75      0.75      4327\n",
            "weighted avg       0.77      0.76      0.76      4327\n",
            "\n"
          ],
          "output_type":"stream"
        }
      ],
      "metadata":{
        
      }
    }
  ],
  "metadata":{
    
  },
  "nbformat":4,
  "nbformat_minor":0
}