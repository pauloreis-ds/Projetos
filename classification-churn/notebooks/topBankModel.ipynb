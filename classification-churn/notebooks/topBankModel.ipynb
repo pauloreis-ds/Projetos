{
 "cells": [
  {
   "cell_type": "markdown",
   "metadata": {},
   "source": [
    "## Agenda\n",
    "        \n",
    "        0.0 Data Preparation\n",
    "            0.1 Feature Encoding\n",
    "        1.0 Baseline model\n",
    "            1.1 Imbalanced data\n",
    "                1.1.1. SMOTE\n",
    "            1.2 (basic) Feature Selection\n",
    "        2.0 Best Case Scenario of Using the model\n",
    "            2.1 Good and Worst Case Scenarios of Using the model"
   ]
  },
  {
   "cell_type": "code",
   "execution_count": 1,
   "metadata": {},
   "outputs": [],
   "source": [
    "import pandas as pd\n",
    "import seaborn as sns\n",
    "import matplotlib.pyplot as plt\n",
    "\n",
    "from sklearn.model_selection import train_test_split\n",
    "\n",
    "# Models\n",
    "from sklearn.ensemble import RandomForestClassifier\n",
    "from sklearn.ensemble import GradientBoostingClassifier\n",
    "from sklearn.linear_model import LogisticRegression\n",
    "\n",
    "# Utils\n",
    "from imblearn.over_sampling import SMOTE\n",
    "from collections import Counter\n",
    "\n",
    "from sklearn.metrics import classification_report\n",
    "\n",
    "import pickle"
   ]
  },
  {
   "cell_type": "code",
   "execution_count": 2,
   "metadata": {},
   "outputs": [
    {
     "data": {
      "text/html": [
       "<div>\n",
       "<style scoped>\n",
       "    .dataframe tbody tr th:only-of-type {\n",
       "        vertical-align: middle;\n",
       "    }\n",
       "\n",
       "    .dataframe tbody tr th {\n",
       "        vertical-align: top;\n",
       "    }\n",
       "\n",
       "    .dataframe thead th {\n",
       "        text-align: right;\n",
       "    }\n",
       "</style>\n",
       "<table border=\"1\" class=\"dataframe\">\n",
       "  <thead>\n",
       "    <tr style=\"text-align: right;\">\n",
       "      <th></th>\n",
       "      <th>credit_score</th>\n",
       "      <th>geography</th>\n",
       "      <th>gender</th>\n",
       "      <th>age</th>\n",
       "      <th>tenure</th>\n",
       "      <th>balance</th>\n",
       "      <th>num_of_products</th>\n",
       "      <th>has_cr_card</th>\n",
       "      <th>is_active_member</th>\n",
       "      <th>estimated_salary</th>\n",
       "      <th>exited</th>\n",
       "      <th>annual_revenue</th>\n",
       "      <th>revenue_per_product</th>\n",
       "      <th>total_revenue</th>\n",
       "      <th>age_stage</th>\n",
       "      <th>credit_score_category</th>\n",
       "    </tr>\n",
       "  </thead>\n",
       "  <tbody>\n",
       "    <tr>\n",
       "      <th>515</th>\n",
       "      <td>793</td>\n",
       "      <td>Spain</td>\n",
       "      <td>Male</td>\n",
       "      <td>38</td>\n",
       "      <td>9</td>\n",
       "      <td>0.0</td>\n",
       "      <td>2</td>\n",
       "      <td>1</td>\n",
       "      <td>0</td>\n",
       "      <td>88225.02</td>\n",
       "      <td>0</td>\n",
       "      <td>1102.81275</td>\n",
       "      <td>551.406375</td>\n",
       "      <td>9925.31475</td>\n",
       "      <td>(32, 39]</td>\n",
       "      <td>(750.0, 800.0]</td>\n",
       "    </tr>\n",
       "  </tbody>\n",
       "</table>\n",
       "</div>"
      ],
      "text/plain": [
       "     credit_score geography gender  age  tenure  balance  num_of_products  \\\n",
       "515           793     Spain   Male   38       9      0.0                2   \n",
       "\n",
       "     has_cr_card  is_active_member  estimated_salary  exited  annual_revenue  \\\n",
       "515            1                 0          88225.02       0      1102.81275   \n",
       "\n",
       "     revenue_per_product  total_revenue age_stage credit_score_category  \n",
       "515           551.406375     9925.31475  (32, 39]        (750.0, 800.0]  "
      ]
     },
     "execution_count": 2,
     "metadata": {},
     "output_type": "execute_result"
    }
   ],
   "source": [
    "raw_data = pd.read_pickle(\"churn_data_Modeling.pkl\")\n",
    "raw_data.sample()"
   ]
  },
  {
   "cell_type": "markdown",
   "metadata": {},
   "source": [
    "## 0.0 Data Preparation"
   ]
  },
  {
   "cell_type": "code",
   "execution_count": 3,
   "metadata": {},
   "outputs": [],
   "source": [
    "data = raw_data.copy()"
   ]
  },
  {
   "cell_type": "markdown",
   "metadata": {},
   "source": [
    "### 0.1 Feature Encoding\n",
    "\n",
    "We have to encode these columns: geography\tgender\tage_stage\tcredit_score_category"
   ]
  },
  {
   "cell_type": "code",
   "execution_count": 4,
   "metadata": {},
   "outputs": [],
   "source": [
    "data = pd.get_dummies( data, prefix=['geography'], columns=['geography'] )"
   ]
  },
  {
   "cell_type": "code",
   "execution_count": 5,
   "metadata": {},
   "outputs": [],
   "source": [
    "data = pd.get_dummies( data, prefix=['gender'], columns=['gender'] )"
   ]
  },
  {
   "cell_type": "code",
   "execution_count": 6,
   "metadata": {},
   "outputs": [],
   "source": [
    "data[\"age_stage\"] = data[\"age_stage\"].cat.codes\n",
    "data[\"credit_score_category\"] = data[\"credit_score_category\"].cat.codes"
   ]
  },
  {
   "cell_type": "code",
   "execution_count": 7,
   "metadata": {},
   "outputs": [
    {
     "data": {
      "text/html": [
       "<div>\n",
       "<style scoped>\n",
       "    .dataframe tbody tr th:only-of-type {\n",
       "        vertical-align: middle;\n",
       "    }\n",
       "\n",
       "    .dataframe tbody tr th {\n",
       "        vertical-align: top;\n",
       "    }\n",
       "\n",
       "    .dataframe thead th {\n",
       "        text-align: right;\n",
       "    }\n",
       "</style>\n",
       "<table border=\"1\" class=\"dataframe\">\n",
       "  <thead>\n",
       "    <tr style=\"text-align: right;\">\n",
       "      <th></th>\n",
       "      <th>credit_score</th>\n",
       "      <th>age</th>\n",
       "      <th>tenure</th>\n",
       "      <th>balance</th>\n",
       "      <th>num_of_products</th>\n",
       "      <th>has_cr_card</th>\n",
       "      <th>is_active_member</th>\n",
       "      <th>estimated_salary</th>\n",
       "      <th>exited</th>\n",
       "      <th>annual_revenue</th>\n",
       "      <th>revenue_per_product</th>\n",
       "      <th>total_revenue</th>\n",
       "      <th>age_stage</th>\n",
       "      <th>credit_score_category</th>\n",
       "      <th>geography_France</th>\n",
       "      <th>geography_Germany</th>\n",
       "      <th>geography_Spain</th>\n",
       "      <th>gender_Female</th>\n",
       "      <th>gender_Male</th>\n",
       "    </tr>\n",
       "  </thead>\n",
       "  <tbody>\n",
       "    <tr>\n",
       "      <th>67</th>\n",
       "      <td>735</td>\n",
       "      <td>43</td>\n",
       "      <td>10</td>\n",
       "      <td>123180.01</td>\n",
       "      <td>2</td>\n",
       "      <td>1</td>\n",
       "      <td>1</td>\n",
       "      <td>196673.28</td>\n",
       "      <td>0</td>\n",
       "      <td>3277.888</td>\n",
       "      <td>1638.944</td>\n",
       "      <td>32778.88</td>\n",
       "      <td>3</td>\n",
       "      <td>7</td>\n",
       "      <td>0</td>\n",
       "      <td>1</td>\n",
       "      <td>0</td>\n",
       "      <td>0</td>\n",
       "      <td>1</td>\n",
       "    </tr>\n",
       "  </tbody>\n",
       "</table>\n",
       "</div>"
      ],
      "text/plain": [
       "    credit_score  age  tenure    balance  num_of_products  has_cr_card  \\\n",
       "67           735   43      10  123180.01                2            1   \n",
       "\n",
       "    is_active_member  estimated_salary  exited  annual_revenue  \\\n",
       "67                 1         196673.28       0        3277.888   \n",
       "\n",
       "    revenue_per_product  total_revenue  age_stage  credit_score_category  \\\n",
       "67             1638.944       32778.88          3                      7   \n",
       "\n",
       "    geography_France  geography_Germany  geography_Spain  gender_Female  \\\n",
       "67                 0                  1                0              0   \n",
       "\n",
       "    gender_Male  \n",
       "67            1  "
      ]
     },
     "execution_count": 7,
     "metadata": {},
     "output_type": "execute_result"
    }
   ],
   "source": [
    "data.sample()"
   ]
  },
  {
   "cell_type": "markdown",
   "metadata": {},
   "source": [
    "## 1.0 Baseline model\n",
    "\n",
    "**We want to be able to figure out accurately  which customer is going to churn. Therefore, recall is the metric that best fits this problem.**\n",
    "\n",
    "> From those who were churned customers, how many did the model detect?\n",
    "\n",
    "And as you can see, our model is pretty good identifying not churned customers. That is not what we are interested, though.\n",
    "Let's see what's happening."
   ]
  },
  {
   "cell_type": "code",
   "execution_count": 8,
   "metadata": {},
   "outputs": [],
   "source": [
    "df = data.copy()"
   ]
  },
  {
   "cell_type": "code",
   "execution_count": 9,
   "metadata": {},
   "outputs": [
    {
     "data": {
      "text/plain": [
       "RandomForestClassifier(random_state=0)"
      ]
     },
     "execution_count": 9,
     "metadata": {},
     "output_type": "execute_result"
    }
   ],
   "source": [
    "X = df.drop(columns=['exited'])\n",
    "y = df['exited']\n",
    "\n",
    "X_train, X_test, y_train, y_test = train_test_split(X, y, test_size=0.3, random_state=42)\n",
    "\n",
    "random_forest_model = RandomForestClassifier(random_state=0)\n",
    "random_forest_model.fit(X_train, y_train)"
   ]
  },
  {
   "cell_type": "markdown",
   "metadata": {},
   "source": [
    "First Random Forest: \n",
    "\n",
    "            recall  \n",
    "       0     0.96\n",
    "       1     0.48"
   ]
  },
  {
   "cell_type": "code",
   "execution_count": 10,
   "metadata": {
    "scrolled": true
   },
   "outputs": [
    {
     "name": "stdout",
     "output_type": "stream",
     "text": [
      "              precision    recall  f1-score   support\n",
      "\n",
      "           0       0.87      0.96      0.91      2219\n",
      "           1       0.76      0.48      0.58       602\n",
      "\n",
      "    accuracy                           0.86      2821\n",
      "   macro avg       0.81      0.72      0.75      2821\n",
      "weighted avg       0.85      0.86      0.84      2821\n",
      "\n"
     ]
    }
   ],
   "source": [
    "y_pred = random_forest_model.predict(X_test)\n",
    "print(classification_report(y_test, y_pred))"
   ]
  },
  {
   "cell_type": "markdown",
   "metadata": {},
   "source": [
    "First, let's try out other algorithms...\n",
    "    \n",
    "    Much worse"
   ]
  },
  {
   "cell_type": "code",
   "execution_count": 11,
   "metadata": {},
   "outputs": [
    {
     "name": "stdout",
     "output_type": "stream",
     "text": [
      "              precision    recall  f1-score   support\n",
      "\n",
      "           0       0.79      0.98      0.88      2219\n",
      "           1       0.46      0.06      0.11       602\n",
      "\n",
      "    accuracy                           0.78      2821\n",
      "   macro avg       0.63      0.52      0.50      2821\n",
      "weighted avg       0.72      0.78      0.71      2821\n",
      "\n"
     ]
    }
   ],
   "source": [
    "logistic_model = LogisticRegression(random_state=0)\n",
    "logistic_model.fit(X_train, y_train)\n",
    "\n",
    "y_pred = logistic_model.predict(X_test)\n",
    "print(classification_report(y_test, y_pred))"
   ]
  },
  {
   "cell_type": "markdown",
   "metadata": {},
   "source": [
    "    GradientBoostingClassifier was as bad as Random Forest.\n",
    "    For this first cycle, let's Focus on random forest then."
   ]
  },
  {
   "cell_type": "code",
   "execution_count": 12,
   "metadata": {},
   "outputs": [
    {
     "name": "stdout",
     "output_type": "stream",
     "text": [
      "              precision    recall  f1-score   support\n",
      "\n",
      "           0       0.87      0.96      0.91      2219\n",
      "           1       0.76      0.47      0.58       602\n",
      "\n",
      "    accuracy                           0.86      2821\n",
      "   macro avg       0.81      0.71      0.75      2821\n",
      "weighted avg       0.85      0.86      0.84      2821\n",
      "\n"
     ]
    }
   ],
   "source": [
    "gradient_boost_model = GradientBoostingClassifier(random_state=0).fit(X_train, y_train)\n",
    "\n",
    "y_pred = gradient_boost_model.predict(X_test)\n",
    "print(classification_report(y_test, y_pred))"
   ]
  },
  {
   "cell_type": "markdown",
   "metadata": {},
   "source": [
    "### 1.1 Imbalanced data\n",
    "[Imbalance on data](https://machinelearningmastery.com/tactics-to-combat-imbalanced-classes-in-your-machine-learning-dataset/). Let's solve that.\n",
    "\n",
    "Too many not churned data, that's why the model is so good detecting them."
   ]
  },
  {
   "cell_type": "code",
   "execution_count": 13,
   "metadata": {},
   "outputs": [
    {
     "data": {
      "image/png": "[encoded data removed]",
      "text/plain": [
       "<Figure size 432x288 with 1 Axes>"
      ]
     },
     "metadata": {
      "needs_background": "light"
     },
     "output_type": "display_data"
    }
   ],
   "source": [
    "y.hist();"
   ]
  },
  {
   "cell_type": "markdown",
   "metadata": {},
   "source": [
    "#### 1.1.1. SMOTE\n",
    "\n",
    "[SMOTE](https://machinelearningmastery.com/smote-oversampling-for-imbalanced-classification/).\n",
    "\n",
    "And in this case, instead of undersampling, we're going to oversample.\n",
    "\n",
    "<img src=\"imbalanced_data.png\">"
   ]
  },
  {
   "cell_type": "code",
   "execution_count": 14,
   "metadata": {},
   "outputs": [
    {
     "name": "stdout",
     "output_type": "stream",
     "text": [
      "Resampled dataset shape Counter({1: 7479, 0: 7479})\n"
     ]
    }
   ],
   "source": [
    "smote = SMOTE(random_state=42)\n",
    "X_res, y_res = smote.fit_resample(X, y)\n",
    "print('Resampled dataset shape %s' % Counter(y_res))"
   ]
  },
  {
   "cell_type": "code",
   "execution_count": 15,
   "metadata": {},
   "outputs": [
    {
     "data": {
      "image/png": "[encoded data removed]",
      "text/plain": [
       "<Figure size 432x288 with 1 Axes>"
      ]
     },
     "metadata": {
      "needs_background": "light"
     },
     "output_type": "display_data"
    }
   ],
   "source": [
    "y_res.hist(color='darkorange')\n",
    "y.hist(color='royalblue');"
   ]
  },
  {
   "cell_type": "code",
   "execution_count": 16,
   "metadata": {
    "scrolled": true
   },
   "outputs": [
    {
     "name": "stdout",
     "output_type": "stream",
     "text": [
      "              precision    recall  f1-score   support\n",
      "\n",
      "           0       0.88      0.93      0.90      2234\n",
      "           1       0.92      0.88      0.90      2254\n",
      "\n",
      "    accuracy                           0.90      4488\n",
      "   macro avg       0.90      0.90      0.90      4488\n",
      "weighted avg       0.90      0.90      0.90      4488\n",
      "\n"
     ]
    }
   ],
   "source": [
    "# EUREKA\n",
    "X_train, X_test, y_train, y_test = train_test_split(X_res, y_res, test_size=0.3, random_state=42)\n",
    "\n",
    "model = RandomForestClassifier(random_state=0)\n",
    "model.fit(X_train, y_train)\n",
    "\n",
    "y_pred = model.predict(X_test)\n",
    "print(classification_report(y_test, y_pred))"
   ]
  },
  {
   "cell_type": "markdown",
   "metadata": {},
   "source": [
    "### 1.2 (basic) Feature Selection "
   ]
  },
  {
   "cell_type": "code",
   "execution_count": 17,
   "metadata": {},
   "outputs": [
    {
     "data": {
      "image/png": "[encoded data removed]",
      "text/plain": [
       "<Figure size 576x432 with 1 Axes>"
      ]
     },
     "metadata": {
      "needs_background": "light"
     },
     "output_type": "display_data"
    }
   ],
   "source": [
    "plt.figure(figsize=(8,6))\n",
    "plt.yticks(size=14)\n",
    "pd.Series( model.feature_importances_, index = X_test.columns ).sort_values().plot(kind='barh');"
   ]
  },
  {
   "cell_type": "code",
   "execution_count": 18,
   "metadata": {},
   "outputs": [],
   "source": [
    "new_X_res = X_res.drop(columns= ['has_cr_card', 'tenure','credit_score_category', 'age_stage','total_revenue'])"
   ]
  },
  {
   "cell_type": "code",
   "execution_count": 19,
   "metadata": {},
   "outputs": [
    {
     "name": "stdout",
     "output_type": "stream",
     "text": [
      "              precision    recall  f1-score   support\n",
      "\n",
      "           0       0.88      0.92      0.90      2234\n",
      "           1       0.92      0.88      0.90      2254\n",
      "\n",
      "    accuracy                           0.90      4488\n",
      "   macro avg       0.90      0.90      0.90      4488\n",
      "weighted avg       0.90      0.90      0.90      4488\n",
      "\n"
     ]
    }
   ],
   "source": [
    "X_train, X_test, y_train, y_test = train_test_split(new_X_res, y_res, test_size=0.3, random_state=42)\n",
    "\n",
    "model = RandomForestClassifier(random_state=0)\n",
    "model.fit(X_train, y_train)\n",
    "\n",
    "y_pred = model.predict(X_test)\n",
    "print(classification_report(y_test, y_pred))"
   ]
  },
  {
   "cell_type": "code",
   "execution_count": 20,
   "metadata": {},
   "outputs": [
    {
     "data": {
      "image/png": "[encoded data removed]",
      "text/plain": [
       "<Figure size 576x432 with 1 Axes>"
      ]
     },
     "metadata": {
      "needs_background": "light"
     },
     "output_type": "display_data"
    }
   ],
   "source": [
    "plt.figure(figsize=(8,6))\n",
    "plt.yticks(size=14)\n",
    "pd.Series( model.feature_importances_, index = X_test.columns ).sort_values().plot(kind='barh');"
   ]
  },
  {
   "cell_type": "markdown",
   "metadata": {},
   "source": [
    "For fun!"
   ]
  },
  {
   "cell_type": "code",
   "execution_count": 21,
   "metadata": {},
   "outputs": [
    {
     "name": "stdout",
     "output_type": "stream",
     "text": [
      "Probability of churn: 0.85\n",
      "Will there be Churn? 1\n",
      "\n",
      "Actual Churned Customer? 1\n"
     ]
    }
   ],
   "source": [
    "customer_sample = X_test.sample()\n",
    "prediction_proba = model.predict_proba(customer_sample)[0][1]\n",
    "prediction = model.predict(customer_sample)[0]\n",
    "\n",
    "print(f\"Probability of churn: {prediction_proba}\")\n",
    "print(f\"Will there be Churn? {prediction}\")\n",
    "print()\n",
    "\n",
    "real_status = y_test[customer_sample.index[0]]\n",
    "print(f\"Actual Churned Customer? {real_status}\")"
   ]
  },
  {
   "cell_type": "markdown",
   "metadata": {},
   "source": [
    "## 2.0 Best Case Scenario of Using the model\n",
    "**Return, in terms of revenue, if TopBank uses the model (considering that TopBank could prevent a customer churn if It knew the customer would churn).**"
   ]
  },
  {
   "cell_type": "code",
   "execution_count": 22,
   "metadata": {},
   "outputs": [
    {
     "name": "stdout",
     "output_type": "stream",
     "text": [
      " Expected revenue return 2918474.51\n"
     ]
    }
   ],
   "source": [
    "total_customers = 10000\n",
    "expected_revenue_per_customer = data.annual_revenue.mean()\n",
    "churned_customers = 2000\n",
    "model_assertivity = 0.88\n",
    "\n",
    "expected_revenue_return = (churned_customers *  expected_revenue_per_customer) * model_assertivity\n",
    "print(f\" Expected revenue return {round( expected_revenue_return, 2)}\")"
   ]
  },
  {
   "cell_type": "markdown",
   "metadata": {},
   "source": [
    "### 2.1 Good and Worst Case Scenarios of Using the model\n",
    "\n",
    "Let's say topBank can't prevent customers who are about to leave from leaving... how can we calculate the revenue for this case?\n",
    "\n",
    "We'll use the probability of churn. If the probability of a customer leave the company is too high, then we'll consider that a churned customer already. However, actually, for us, it will be considered as a not churned customer, so the model will not detect it, leading the company to not knowing there will be churn from that person. And if TopBank doesn't know, it can't change the customer behavior. Testing some thresholds, these are the results:\n",
    "\n",
    "        threshold of\n",
    "            80%  -  churns detected = 621\n",
    "                    revenue return  = 847,188.15\n",
    "\n",
    "            70%  -  churns detected = 378\n",
    "                    revenue return  = 515,679.74\n",
    "\n",
    "            65%  -  churns detected = 282\n",
    "                    revenue return  = 384,713.46\n",
    "\n",
    "            60%  -  churns detected = 178\n",
    "                    revenue return  = 242,833.32        "
   ]
  },
  {
   "cell_type": "code",
   "execution_count": 32,
   "metadata": {},
   "outputs": [],
   "source": [
    "predictions         = model.predict(X_test)\n",
    "predictions_proba   = model.predict_proba(X_test)[:, 1]\n",
    "\n",
    "# Convert to pandas Series\n",
    "churn_predictions   = pd.Series( predictions, name='churn_prediction' )\n",
    "churn_probabilities = pd.Series( predictions_proba, name='churn_proability' )"
   ]
  },
  {
   "cell_type": "code",
   "execution_count": 80,
   "metadata": {},
   "outputs": [],
   "source": [
    "model_results = pd.concat([churn_predictions, churn_probabilities], axis=1)\n",
    "threshold_value = .51 # We can prevent them from leaving if their churn probability is is up to... threshold_value\n",
    "\n",
    "# Changing the predictions based on probability of churn and threshold_value\n",
    "reformatted_predictions = model_results['churn_proability'].apply(lambda x: 1 if x > 0.5 and x <= threshold_value else 0)\n",
    "reformatted_predictions = pd.Series( reformatted_predictions, name='adapted_prediction' )\n",
    "\n",
    "adapted_model_results = pd.concat([model_results, reformatted_predictions], axis=1)"
   ]
  },
  {
   "cell_type": "code",
   "execution_count": 81,
   "metadata": {},
   "outputs": [
    {
     "data": {
      "text/plain": [
       "churn_prediction      2154.00\n",
       "churn_proability      2253.19\n",
       "adapted_prediction      18.00\n",
       "dtype: float64"
      ]
     },
     "execution_count": 81,
     "metadata": {},
     "output_type": "execute_result"
    }
   ],
   "source": [
    "adapted_model_results.sum()"
   ]
  },
  {
   "cell_type": "code",
   "execution_count": 82,
   "metadata": {},
   "outputs": [],
   "source": [
    "# These are the 88% we detect. How many is 100%?\n",
    "sum_of_predicted_exit = adapted_model_results.sum()[0]\n",
    "# math - rule of three \n",
    "actual_exited = sum_of_predicted_exit * 1 / 0.88\n",
    "# Detected based on the new threshold, so we can calculate the new recall\n",
    "adapted_detections = adapted_model_results.sum()[2]"
   ]
  },
  {
   "cell_type": "code",
   "execution_count": 83,
   "metadata": {},
   "outputs": [
    {
     "data": {
      "text/plain": [
       "0.8800000000000001"
      ]
     },
     "execution_count": 83,
     "metadata": {},
     "output_type": "execute_result"
    }
   ],
   "source": [
    "# From those who were churned customers, how many did the model detect?\n",
    "sum_of_predicted_exit / actual_exited # Actual Model Assertivity"
   ]
  },
  {
   "cell_type": "code",
   "execution_count": 84,
   "metadata": {},
   "outputs": [
    {
     "data": {
      "text/plain": [
       "0.007353760445682452"
      ]
     },
     "execution_count": 84,
     "metadata": {},
     "output_type": "execute_result"
    }
   ],
   "source": [
    "# From those who were churned customers, how many did the model detect?\n",
    "adapted_detections / actual_exited  # Model Assertivity based on new threshold value for detecting churn"
   ]
  },
  {
   "cell_type": "code",
   "execution_count": 85,
   "metadata": {},
   "outputs": [
    {
     "name": "stdout",
     "output_type": "stream",
     "text": [
      " Expected revenue return 24388.37\n"
     ]
    }
   ],
   "source": [
    "adapted_model_assertivity = adapted_detections / actual_exited\n",
    "expected_revenue_return = (churned_customers *  expected_revenue_per_customer) * adapted_model_assertivity\n",
    "print(f\" Expected revenue return {round( expected_revenue_return, 2)}\")"
   ]
  },
  {
   "cell_type": "markdown",
   "metadata": {},
   "source": [
    "**It seems, there are many customers about to churn and if topBank doesn't do something about that, that enterprise will broke soon.**"
   ]
  },
  {
   "cell_type": "code",
   "execution_count": 31,
   "metadata": {},
   "outputs": [
    {
     "data": {
      "text/plain": [
       "<matplotlib.axes._subplots.AxesSubplot at 0x10050448>"
      ]
     },
     "execution_count": 31,
     "metadata": {},
     "output_type": "execute_result"
    },
    {
     "data": {
      "image/png": "[encoded data removed]",
      "text/plain": [
       "<Figure size 432x288 with 1 Axes>"
      ]
     },
     "metadata": {
      "needs_background": "light"
     },
     "output_type": "display_data"
    }
   ],
   "source": [
    "adapted_model_results.churn_proability.hist(bins = 30)"
   ]
  },
  {
   "cell_type": "markdown",
   "metadata": {},
   "source": [
    "Export the model to use in the application."
   ]
  },
  {
   "cell_type": "code",
   "execution_count": 30,
   "metadata": {},
   "outputs": [],
   "source": [
    "with open('topBankModel.pkl','wb') as file:\n",
    "    pickle.dump(model, file)"
   ]
  }
 ],
 "metadata": {
  "kernelspec": {
   "display_name": "Python 3",
   "language": "python",
   "name": "python3"
  },
  "language_info": {
   "codemirror_mode": {
    "name": "ipython",
    "version": 3
   },
   "file_extension": ".py",
   "mimetype": "text/x-python",
   "name": "python",
   "nbconvert_exporter": "python",
   "pygments_lexer": "ipython3",
   "version": "3.7.7"
  }
 },
 "nbformat": 4,
 "nbformat_minor": 4
}
