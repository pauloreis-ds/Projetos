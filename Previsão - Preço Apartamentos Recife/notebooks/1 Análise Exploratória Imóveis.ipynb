{
 "cells": [
  {
   "cell_type": "markdown",
   "metadata": {},
   "source": [
    "# Análise Exploratória\n",
    "\n",
    "A finalidade é entender a estrutura dos dados e avaliar quais mudanças devem ser feitas.\n",
    "\n",
    "## Agenda\n",
    "        Identificando os desafios.\n",
    "        1 - pe.olx\n",
    "            1.1 - ['Preço']\n",
    "            1.2 - ['Localizações']\n",
    "            1.3 - ['Outros']\n",
    "        2 - redeimoveispe\n",
    "            2.1 - ['Preço']\n",
    "            2.2 - ['Localizações']\n",
    "            2.3 - ['Outros']\n",
    "        3 - vivareal\n",
    "            3.1 - ['Preço']\n",
    "            3.2 - ['Localizações']\n",
    "            3.3 - ['Outros']"
   ]
  },
  {
   "cell_type": "code",
   "execution_count": 1,
   "metadata": {},
   "outputs": [],
   "source": [
    "import pandas as pd"
   ]
  },
  {
   "cell_type": "markdown",
   "metadata": {},
   "source": [
    "Temos 3 arquivos para explorar e limpar. Farei isso separadamente, já que há algumas diferenças entre eles que talvez exijam abordagens diferentes.\n",
    "\n",
    "**Identificando os desafios.**\n",
    "\n",
    "As tarefas se resumem a: \n",
    "    \n",
    "    1 Penso em separar os dados por bairro. Assim teremos uma noção melhor\n",
    "      deles, principalmente por a localização ser um fator importante no \n",
    "      preço de um apartamento.\n",
    "    2 Transformar e criar as colunas numéricas, para podermos fazer os \n",
    "      cálculos com elas.\n",
    "\n",
    "Para isso vamos entender como os dados estão estruturados e pensar em como modificá-los.\n",
    "\n",
    "## 1 - pe.olx\n",
    "\n",
    "    Todas as numéricas estão no formato object (str, dict ou list...). \n",
    "    Teremos que converter futuramente, sem contar com as separação dos \n",
    "    dados da coluna ['other'].\n",
    "    \n",
    "    E também temos alguns dados ausentes para lidar."
   ]
  },
  {
   "cell_type": "code",
   "execution_count": 20,
   "metadata": {},
   "outputs": [
    {
     "data": {
      "text/html": [
       "<div>\n",
       "<style scoped>\n",
       "    .dataframe tbody tr th:only-of-type {\n",
       "        vertical-align: middle;\n",
       "    }\n",
       "\n",
       "    .dataframe tbody tr th {\n",
       "        vertical-align: top;\n",
       "    }\n",
       "\n",
       "    .dataframe thead th {\n",
       "        text-align: right;\n",
       "    }\n",
       "</style>\n",
       "<table border=\"1\" class=\"dataframe\">\n",
       "  <thead>\n",
       "    <tr style=\"text-align: right;\">\n",
       "      <th></th>\n",
       "      <th>prices</th>\n",
       "      <th>locations</th>\n",
       "      <th>other</th>\n",
       "    </tr>\n",
       "  </thead>\n",
       "  <tbody>\n",
       "    <tr>\n",
       "      <th>0</th>\n",
       "      <td>R$ 750.000</td>\n",
       "      <td>Recife, Boa Viagem</td>\n",
       "      <td>3 quartos | 130m² | 1 vaga</td>\n",
       "    </tr>\n",
       "    <tr>\n",
       "      <th>1</th>\n",
       "      <td>R$ 200.000</td>\n",
       "      <td>Jaboatão dos Guararapes, Candeias</td>\n",
       "      <td>2 quartos | 61m² | 1 vaga</td>\n",
       "    </tr>\n",
       "    <tr>\n",
       "      <th>2</th>\n",
       "      <td>R$ 300.000</td>\n",
       "      <td>Recife, Cordeiro</td>\n",
       "      <td>2 quartos | 50m² | Condomínio: R$ 1 | 1 vaga</td>\n",
       "    </tr>\n",
       "    <tr>\n",
       "      <th>3</th>\n",
       "      <td>R$ 128.000</td>\n",
       "      <td>Paulista, Nossa Senhora do Ó</td>\n",
       "      <td>2 quartos | 63m² | 1 vaga</td>\n",
       "    </tr>\n",
       "    <tr>\n",
       "      <th>4</th>\n",
       "      <td>R$ 125.000</td>\n",
       "      <td>Recife, Areias</td>\n",
       "      <td>2 quartos | 62m² | Condomínio: R$ 140 | 1 vaga</td>\n",
       "    </tr>\n",
       "  </tbody>\n",
       "</table>\n",
       "</div>"
      ],
      "text/plain": [
       "       prices                          locations  \\\n",
       "0  R$ 750.000                 Recife, Boa Viagem   \n",
       "1  R$ 200.000  Jaboatão dos Guararapes, Candeias   \n",
       "2  R$ 300.000                   Recife, Cordeiro   \n",
       "3  R$ 128.000       Paulista, Nossa Senhora do Ó   \n",
       "4  R$ 125.000                     Recife, Areias   \n",
       "\n",
       "                                            other  \n",
       "0                      3 quartos | 130m² | 1 vaga  \n",
       "1                       2 quartos | 61m² | 1 vaga  \n",
       "2    2 quartos | 50m² | Condomínio: R$ 1 | 1 vaga  \n",
       "3                       2 quartos | 63m² | 1 vaga  \n",
       "4  2 quartos | 62m² | Condomínio: R$ 140 | 1 vaga  "
      ]
     },
     "execution_count": 20,
     "metadata": {},
     "output_type": "execute_result"
    }
   ],
   "source": [
    "raw_data = pd.read_csv('0 - Apartamentos Dados (Bruto).csv', index_col=0)\n",
    "raw_data.head()"
   ]
  },
  {
   "cell_type": "code",
   "execution_count": 33,
   "metadata": {},
   "outputs": [
    {
     "data": {
      "text/plain": [
       "(4919, 3)"
      ]
     },
     "execution_count": 33,
     "metadata": {},
     "output_type": "execute_result"
    }
   ],
   "source": [
    "raw_data.shape"
   ]
  },
  {
   "cell_type": "code",
   "execution_count": 45,
   "metadata": {},
   "outputs": [
    {
     "name": "stdout",
     "output_type": "stream",
     "text": [
      "<class 'pandas.core.frame.DataFrame'>\n",
      "Int64Index: 4919 entries, 0 to 4918\n",
      "Data columns (total 3 columns):\n",
      " #   Column     Non-Null Count  Dtype \n",
      "---  ------     --------------  ----- \n",
      " 0   prices     4837 non-null   object\n",
      " 1   locations  4917 non-null   object\n",
      " 2   other      4917 non-null   object\n",
      "dtypes: object(3)\n",
      "memory usage: 153.7+ KB\n"
     ]
    }
   ],
   "source": [
    "raw_data.info()"
   ]
  },
  {
   "cell_type": "code",
   "execution_count": 46,
   "metadata": {},
   "outputs": [
    {
     "data": {
      "text/plain": [
       "prices       82\n",
       "locations     2\n",
       "other         2\n",
       "dtype: int64"
      ]
     },
     "execution_count": 46,
     "metadata": {},
     "output_type": "execute_result"
    }
   ],
   "source": [
    "raw_data.isna().sum()"
   ]
  },
  {
   "cell_type": "markdown",
   "metadata": {},
   "source": [
    "### 1.1 - ['Preço']\n",
    "\n",
    "Ao observar .head() e sabendo que há muito valores únicos, vou assumir que aparentemente só precisamos tratar dos \"R$\" (e pontos). Em seguida tentaremos converter seu tipo para numérico e caso esteja errado na minha hipótese, teremos um pouco mais de sujeira para resolver."
   ]
  },
  {
   "cell_type": "code",
   "execution_count": 23,
   "metadata": {},
   "outputs": [
    {
     "data": {
      "text/plain": [
       "2342"
      ]
     },
     "execution_count": 23,
     "metadata": {},
     "output_type": "execute_result"
    }
   ],
   "source": [
    "len(raw_data.prices.unique())"
   ]
  },
  {
   "cell_type": "markdown",
   "metadata": {},
   "source": [
    "### 1.2 - ['Localizações']\n",
    "\n",
    "Os bairros parecem estar na final das strings, então separar na vírgula provavelmente já será uma boa resolução. Testaremos."
   ]
  },
  {
   "cell_type": "code",
   "execution_count": 43,
   "metadata": {},
   "outputs": [
    {
     "data": {
      "text/plain": [
       "0                   Recife, Boa Viagem\n",
       "1    Jaboatão dos Guararapes, Candeias\n",
       "2                     Recife, Cordeiro\n",
       "3         Paulista, Nossa Senhora do Ó\n",
       "4                       Recife, Areias\n",
       "Name: locations, dtype: object"
      ]
     },
     "execution_count": 43,
     "metadata": {},
     "output_type": "execute_result"
    }
   ],
   "source": [
    "raw_data.locations.head()"
   ]
  },
  {
   "cell_type": "code",
   "execution_count": 44,
   "metadata": {},
   "outputs": [
    {
     "data": {
      "text/plain": [
       "4914                   Paulista, Paratibe\n",
       "4915                      Recife, Caxangá\n",
       "4916    Jaboatão dos Guararapes, Candeias\n",
       "4917                   Recife, Boa Viagem\n",
       "4918             Camaragibe, Alberto Maia\n",
       "Name: locations, dtype: object"
      ]
     },
     "execution_count": 44,
     "metadata": {},
     "output_type": "execute_result"
    }
   ],
   "source": [
    "raw_data.locations.tail()"
   ]
  },
  {
   "cell_type": "markdown",
   "metadata": {},
   "source": [
    "### 1.3 - ['Outros']\n",
    "\n",
    "O \"|\" será bem útil para separarmos os elementos. O real problema é o fato de às vezes essa divisão resultar em 3 ou 4 elementos.\n",
    "\n",
    "    3 quartos     | 130m²     | 1 vaga\n",
    "    2 quartos     | 50m²      | Condomínio: R$ 1     | 1 vaga\n",
    "    \n",
    "Sem contar que não temos informações sobre o número de banheiros \\o\\|o|/o/"
   ]
  },
  {
   "cell_type": "code",
   "execution_count": 55,
   "metadata": {},
   "outputs": [
    {
     "data": {
      "text/plain": [
       "0                        3 quartos | 130m² | 1 vaga\n",
       "1                         2 quartos | 61m² | 1 vaga\n",
       "2      2 quartos | 50m² | Condomínio: R$ 1 | 1 vaga\n",
       "3                         2 quartos | 63m² | 1 vaga\n",
       "4    2 quartos | 62m² | Condomínio: R$ 140 | 1 vaga\n",
       "Name: other, dtype: object"
      ]
     },
     "execution_count": 55,
     "metadata": {},
     "output_type": "execute_result"
    }
   ],
   "source": [
    "raw_data.other.head()"
   ]
  },
  {
   "cell_type": "markdown",
   "metadata": {},
   "source": [
    "## 2 - redeimoveispe\n",
    "\n",
    "    Sem dados ausentes \\o\\|o|/o/"
   ]
  },
  {
   "cell_type": "code",
   "execution_count": 26,
   "metadata": {},
   "outputs": [
    {
     "data": {
      "text/html": [
       "<div>\n",
       "<style scoped>\n",
       "    .dataframe tbody tr th:only-of-type {\n",
       "        vertical-align: middle;\n",
       "    }\n",
       "\n",
       "    .dataframe tbody tr th {\n",
       "        vertical-align: top;\n",
       "    }\n",
       "\n",
       "    .dataframe thead th {\n",
       "        text-align: right;\n",
       "    }\n",
       "</style>\n",
       "<table border=\"1\" class=\"dataframe\">\n",
       "  <thead>\n",
       "    <tr style=\"text-align: right;\">\n",
       "      <th></th>\n",
       "      <th>prices</th>\n",
       "      <th>locations</th>\n",
       "      <th>other</th>\n",
       "    </tr>\n",
       "  </thead>\n",
       "  <tbody>\n",
       "    <tr>\n",
       "      <th>0</th>\n",
       "      <td>R$ 80.000</td>\n",
       "      <td>Campo Grande</td>\n",
       "      <td>2quartos2banheiros1vaga67m²</td>\n",
       "    </tr>\n",
       "    <tr>\n",
       "      <th>1</th>\n",
       "      <td>R$ 130.000</td>\n",
       "      <td>Boa Vista</td>\n",
       "      <td>1quarto1banheiro 58,40m²</td>\n",
       "    </tr>\n",
       "    <tr>\n",
       "      <th>2</th>\n",
       "      <td>R$ 130.000</td>\n",
       "      <td>Linha do Tiro</td>\n",
       "      <td>2quartos1banheiro 1vaga65m²</td>\n",
       "    </tr>\n",
       "    <tr>\n",
       "      <th>3</th>\n",
       "      <td>R$ 132.000R$ 630/ano</td>\n",
       "      <td>Várzea</td>\n",
       "      <td>2quartos1banheiro 1vaga50m²</td>\n",
       "    </tr>\n",
       "    <tr>\n",
       "      <th>4</th>\n",
       "      <td>R$ 140.000</td>\n",
       "      <td>Tejipió</td>\n",
       "      <td>2quartos1banheiro 80vagas41m²</td>\n",
       "    </tr>\n",
       "  </tbody>\n",
       "</table>\n",
       "</div>"
      ],
      "text/plain": [
       "                 prices      locations                          other\n",
       "0             R$ 80.000   Campo Grande    2quartos2banheiros1vaga67m²\n",
       "1            R$ 130.000      Boa Vista       1quarto1banheiro 58,40m²\n",
       "2            R$ 130.000  Linha do Tiro    2quartos1banheiro 1vaga65m²\n",
       "3  R$ 132.000R$ 630/ano         Várzea    2quartos1banheiro 1vaga50m²\n",
       "4            R$ 140.000        Tejipió  2quartos1banheiro 80vagas41m²"
      ]
     },
     "execution_count": 26,
     "metadata": {},
     "output_type": "execute_result"
    }
   ],
   "source": [
    "raw_data1 = pd.read_csv('0.1 - Apartamentos Dados (Bruto).csv', index_col=0)\n",
    "raw_data1.head()"
   ]
  },
  {
   "cell_type": "code",
   "execution_count": 32,
   "metadata": {},
   "outputs": [
    {
     "data": {
      "text/plain": [
       "(1236, 3)"
      ]
     },
     "execution_count": 32,
     "metadata": {},
     "output_type": "execute_result"
    }
   ],
   "source": [
    "raw_data1.shape"
   ]
  },
  {
   "cell_type": "code",
   "execution_count": 47,
   "metadata": {},
   "outputs": [
    {
     "name": "stdout",
     "output_type": "stream",
     "text": [
      "<class 'pandas.core.frame.DataFrame'>\n",
      "Int64Index: 1236 entries, 0 to 1235\n",
      "Data columns (total 3 columns):\n",
      " #   Column     Non-Null Count  Dtype \n",
      "---  ------     --------------  ----- \n",
      " 0   prices     1236 non-null   object\n",
      " 1   locations  1236 non-null   object\n",
      " 2   other      1236 non-null   object\n",
      "dtypes: object(3)\n",
      "memory usage: 38.6+ KB\n"
     ]
    }
   ],
   "source": [
    "raw_data1.info()"
   ]
  },
  {
   "cell_type": "code",
   "execution_count": 48,
   "metadata": {},
   "outputs": [
    {
     "data": {
      "text/plain": [
       "prices       0\n",
       "locations    0\n",
       "other        0\n",
       "dtype: int64"
      ]
     },
     "execution_count": 48,
     "metadata": {},
     "output_type": "execute_result"
    }
   ],
   "source": [
    "raw_data1.isna().sum()"
   ]
  },
  {
   "cell_type": "markdown",
   "metadata": {},
   "source": [
    "### 2.1 - ['Preço']\n",
    "\n",
    "Os componentes se mostram como um desafio um pouco maior que os preços da tabela anterior. A princípio faremos o mesmo tratamento e caso seja necessário (dependendo do volume de dados) daremos mais atenção a eles."
   ]
  },
  {
   "cell_type": "code",
   "execution_count": 29,
   "metadata": {},
   "outputs": [
    {
     "data": {
      "text/plain": [
       "437"
      ]
     },
     "execution_count": 29,
     "metadata": {},
     "output_type": "execute_result"
    }
   ],
   "source": [
    "len(raw_data1.prices.unique())"
   ]
  },
  {
   "cell_type": "code",
   "execution_count": 58,
   "metadata": {},
   "outputs": [
    {
     "name": "stdout",
     "output_type": "stream",
     "text": [
      "R$ 80.000\n",
      "R$ 130.000\n",
      "R$ 132.000R$ 630/ano\n",
      "R$ 140.000\n",
      "R$ 145.000R$ 720/ano\n",
      "R$ 150.000\n",
      "R$ 160.000\n",
      "R$ 168.000\n",
      "R$ 170.000\n",
      "Preço de vendaSob consultaR$ 1.450/mês\n",
      "R$ 174.000\n",
      "R$ 180.000\n",
      "R$ 182.000\n",
      "R$ 186.000\n",
      "R$ 190.000\n"
     ]
    }
   ],
   "source": [
    "for price in raw_data1.prices.unique()[:15]:\n",
    "    print(price)"
   ]
  },
  {
   "cell_type": "markdown",
   "metadata": {},
   "source": [
    "### 2.2 - ['Localizações']\n",
    "\n",
    "( \\*-\\*) Lindo de ver, os bairros já estão prontos, limpinhos. Aprecie!"
   ]
  },
  {
   "cell_type": "code",
   "execution_count": 59,
   "metadata": {},
   "outputs": [
    {
     "data": {
      "text/plain": [
       "0     Campo Grande\n",
       "1        Boa Vista\n",
       "2    Linha do Tiro\n",
       "3           Várzea\n",
       "4          Tejipió\n",
       "Name: locations, dtype: object"
      ]
     },
     "execution_count": 59,
     "metadata": {},
     "output_type": "execute_result"
    }
   ],
   "source": [
    "raw_data1.locations.head()"
   ]
  },
  {
   "cell_type": "code",
   "execution_count": 60,
   "metadata": {},
   "outputs": [
    {
     "data": {
      "text/plain": [
       "1231          Pina\n",
       "1232    Boa Viagem\n",
       "1233      Apipucos\n",
       "1234    Boa Viagem\n",
       "1235      Monteiro\n",
       "Name: locations, dtype: object"
      ]
     },
     "execution_count": 60,
     "metadata": {},
     "output_type": "execute_result"
    }
   ],
   "source": [
    "raw_data1.locations.tail()"
   ]
  },
  {
   "cell_type": "markdown",
   "metadata": {},
   "source": [
    "### 2.3 - ['Outros']\n",
    "\n",
    "Já aqui... acredito que terei que fazer essa divisão por etapas."
   ]
  },
  {
   "cell_type": "code",
   "execution_count": 64,
   "metadata": {},
   "outputs": [
    {
     "data": {
      "text/plain": [
       "0      2quartos2banheiros1vaga67m²\n",
       "1         1quarto1banheiro 58,40m²\n",
       "2      2quartos1banheiro 1vaga65m²\n",
       "3      2quartos1banheiro 1vaga50m²\n",
       "4    2quartos1banheiro 80vagas41m²\n",
       "Name: other, dtype: object"
      ]
     },
     "execution_count": 64,
     "metadata": {},
     "output_type": "execute_result"
    }
   ],
   "source": [
    "raw_data1.other.head()"
   ]
  },
  {
   "cell_type": "markdown",
   "metadata": {},
   "source": [
    "## 3 - vivareal"
   ]
  },
  {
   "cell_type": "code",
   "execution_count": 28,
   "metadata": {},
   "outputs": [
    {
     "data": {
      "text/html": [
       "<div>\n",
       "<style scoped>\n",
       "    .dataframe tbody tr th:only-of-type {\n",
       "        vertical-align: middle;\n",
       "    }\n",
       "\n",
       "    .dataframe tbody tr th {\n",
       "        vertical-align: top;\n",
       "    }\n",
       "\n",
       "    .dataframe thead th {\n",
       "        text-align: right;\n",
       "    }\n",
       "</style>\n",
       "<table border=\"1\" class=\"dataframe\">\n",
       "  <thead>\n",
       "    <tr style=\"text-align: right;\">\n",
       "      <th></th>\n",
       "      <th>prices</th>\n",
       "      <th>locations</th>\n",
       "      <th>other</th>\n",
       "    </tr>\n",
       "  </thead>\n",
       "  <tbody>\n",
       "    <tr>\n",
       "      <th>0</th>\n",
       "      <td>R$ 1.700.000</td>\n",
       "      <td>Avenida Dezessete de Agosto, 2720 - Casa Fort...</td>\n",
       "      <td>207   Área m²     4   Quartos     4   Suíte...</td>\n",
       "    </tr>\n",
       "    <tr>\n",
       "      <th>1</th>\n",
       "      <td>Sob Consulta</td>\n",
       "      <td>Rua Eurico de Souza Leão, 541 - Cordeiro, Rec...</td>\n",
       "      <td>55-73   Área m²     1-3   Quartos     1   B...</td>\n",
       "    </tr>\n",
       "    <tr>\n",
       "      <th>2</th>\n",
       "      <td>R$ 780.000</td>\n",
       "      <td>Rua Wilfrid Rússel Shorto, 61 - Boa Viagem, R...</td>\n",
       "      <td>250   Área m²     4   Quartos     2   Suíte...</td>\n",
       "    </tr>\n",
       "    <tr>\n",
       "      <th>3</th>\n",
       "      <td>R$ 450.000</td>\n",
       "      <td>Estrada do Encanamento, 1342 - Casa Forte, Re...</td>\n",
       "      <td>82   Área m²     3   Quartos     1   Suíte ...</td>\n",
       "    </tr>\n",
       "    <tr>\n",
       "      <th>4</th>\n",
       "      <td>R$ 350.000</td>\n",
       "      <td>Rua Doutor Luiz Inácio Pessoa de Melo, 81 - B...</td>\n",
       "      <td>70   Área m²     2   Quartos     1   Suíte ...</td>\n",
       "    </tr>\n",
       "  </tbody>\n",
       "</table>\n",
       "</div>"
      ],
      "text/plain": [
       "                   prices                                          locations  \\\n",
       "0        R$ 1.700.000       Avenida Dezessete de Agosto, 2720 - Casa Fort...   \n",
       "1         Sob Consulta      Rua Eurico de Souza Leão, 541 - Cordeiro, Rec...   \n",
       "2          R$ 780.000       Rua Wilfrid Rússel Shorto, 61 - Boa Viagem, R...   \n",
       "3          R$ 450.000       Estrada do Encanamento, 1342 - Casa Forte, Re...   \n",
       "4          R$ 350.000       Rua Doutor Luiz Inácio Pessoa de Melo, 81 - B...   \n",
       "\n",
       "                                               other  \n",
       "0     207   Área m²     4   Quartos     4   Suíte...  \n",
       "1     55-73   Área m²     1-3   Quartos     1   B...  \n",
       "2     250   Área m²     4   Quartos     2   Suíte...  \n",
       "3     82   Área m²     3   Quartos     1   Suíte ...  \n",
       "4     70   Área m²     2   Quartos     1   Suíte ...  "
      ]
     },
     "execution_count": 28,
     "metadata": {},
     "output_type": "execute_result"
    }
   ],
   "source": [
    "raw_data2 = pd.read_csv('0.2 - Apartamentos Dados (Bruto).csv', index_col=0)\n",
    "raw_data2.head()"
   ]
  },
  {
   "cell_type": "code",
   "execution_count": 31,
   "metadata": {},
   "outputs": [
    {
     "data": {
      "text/plain": [
       "(10764, 3)"
      ]
     },
     "execution_count": 31,
     "metadata": {},
     "output_type": "execute_result"
    }
   ],
   "source": [
    "raw_data2.shape"
   ]
  },
  {
   "cell_type": "code",
   "execution_count": 50,
   "metadata": {},
   "outputs": [
    {
     "name": "stdout",
     "output_type": "stream",
     "text": [
      "<class 'pandas.core.frame.DataFrame'>\n",
      "Int64Index: 10764 entries, 0 to 10763\n",
      "Data columns (total 3 columns):\n",
      " #   Column     Non-Null Count  Dtype \n",
      "---  ------     --------------  ----- \n",
      " 0   prices     10764 non-null  object\n",
      " 1   locations  10764 non-null  object\n",
      " 2   other      10764 non-null  object\n",
      "dtypes: object(3)\n",
      "memory usage: 336.4+ KB\n"
     ]
    }
   ],
   "source": [
    "raw_data2.info()"
   ]
  },
  {
   "cell_type": "code",
   "execution_count": 51,
   "metadata": {},
   "outputs": [
    {
     "data": {
      "text/plain": [
       "prices       0\n",
       "locations    0\n",
       "other        0\n",
       "dtype: int64"
      ]
     },
     "execution_count": 51,
     "metadata": {},
     "output_type": "execute_result"
    }
   ],
   "source": [
    "raw_data2.isna().sum()"
   ]
  },
  {
   "cell_type": "markdown",
   "metadata": {},
   "source": [
    "### 3.1 - ['Preço']\n",
    "\n",
    "Tal qual a primeira tabela. O estranho é termos 10764 linhas e apenas 31 valores únicos. Deve haver duplicatas? Muitas delas? Hummmm...  "
   ]
  },
  {
   "cell_type": "code",
   "execution_count": 65,
   "metadata": {},
   "outputs": [
    {
     "data": {
      "text/plain": [
       "31"
      ]
     },
     "execution_count": 65,
     "metadata": {},
     "output_type": "execute_result"
    }
   ],
   "source": [
    "len(raw_data2.prices.unique())"
   ]
  },
  {
   "cell_type": "code",
   "execution_count": 66,
   "metadata": {},
   "outputs": [
    {
     "data": {
      "text/plain": [
       "array(['      R$ 1.700.000    ', '    Sob Consulta   ',\n",
       "       '      R$ 780.000    ', '      R$ 450.000    ',\n",
       "       '      R$ 350.000    ', '      R$ 620.000    ',\n",
       "       '      R$ 429.000    ', '      R$ 400.000    ',\n",
       "       '      R$ 520.000    ', '      R$ 275.000    ',\n",
       "       '      R$ 1.550.000    ', '      R$ 590.000    ',\n",
       "       '      R$ 399.000    ', '      R$ 1.100.000    ',\n",
       "       '      R$ 630.000    ', '      R$ 1.500.000    ',\n",
       "       '      R$ 950.000    ', '      R$ 99.999.999    ',\n",
       "       '      R$ 415.000    ', '      R$ 550.000    ',\n",
       "       '      R$ 430.000    ', '      R$ 2.300.000    ',\n",
       "       '      R$ 290.000    ', '      R$ 302.900    ',\n",
       "       '      R$ 220.000    ', '      R$ 420.000    ',\n",
       "       '      R$ 1.106.000    ', '      R$ 720.000    ',\n",
       "       '      R$ 340.000    ', '      R$ 670.000    ',\n",
       "       '      R$ 709.999    '], dtype=object)"
      ]
     },
     "execution_count": 66,
     "metadata": {},
     "output_type": "execute_result"
    }
   ],
   "source": [
    "raw_data2.prices.unique()"
   ]
  },
  {
   "cell_type": "markdown",
   "metadata": {},
   "source": [
    "### 3.2 - ['Localizações']\n",
    "        "
   ]
  },
  {
   "cell_type": "code",
   "execution_count": 70,
   "metadata": {},
   "outputs": [
    {
     "data": {
      "text/plain": [
       "' Avenida Dezessete de Agosto, 2720 - Casa Forte, Recife - PE '"
      ]
     },
     "execution_count": 70,
     "metadata": {},
     "output_type": "execute_result"
    }
   ],
   "source": [
    "raw_data2.locations[0]"
   ]
  },
  {
   "cell_type": "code",
   "execution_count": 71,
   "metadata": {},
   "outputs": [
    {
     "data": {
      "text/plain": [
       "' Rua Eurico de Souza Leão, 541 - Cordeiro, Recife - PE '"
      ]
     },
     "execution_count": 71,
     "metadata": {},
     "output_type": "execute_result"
    }
   ],
   "source": [
    "raw_data2.locations[1]"
   ]
  },
  {
   "cell_type": "code",
   "execution_count": 84,
   "metadata": {},
   "outputs": [
    {
     "data": {
      "text/plain": [
       "' Travessa Maria Carolina, 816 - Boa Viagem, Recife - PE '"
      ]
     },
     "execution_count": 84,
     "metadata": {},
     "output_type": "execute_result"
    }
   ],
   "source": [
    "# KKK Sim. Duplicatas.\n",
    "\n",
    "raw_data2.locations[20]"
   ]
  },
  {
   "cell_type": "code",
   "execution_count": 80,
   "metadata": {},
   "outputs": [
    {
     "data": {
      "text/plain": [
       "' Travessa Maria Carolina, 816 - Boa Viagem, Recife - PE '"
      ]
     },
     "execution_count": 80,
     "metadata": {},
     "output_type": "execute_result"
    }
   ],
   "source": [
    "raw_data2.locations[200]"
   ]
  },
  {
   "cell_type": "code",
   "execution_count": 81,
   "metadata": {},
   "outputs": [
    {
     "data": {
      "text/plain": [
       "' Travessa Maria Carolina, 816 - Boa Viagem, Recife - PE '"
      ]
     },
     "execution_count": 81,
     "metadata": {},
     "output_type": "execute_result"
    }
   ],
   "source": [
    "raw_data2.locations[2000]"
   ]
  },
  {
   "cell_type": "markdown",
   "metadata": {},
   "source": [
    "### 3.3 - ['Outros']\n",
    "\n",
    "Estes espaços \" \" podem ser úteis, na verdade estou pensando qual seria a forma mais eficiente de se tratar esse tipo de dado."
   ]
  },
  {
   "cell_type": "code",
   "execution_count": 89,
   "metadata": {},
   "outputs": [
    {
     "data": {
      "text/plain": [
       "0       207   Área m²     4   Quartos     4   Suíte...\n",
       "1       55-73   Área m²     1-3   Quartos     1   B...\n",
       "2       250   Área m²     4   Quartos     2   Suíte...\n",
       "3       82   Área m²     3   Quartos     1   Suíte ...\n",
       "4       70   Área m²     2   Quartos     1   Suíte ...\n",
       "Name: other, dtype: object"
      ]
     },
     "execution_count": 89,
     "metadata": {},
     "output_type": "execute_result"
    }
   ],
   "source": [
    "raw_data2.other.head()"
   ]
  },
  {
   "cell_type": "code",
   "execution_count": 91,
   "metadata": {},
   "outputs": [
    {
     "data": {
      "text/plain": [
       "35"
      ]
     },
     "execution_count": 91,
     "metadata": {},
     "output_type": "execute_result"
    }
   ],
   "source": [
    "len(raw_data2.other.unique())"
   ]
  },
  {
   "cell_type": "code",
   "execution_count": 92,
   "metadata": {},
   "outputs": [
    {
     "data": {
      "text/plain": [
       "array(['   207   Área m²     4   Quartos     4   Suítes     5   Banheiros     3   Vagas   ',\n",
       "       '   55-73   Área m²     1-3   Quartos     1   Banheiro     1-2   Vagas   ',\n",
       "       '   250   Área m²     4   Quartos     2   Suítes     4   Banheiros     1   Vaga   ',\n",
       "       '   82   Área m²     3   Quartos     1   Suíte     3   Banheiros     2   Vagas   ',\n",
       "       '   70   Área m²     2   Quartos     1   Suíte     2   Banheiros     1   Vaga   ',\n",
       "       '   88   Área m²     3   Quartos     1   Suíte     2   Banheiros     2   Vagas   ',\n",
       "       '   75   Área m²     3   Quartos     1   Suíte     2   Banheiros     1   Vaga   ',\n",
       "       '   48   Área m²     2   Quartos     1   Suíte     2   Banheiros     1   Vaga   ',\n",
       "       '   84   Área m²     3   Quartos     2   Banheiros     2   Vagas   ',\n",
       "       '   76   Área m²     3   Quartos     1   Suíte     1   Banheiro     1   Vaga   ',\n",
       "       '   203   Área m²     4   Quartos     4   Suítes     5   Banheiros     3   Vagas   ',\n",
       "       '   110   Área m²     3   Quartos     1   Suíte     2   Banheiros     1   Vaga   ',\n",
       "       '   65   Área m²     3   Quartos     1   Suíte     2   Banheiros     1   Vaga   ',\n",
       "       '   67   Área m²     3   Quartos     1   Suíte     2   Banheiros     1   Vaga   ',\n",
       "       '   130   Área m²     3   Quartos     3   Suítes     5   Banheiros     2   Vagas   ',\n",
       "       '   96   Área m²     3   Quartos     2   Banheiros     2   Vagas   ',\n",
       "       '   223   Área m²     3   Quartos     2   Suítes     2   Banheiros     --   Vaga   ',\n",
       "       '   132   Área m²     3   Quartos     2   Suítes     3   Banheiros     2   Vagas   ',\n",
       "       '   141   Área m²     4   Quartos     4   Suítes     5   Banheiros     2   Vagas   ',\n",
       "       '   79   Área m²     3   Quartos     1   Suíte     3   Banheiros     1   Vaga   ',\n",
       "       '   64   Área m²     3   Quartos     1   Suíte     3   Banheiros     1   Vaga   ',\n",
       "       '   104   Área m²     3   Quartos     1   Suíte     2   Banheiros     2   Vagas   ',\n",
       "       '   90   Área m²     3   Quartos     1   Suíte     3   Banheiros     2   Vagas   ',\n",
       "       '   97   Área m²     3   Quartos     1   Suíte     2   Banheiros     1   Vaga   ',\n",
       "       '   218   Área m²     4   Quartos     4   Suítes     4   Banheiros     3   Vagas   ',\n",
       "       '   114   Área m²     4   Quartos     1   Suíte     3   Banheiros     1   Vaga   ',\n",
       "       '   58   Área m²     2   Quartos     1   Suíte     1   Banheiro     1   Vaga   ',\n",
       "       '   34   Área m²     1   Quarto     --   Suíte     1   Banheiro     1   Vaga   ',\n",
       "       '   60   Área m²     2   Quartos     1   Suíte     2   Banheiros     1   Vaga   ',\n",
       "       '   154   Área m²     4   Quartos     4   Suítes     4   Banheiros     2   Vagas   ',\n",
       "       '   170   Área m²     3   Quartos     1   Suíte     1   Banheiro     2   Vagas   ',\n",
       "       '   54   Área m²     2   Quartos     1   Suíte     2   Banheiros     1   Vaga   ',\n",
       "       '   80   Área m²     3   Quartos     1   Suíte     3   Banheiros     2   Vagas   ',\n",
       "       '   100   Área m²     3   Quartos     1   Suíte     2   Banheiros     2   Vagas   ',\n",
       "       '   54   Área m²     2   Quartos     1   Suíte     3   Banheiros     1   Vaga   '],\n",
       "      dtype=object)"
      ]
     },
     "execution_count": 92,
     "metadata": {},
     "output_type": "execute_result"
    }
   ],
   "source": [
    "raw_data2.other.unique()"
   ]
  },
  {
   "cell_type": "markdown",
   "metadata": {},
   "source": [
    "Agora que sabemos parte do tamanho do problema, vamos iniciar a limpeza dos dados com o objetivo de torná-los usáveis e obter informações deles."
   ]
  }
 ],
 "metadata": {
  "kernelspec": {
   "display_name": "Python 3",
   "language": "python",
   "name": "python3"
  },
  "language_info": {
   "codemirror_mode": {
    "name": "ipython",
    "version": 3
   },
   "file_extension": ".py",
   "mimetype": "text/x-python",
   "name": "python",
   "nbconvert_exporter": "python",
   "pygments_lexer": "ipython3",
   "version": "3.7.7"
  }
 },
 "nbformat": 4,
 "nbformat_minor": 4
}
