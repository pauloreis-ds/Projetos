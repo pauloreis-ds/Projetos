{
 "cells": [
  {
   "cell_type": "markdown",
   "metadata": {},
   "source": [
    "## Agenda\n",
    "    1 - Modo Normal\n",
    "    E se...\n",
    "        2 - Removêssemos ['garage'] da equação?\n",
    "        3 - Removêssemos todos os outliers?\n",
    "        4 - Retirássemos aquele cara? 600m² (º-º )\n",
    "        5 - \"Padronizarmos\" mais os dados?\n",
    "\n",
    "    Estudos\n",
    "         Diferença entre Preços e Predições\n",
    "         Porcentagem de erro\n",
    "             Em termos de negócio (R$)"
   ]
  },
  {
   "cell_type": "code",
   "execution_count": 2,
   "metadata": {},
   "outputs": [],
   "source": [
    "import pandas as pd\n",
    "import numpy as np \n",
    "\n",
    "# Separa dados de treino e teste\n",
    "from sklearn.model_selection import train_test_split\n",
    "\n",
    "# Modelo/Algoritmo\n",
    "from sklearn.linear_model import LinearRegression\n",
    "from sklearn.tree import DecisionTreeRegressor\n",
    "\n",
    "# Visualizar Resultados\n",
    "import matplotlib.pyplot as plt\n",
    "import seaborn as sns"
   ]
  },
  {
   "cell_type": "code",
   "execution_count": 15,
   "metadata": {},
   "outputs": [
    {
     "data": {
      "text/html": [
       "<div>\n",
       "<style scoped>\n",
       "    .dataframe tbody tr th:only-of-type {\n",
       "        vertical-align: middle;\n",
       "    }\n",
       "\n",
       "    .dataframe tbody tr th {\n",
       "        vertical-align: top;\n",
       "    }\n",
       "\n",
       "    .dataframe thead th {\n",
       "        text-align: right;\n",
       "    }\n",
       "</style>\n",
       "<table border=\"1\" class=\"dataframe\">\n",
       "  <thead>\n",
       "    <tr style=\"text-align: right;\">\n",
       "      <th></th>\n",
       "      <th>price</th>\n",
       "      <th>district</th>\n",
       "      <th>bedroom</th>\n",
       "      <th>bathroom</th>\n",
       "      <th>size</th>\n",
       "      <th>garage</th>\n",
       "    </tr>\n",
       "  </thead>\n",
       "  <tbody>\n",
       "    <tr>\n",
       "      <th>0</th>\n",
       "      <td>174000</td>\n",
       "      <td>Parnamirim</td>\n",
       "      <td>1</td>\n",
       "      <td>1</td>\n",
       "      <td>34.0</td>\n",
       "      <td>1</td>\n",
       "    </tr>\n",
       "    <tr>\n",
       "      <th>1</th>\n",
       "      <td>180000</td>\n",
       "      <td>Rosarinho</td>\n",
       "      <td>1</td>\n",
       "      <td>1</td>\n",
       "      <td>34.0</td>\n",
       "      <td>1</td>\n",
       "    </tr>\n",
       "    <tr>\n",
       "      <th>2</th>\n",
       "      <td>190000</td>\n",
       "      <td>Rosarinho</td>\n",
       "      <td>1</td>\n",
       "      <td>1</td>\n",
       "      <td>33.0</td>\n",
       "      <td>1</td>\n",
       "    </tr>\n",
       "    <tr>\n",
       "      <th>3</th>\n",
       "      <td>190000</td>\n",
       "      <td>Tamarineira</td>\n",
       "      <td>1</td>\n",
       "      <td>1</td>\n",
       "      <td>34.0</td>\n",
       "      <td>1</td>\n",
       "    </tr>\n",
       "    <tr>\n",
       "      <th>4</th>\n",
       "      <td>195000</td>\n",
       "      <td>Boa Viagem</td>\n",
       "      <td>1</td>\n",
       "      <td>1</td>\n",
       "      <td>30.0</td>\n",
       "      <td>1</td>\n",
       "    </tr>\n",
       "  </tbody>\n",
       "</table>\n",
       "</div>"
      ],
      "text/plain": [
       "    price     district  bedroom  bathroom  size  garage\n",
       "0  174000   Parnamirim        1         1  34.0       1\n",
       "1  180000    Rosarinho        1         1  34.0       1\n",
       "2  190000    Rosarinho        1         1  33.0       1\n",
       "3  190000  Tamarineira        1         1  34.0       1\n",
       "4  195000   Boa Viagem        1         1  30.0       1"
      ]
     },
     "execution_count": 15,
     "metadata": {},
     "output_type": "execute_result"
    }
   ],
   "source": [
    "df = pd.read_pickle('5 Apartamentos para modelagem.pkl')\n",
    "df.reset_index(drop= True, inplace=True)\n",
    "df.drop(columns=\"price by m²\",inplace=True)\n",
    "df.head()"
   ]
  },
  {
   "cell_type": "markdown",
   "metadata": {},
   "source": [
    "## 1 - Modo Normal\n",
    "Os mesmos passos que fiz para a criação do 1º modelo. Nada diferente."
   ]
  },
  {
   "cell_type": "code",
   "execution_count": 16,
   "metadata": {},
   "outputs": [],
   "source": [
    "# one-hot encoding\n",
    "dummies = pd.get_dummies(df.district)\n",
    "# Unindo bairros codificados com as features\n",
    "data_frame = pd.concat([df,dummies], axis=\"columns\")\n",
    "data_frame.drop(columns=\"district\",inplace=True)\n",
    "# Separando features e labels\n",
    "X = data_frame.drop(columns=\"price\")\n",
    "y = data_frame.price"
   ]
  },
  {
   "cell_type": "code",
   "execution_count": 20,
   "metadata": {},
   "outputs": [
    {
     "data": {
      "text/plain": [
       "0.8234181808173429"
      ]
     },
     "execution_count": 20,
     "metadata": {},
     "output_type": "execute_result"
    }
   ],
   "source": [
    "# Separando dados para treino e teste\n",
    "X_train, X_test, y_train, y_test = train_test_split(X, y, test_size=0.2)\n",
    "\n",
    "# Criando instância do Modelo\n",
    "linear_model  = LinearRegression()\n",
    "\n",
    "# Treinando o modelo\n",
    "linear_model.fit(X_train,y_train)\n",
    "\n",
    "# Testando a performance do modelo com dados que ele não viu\n",
    "linear_model.score(X_test,y_test)"
   ]
  },
  {
   "cell_type": "markdown",
   "metadata": {},
   "source": [
    "Algo que não fiz anteriormente foi a [validação cruzada](https://minerandodados.com.br/validacao-cruzada-aprenda-de-forma-simples-como-usar-essa-tecnica/)."
   ]
  },
  {
   "cell_type": "code",
   "execution_count": 21,
   "metadata": {},
   "outputs": [
    {
     "data": {
      "text/plain": [
       "array([0.83323989, 0.82735162, 0.84001009, 0.81813932, 0.8253129 ])"
      ]
     },
     "execution_count": 21,
     "metadata": {},
     "output_type": "execute_result"
    }
   ],
   "source": [
    "# Validação cruzada\n",
    "from sklearn.model_selection import ShuffleSplit\n",
    "from sklearn.model_selection import cross_val_score\n",
    "\n",
    "cross_validation = ShuffleSplit(n_splits=5, test_size=0.2)\n",
    "cross_val_score(LinearRegression(), X, y, cv=cross_validation)"
   ]
  },
  {
   "cell_type": "code",
   "execution_count": 22,
   "metadata": {},
   "outputs": [
    {
     "name": "stdout",
     "output_type": "stream",
     "text": [
      "0.8265424904175944\n"
     ]
    }
   ],
   "source": [
    "''' Hummm, a média dos scores fica em torno de 80% '''\n",
    "\n",
    "def Average(lst): \n",
    "    return sum(lst) / len(lst)\n",
    "\n",
    "cv_results = []\n",
    "\n",
    "for test in range(100):\n",
    "    cross_validation = ShuffleSplit(n_splits=5, test_size=0.2)\n",
    "    cv = cross_val_score(LinearRegression(), X, y, cv=cross_validation)\n",
    "    for value in cv:\n",
    "        cv_results.append(value)\n",
    "\n",
    "print(Average(cv_results))"
   ]
  },
  {
   "cell_type": "markdown",
   "metadata": {},
   "source": [
    "Mas... e se\n",
    "## 2 - Removêssemos ['garage'] da equação?"
   ]
  },
  {
   "cell_type": "code",
   "execution_count": 23,
   "metadata": {},
   "outputs": [
    {
     "data": {
      "text/html": [
       "<div>\n",
       "<style scoped>\n",
       "    .dataframe tbody tr th:only-of-type {\n",
       "        vertical-align: middle;\n",
       "    }\n",
       "\n",
       "    .dataframe tbody tr th {\n",
       "        vertical-align: top;\n",
       "    }\n",
       "\n",
       "    .dataframe thead th {\n",
       "        text-align: right;\n",
       "    }\n",
       "</style>\n",
       "<table border=\"1\" class=\"dataframe\">\n",
       "  <thead>\n",
       "    <tr style=\"text-align: right;\">\n",
       "      <th></th>\n",
       "      <th>price</th>\n",
       "      <th>district</th>\n",
       "      <th>bedroom</th>\n",
       "      <th>bathroom</th>\n",
       "      <th>size</th>\n",
       "    </tr>\n",
       "  </thead>\n",
       "  <tbody>\n",
       "    <tr>\n",
       "      <th>0</th>\n",
       "      <td>174000</td>\n",
       "      <td>Parnamirim</td>\n",
       "      <td>1</td>\n",
       "      <td>1</td>\n",
       "      <td>34.0</td>\n",
       "    </tr>\n",
       "  </tbody>\n",
       "</table>\n",
       "</div>"
      ],
      "text/plain": [
       "    price    district  bedroom  bathroom  size\n",
       "0  174000  Parnamirim        1         1  34.0"
      ]
     },
     "execution_count": 23,
     "metadata": {},
     "output_type": "execute_result"
    }
   ],
   "source": [
    "df_no_garage = df.drop(columns='garage')\n",
    "df_no_garage.head(1)"
   ]
  },
  {
   "cell_type": "code",
   "execution_count": 24,
   "metadata": {},
   "outputs": [
    {
     "data": {
      "text/plain": [
       "0.8272856853014017"
      ]
     },
     "execution_count": 24,
     "metadata": {},
     "output_type": "execute_result"
    }
   ],
   "source": [
    "dummies = pd.get_dummies(df_no_garage.district)\n",
    "data_frame = pd.concat([df_no_garage,dummies], axis=\"columns\")\n",
    "data_frame.drop(columns=\"district\",inplace=True)\n",
    "X = data_frame.drop(columns=\"price\")\n",
    "y = data_frame.price\n",
    "\n",
    "X_train, X_test, y_train, y_test = train_test_split(X, y, test_size=0.2)\n",
    "linear_model  = LinearRegression()\n",
    "linear_model.fit(X_train,y_train)\n",
    "linear_model.score(X_test,y_test)"
   ]
  },
  {
   "cell_type": "code",
   "execution_count": 25,
   "metadata": {},
   "outputs": [
    {
     "name": "stdout",
     "output_type": "stream",
     "text": [
      "0.8255854924561511\n"
     ]
    }
   ],
   "source": [
    "cv_results = []\n",
    "\n",
    "for test in range(100):\n",
    "    cross_validation = ShuffleSplit(n_splits=5, test_size=0.2)\n",
    "    cv = cross_val_score(LinearRegression(), X, y, cv=cross_validation)\n",
    "    for value in cv:\n",
    "        cv_results.append(value)\n",
    "\n",
    "print(Average(cv_results))"
   ]
  },
  {
   "cell_type": "markdown",
   "metadata": {},
   "source": [
    "Uau! Acaba não afetando tanto a predição. O que faz sentido já que ao utilizar o feature_importances_ da DecisionTreeRegressor as vagas de estacionamento influenciavam 1% no preço do apartamento _\"0.01 ----- garage\"_. \n",
    "\n",
    "      Se bem que 0.01 ----- bedroom\n",
    "                 0.02 ----- bathroom\n",
    "      Huhmmm...\n",
    "                 \n",
    "Talvez eu devesse ter limpado mais os dados?"
   ]
  },
  {
   "cell_type": "markdown",
   "metadata": {},
   "source": [
    "E se...\n",
    "## 3 - Removêssemos todos os outliers?"
   ]
  },
  {
   "cell_type": "code",
   "execution_count": 59,
   "metadata": {
    "scrolled": false
   },
   "outputs": [
    {
     "data": {
      "image/png": "[encoded data removed]",
      "text/plain": [
       "<Figure size 432x288 with 1 Axes>"
      ]
     },
     "metadata": {
      "needs_background": "light"
     },
     "output_type": "display_data"
    },
    {
     "data": {
      "image/png": "[encoded data removed]",
      "text/plain": [
       "<Figure size 432x288 with 1 Axes>"
      ]
     },
     "metadata": {
      "needs_background": "light"
     },
     "output_type": "display_data"
    },
    {
     "data": {
      "image/png": "[encoded data removed]",
      "text/plain": [
       "<Figure size 432x288 with 1 Axes>"
      ]
     },
     "metadata": {
      "needs_background": "light"
     },
     "output_type": "display_data"
    },
    {
     "data": {
      "image/png": "[encoded data removed]",
      "text/plain": [
       "<Figure size 432x288 with 1 Axes>"
      ]
     },
     "metadata": {
      "needs_background": "light"
     },
     "output_type": "display_data"
    },
    {
     "data": {
      "image/png": "[encoded data removed]",
      "text/plain": [
       "<Figure size 432x288 with 1 Axes>"
      ]
     },
     "metadata": {
      "needs_background": "light"
     },
     "output_type": "display_data"
    }
   ],
   "source": [
    "for column in df.columns:\n",
    "    if(df[column].dtype != 'object'):\n",
    "        sns.boxplot(df[column])\n",
    "        plt.show()"
   ]
  },
  {
   "cell_type": "code",
   "execution_count": 26,
   "metadata": {},
   "outputs": [],
   "source": [
    "df_no_outlier = df.copy()"
   ]
  },
  {
   "cell_type": "code",
   "execution_count": 27,
   "metadata": {},
   "outputs": [],
   "source": [
    "df_no_outlier = df_no_outlier[df_no_outlier.price < 1000000]"
   ]
  },
  {
   "cell_type": "code",
   "execution_count": 28,
   "metadata": {},
   "outputs": [],
   "source": [
    "df_no_outlier = df_no_outlier[df_no_outlier.bedroom < 5]"
   ]
  },
  {
   "cell_type": "code",
   "execution_count": 29,
   "metadata": {},
   "outputs": [],
   "source": [
    "df_no_outlier = df_no_outlier[df_no_outlier.bathroom < 5]"
   ]
  },
  {
   "cell_type": "code",
   "execution_count": 30,
   "metadata": {},
   "outputs": [],
   "source": [
    "df_no_outlier = df_no_outlier[df_no_outlier.garage < 4]"
   ]
  },
  {
   "cell_type": "code",
   "execution_count": 31,
   "metadata": {},
   "outputs": [
    {
     "data": {
      "text/plain": [
       "0.7822146514727949"
      ]
     },
     "execution_count": 31,
     "metadata": {},
     "output_type": "execute_result"
    }
   ],
   "source": [
    "dummies = pd.get_dummies(df_no_outlier.district)\n",
    "data_frame = pd.concat([df_no_outlier,dummies], axis=\"columns\")\n",
    "data_frame.drop(columns=\"district\",inplace=True)\n",
    "X = data_frame.drop(columns=\"price\")\n",
    "y = data_frame.price\n",
    "\n",
    "X_train, X_test, y_train, y_test = train_test_split(X, y, test_size=0.2)\n",
    "linear_model  = LinearRegression()\n",
    "linear_model.fit(X_train,y_train)\n",
    "linear_model.score(X_test,y_test)"
   ]
  },
  {
   "cell_type": "code",
   "execution_count": 32,
   "metadata": {},
   "outputs": [
    {
     "name": "stdout",
     "output_type": "stream",
     "text": [
      "0.7722011845295652\n"
     ]
    }
   ],
   "source": [
    "cv_results = []\n",
    "\n",
    "for test in range(100):\n",
    "    cross_validation = ShuffleSplit(n_splits=5, test_size=0.2)\n",
    "    cv = cross_val_score(LinearRegression(), X, y, cv=cross_validation)\n",
    "    for value in cv:\n",
    "        cv_results.append(value)\n",
    "\n",
    "print(Average(cv_results))"
   ]
  },
  {
   "cell_type": "code",
   "execution_count": 33,
   "metadata": {},
   "outputs": [
    {
     "data": {
      "text/plain": [
       "(3624, 6)"
      ]
     },
     "execution_count": 33,
     "metadata": {},
     "output_type": "execute_result"
    }
   ],
   "source": [
    "df_no_outlier.shape"
   ]
  },
  {
   "cell_type": "code",
   "execution_count": 35,
   "metadata": {},
   "outputs": [
    {
     "data": {
      "text/plain": [
       "(3900, 6)"
      ]
     },
     "execution_count": 35,
     "metadata": {},
     "output_type": "execute_result"
    }
   ],
   "source": [
    "df.shape"
   ]
  },
  {
   "cell_type": "markdown",
   "metadata": {},
   "source": [
    "Menor? Hummm no fim da análise comentei algo sobre \"outliers seguros\", será que é isso mesmo ou simplesmente a quantidade de dados que é menor? Se bem que...\n",
    "\n",
    "E se\n",
    "## 4 - Retirássemos aquele cara? 600m² (º-º )"
   ]
  },
  {
   "cell_type": "code",
   "execution_count": 107,
   "metadata": {},
   "outputs": [
    {
     "data": {
      "image/png": "[encoded data removed]",
      "text/plain": [
       "<Figure size 432x288 with 1 Axes>"
      ]
     },
     "metadata": {
      "needs_background": "light"
     },
     "output_type": "display_data"
    }
   ],
   "source": [
    "plt.scatter(df['size'], df.price)\n",
    "plt.xlabel('m²')\n",
    "plt.ylabel('Preço (milhão)')\n",
    "plt.show()"
   ]
  },
  {
   "cell_type": "code",
   "execution_count": 207,
   "metadata": {},
   "outputs": [],
   "source": [
    "df_test = df.copy()"
   ]
  },
  {
   "cell_type": "code",
   "execution_count": 208,
   "metadata": {},
   "outputs": [],
   "source": [
    "df_test = df_test[df_test['size'] < 500]"
   ]
  },
  {
   "cell_type": "code",
   "execution_count": 120,
   "metadata": {},
   "outputs": [
    {
     "data": {
      "text/plain": [
       "0.8039796286414927"
      ]
     },
     "execution_count": 120,
     "metadata": {},
     "output_type": "execute_result"
    }
   ],
   "source": [
    "dummies = pd.get_dummies(df_test.district)\n",
    "data_frame = pd.concat([df_test,dummies], axis=\"columns\")\n",
    "data_frame.drop(columns=\"district\",inplace=True)\n",
    "X = data_frame.drop(columns=\"price\")\n",
    "y = data_frame.price\n",
    "\n",
    "X_train, X_test, y_train, y_test = train_test_split(X, y, test_size=0.2)\n",
    "linear_model  = LinearRegression()\n",
    "linear_model.fit(X_train,y_train)\n",
    "linear_model.score(X_test,y_test)"
   ]
  },
  {
   "cell_type": "markdown",
   "metadata": {},
   "source": [
    "Éh\n",
    "\n",
    "E se \n",
    "## 5 - Padronizarmos mais os dados?\n",
    "Alguns dos que me incomodavam ao final da análise."
   ]
  },
  {
   "cell_type": "code",
   "execution_count": 209,
   "metadata": {},
   "outputs": [
    {
     "data": {
      "image/png": "[encoded data removed]",
      "text/plain": [
       "<Figure size 432x288 with 1 Axes>"
      ]
     },
     "metadata": {
      "needs_background": "light"
     },
     "output_type": "display_data"
    }
   ],
   "source": [
    "plt.scatter(df_test.bedroom, df_test['size'])\n",
    "plt.xlabel('Quartos')\n",
    "plt.ylabel('m²')\n",
    "plt.show()"
   ]
  },
  {
   "cell_type": "code",
   "execution_count": 210,
   "metadata": {},
   "outputs": [],
   "source": [
    "df_test = df_test[~((df_test.bedroom == 1) & (df_test['size'] > 100))]"
   ]
  },
  {
   "cell_type": "code",
   "execution_count": 211,
   "metadata": {},
   "outputs": [],
   "source": [
    "df_test = df_test[~((df_test.bedroom == 2) & (df_test['size'] > 200))]"
   ]
  },
  {
   "cell_type": "code",
   "execution_count": 212,
   "metadata": {},
   "outputs": [],
   "source": [
    "df_test = df_test[~((df_test.bedroom == 3) & (df_test['size'] < 100))]"
   ]
  },
  {
   "cell_type": "code",
   "execution_count": 213,
   "metadata": {},
   "outputs": [],
   "source": [
    "df_test = df_test[~((df_test.bedroom == 4) & (df_test['size'] < 120))]"
   ]
  },
  {
   "cell_type": "code",
   "execution_count": 214,
   "metadata": {},
   "outputs": [
    {
     "data": {
      "image/png": "[encoded data removed]",
      "text/plain": [
       "<Figure size 432x288 with 1 Axes>"
      ]
     },
     "metadata": {
      "needs_background": "light"
     },
     "output_type": "display_data"
    }
   ],
   "source": [
    "plt.scatter(df_test.bedroom, df_test['size'])\n",
    "plt.xlabel('Quartos')\n",
    "plt.ylabel('m²')\n",
    "plt.show()"
   ]
  },
  {
   "cell_type": "markdown",
   "metadata": {},
   "source": [
    "Tamanho por banheiro também foi alterado devido às mudanças que acabei de fazer."
   ]
  },
  {
   "cell_type": "code",
   "execution_count": 158,
   "metadata": {},
   "outputs": [
    {
     "data": {
      "image/png": "[encoded data removed]",
      "text/plain": [
       "<Figure size 432x288 with 1 Axes>"
      ]
     },
     "metadata": {
      "needs_background": "light"
     },
     "output_type": "display_data"
    }
   ],
   "source": [
    "# Antes\n",
    "plt.scatter(df_test.bathroom, df_test['size'])\n",
    "plt.xlabel('Banheiros')\n",
    "plt.ylabel('m²')\n",
    "plt.show()"
   ]
  },
  {
   "cell_type": "code",
   "execution_count": 215,
   "metadata": {},
   "outputs": [
    {
     "data": {
      "image/png": "[encoded data removed]",
      "text/plain": [
       "<Figure size 432x288 with 1 Axes>"
      ]
     },
     "metadata": {
      "needs_background": "light"
     },
     "output_type": "display_data"
    }
   ],
   "source": [
    "# Depois\n",
    "plt.scatter(df_test.bathroom, df_test['size'])\n",
    "plt.xlabel('Banheiros')\n",
    "plt.ylabel('m²')\n",
    "plt.show()"
   ]
  },
  {
   "cell_type": "code",
   "execution_count": 216,
   "metadata": {
    "scrolled": true
   },
   "outputs": [
    {
     "data": {
      "text/plain": [
       "0.8226257160688459"
      ]
     },
     "execution_count": 216,
     "metadata": {},
     "output_type": "execute_result"
    }
   ],
   "source": [
    "dummies = pd.get_dummies(df_test.district)\n",
    "data_frame = pd.concat([df_test,dummies], axis=\"columns\")\n",
    "data_frame.drop(columns=\"district\",inplace=True)\n",
    "X = data_frame.drop(columns=\"price\")\n",
    "y = data_frame.price\n",
    "\n",
    "X_train, X_test, y_train, y_test = train_test_split(X, y, test_size=0.2)\n",
    "linear_model  = LinearRegression()\n",
    "linear_model.fit(X_train,y_train)\n",
    "linear_model.score(X_test,y_test)"
   ]
  },
  {
   "cell_type": "code",
   "execution_count": 194,
   "metadata": {},
   "outputs": [
    {
     "name": "stdout",
     "output_type": "stream",
     "text": [
      "0.835756269870022\n"
     ]
    }
   ],
   "source": [
    "cv_results = []\n",
    "\n",
    "for test in range(100):\n",
    "    cross_validation = ShuffleSplit(n_splits=5, test_size=0.2)\n",
    "    cv = cross_val_score(LinearRegression(), X, y, cv=cross_validation)\n",
    "    for value in cv:\n",
    "        cv_results.append(value)\n",
    "\n",
    "print(Average(cv_results))"
   ]
  },
  {
   "cell_type": "markdown",
   "metadata": {},
   "source": [
    "Também não muda muito... então vamos tirar mais kkkk"
   ]
  },
  {
   "cell_type": "code",
   "execution_count": 217,
   "metadata": {},
   "outputs": [
    {
     "data": {
      "image/png": "[encoded data removed]",
      "text/plain": [
       "<Figure size 432x288 with 1 Axes>"
      ]
     },
     "metadata": {
      "needs_background": "light"
     },
     "output_type": "display_data"
    }
   ],
   "source": [
    "plt.scatter(df_test.bathroom, df_test['size'])\n",
    "plt.xlabel('Banheiros')\n",
    "plt.ylabel('m²')\n",
    "plt.show()"
   ]
  },
  {
   "cell_type": "code",
   "execution_count": 218,
   "metadata": {},
   "outputs": [],
   "source": [
    "df_test = df_test[~((df_test.bathroom == 1) & (df_test['size'] > 100))]"
   ]
  },
  {
   "cell_type": "code",
   "execution_count": 219,
   "metadata": {},
   "outputs": [],
   "source": [
    "df_test = df_test[~((df_test.bathroom == 2) & (df_test['size'] > 200))]"
   ]
  },
  {
   "cell_type": "code",
   "execution_count": 220,
   "metadata": {},
   "outputs": [],
   "source": [
    "df_test = df_test[~((df_test.bathroom == 3) & (df_test['size'] < 100))]"
   ]
  },
  {
   "cell_type": "code",
   "execution_count": 221,
   "metadata": {},
   "outputs": [],
   "source": [
    "df_test = df_test[~((df_test.bathroom == 4) & (df_test['size'] < 120))]"
   ]
  },
  {
   "cell_type": "code",
   "execution_count": 224,
   "metadata": {},
   "outputs": [],
   "source": [
    "df_test = df_test[~((df_test.bathroom == 5) & (df_test['size'] < 140))]"
   ]
  },
  {
   "cell_type": "code",
   "execution_count": 225,
   "metadata": {},
   "outputs": [
    {
     "data": {
      "image/png": "[encoded data removed]",
      "text/plain": [
       "<Figure size 432x288 with 1 Axes>"
      ]
     },
     "metadata": {
      "needs_background": "light"
     },
     "output_type": "display_data"
    }
   ],
   "source": [
    "plt.scatter(df_test.bathroom, df_test['size'])\n",
    "plt.xlabel('Banheiros')\n",
    "plt.ylabel('m²')\n",
    "plt.show()"
   ]
  },
  {
   "cell_type": "code",
   "execution_count": 234,
   "metadata": {},
   "outputs": [
    {
     "data": {
      "text/plain": [
       "0.8332437707329378"
      ]
     },
     "execution_count": 234,
     "metadata": {},
     "output_type": "execute_result"
    }
   ],
   "source": [
    "dummies = pd.get_dummies(df_test.district)\n",
    "data_frame = pd.concat([df_test,dummies], axis=\"columns\")\n",
    "data_frame.drop(columns=\"district\",inplace=True)\n",
    "X = data_frame.drop(columns=\"price\")\n",
    "y = data_frame.price\n",
    "\n",
    "X_train, X_test, y_train, y_test = train_test_split(X, y, test_size=0.2)\n",
    "linear_model  = LinearRegression()\n",
    "linear_model.fit(X_train,y_train)\n",
    "linear_model.score(X_test,y_test)"
   ]
  },
  {
   "cell_type": "code",
   "execution_count": 235,
   "metadata": {},
   "outputs": [
    {
     "name": "stdout",
     "output_type": "stream",
     "text": [
      "0.8356233130523109\n"
     ]
    }
   ],
   "source": [
    "cv_results = []\n",
    "\n",
    "for test in range(100):\n",
    "    cross_validation = ShuffleSplit(n_splits=5, test_size=0.2)\n",
    "    cv = cross_val_score(LinearRegression(), X, y, cv=cross_validation)\n",
    "    for value in cv:\n",
    "        cv_results.append(value)\n",
    "\n",
    "print(Average(cv_results))"
   ]
  },
  {
   "cell_type": "code",
   "execution_count": 236,
   "metadata": {},
   "outputs": [
    {
     "data": {
      "text/plain": [
       "(1946, 6)"
      ]
     },
     "execution_count": 236,
     "metadata": {},
     "output_type": "execute_result"
    }
   ],
   "source": [
    "df_test.shape"
   ]
  },
  {
   "cell_type": "markdown",
   "metadata": {},
   "source": [
    "Mesmo resultado, melhorias, mas melhorias mínimas. É provável que (apenas?) um conjunto de dados maior possa trazer um aumento considerável nos scores."
   ]
  },
  {
   "cell_type": "markdown",
   "metadata": {},
   "source": [
    "## Estudos\n",
    "\n",
    "Já que durante os testes a coluna ['garage'] praticamente não afetou as predições, não a usaremos mais. "
   ]
  },
  {
   "cell_type": "code",
   "execution_count": 2,
   "metadata": {},
   "outputs": [
    {
     "data": {
      "text/html": [
       "<div>\n",
       "<style scoped>\n",
       "    .dataframe tbody tr th:only-of-type {\n",
       "        vertical-align: middle;\n",
       "    }\n",
       "\n",
       "    .dataframe tbody tr th {\n",
       "        vertical-align: top;\n",
       "    }\n",
       "\n",
       "    .dataframe thead th {\n",
       "        text-align: right;\n",
       "    }\n",
       "</style>\n",
       "<table border=\"1\" class=\"dataframe\">\n",
       "  <thead>\n",
       "    <tr style=\"text-align: right;\">\n",
       "      <th></th>\n",
       "      <th>price</th>\n",
       "      <th>district</th>\n",
       "      <th>bedroom</th>\n",
       "      <th>bathroom</th>\n",
       "      <th>size</th>\n",
       "    </tr>\n",
       "  </thead>\n",
       "  <tbody>\n",
       "    <tr>\n",
       "      <th>0</th>\n",
       "      <td>174000</td>\n",
       "      <td>Parnamirim</td>\n",
       "      <td>1</td>\n",
       "      <td>1</td>\n",
       "      <td>34.0</td>\n",
       "    </tr>\n",
       "    <tr>\n",
       "      <th>1</th>\n",
       "      <td>180000</td>\n",
       "      <td>Rosarinho</td>\n",
       "      <td>1</td>\n",
       "      <td>1</td>\n",
       "      <td>34.0</td>\n",
       "    </tr>\n",
       "    <tr>\n",
       "      <th>2</th>\n",
       "      <td>190000</td>\n",
       "      <td>Rosarinho</td>\n",
       "      <td>1</td>\n",
       "      <td>1</td>\n",
       "      <td>33.0</td>\n",
       "    </tr>\n",
       "    <tr>\n",
       "      <th>3</th>\n",
       "      <td>190000</td>\n",
       "      <td>Tamarineira</td>\n",
       "      <td>1</td>\n",
       "      <td>1</td>\n",
       "      <td>34.0</td>\n",
       "    </tr>\n",
       "    <tr>\n",
       "      <th>4</th>\n",
       "      <td>195000</td>\n",
       "      <td>Boa Viagem</td>\n",
       "      <td>1</td>\n",
       "      <td>1</td>\n",
       "      <td>30.0</td>\n",
       "    </tr>\n",
       "  </tbody>\n",
       "</table>\n",
       "</div>"
      ],
      "text/plain": [
       "    price     district  bedroom  bathroom  size\n",
       "0  174000   Parnamirim        1         1  34.0\n",
       "1  180000    Rosarinho        1         1  34.0\n",
       "2  190000    Rosarinho        1         1  33.0\n",
       "3  190000  Tamarineira        1         1  34.0\n",
       "4  195000   Boa Viagem        1         1  30.0"
      ]
     },
     "execution_count": 2,
     "metadata": {},
     "output_type": "execute_result"
    }
   ],
   "source": [
    "df = pd.read_pickle('5 Apartamentos para modelagem.pkl')\n",
    "df.reset_index(drop= True, inplace=True)\n",
    "df.drop(columns=[\"price by m²\", \"garage\"],inplace=True)\n",
    "df.head()"
   ]
  },
  {
   "cell_type": "code",
   "execution_count": 3,
   "metadata": {},
   "outputs": [],
   "source": [
    "dummies = pd.get_dummies(df.district)\n",
    "\n",
    "data_frame = pd.concat([df,dummies], axis=\"columns\")\n",
    "data_frame.drop(columns=\"district\",inplace=True)\n",
    "\n",
    "X = data_frame.drop(columns=\"price\")\n",
    "y = data_frame.price"
   ]
  },
  {
   "cell_type": "code",
   "execution_count": 4,
   "metadata": {},
   "outputs": [
    {
     "data": {
      "text/plain": [
       "0.8242419794322273"
      ]
     },
     "execution_count": 4,
     "metadata": {},
     "output_type": "execute_result"
    }
   ],
   "source": [
    "X_train, X_test, y_train, y_test = train_test_split(X, y, test_size=0.2)\n",
    "\n",
    "linear_model  = LinearRegression()\n",
    "\n",
    "linear_model.fit(X_train,y_train)\n",
    "\n",
    "linear_model.score(X_test,y_test)"
   ]
  },
  {
   "cell_type": "markdown",
   "metadata": {},
   "source": [
    "### Diferença entre Preços e Predições"
   ]
  },
  {
   "cell_type": "code",
   "execution_count": 91,
   "metadata": {},
   "outputs": [
    {
     "name": "stdout",
     "output_type": "stream",
     "text": [
      "54 diferenças positivas 54.0%\n",
      "46 diferenças negativas 46.0%\n",
      "Soma das diferenças = -636817\n"
     ]
    }
   ],
   "source": [
    "def subtract_price_predictions(iterations):\n",
    "    positive_difference = []\n",
    "    negative_difference = []\n",
    "    differences = []\n",
    "    \n",
    "    for testing_model in range(iterations):\n",
    "        sampling = X.sample()\n",
    "        prediction = linear_model.predict(sampling)[0]\n",
    "        y_value = data_frame.loc[sampling.index[0]].price\n",
    "\n",
    "        difference = int(y_value - prediction)\n",
    "\n",
    "        differences.append(difference)\n",
    "\n",
    "        if difference > 0:\n",
    "            positive_difference.append(difference)\n",
    "        else:\n",
    "            negative_difference.append(difference)\n",
    "    \n",
    "    positive = len(positive_difference)\n",
    "    negative = len(negative_difference)\n",
    "    \n",
    "    print(f\"{positive} diferenças positivas {round(positive/len(differences)*100, 2)}%\")\n",
    "    print(f\"{negative} diferenças negativas {round(negative/len(differences)*100, 2)}%\")\n",
    "    print(f\"Soma das diferenças = {sum(positive_difference) + sum(negative_difference)}\")\n",
    "    \n",
    "    return differences\n",
    "\n",
    "differences = subtract_price_predictions(100)"
   ]
  },
  {
   "cell_type": "markdown",
   "metadata": {},
   "source": [
    "As predições se afastam tanto \"para cima quanto para baixo\". Mas a soma dos afastamenos não nos diz exatamente se o modelo tende a estimar valores mais altos ou mais baixos que o preço real."
   ]
  },
  {
   "cell_type": "code",
   "execution_count": 68,
   "metadata": {
    "scrolled": true
   },
   "outputs": [
    {
     "name": "stdout",
     "output_type": "stream",
     "text": [
      "57 diferenças positivas 57.0%\n",
      "43 diferenças negativas 43.0%\n",
      "Soma das diferenças = 471271\n"
     ]
    }
   ],
   "source": [
    "subtract_price_predictions(100)"
   ]
  },
  {
   "cell_type": "code",
   "execution_count": 87,
   "metadata": {},
   "outputs": [
    {
     "data": {
      "image/png": "[encoded data removed]",
      "text/plain": [
       "<Figure size 864x432 with 1 Axes>"
      ]
     },
     "metadata": {
      "needs_background": "light"
     },
     "output_type": "display_data"
    }
   ],
   "source": [
    "plt.figure(figsize=(12,6))\n",
    "plt.plot(differences)\n",
    "plt.hlines(y=0, xmin=0, xmax=len(differences), colors='red')\n",
    "plt.show()"
   ]
  },
  {
   "cell_type": "code",
   "execution_count": 71,
   "metadata": {},
   "outputs": [
    {
     "name": "stdout",
     "output_type": "stream",
     "text": [
      "533 diferenças positivas 53.3%\n",
      "467 diferenças negativas 46.7%\n",
      "Soma das diferenças = 1243236\n"
     ]
    }
   ],
   "source": [
    "subtract_price_predictions(1000)"
   ]
  },
  {
   "cell_type": "code",
   "execution_count": 73,
   "metadata": {},
   "outputs": [
    {
     "name": "stdout",
     "output_type": "stream",
     "text": [
      "1037 diferenças positivas 51.85%\n",
      "963 diferenças negativas 48.15%\n",
      "Soma das diferenças = -346109\n"
     ]
    }
   ],
   "source": [
    "subtract_price_predictions(2000)"
   ]
  },
  {
   "cell_type": "code",
   "execution_count": 110,
   "metadata": {},
   "outputs": [
    {
     "name": "stdout",
     "output_type": "stream",
     "text": [
      "11 diferenças positivas 55.0%\n",
      "9 diferenças negativas 45.0%\n",
      "Soma das diferenças = 14672\n"
     ]
    },
    {
     "data": {
      "image/png": "[encoded data removed]",
      "text/plain": [
       "<Figure size 864x432 with 1 Axes>"
      ]
     },
     "metadata": {
      "needs_background": "light"
     },
     "output_type": "display_data"
    }
   ],
   "source": [
    "differences = subtract_price_predictions(20)\n",
    "\n",
    "plt.figure(figsize=(12,6))\n",
    "plt.plot(differences)\n",
    "plt.hlines(y=0, xmin=0, xmax=len(differences), colors='red')\n",
    "plt.xticks(range(len(differences)))\n",
    "plt.show()"
   ]
  },
  {
   "cell_type": "code",
   "execution_count": 125,
   "metadata": {},
   "outputs": [
    {
     "data": {
      "text/plain": [
       "0.8433211556682709"
      ]
     },
     "execution_count": 125,
     "metadata": {},
     "output_type": "execute_result"
    }
   ],
   "source": [
    "dummies = pd.get_dummies(df.district)\n",
    "\n",
    "data_frame = pd.concat([df,dummies], axis=\"columns\")\n",
    "data_frame.drop(columns=\"district\",inplace=True)\n",
    "\n",
    "X = data_frame.drop(columns=\"price\")\n",
    "y = data_frame.price\n",
    "\n",
    "X_train, X_test, y_train, y_test = train_test_split(X, y, test_size=0.2)\n",
    "\n",
    "linear_model  = LinearRegression()\n",
    "\n",
    "linear_model.fit(X_train,y_train)\n",
    "\n",
    "linear_model.score(X_test,y_test)"
   ]
  },
  {
   "cell_type": "markdown",
   "metadata": {},
   "source": [
    "### Eliminando imóveis menores que 50m²"
   ]
  },
  {
   "cell_type": "code",
   "execution_count": 3,
   "metadata": {},
   "outputs": [
    {
     "data": {
      "text/html": [
       "<div>\n",
       "<style scoped>\n",
       "    .dataframe tbody tr th:only-of-type {\n",
       "        vertical-align: middle;\n",
       "    }\n",
       "\n",
       "    .dataframe tbody tr th {\n",
       "        vertical-align: top;\n",
       "    }\n",
       "\n",
       "    .dataframe thead th {\n",
       "        text-align: right;\n",
       "    }\n",
       "</style>\n",
       "<table border=\"1\" class=\"dataframe\">\n",
       "  <thead>\n",
       "    <tr style=\"text-align: right;\">\n",
       "      <th></th>\n",
       "      <th>price</th>\n",
       "      <th>district</th>\n",
       "      <th>bedroom</th>\n",
       "      <th>bathroom</th>\n",
       "      <th>size</th>\n",
       "      <th>garage</th>\n",
       "    </tr>\n",
       "  </thead>\n",
       "  <tbody>\n",
       "    <tr>\n",
       "      <th>0</th>\n",
       "      <td>174000</td>\n",
       "      <td>Parnamirim</td>\n",
       "      <td>1</td>\n",
       "      <td>1</td>\n",
       "      <td>34.0</td>\n",
       "      <td>1</td>\n",
       "    </tr>\n",
       "    <tr>\n",
       "      <th>1</th>\n",
       "      <td>180000</td>\n",
       "      <td>Rosarinho</td>\n",
       "      <td>1</td>\n",
       "      <td>1</td>\n",
       "      <td>34.0</td>\n",
       "      <td>1</td>\n",
       "    </tr>\n",
       "    <tr>\n",
       "      <th>2</th>\n",
       "      <td>190000</td>\n",
       "      <td>Rosarinho</td>\n",
       "      <td>1</td>\n",
       "      <td>1</td>\n",
       "      <td>33.0</td>\n",
       "      <td>1</td>\n",
       "    </tr>\n",
       "    <tr>\n",
       "      <th>3</th>\n",
       "      <td>190000</td>\n",
       "      <td>Tamarineira</td>\n",
       "      <td>1</td>\n",
       "      <td>1</td>\n",
       "      <td>34.0</td>\n",
       "      <td>1</td>\n",
       "    </tr>\n",
       "    <tr>\n",
       "      <th>4</th>\n",
       "      <td>195000</td>\n",
       "      <td>Boa Viagem</td>\n",
       "      <td>1</td>\n",
       "      <td>1</td>\n",
       "      <td>30.0</td>\n",
       "      <td>1</td>\n",
       "    </tr>\n",
       "  </tbody>\n",
       "</table>\n",
       "</div>"
      ],
      "text/plain": [
       "    price     district  bedroom  bathroom  size  garage\n",
       "0  174000   Parnamirim        1         1  34.0       1\n",
       "1  180000    Rosarinho        1         1  34.0       1\n",
       "2  190000    Rosarinho        1         1  33.0       1\n",
       "3  190000  Tamarineira        1         1  34.0       1\n",
       "4  195000   Boa Viagem        1         1  30.0       1"
      ]
     },
     "execution_count": 3,
     "metadata": {},
     "output_type": "execute_result"
    }
   ],
   "source": [
    "df = pd.read_pickle('5 Apartamentos para modelagem.pkl')\n",
    "df.reset_index(drop= True, inplace=True)\n",
    "df.drop(columns=\"price by m²\",inplace=True)\n",
    "df.head()"
   ]
  },
  {
   "cell_type": "code",
   "execution_count": 21,
   "metadata": {},
   "outputs": [],
   "source": [
    "df = df[df['size'] > 50]"
   ]
  },
  {
   "cell_type": "code",
   "execution_count": 4,
   "metadata": {},
   "outputs": [],
   "source": [
    "# one-hot encoding\n",
    "dummies = pd.get_dummies(df.district)\n",
    "# Unindo bairros codificados com as features\n",
    "data_frame = pd.concat([df,dummies], axis=\"columns\")\n",
    "data_frame.drop(columns=\"district\",inplace=True)\n",
    "# Separando features e labels\n",
    "X = data_frame.drop(columns=\"price\")\n",
    "y = data_frame.price"
   ]
  },
  {
   "cell_type": "code",
   "execution_count": 5,
   "metadata": {},
   "outputs": [
    {
     "data": {
      "text/plain": [
       "0.8341288078123293"
      ]
     },
     "execution_count": 5,
     "metadata": {},
     "output_type": "execute_result"
    }
   ],
   "source": [
    "# Separando dados para treino e teste\n",
    "X_train, X_test, y_train, y_test = train_test_split(X, y, test_size=0.2)\n",
    "\n",
    "# Criando instância do Modelo\n",
    "linear_model  = LinearRegression()\n",
    "\n",
    "# Treinando o modelo\n",
    "linear_model.fit(X_train,y_train)\n",
    "\n",
    "# Testando a performance do modelo com dados que ele não viu\n",
    "linear_model.score(X_test,y_test)"
   ]
  },
  {
   "cell_type": "markdown",
   "metadata": {},
   "source": [
    "## Porcentagem de erro. \n",
    "Sem explicações, só pensando... "
   ]
  },
  {
   "cell_type": "code",
   "execution_count": 6,
   "metadata": {},
   "outputs": [],
   "source": [
    "prices = []\n",
    "predictions = []\n",
    "    \n",
    "for testing_model in range(3000):\n",
    "    sampling = X.sample()\n",
    "    prediction = linear_model.predict(sampling)[0]\n",
    "    y_value = data_frame.loc[sampling.index[0]].price\n",
    "\n",
    "    predictions.append(prediction)\n",
    "    prices.append(y_value)"
   ]
  },
  {
   "cell_type": "code",
   "execution_count": 7,
   "metadata": {},
   "outputs": [
    {
     "data": {
      "text/html": [
       "<div>\n",
       "<style scoped>\n",
       "    .dataframe tbody tr th:only-of-type {\n",
       "        vertical-align: middle;\n",
       "    }\n",
       "\n",
       "    .dataframe tbody tr th {\n",
       "        vertical-align: top;\n",
       "    }\n",
       "\n",
       "    .dataframe thead th {\n",
       "        text-align: right;\n",
       "    }\n",
       "</style>\n",
       "<table border=\"1\" class=\"dataframe\">\n",
       "  <thead>\n",
       "    <tr style=\"text-align: right;\">\n",
       "      <th></th>\n",
       "      <th>Prices</th>\n",
       "      <th>Predictions</th>\n",
       "    </tr>\n",
       "  </thead>\n",
       "  <tbody>\n",
       "    <tr>\n",
       "      <th>0</th>\n",
       "      <td>146213.0</td>\n",
       "      <td>217051.5</td>\n",
       "    </tr>\n",
       "    <tr>\n",
       "      <th>1</th>\n",
       "      <td>380000.0</td>\n",
       "      <td>443558.5</td>\n",
       "    </tr>\n",
       "    <tr>\n",
       "      <th>2</th>\n",
       "      <td>340000.0</td>\n",
       "      <td>366472.0</td>\n",
       "    </tr>\n",
       "    <tr>\n",
       "      <th>3</th>\n",
       "      <td>310000.0</td>\n",
       "      <td>334716.0</td>\n",
       "    </tr>\n",
       "    <tr>\n",
       "      <th>4</th>\n",
       "      <td>380000.0</td>\n",
       "      <td>324472.0</td>\n",
       "    </tr>\n",
       "  </tbody>\n",
       "</table>\n",
       "</div>"
      ],
      "text/plain": [
       "     Prices  Predictions\n",
       "0  146213.0     217051.5\n",
       "1  380000.0     443558.5\n",
       "2  340000.0     366472.0\n",
       "3  310000.0     334716.0\n",
       "4  380000.0     324472.0"
      ]
     },
     "execution_count": 7,
     "metadata": {},
     "output_type": "execute_result"
    }
   ],
   "source": [
    "differences = pd.DataFrame({'Prices': prices, 'Predictions': predictions})\n",
    "differences.head()"
   ]
  },
  {
   "cell_type": "code",
   "execution_count": 8,
   "metadata": {},
   "outputs": [
    {
     "data": {
      "text/html": [
       "<div>\n",
       "<style scoped>\n",
       "    .dataframe tbody tr th:only-of-type {\n",
       "        vertical-align: middle;\n",
       "    }\n",
       "\n",
       "    .dataframe tbody tr th {\n",
       "        vertical-align: top;\n",
       "    }\n",
       "\n",
       "    .dataframe thead th {\n",
       "        text-align: right;\n",
       "    }\n",
       "</style>\n",
       "<table border=\"1\" class=\"dataframe\">\n",
       "  <thead>\n",
       "    <tr style=\"text-align: right;\">\n",
       "      <th></th>\n",
       "      <th>Prices</th>\n",
       "      <th>Predictions</th>\n",
       "      <th>Diferença</th>\n",
       "    </tr>\n",
       "  </thead>\n",
       "  <tbody>\n",
       "    <tr>\n",
       "      <th>0</th>\n",
       "      <td>146213.0</td>\n",
       "      <td>217051.5</td>\n",
       "      <td>-70838.5</td>\n",
       "    </tr>\n",
       "    <tr>\n",
       "      <th>1</th>\n",
       "      <td>380000.0</td>\n",
       "      <td>443558.5</td>\n",
       "      <td>-63558.5</td>\n",
       "    </tr>\n",
       "    <tr>\n",
       "      <th>2</th>\n",
       "      <td>340000.0</td>\n",
       "      <td>366472.0</td>\n",
       "      <td>-26472.0</td>\n",
       "    </tr>\n",
       "    <tr>\n",
       "      <th>3</th>\n",
       "      <td>310000.0</td>\n",
       "      <td>334716.0</td>\n",
       "      <td>-24716.0</td>\n",
       "    </tr>\n",
       "    <tr>\n",
       "      <th>4</th>\n",
       "      <td>380000.0</td>\n",
       "      <td>324472.0</td>\n",
       "      <td>55528.0</td>\n",
       "    </tr>\n",
       "  </tbody>\n",
       "</table>\n",
       "</div>"
      ],
      "text/plain": [
       "     Prices  Predictions  Diferença\n",
       "0  146213.0     217051.5   -70838.5\n",
       "1  380000.0     443558.5   -63558.5\n",
       "2  340000.0     366472.0   -26472.0\n",
       "3  310000.0     334716.0   -24716.0\n",
       "4  380000.0     324472.0    55528.0"
      ]
     },
     "execution_count": 8,
     "metadata": {},
     "output_type": "execute_result"
    }
   ],
   "source": [
    "differences['Diferença'] = differences.Prices - differences.Predictions\n",
    "differences.head()"
   ]
  },
  {
   "cell_type": "code",
   "execution_count": 9,
   "metadata": {},
   "outputs": [
    {
     "data": {
      "text/html": [
       "<div>\n",
       "<style scoped>\n",
       "    .dataframe tbody tr th:only-of-type {\n",
       "        vertical-align: middle;\n",
       "    }\n",
       "\n",
       "    .dataframe tbody tr th {\n",
       "        vertical-align: top;\n",
       "    }\n",
       "\n",
       "    .dataframe thead th {\n",
       "        text-align: right;\n",
       "    }\n",
       "</style>\n",
       "<table border=\"1\" class=\"dataframe\">\n",
       "  <thead>\n",
       "    <tr style=\"text-align: right;\">\n",
       "      <th></th>\n",
       "      <th>Prices</th>\n",
       "      <th>Predictions</th>\n",
       "      <th>Diferença</th>\n",
       "      <th>Diferença_absoluta</th>\n",
       "    </tr>\n",
       "  </thead>\n",
       "  <tbody>\n",
       "    <tr>\n",
       "      <th>0</th>\n",
       "      <td>146213.0</td>\n",
       "      <td>217051.5</td>\n",
       "      <td>-70838.5</td>\n",
       "      <td>70838.5</td>\n",
       "    </tr>\n",
       "    <tr>\n",
       "      <th>1</th>\n",
       "      <td>380000.0</td>\n",
       "      <td>443558.5</td>\n",
       "      <td>-63558.5</td>\n",
       "      <td>63558.5</td>\n",
       "    </tr>\n",
       "    <tr>\n",
       "      <th>2</th>\n",
       "      <td>340000.0</td>\n",
       "      <td>366472.0</td>\n",
       "      <td>-26472.0</td>\n",
       "      <td>26472.0</td>\n",
       "    </tr>\n",
       "    <tr>\n",
       "      <th>3</th>\n",
       "      <td>310000.0</td>\n",
       "      <td>334716.0</td>\n",
       "      <td>-24716.0</td>\n",
       "      <td>24716.0</td>\n",
       "    </tr>\n",
       "    <tr>\n",
       "      <th>4</th>\n",
       "      <td>380000.0</td>\n",
       "      <td>324472.0</td>\n",
       "      <td>55528.0</td>\n",
       "      <td>55528.0</td>\n",
       "    </tr>\n",
       "  </tbody>\n",
       "</table>\n",
       "</div>"
      ],
      "text/plain": [
       "     Prices  Predictions  Diferença  Diferença_absoluta\n",
       "0  146213.0     217051.5   -70838.5             70838.5\n",
       "1  380000.0     443558.5   -63558.5             63558.5\n",
       "2  340000.0     366472.0   -26472.0             26472.0\n",
       "3  310000.0     334716.0   -24716.0             24716.0\n",
       "4  380000.0     324472.0    55528.0             55528.0"
      ]
     },
     "execution_count": 9,
     "metadata": {},
     "output_type": "execute_result"
    }
   ],
   "source": [
    "# Módulo para manter as diferenças positivas.\n",
    "differences['Diferença_absoluta'] = np.abs(differences['Diferença'])\n",
    "differences.head()"
   ]
  },
  {
   "cell_type": "code",
   "execution_count": 10,
   "metadata": {},
   "outputs": [
    {
     "data": {
      "text/html": [
       "<div>\n",
       "<style scoped>\n",
       "    .dataframe tbody tr th:only-of-type {\n",
       "        vertical-align: middle;\n",
       "    }\n",
       "\n",
       "    .dataframe tbody tr th {\n",
       "        vertical-align: top;\n",
       "    }\n",
       "\n",
       "    .dataframe thead th {\n",
       "        text-align: right;\n",
       "    }\n",
       "</style>\n",
       "<table border=\"1\" class=\"dataframe\">\n",
       "  <thead>\n",
       "    <tr style=\"text-align: right;\">\n",
       "      <th></th>\n",
       "      <th>Prices</th>\n",
       "      <th>Predictions</th>\n",
       "      <th>Diferença</th>\n",
       "      <th>Diferença_absoluta</th>\n",
       "      <th>Porcentagem_da_diferença</th>\n",
       "    </tr>\n",
       "  </thead>\n",
       "  <tbody>\n",
       "    <tr>\n",
       "      <th>0</th>\n",
       "      <td>146213.0</td>\n",
       "      <td>217051.5</td>\n",
       "      <td>-70838.5</td>\n",
       "      <td>70838.5</td>\n",
       "      <td>0.484488</td>\n",
       "    </tr>\n",
       "    <tr>\n",
       "      <th>1</th>\n",
       "      <td>380000.0</td>\n",
       "      <td>443558.5</td>\n",
       "      <td>-63558.5</td>\n",
       "      <td>63558.5</td>\n",
       "      <td>0.167259</td>\n",
       "    </tr>\n",
       "    <tr>\n",
       "      <th>2</th>\n",
       "      <td>340000.0</td>\n",
       "      <td>366472.0</td>\n",
       "      <td>-26472.0</td>\n",
       "      <td>26472.0</td>\n",
       "      <td>0.077859</td>\n",
       "    </tr>\n",
       "    <tr>\n",
       "      <th>3</th>\n",
       "      <td>310000.0</td>\n",
       "      <td>334716.0</td>\n",
       "      <td>-24716.0</td>\n",
       "      <td>24716.0</td>\n",
       "      <td>0.079729</td>\n",
       "    </tr>\n",
       "    <tr>\n",
       "      <th>4</th>\n",
       "      <td>380000.0</td>\n",
       "      <td>324472.0</td>\n",
       "      <td>55528.0</td>\n",
       "      <td>55528.0</td>\n",
       "      <td>0.146126</td>\n",
       "    </tr>\n",
       "  </tbody>\n",
       "</table>\n",
       "</div>"
      ],
      "text/plain": [
       "     Prices  Predictions  Diferença  Diferença_absoluta  \\\n",
       "0  146213.0     217051.5   -70838.5             70838.5   \n",
       "1  380000.0     443558.5   -63558.5             63558.5   \n",
       "2  340000.0     366472.0   -26472.0             26472.0   \n",
       "3  310000.0     334716.0   -24716.0             24716.0   \n",
       "4  380000.0     324472.0    55528.0             55528.0   \n",
       "\n",
       "   Porcentagem_da_diferença  \n",
       "0                  0.484488  \n",
       "1                  0.167259  \n",
       "2                  0.077859  \n",
       "3                  0.079729  \n",
       "4                  0.146126  "
      ]
     },
     "execution_count": 10,
     "metadata": {},
     "output_type": "execute_result"
    }
   ],
   "source": [
    "differences['Porcentagem_da_diferença'] = differences['Diferença_absoluta'] / differences.Prices\n",
    "differences.head()"
   ]
  },
  {
   "cell_type": "code",
   "execution_count": 11,
   "metadata": {},
   "outputs": [
    {
     "data": {
      "text/plain": [
       "count    3000.000000\n",
       "mean        0.152538\n",
       "std         0.117099\n",
       "min         0.000075\n",
       "25%         0.064093\n",
       "50%         0.125814\n",
       "75%         0.208357\n",
       "max         0.742327\n",
       "Name: Porcentagem_da_diferença, dtype: float64"
      ]
     },
     "execution_count": 11,
     "metadata": {},
     "output_type": "execute_result"
    }
   ],
   "source": [
    "differences['Porcentagem_da_diferença'].describe()"
   ]
  },
  {
   "cell_type": "code",
   "execution_count": 12,
   "metadata": {},
   "outputs": [
    {
     "data": {
      "text/plain": [
       "332"
      ]
     },
     "execution_count": 12,
     "metadata": {},
     "output_type": "execute_result"
    }
   ],
   "source": [
    "len(differences[differences['Porcentagem_da_diferença'] > 0.3])"
   ]
  },
  {
   "cell_type": "code",
   "execution_count": 13,
   "metadata": {},
   "outputs": [
    {
     "data": {
      "text/plain": [
       "2668"
      ]
     },
     "execution_count": 13,
     "metadata": {},
     "output_type": "execute_result"
    }
   ],
   "source": [
    "len(differences[differences['Porcentagem_da_diferença'] < 0.3])"
   ]
  },
  {
   "cell_type": "code",
   "execution_count": 14,
   "metadata": {},
   "outputs": [
    {
     "data": {
      "text/plain": [
       "0.11066666666666666"
      ]
     },
     "execution_count": 14,
     "metadata": {},
     "output_type": "execute_result"
    }
   ],
   "source": [
    "332/differences.shape[0]"
   ]
  },
  {
   "cell_type": "code",
   "execution_count": 15,
   "metadata": {},
   "outputs": [
    {
     "data": {
      "text/plain": [
       "0.8893333333333333"
      ]
     },
     "execution_count": 15,
     "metadata": {},
     "output_type": "execute_result"
    }
   ],
   "source": [
    "2668/differences.shape[0]"
   ]
  },
  {
   "cell_type": "markdown",
   "metadata": {},
   "source": [
    "**Em termos de negócio (R$)**"
   ]
  },
  {
   "cell_type": "code",
   "execution_count": 16,
   "metadata": {},
   "outputs": [
    {
     "data": {
      "text/plain": [
       "count      3000.000000\n",
       "mean      67888.848167\n",
       "std       59568.845817\n",
       "min          23.500000\n",
       "25%       24426.125000\n",
       "50%       52655.250000\n",
       "75%       97695.375000\n",
       "max      507392.000000\n",
       "Name: Diferença_absoluta, dtype: float64"
      ]
     },
     "execution_count": 16,
     "metadata": {},
     "output_type": "execute_result"
    }
   ],
   "source": [
    "differences.Diferença_absoluta.describe()"
   ]
  },
  {
   "cell_type": "code",
   "execution_count": 17,
   "metadata": {
    "scrolled": true
   },
   "outputs": [
    {
     "data": {
      "text/plain": [
       "41264.88693356797"
      ]
     },
     "execution_count": 17,
     "metadata": {},
     "output_type": "execute_result"
    }
   ],
   "source": [
    "not_so_good_error = differences[differences['Diferença_absoluta'] < 100000]\n",
    "not_so_good_error.Diferença_absoluta.mean()"
   ]
  },
  {
   "cell_type": "code",
   "execution_count": 18,
   "metadata": {
    "scrolled": true
   },
   "outputs": [
    {
     "data": {
      "text/plain": [
       "0.7576666666666667"
      ]
     },
     "execution_count": 18,
     "metadata": {},
     "output_type": "execute_result"
    }
   ],
   "source": [
    "len(not_so_good_error) / len(differences)"
   ]
  },
  {
   "cell_type": "code",
   "execution_count": 19,
   "metadata": {},
   "outputs": [
    {
     "data": {
      "text/plain": [
       "count     2273.000000\n",
       "mean     41264.886934\n",
       "std      26841.186451\n",
       "min         23.500000\n",
       "25%      19098.000000\n",
       "50%      36711.500000\n",
       "75%      62435.000000\n",
       "max      99934.000000\n",
       "Name: Diferença_absoluta, dtype: float64"
      ]
     },
     "execution_count": 19,
     "metadata": {},
     "output_type": "execute_result"
    }
   ],
   "source": [
    "not_so_good_error.Diferença_absoluta.describe()"
   ]
  },
  {
   "cell_type": "code",
   "execution_count": 20,
   "metadata": {},
   "outputs": [
    {
     "data": {
      "image/png": "[encoded data removed]",
      "text/plain": [
       "<Figure size 648x360 with 1 Axes>"
      ]
     },
     "metadata": {},
     "output_type": "display_data"
    }
   ],
   "source": [
    "sns.set_style(\"whitegrid\")\n",
    "\n",
    "plt.figure(figsize=(9,5))\n",
    "not_so_good_error.Diferença_absoluta.hist()\n",
    "plt.title(\"Distâncias de R\\$ 15 a R\\$ 100.000\", fontsize=20)\n",
    "plt.xlabel(\"Diferença (Predição - Preço)\", fontsize=14)\n",
    "plt.ylabel(\"Quantidade\", fontsize=14)\n",
    "plt.show()"
   ]
  },
  {
   "cell_type": "code",
   "execution_count": 21,
   "metadata": {},
   "outputs": [
    {
     "data": {
      "image/png": "[encoded data removed]",
      "text/plain": [
       "<Figure size 648x360 with 1 Axes>"
      ]
     },
     "metadata": {},
     "output_type": "display_data"
    }
   ],
   "source": [
    "plt.figure(figsize=(9,5))\n",
    "differences['Diferença_absoluta'].hist(color='grey')\n",
    "plt.title(\"Distâncias em R\\$ das Predições para Preço original\", fontsize=20)\n",
    "plt.xlabel(\"Diferença (Predição - Preço)\", fontsize=14)\n",
    "plt.ylabel(\"Quantidade\", fontsize=14)\n",
    "plt.show()"
   ]
  },
  {
   "cell_type": "code",
   "execution_count": 22,
   "metadata": {},
   "outputs": [
    {
     "data": {
      "text/plain": [
       "24062.372770919068"
      ]
     },
     "execution_count": 22,
     "metadata": {},
     "output_type": "execute_result"
    }
   ],
   "source": [
    "good_error = differences[differences['Diferença_absoluta'] < 50000]\n",
    "\n",
    "good_error.Diferença_absoluta.mean()"
   ]
  },
  {
   "cell_type": "code",
   "execution_count": 23,
   "metadata": {},
   "outputs": [
    {
     "data": {
      "text/plain": [
       "0.486"
      ]
     },
     "execution_count": 23,
     "metadata": {},
     "output_type": "execute_result"
    }
   ],
   "source": [
    "len(good_error) / len(differences)"
   ]
  },
  {
   "cell_type": "code",
   "execution_count": 24,
   "metadata": {},
   "outputs": [
    {
     "data": {
      "text/plain": [
       "0.27166666666666667"
      ]
     },
     "execution_count": 24,
     "metadata": {},
     "output_type": "execute_result"
    }
   ],
   "source": [
    "not_so_good__bad_error =  differences[(differences['Diferença_absoluta'] > 50000) &\n",
    "                                      (differences['Diferença_absoluta'] < 100000)]\n",
    "len(not_so_good__bad_error) / len(differences)"
   ]
  }
 ],
 "metadata": {
  "kernelspec": {
   "display_name": "Python 3",
   "language": "python",
   "name": "python3"
  },
  "language_info": {
   "codemirror_mode": {
    "name": "ipython",
    "version": 3
   },
   "file_extension": ".py",
   "mimetype": "text/x-python",
   "name": "python",
   "nbconvert_exporter": "python",
   "pygments_lexer": "ipython3",
   "version": "3.7.7"
  }
 },
 "nbformat": 4,
 "nbformat_minor": 4
}
