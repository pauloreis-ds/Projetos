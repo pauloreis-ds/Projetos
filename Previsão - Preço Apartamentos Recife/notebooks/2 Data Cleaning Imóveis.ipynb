{
 "cells": [
  {
   "cell_type": "markdown",
   "metadata": {},
   "source": [
    "# Data Cleaning\n",
    "Realizando alterações discutidas no notebook anterior.\n",
    "\n",
    "    ps: Ao criar as novas colunas utilizei ['X_nome'] para se referir às features e ['y_nome'] \n",
    "    ao label (para se assimilar à linguagem padrão machine learning --> X_train, y_train, X_test, y_test)\n",
    "\n",
    "    E também mative bastante o .head() para acompanhar as mudanças.\n",
    "    \n",
    "## Agenda \n",
    "        1º DataFrame\n",
    "            Removendo NaN\n",
    "            1.1 - ['y_price']\n",
    "            1.2 - ['X_location']\n",
    "            1.3 - ['Quarto'] ['Tamanho'] ['Garagem']\n",
    "                1.3.1 ['Quarto']\n",
    "                1.3.2 ['Tamanho']\n",
    "                1.3.3 ['Garagem']\n",
    "            1.4 Salvando Progresso (to_pickle)\n",
    "        2º DataFrame\n",
    "            2.1 - ['y_price']\n",
    "            2.2 - ['X_location']\n",
    "            2.3 - ['Quarto'] ['Banheiro'] ['Garagem'] ['Tamanho']\n",
    "                2.3.1 ['Quarto']\n",
    "                2.3.2 ['Banheiro']\n",
    "                2.3.3 ['Garagem']\n",
    "                2.3.4 ['Tamanho']\n",
    "            2.4 Salvando Progresso (to_pickle)\n",
    "        3º DataFrame\n",
    "            O universo conspira a quem favor?\n",
    "    "
   ]
  },
  {
   "cell_type": "code",
   "execution_count": 1,
   "metadata": {},
   "outputs": [],
   "source": [
    "import pandas as pd"
   ]
  },
  {
   "cell_type": "markdown",
   "metadata": {},
   "source": [
    "## 1º DataFrame "
   ]
  },
  {
   "cell_type": "code",
   "execution_count": 60,
   "metadata": {
    "scrolled": false
   },
   "outputs": [
    {
     "data": {
      "text/html": [
       "<div>\n",
       "<style scoped>\n",
       "    .dataframe tbody tr th:only-of-type {\n",
       "        vertical-align: middle;\n",
       "    }\n",
       "\n",
       "    .dataframe tbody tr th {\n",
       "        vertical-align: top;\n",
       "    }\n",
       "\n",
       "    .dataframe thead th {\n",
       "        text-align: right;\n",
       "    }\n",
       "</style>\n",
       "<table border=\"1\" class=\"dataframe\">\n",
       "  <thead>\n",
       "    <tr style=\"text-align: right;\">\n",
       "      <th></th>\n",
       "      <th>prices</th>\n",
       "      <th>locations</th>\n",
       "      <th>other</th>\n",
       "    </tr>\n",
       "  </thead>\n",
       "  <tbody>\n",
       "    <tr>\n",
       "      <th>0</th>\n",
       "      <td>R$ 750.000</td>\n",
       "      <td>Recife, Boa Viagem</td>\n",
       "      <td>3 quartos | 130m² | 1 vaga</td>\n",
       "    </tr>\n",
       "    <tr>\n",
       "      <th>1</th>\n",
       "      <td>R$ 200.000</td>\n",
       "      <td>Jaboatão dos Guararapes, Candeias</td>\n",
       "      <td>2 quartos | 61m² | 1 vaga</td>\n",
       "    </tr>\n",
       "    <tr>\n",
       "      <th>2</th>\n",
       "      <td>R$ 300.000</td>\n",
       "      <td>Recife, Cordeiro</td>\n",
       "      <td>2 quartos | 50m² | Condomínio: R$ 1 | 1 vaga</td>\n",
       "    </tr>\n",
       "    <tr>\n",
       "      <th>3</th>\n",
       "      <td>R$ 128.000</td>\n",
       "      <td>Paulista, Nossa Senhora do Ó</td>\n",
       "      <td>2 quartos | 63m² | 1 vaga</td>\n",
       "    </tr>\n",
       "    <tr>\n",
       "      <th>4</th>\n",
       "      <td>R$ 125.000</td>\n",
       "      <td>Recife, Areias</td>\n",
       "      <td>2 quartos | 62m² | Condomínio: R$ 140 | 1 vaga</td>\n",
       "    </tr>\n",
       "  </tbody>\n",
       "</table>\n",
       "</div>"
      ],
      "text/plain": [
       "       prices                          locations  \\\n",
       "0  R$ 750.000                 Recife, Boa Viagem   \n",
       "1  R$ 200.000  Jaboatão dos Guararapes, Candeias   \n",
       "2  R$ 300.000                   Recife, Cordeiro   \n",
       "3  R$ 128.000       Paulista, Nossa Senhora do Ó   \n",
       "4  R$ 125.000                     Recife, Areias   \n",
       "\n",
       "                                            other  \n",
       "0                      3 quartos | 130m² | 1 vaga  \n",
       "1                       2 quartos | 61m² | 1 vaga  \n",
       "2    2 quartos | 50m² | Condomínio: R$ 1 | 1 vaga  \n",
       "3                       2 quartos | 63m² | 1 vaga  \n",
       "4  2 quartos | 62m² | Condomínio: R$ 140 | 1 vaga  "
      ]
     },
     "execution_count": 60,
     "metadata": {},
     "output_type": "execute_result"
    }
   ],
   "source": [
    "raw_data = pd.read_csv('0 - Apartamentos Dados (Bruto).csv', index_col=0)\n",
    "raw_data.head()"
   ]
  },
  {
   "cell_type": "markdown",
   "metadata": {},
   "source": [
    "**Removendo NaN.** Quantia pequena, vamos simplesmente eliminar."
   ]
  },
  {
   "cell_type": "code",
   "execution_count": 61,
   "metadata": {},
   "outputs": [
    {
     "data": {
      "text/plain": [
       "prices       82\n",
       "locations     2\n",
       "other         2\n",
       "dtype: int64"
      ]
     },
     "execution_count": 61,
     "metadata": {},
     "output_type": "execute_result"
    }
   ],
   "source": [
    "raw_data.isna().sum()"
   ]
  },
  {
   "cell_type": "code",
   "execution_count": 62,
   "metadata": {},
   "outputs": [],
   "source": [
    "raw_data.dropna(inplace=True)"
   ]
  },
  {
   "cell_type": "markdown",
   "metadata": {},
   "source": [
    "## 1.1 - ['y_price']\n",
    "\n",
    "> Remover \"R$\", os pontos \".\" e converter tipo object para numérico."
   ]
  },
  {
   "cell_type": "code",
   "execution_count": 63,
   "metadata": {},
   "outputs": [],
   "source": [
    "raw_data['y_price'] = raw_data.prices.apply(lambda x: int(x.split()[1].replace('.','').replace('R$','')))"
   ]
  },
  {
   "cell_type": "code",
   "execution_count": 64,
   "metadata": {},
   "outputs": [
    {
     "data": {
      "text/html": [
       "<div>\n",
       "<style scoped>\n",
       "    .dataframe tbody tr th:only-of-type {\n",
       "        vertical-align: middle;\n",
       "    }\n",
       "\n",
       "    .dataframe tbody tr th {\n",
       "        vertical-align: top;\n",
       "    }\n",
       "\n",
       "    .dataframe thead th {\n",
       "        text-align: right;\n",
       "    }\n",
       "</style>\n",
       "<table border=\"1\" class=\"dataframe\">\n",
       "  <thead>\n",
       "    <tr style=\"text-align: right;\">\n",
       "      <th></th>\n",
       "      <th>prices</th>\n",
       "      <th>locations</th>\n",
       "      <th>other</th>\n",
       "      <th>y_price</th>\n",
       "    </tr>\n",
       "  </thead>\n",
       "  <tbody>\n",
       "    <tr>\n",
       "      <th>0</th>\n",
       "      <td>R$ 750.000</td>\n",
       "      <td>Recife, Boa Viagem</td>\n",
       "      <td>3 quartos | 130m² | 1 vaga</td>\n",
       "      <td>750000</td>\n",
       "    </tr>\n",
       "    <tr>\n",
       "      <th>1</th>\n",
       "      <td>R$ 200.000</td>\n",
       "      <td>Jaboatão dos Guararapes, Candeias</td>\n",
       "      <td>2 quartos | 61m² | 1 vaga</td>\n",
       "      <td>200000</td>\n",
       "    </tr>\n",
       "    <tr>\n",
       "      <th>2</th>\n",
       "      <td>R$ 300.000</td>\n",
       "      <td>Recife, Cordeiro</td>\n",
       "      <td>2 quartos | 50m² | Condomínio: R$ 1 | 1 vaga</td>\n",
       "      <td>300000</td>\n",
       "    </tr>\n",
       "    <tr>\n",
       "      <th>3</th>\n",
       "      <td>R$ 128.000</td>\n",
       "      <td>Paulista, Nossa Senhora do Ó</td>\n",
       "      <td>2 quartos | 63m² | 1 vaga</td>\n",
       "      <td>128000</td>\n",
       "    </tr>\n",
       "    <tr>\n",
       "      <th>4</th>\n",
       "      <td>R$ 125.000</td>\n",
       "      <td>Recife, Areias</td>\n",
       "      <td>2 quartos | 62m² | Condomínio: R$ 140 | 1 vaga</td>\n",
       "      <td>125000</td>\n",
       "    </tr>\n",
       "  </tbody>\n",
       "</table>\n",
       "</div>"
      ],
      "text/plain": [
       "       prices                          locations  \\\n",
       "0  R$ 750.000                 Recife, Boa Viagem   \n",
       "1  R$ 200.000  Jaboatão dos Guararapes, Candeias   \n",
       "2  R$ 300.000                   Recife, Cordeiro   \n",
       "3  R$ 128.000       Paulista, Nossa Senhora do Ó   \n",
       "4  R$ 125.000                     Recife, Areias   \n",
       "\n",
       "                                            other  y_price  \n",
       "0                      3 quartos | 130m² | 1 vaga   750000  \n",
       "1                       2 quartos | 61m² | 1 vaga   200000  \n",
       "2    2 quartos | 50m² | Condomínio: R$ 1 | 1 vaga   300000  \n",
       "3                       2 quartos | 63m² | 1 vaga   128000  \n",
       "4  2 quartos | 62m² | Condomínio: R$ 140 | 1 vaga   125000  "
      ]
     },
     "execution_count": 64,
     "metadata": {},
     "output_type": "execute_result"
    }
   ],
   "source": [
    "raw_data.head()"
   ]
  },
  {
   "cell_type": "code",
   "execution_count": 65,
   "metadata": {
    "scrolled": true
   },
   "outputs": [
    {
     "data": {
      "text/plain": [
       "dtype('int64')"
      ]
     },
     "execution_count": 65,
     "metadata": {},
     "output_type": "execute_result"
    }
   ],
   "source": [
    "raw_data.y_price.dtype"
   ]
  },
  {
   "cell_type": "markdown",
   "metadata": {},
   "source": [
    "## 1.2 - ['X_location']\n",
    "\n",
    "> Separar na vírgula para obter os bairros."
   ]
  },
  {
   "cell_type": "code",
   "execution_count": 66,
   "metadata": {},
   "outputs": [],
   "source": [
    "raw_data['X_location'] = raw_data.locations.apply(lambda x: x.split(',')[-1])"
   ]
  },
  {
   "cell_type": "code",
   "execution_count": 67,
   "metadata": {
    "scrolled": true
   },
   "outputs": [
    {
     "data": {
      "text/html": [
       "<div>\n",
       "<style scoped>\n",
       "    .dataframe tbody tr th:only-of-type {\n",
       "        vertical-align: middle;\n",
       "    }\n",
       "\n",
       "    .dataframe tbody tr th {\n",
       "        vertical-align: top;\n",
       "    }\n",
       "\n",
       "    .dataframe thead th {\n",
       "        text-align: right;\n",
       "    }\n",
       "</style>\n",
       "<table border=\"1\" class=\"dataframe\">\n",
       "  <thead>\n",
       "    <tr style=\"text-align: right;\">\n",
       "      <th></th>\n",
       "      <th>prices</th>\n",
       "      <th>locations</th>\n",
       "      <th>other</th>\n",
       "      <th>y_price</th>\n",
       "      <th>X_location</th>\n",
       "    </tr>\n",
       "  </thead>\n",
       "  <tbody>\n",
       "    <tr>\n",
       "      <th>0</th>\n",
       "      <td>R$ 750.000</td>\n",
       "      <td>Recife, Boa Viagem</td>\n",
       "      <td>3 quartos | 130m² | 1 vaga</td>\n",
       "      <td>750000</td>\n",
       "      <td>Boa Viagem</td>\n",
       "    </tr>\n",
       "    <tr>\n",
       "      <th>1</th>\n",
       "      <td>R$ 200.000</td>\n",
       "      <td>Jaboatão dos Guararapes, Candeias</td>\n",
       "      <td>2 quartos | 61m² | 1 vaga</td>\n",
       "      <td>200000</td>\n",
       "      <td>Candeias</td>\n",
       "    </tr>\n",
       "    <tr>\n",
       "      <th>2</th>\n",
       "      <td>R$ 300.000</td>\n",
       "      <td>Recife, Cordeiro</td>\n",
       "      <td>2 quartos | 50m² | Condomínio: R$ 1 | 1 vaga</td>\n",
       "      <td>300000</td>\n",
       "      <td>Cordeiro</td>\n",
       "    </tr>\n",
       "    <tr>\n",
       "      <th>3</th>\n",
       "      <td>R$ 128.000</td>\n",
       "      <td>Paulista, Nossa Senhora do Ó</td>\n",
       "      <td>2 quartos | 63m² | 1 vaga</td>\n",
       "      <td>128000</td>\n",
       "      <td>Nossa Senhora do Ó</td>\n",
       "    </tr>\n",
       "    <tr>\n",
       "      <th>4</th>\n",
       "      <td>R$ 125.000</td>\n",
       "      <td>Recife, Areias</td>\n",
       "      <td>2 quartos | 62m² | Condomínio: R$ 140 | 1 vaga</td>\n",
       "      <td>125000</td>\n",
       "      <td>Areias</td>\n",
       "    </tr>\n",
       "  </tbody>\n",
       "</table>\n",
       "</div>"
      ],
      "text/plain": [
       "       prices                          locations  \\\n",
       "0  R$ 750.000                 Recife, Boa Viagem   \n",
       "1  R$ 200.000  Jaboatão dos Guararapes, Candeias   \n",
       "2  R$ 300.000                   Recife, Cordeiro   \n",
       "3  R$ 128.000       Paulista, Nossa Senhora do Ó   \n",
       "4  R$ 125.000                     Recife, Areias   \n",
       "\n",
       "                                            other  y_price  \\\n",
       "0                      3 quartos | 130m² | 1 vaga   750000   \n",
       "1                       2 quartos | 61m² | 1 vaga   200000   \n",
       "2    2 quartos | 50m² | Condomínio: R$ 1 | 1 vaga   300000   \n",
       "3                       2 quartos | 63m² | 1 vaga   128000   \n",
       "4  2 quartos | 62m² | Condomínio: R$ 140 | 1 vaga   125000   \n",
       "\n",
       "            X_location  \n",
       "0           Boa Viagem  \n",
       "1             Candeias  \n",
       "2             Cordeiro  \n",
       "3   Nossa Senhora do Ó  \n",
       "4               Areias  "
      ]
     },
     "execution_count": 67,
     "metadata": {},
     "output_type": "execute_result"
    }
   ],
   "source": [
    "raw_data.head()"
   ]
  },
  {
   "cell_type": "markdown",
   "metadata": {},
   "source": [
    "## 1.3 - ['Quarto'] ['Tamanho'] ['Garagem']\n",
    "\n",
    "> \" _O \"|\" será bem útil para separarmos os elementos. O real problema é o fato de às vezes essa divisão resultar em 3 ou 4 elementos._ \"\n",
    "\n",
    "        3 quartos     | 130m²     | 1 vaga\n",
    "        2 quartos     | 50m²      | Condomínio: R$ 1     | 1 vaga\n",
    "        \n",
    "### 1.3.1 ['Quarto']\n",
    "\n",
    "ps: problemas e mais problemas kkkk\n",
    "\n",
    "> _ValueError: invalid literal for int() with base 10: **'0m²'**_"
   ]
  },
  {
   "cell_type": "code",
   "execution_count": 68,
   "metadata": {},
   "outputs": [
    {
     "ename": "ValueError",
     "evalue": "invalid literal for int() with base 10: '0m²'",
     "output_type": "error",
     "traceback": [
      "\u001b[1;31m---------------------------------------------------------------------------\u001b[0m",
      "\u001b[1;31mValueError\u001b[0m                                Traceback (most recent call last)",
      "\u001b[1;32m<ipython-input-68-af2135b8b94e>\u001b[0m in \u001b[0;36m<module>\u001b[1;34m\u001b[0m\n\u001b[1;32m----> 1\u001b[1;33m \u001b[0mraw_data\u001b[0m\u001b[1;33m.\u001b[0m\u001b[0mother\u001b[0m\u001b[1;33m.\u001b[0m\u001b[0mapply\u001b[0m\u001b[1;33m(\u001b[0m\u001b[1;32mlambda\u001b[0m \u001b[0mx\u001b[0m\u001b[1;33m:\u001b[0m \u001b[0mint\u001b[0m\u001b[1;33m(\u001b[0m\u001b[0mx\u001b[0m\u001b[1;33m.\u001b[0m\u001b[0msplit\u001b[0m\u001b[1;33m(\u001b[0m\u001b[1;34m'|'\u001b[0m\u001b[1;33m)\u001b[0m\u001b[1;33m[\u001b[0m\u001b[1;36m0\u001b[0m\u001b[1;33m]\u001b[0m\u001b[1;33m.\u001b[0m\u001b[0msplit\u001b[0m\u001b[1;33m(\u001b[0m\u001b[1;34m\" \"\u001b[0m\u001b[1;33m)\u001b[0m\u001b[1;33m[\u001b[0m\u001b[1;36m0\u001b[0m\u001b[1;33m]\u001b[0m\u001b[1;33m)\u001b[0m\u001b[1;33m)\u001b[0m\u001b[1;33m\u001b[0m\u001b[1;33m\u001b[0m\u001b[0m\n\u001b[0m",
      "\u001b[1;32m~\\.conda\\envs\\tenserflow\\lib\\site-packages\\pandas\\core\\series.py\u001b[0m in \u001b[0;36mapply\u001b[1;34m(self, func, convert_dtype, args, **kwds)\u001b[0m\n\u001b[0;32m   3846\u001b[0m             \u001b[1;32melse\u001b[0m\u001b[1;33m:\u001b[0m\u001b[1;33m\u001b[0m\u001b[1;33m\u001b[0m\u001b[0m\n\u001b[0;32m   3847\u001b[0m                 \u001b[0mvalues\u001b[0m \u001b[1;33m=\u001b[0m \u001b[0mself\u001b[0m\u001b[1;33m.\u001b[0m\u001b[0mastype\u001b[0m\u001b[1;33m(\u001b[0m\u001b[0mobject\u001b[0m\u001b[1;33m)\u001b[0m\u001b[1;33m.\u001b[0m\u001b[0mvalues\u001b[0m\u001b[1;33m\u001b[0m\u001b[1;33m\u001b[0m\u001b[0m\n\u001b[1;32m-> 3848\u001b[1;33m                 \u001b[0mmapped\u001b[0m \u001b[1;33m=\u001b[0m \u001b[0mlib\u001b[0m\u001b[1;33m.\u001b[0m\u001b[0mmap_infer\u001b[0m\u001b[1;33m(\u001b[0m\u001b[0mvalues\u001b[0m\u001b[1;33m,\u001b[0m \u001b[0mf\u001b[0m\u001b[1;33m,\u001b[0m \u001b[0mconvert\u001b[0m\u001b[1;33m=\u001b[0m\u001b[0mconvert_dtype\u001b[0m\u001b[1;33m)\u001b[0m\u001b[1;33m\u001b[0m\u001b[1;33m\u001b[0m\u001b[0m\n\u001b[0m\u001b[0;32m   3849\u001b[0m \u001b[1;33m\u001b[0m\u001b[0m\n\u001b[0;32m   3850\u001b[0m         \u001b[1;32mif\u001b[0m \u001b[0mlen\u001b[0m\u001b[1;33m(\u001b[0m\u001b[0mmapped\u001b[0m\u001b[1;33m)\u001b[0m \u001b[1;32mand\u001b[0m \u001b[0misinstance\u001b[0m\u001b[1;33m(\u001b[0m\u001b[0mmapped\u001b[0m\u001b[1;33m[\u001b[0m\u001b[1;36m0\u001b[0m\u001b[1;33m]\u001b[0m\u001b[1;33m,\u001b[0m \u001b[0mSeries\u001b[0m\u001b[1;33m)\u001b[0m\u001b[1;33m:\u001b[0m\u001b[1;33m\u001b[0m\u001b[1;33m\u001b[0m\u001b[0m\n",
      "\u001b[1;32mpandas\\_libs\\lib.pyx\u001b[0m in \u001b[0;36mpandas._libs.lib.map_infer\u001b[1;34m()\u001b[0m\n",
      "\u001b[1;32m<ipython-input-68-af2135b8b94e>\u001b[0m in \u001b[0;36m<lambda>\u001b[1;34m(x)\u001b[0m\n\u001b[1;32m----> 1\u001b[1;33m \u001b[0mraw_data\u001b[0m\u001b[1;33m.\u001b[0m\u001b[0mother\u001b[0m\u001b[1;33m.\u001b[0m\u001b[0mapply\u001b[0m\u001b[1;33m(\u001b[0m\u001b[1;32mlambda\u001b[0m \u001b[0mx\u001b[0m\u001b[1;33m:\u001b[0m \u001b[0mint\u001b[0m\u001b[1;33m(\u001b[0m\u001b[0mx\u001b[0m\u001b[1;33m.\u001b[0m\u001b[0msplit\u001b[0m\u001b[1;33m(\u001b[0m\u001b[1;34m'|'\u001b[0m\u001b[1;33m)\u001b[0m\u001b[1;33m[\u001b[0m\u001b[1;36m0\u001b[0m\u001b[1;33m]\u001b[0m\u001b[1;33m.\u001b[0m\u001b[0msplit\u001b[0m\u001b[1;33m(\u001b[0m\u001b[1;34m\" \"\u001b[0m\u001b[1;33m)\u001b[0m\u001b[1;33m[\u001b[0m\u001b[1;36m0\u001b[0m\u001b[1;33m]\u001b[0m\u001b[1;33m)\u001b[0m\u001b[1;33m)\u001b[0m\u001b[1;33m\u001b[0m\u001b[1;33m\u001b[0m\u001b[0m\n\u001b[0m",
      "\u001b[1;31mValueError\u001b[0m: invalid literal for int() with base 10: '0m²'"
     ]
    }
   ],
   "source": [
    "raw_data.other.apply(lambda x: int(x.split('|')[0].split(\" \")[0]))"
   ]
  },
  {
   "cell_type": "markdown",
   "metadata": {},
   "source": [
    "**Há até um certa quantia deles**"
   ]
  },
  {
   "cell_type": "code",
   "execution_count": 69,
   "metadata": {
    "scrolled": true
   },
   "outputs": [
    {
     "data": {
      "text/plain": [
       "prices                 R$ 120.000\n",
       "locations     Paulista, Jaguarana\n",
       "other                         0m²\n",
       "y_price                    120000\n",
       "X_location              Jaguarana\n",
       "Name: 38, dtype: object"
      ]
     },
     "execution_count": 69,
     "metadata": {},
     "output_type": "execute_result"
    }
   ],
   "source": [
    "raw_data.loc[38] # other (-.-)"
   ]
  },
  {
   "cell_type": "code",
   "execution_count": 70,
   "metadata": {},
   "outputs": [
    {
     "data": {
      "text/plain": [
       "37"
      ]
     },
     "execution_count": 70,
     "metadata": {},
     "output_type": "execute_result"
    }
   ],
   "source": [
    "len(raw_data[raw_data.other == \"0m²\"])"
   ]
  },
  {
   "cell_type": "code",
   "execution_count": 71,
   "metadata": {},
   "outputs": [
    {
     "data": {
      "text/html": [
       "<div>\n",
       "<style scoped>\n",
       "    .dataframe tbody tr th:only-of-type {\n",
       "        vertical-align: middle;\n",
       "    }\n",
       "\n",
       "    .dataframe tbody tr th {\n",
       "        vertical-align: top;\n",
       "    }\n",
       "\n",
       "    .dataframe thead th {\n",
       "        text-align: right;\n",
       "    }\n",
       "</style>\n",
       "<table border=\"1\" class=\"dataframe\">\n",
       "  <thead>\n",
       "    <tr style=\"text-align: right;\">\n",
       "      <th></th>\n",
       "      <th>prices</th>\n",
       "      <th>locations</th>\n",
       "      <th>other</th>\n",
       "      <th>y_price</th>\n",
       "      <th>X_location</th>\n",
       "    </tr>\n",
       "  </thead>\n",
       "  <tbody>\n",
       "    <tr>\n",
       "      <th>38</th>\n",
       "      <td>R$ 120.000</td>\n",
       "      <td>Paulista, Jaguarana</td>\n",
       "      <td>0m²</td>\n",
       "      <td>120000</td>\n",
       "      <td>Jaguarana</td>\n",
       "    </tr>\n",
       "    <tr>\n",
       "      <th>141</th>\n",
       "      <td>R$ 130.000</td>\n",
       "      <td>Recife, Várzea</td>\n",
       "      <td>0m²</td>\n",
       "      <td>130000</td>\n",
       "      <td>Várzea</td>\n",
       "    </tr>\n",
       "    <tr>\n",
       "      <th>146</th>\n",
       "      <td>R$ 369.000</td>\n",
       "      <td>Recife, Boa Viagem</td>\n",
       "      <td>0m²</td>\n",
       "      <td>369000</td>\n",
       "      <td>Boa Viagem</td>\n",
       "    </tr>\n",
       "    <tr>\n",
       "      <th>148</th>\n",
       "      <td>R$ 280.000</td>\n",
       "      <td>Jaboatão dos Guararapes, Piedade</td>\n",
       "      <td>0m²</td>\n",
       "      <td>280000</td>\n",
       "      <td>Piedade</td>\n",
       "    </tr>\n",
       "    <tr>\n",
       "      <th>149</th>\n",
       "      <td>R$ 336.000</td>\n",
       "      <td>Recife, Boa Viagem</td>\n",
       "      <td>0m²</td>\n",
       "      <td>336000</td>\n",
       "      <td>Boa Viagem</td>\n",
       "    </tr>\n",
       "  </tbody>\n",
       "</table>\n",
       "</div>"
      ],
      "text/plain": [
       "         prices                         locations other  y_price   X_location\n",
       "38   R$ 120.000               Paulista, Jaguarana   0m²   120000    Jaguarana\n",
       "141  R$ 130.000                    Recife, Várzea   0m²   130000       Várzea\n",
       "146  R$ 369.000                Recife, Boa Viagem   0m²   369000   Boa Viagem\n",
       "148  R$ 280.000  Jaboatão dos Guararapes, Piedade   0m²   280000      Piedade\n",
       "149  R$ 336.000                Recife, Boa Viagem   0m²   336000   Boa Viagem"
      ]
     },
     "execution_count": 71,
     "metadata": {},
     "output_type": "execute_result"
    }
   ],
   "source": [
    "raw_data[raw_data.other == \"0m²\"].head()"
   ]
  },
  {
   "cell_type": "code",
   "execution_count": 72,
   "metadata": {},
   "outputs": [],
   "source": [
    "raw_data = raw_data[raw_data.other != \"0m²\"] # Eliminando-os"
   ]
  },
  {
   "cell_type": "code",
   "execution_count": 88,
   "metadata": {},
   "outputs": [],
   "source": [
    "raw_data['X_Bedroom'] = raw_data.other.apply(lambda x: x.split('|')[0].split(\" \")[0])"
   ]
  },
  {
   "cell_type": "markdown",
   "metadata": {},
   "source": [
    "**Sem quartos (mas esses dados no lugar '18m²', '67m²', '160m²' ...) ... deletar.**"
   ]
  },
  {
   "cell_type": "code",
   "execution_count": 90,
   "metadata": {},
   "outputs": [
    {
     "data": {
      "text/plain": [
       "array(['3', '2', '1', '4', '5', '0m²', '18m²', '67m²', '160m²', '93m²',\n",
       "       '47m²', '28m²', '130m²', '134m²', '36m²', '45m²'], dtype=object)"
      ]
     },
     "execution_count": 90,
     "metadata": {},
     "output_type": "execute_result"
    }
   ],
   "source": [
    "raw_data.X_Bedroom.unique()"
   ]
  },
  {
   "cell_type": "code",
   "execution_count": 96,
   "metadata": {},
   "outputs": [
    {
     "data": {
      "text/html": [
       "<div>\n",
       "<style scoped>\n",
       "    .dataframe tbody tr th:only-of-type {\n",
       "        vertical-align: middle;\n",
       "    }\n",
       "\n",
       "    .dataframe tbody tr th {\n",
       "        vertical-align: top;\n",
       "    }\n",
       "\n",
       "    .dataframe thead th {\n",
       "        text-align: right;\n",
       "    }\n",
       "</style>\n",
       "<table border=\"1\" class=\"dataframe\">\n",
       "  <thead>\n",
       "    <tr style=\"text-align: right;\">\n",
       "      <th></th>\n",
       "      <th>prices</th>\n",
       "      <th>locations</th>\n",
       "      <th>other</th>\n",
       "      <th>y_price</th>\n",
       "      <th>X_location</th>\n",
       "      <th>X_Bedroom</th>\n",
       "    </tr>\n",
       "  </thead>\n",
       "  <tbody>\n",
       "    <tr>\n",
       "      <th>269</th>\n",
       "      <td>R$ 270.000</td>\n",
       "      <td>Recife, Caxangá</td>\n",
       "      <td>0m² | Condomínio: R$ 0</td>\n",
       "      <td>270000</td>\n",
       "      <td>Caxangá</td>\n",
       "      <td>0m²</td>\n",
       "    </tr>\n",
       "    <tr>\n",
       "      <th>1200</th>\n",
       "      <td>R$ 269.000R$ 305.000</td>\n",
       "      <td>Recife, Imbiribeira</td>\n",
       "      <td>0m² | Condomínio: R$ 1.000</td>\n",
       "      <td>269000</td>\n",
       "      <td>Imbiribeira</td>\n",
       "      <td>0m²</td>\n",
       "    </tr>\n",
       "    <tr>\n",
       "      <th>3875</th>\n",
       "      <td>R$ 125.000</td>\n",
       "      <td>Paulista, Pau Amarelo</td>\n",
       "      <td>0m² | Condomínio: R$ 1.061</td>\n",
       "      <td>125000</td>\n",
       "      <td>Pau Amarelo</td>\n",
       "      <td>0m²</td>\n",
       "    </tr>\n",
       "    <tr>\n",
       "      <th>4682</th>\n",
       "      <td>R$ 270.000</td>\n",
       "      <td>Recife, Encruzilhada</td>\n",
       "      <td>0m² | Condomínio: R$ 400</td>\n",
       "      <td>270000</td>\n",
       "      <td>Encruzilhada</td>\n",
       "      <td>0m²</td>\n",
       "    </tr>\n",
       "  </tbody>\n",
       "</table>\n",
       "</div>"
      ],
      "text/plain": [
       "                    prices              locations                       other  \\\n",
       "269             R$ 270.000        Recife, Caxangá      0m² | Condomínio: R$ 0   \n",
       "1200  R$ 269.000R$ 305.000    Recife, Imbiribeira  0m² | Condomínio: R$ 1.000   \n",
       "3875            R$ 125.000  Paulista, Pau Amarelo  0m² | Condomínio: R$ 1.061   \n",
       "4682            R$ 270.000   Recife, Encruzilhada    0m² | Condomínio: R$ 400   \n",
       "\n",
       "      y_price     X_location X_Bedroom  \n",
       "269    270000        Caxangá       0m²  \n",
       "1200   269000    Imbiribeira       0m²  \n",
       "3875   125000    Pau Amarelo       0m²  \n",
       "4682   270000   Encruzilhada       0m²  "
      ]
     },
     "execution_count": 96,
     "metadata": {},
     "output_type": "execute_result"
    }
   ],
   "source": [
    "raw_data[raw_data.X_Bedroom == '0m²']"
   ]
  },
  {
   "cell_type": "code",
   "execution_count": 102,
   "metadata": {},
   "outputs": [
    {
     "data": {
      "text/plain": [
       "[269, 1200, 3875, 4682, 1027]"
      ]
     },
     "execution_count": 102,
     "metadata": {},
     "output_type": "execute_result"
    }
   ],
   "source": [
    "# Descobrindo índices das linhas a serem eliminadas\n",
    "\n",
    "values_to_delete = ['0m²', '18m²', '67m²', '160m²', '93m²','47m²', '28m²', '130m²', '134m²', '36m²', '45m²']\n",
    "indexes_to_delete = []\n",
    "\n",
    "for value in raw_data.X_Bedroom:\n",
    "    if value in values_to_delete:\n",
    "        for index in raw_data[raw_data.X_Bedroom == value].index:\n",
    "            indexes_to_delete.append(index)  \n",
    "\n",
    "indexes_to_delete[:5]"
   ]
  },
  {
   "cell_type": "code",
   "execution_count": 103,
   "metadata": {},
   "outputs": [],
   "source": [
    "raw_data.drop(index=indexes_to_delete, inplace=True)"
   ]
  },
  {
   "cell_type": "code",
   "execution_count": 105,
   "metadata": {},
   "outputs": [],
   "source": [
    "raw_data.X_Bedroom = raw_data.X_Bedroom.apply(lambda x: int(x))"
   ]
  },
  {
   "cell_type": "code",
   "execution_count": 108,
   "metadata": {},
   "outputs": [
    {
     "data": {
      "text/plain": [
       "array([3, 2, 1, 4, 5], dtype=int64)"
      ]
     },
     "execution_count": 108,
     "metadata": {},
     "output_type": "execute_result"
    }
   ],
   "source": [
    "raw_data.X_Bedroom.unique()"
   ]
  },
  {
   "cell_type": "code",
   "execution_count": 109,
   "metadata": {},
   "outputs": [
    {
     "data": {
      "text/html": [
       "<div>\n",
       "<style scoped>\n",
       "    .dataframe tbody tr th:only-of-type {\n",
       "        vertical-align: middle;\n",
       "    }\n",
       "\n",
       "    .dataframe tbody tr th {\n",
       "        vertical-align: top;\n",
       "    }\n",
       "\n",
       "    .dataframe thead th {\n",
       "        text-align: right;\n",
       "    }\n",
       "</style>\n",
       "<table border=\"1\" class=\"dataframe\">\n",
       "  <thead>\n",
       "    <tr style=\"text-align: right;\">\n",
       "      <th></th>\n",
       "      <th>prices</th>\n",
       "      <th>locations</th>\n",
       "      <th>other</th>\n",
       "      <th>y_price</th>\n",
       "      <th>X_location</th>\n",
       "      <th>X_Bedroom</th>\n",
       "    </tr>\n",
       "  </thead>\n",
       "  <tbody>\n",
       "    <tr>\n",
       "      <th>0</th>\n",
       "      <td>R$ 750.000</td>\n",
       "      <td>Recife, Boa Viagem</td>\n",
       "      <td>3 quartos | 130m² | 1 vaga</td>\n",
       "      <td>750000</td>\n",
       "      <td>Boa Viagem</td>\n",
       "      <td>3</td>\n",
       "    </tr>\n",
       "    <tr>\n",
       "      <th>1</th>\n",
       "      <td>R$ 200.000</td>\n",
       "      <td>Jaboatão dos Guararapes, Candeias</td>\n",
       "      <td>2 quartos | 61m² | 1 vaga</td>\n",
       "      <td>200000</td>\n",
       "      <td>Candeias</td>\n",
       "      <td>2</td>\n",
       "    </tr>\n",
       "    <tr>\n",
       "      <th>2</th>\n",
       "      <td>R$ 300.000</td>\n",
       "      <td>Recife, Cordeiro</td>\n",
       "      <td>2 quartos | 50m² | Condomínio: R$ 1 | 1 vaga</td>\n",
       "      <td>300000</td>\n",
       "      <td>Cordeiro</td>\n",
       "      <td>2</td>\n",
       "    </tr>\n",
       "    <tr>\n",
       "      <th>3</th>\n",
       "      <td>R$ 128.000</td>\n",
       "      <td>Paulista, Nossa Senhora do Ó</td>\n",
       "      <td>2 quartos | 63m² | 1 vaga</td>\n",
       "      <td>128000</td>\n",
       "      <td>Nossa Senhora do Ó</td>\n",
       "      <td>2</td>\n",
       "    </tr>\n",
       "    <tr>\n",
       "      <th>4</th>\n",
       "      <td>R$ 125.000</td>\n",
       "      <td>Recife, Areias</td>\n",
       "      <td>2 quartos | 62m² | Condomínio: R$ 140 | 1 vaga</td>\n",
       "      <td>125000</td>\n",
       "      <td>Areias</td>\n",
       "      <td>2</td>\n",
       "    </tr>\n",
       "  </tbody>\n",
       "</table>\n",
       "</div>"
      ],
      "text/plain": [
       "       prices                          locations  \\\n",
       "0  R$ 750.000                 Recife, Boa Viagem   \n",
       "1  R$ 200.000  Jaboatão dos Guararapes, Candeias   \n",
       "2  R$ 300.000                   Recife, Cordeiro   \n",
       "3  R$ 128.000       Paulista, Nossa Senhora do Ó   \n",
       "4  R$ 125.000                     Recife, Areias   \n",
       "\n",
       "                                            other  y_price  \\\n",
       "0                      3 quartos | 130m² | 1 vaga   750000   \n",
       "1                       2 quartos | 61m² | 1 vaga   200000   \n",
       "2    2 quartos | 50m² | Condomínio: R$ 1 | 1 vaga   300000   \n",
       "3                       2 quartos | 63m² | 1 vaga   128000   \n",
       "4  2 quartos | 62m² | Condomínio: R$ 140 | 1 vaga   125000   \n",
       "\n",
       "            X_location  X_Bedroom  \n",
       "0           Boa Viagem          3  \n",
       "1             Candeias          2  \n",
       "2             Cordeiro          2  \n",
       "3   Nossa Senhora do Ó          2  \n",
       "4               Areias          2  "
      ]
     },
     "execution_count": 109,
     "metadata": {},
     "output_type": "execute_result"
    }
   ],
   "source": [
    "raw_data.head()"
   ]
  },
  {
   "cell_type": "markdown",
   "metadata": {},
   "source": [
    "### 1.3.2 ['Tamanho']\n",
    "\n",
    "hummm... mais valores para deixarmos de lado."
   ]
  },
  {
   "cell_type": "code",
   "execution_count": 144,
   "metadata": {},
   "outputs": [],
   "source": [
    "raw_data['X_size'] = raw_data.other.apply(lambda x: x.split('m²')[0].split(\"|\")[-1])"
   ]
  },
  {
   "cell_type": "code",
   "execution_count": 149,
   "metadata": {},
   "outputs": [
    {
     "data": {
      "text/plain": [
       "array([' 240', ' 196', ' 239', ' 6652', ' 253', ' 6668', ' 257',\n",
       "       ' 4 vagas', ' 5548', ' Condomínio: R$ 140', ' 420', ' 771', ' 191',\n",
       "       ' 1360', ' 141', ' 166', ' 178', ' 154', ' 306', ' 213'],\n",
       "      dtype=object)"
      ]
     },
     "execution_count": 149,
     "metadata": {},
     "output_type": "execute_result"
    }
   ],
   "source": [
    "raw_data.X_size.unique()[-20:] "
   ]
  },
  {
   "cell_type": "code",
   "execution_count": 164,
   "metadata": {},
   "outputs": [
    {
     "name": "stdout",
     "output_type": "stream",
     "text": [
      " 1 vaga\n",
      " 2 vagas\n",
      "1 quarto\n",
      " 3 vagas\n",
      "2 quartos\n",
      " 5 ou mais vaga\n",
      " Condomínio: R$ 370\n",
      "3 quartos\n",
      " Condomínio: R$ 10\n",
      " 4 vagas\n",
      " Condomínio: R$ 140\n"
     ]
    }
   ],
   "source": [
    "values_to_delete = []\n",
    "\n",
    "for item in raw_data.X_size.unique():\n",
    "    try:\n",
    "        int(item)\n",
    "    except:\n",
    "        print(item)\n",
    "        values_to_delete.append(item)"
   ]
  },
  {
   "cell_type": "code",
   "execution_count": 165,
   "metadata": {},
   "outputs": [
    {
     "data": {
      "text/plain": [
       "[44, 70, 75, 107, 120]"
      ]
     },
     "execution_count": 165,
     "metadata": {},
     "output_type": "execute_result"
    }
   ],
   "source": [
    "indexes_to_delete = []\n",
    "\n",
    "for value in raw_data.X_size:\n",
    "    if value in values_to_delete:\n",
    "        for index in raw_data[raw_data.X_size == value].index:\n",
    "            indexes_to_delete.append(index)  \n",
    "\n",
    "indexes_to_delete[:5]"
   ]
  },
  {
   "cell_type": "code",
   "execution_count": 170,
   "metadata": {},
   "outputs": [],
   "source": [
    "raw_data.drop(index=indexes_to_delete, inplace=True)"
   ]
  },
  {
   "cell_type": "code",
   "execution_count": 174,
   "metadata": {},
   "outputs": [],
   "source": [
    "raw_data.X_size = raw_data.X_size.apply(lambda x: int(x))"
   ]
  },
  {
   "cell_type": "code",
   "execution_count": 177,
   "metadata": {},
   "outputs": [
    {
     "data": {
      "text/plain": [
       "dtype('int64')"
      ]
     },
     "execution_count": 177,
     "metadata": {},
     "output_type": "execute_result"
    }
   ],
   "source": [
    "raw_data.X_size.dtypes"
   ]
  },
  {
   "cell_type": "markdown",
   "metadata": {},
   "source": [
    "### 1.3.3 ['Garagem']\n",
    "\n",
    "Aplicaremos o mesmo pensamento da parte anterior para remover os valores esquisitos."
   ]
  },
  {
   "cell_type": "code",
   "execution_count": 190,
   "metadata": {},
   "outputs": [],
   "source": [
    "raw_data['X_garage'] = raw_data.other.apply(lambda x: x.split('|')[-1].split(\" \")[1])"
   ]
  },
  {
   "cell_type": "code",
   "execution_count": 192,
   "metadata": {},
   "outputs": [
    {
     "data": {
      "text/plain": [
       "array(['1', '2', '3', '36m²', '116m²', 'Condomínio:', '120m²', '4', '5',\n",
       "       '140m²', '65m²', '29m²', '400m²', '60m²', '58m²', '61m²', '54m²',\n",
       "       '45m²', '56m²', '40m²', '0m²', '27m²', '57m²', '53m²', '24m²',\n",
       "       '110m²', '447m²', '41m²', '312m²', '50m²', '18m²', '33m²', '150m²',\n",
       "       '303m²', '107m²', '136m²', '35m²', '42m²', '152m²', '74m²',\n",
       "       '212m²', '25m²', '207m²', '46m²', '70m²', '44m²', '37m²', '43m²',\n",
       "       '48m²', '63m²', '100m²', '64m²', '75m²', '95m²', '90m²', '770m²',\n",
       "       '185m²', '147m²', '71m²', '59m²', '68m²', '84m²', '72m²', '80m²',\n",
       "       '112m²', '31m²', '62m²', '30m²', '78m²', '73m²', '55m²', '268m²'],\n",
       "      dtype=object)"
      ]
     },
     "execution_count": 192,
     "metadata": {},
     "output_type": "execute_result"
    }
   ],
   "source": [
    "raw_data.X_garage.unique()"
   ]
  },
  {
   "cell_type": "code",
   "execution_count": 223,
   "metadata": {},
   "outputs": [
    {
     "data": {
      "text/plain": [
       "[36, 843, 1142, 2419, 2461]"
      ]
     },
     "execution_count": 223,
     "metadata": {},
     "output_type": "execute_result"
    }
   ],
   "source": [
    "values_to_delete = ['36m²', '116m²', 'Condomínio:', '120m²', '140m²', '65m²', '29m²', '400m²',\n",
    "                    '60m²', '58m²', '61m²', '54m²','45m²', '56m²', '40m²', '0m²', '27m²', '57m²',\n",
    "                    '53m²', '24m²','110m²', '447m²', '41m²', '312m²', '50m²', '18m²', '33m²',\n",
    "                    '150m²','303m²', '107m²', '136m²', '35m²', '42m²', '152m²', '74m²', '212m²',\n",
    "                    '25m²', '207m²', '46m²', '70m²', '44m²', '37m²', '43m²','48m²', '63m²', \n",
    "                    '100m²', '64m²', '75m²', '95m²', '90m²', '770m²','185m²', '147m²', '71m²',\n",
    "                    '59m²', '68m²', '84m²', '72m²', '80m²', '112m²', '31m²', '62m²', '30m²', \n",
    "                    '78m²', '73m²', '55m²', '268m²']\n",
    "\n",
    "indexes_to_delete = []\n",
    "\n",
    "for value in raw_data.X_garage:\n",
    "    if value in values_to_delete:\n",
    "        for index in raw_data[raw_data.X_garage == value].index:\n",
    "            indexes_to_delete.append(index)  \n",
    "\n",
    "indexes_to_delete[:5]"
   ]
  },
  {
   "cell_type": "code",
   "execution_count": 225,
   "metadata": {},
   "outputs": [],
   "source": [
    "raw_data.drop(index=indexes_to_delete, inplace=True)"
   ]
  },
  {
   "cell_type": "code",
   "execution_count": 227,
   "metadata": {},
   "outputs": [],
   "source": [
    "raw_data.X_garage = raw_data.X_garage.apply(lambda x: int(x))"
   ]
  },
  {
   "cell_type": "code",
   "execution_count": 229,
   "metadata": {},
   "outputs": [
    {
     "name": "stdout",
     "output_type": "stream",
     "text": [
      "<class 'pandas.core.frame.DataFrame'>\n",
      "Int64Index: 4455 entries, 0 to 4918\n",
      "Data columns (total 8 columns):\n",
      " #   Column      Non-Null Count  Dtype \n",
      "---  ------      --------------  ----- \n",
      " 0   prices      4455 non-null   object\n",
      " 1   locations   4455 non-null   object\n",
      " 2   other       4455 non-null   object\n",
      " 3   y_price     4455 non-null   int64 \n",
      " 4   X_location  4455 non-null   object\n",
      " 5   X_Bedroom   4455 non-null   int64 \n",
      " 6   X_size      4455 non-null   int64 \n",
      " 7   X_garage    4455 non-null   int64 \n",
      "dtypes: int64(4), object(4)\n",
      "memory usage: 313.2+ KB\n"
     ]
    }
   ],
   "source": [
    "raw_data.info()"
   ]
  },
  {
   "cell_type": "code",
   "execution_count": 230,
   "metadata": {},
   "outputs": [
    {
     "data": {
      "text/html": [
       "<div>\n",
       "<style scoped>\n",
       "    .dataframe tbody tr th:only-of-type {\n",
       "        vertical-align: middle;\n",
       "    }\n",
       "\n",
       "    .dataframe tbody tr th {\n",
       "        vertical-align: top;\n",
       "    }\n",
       "\n",
       "    .dataframe thead th {\n",
       "        text-align: right;\n",
       "    }\n",
       "</style>\n",
       "<table border=\"1\" class=\"dataframe\">\n",
       "  <thead>\n",
       "    <tr style=\"text-align: right;\">\n",
       "      <th></th>\n",
       "      <th>prices</th>\n",
       "      <th>locations</th>\n",
       "      <th>other</th>\n",
       "      <th>y_price</th>\n",
       "      <th>X_location</th>\n",
       "      <th>X_Bedroom</th>\n",
       "      <th>X_size</th>\n",
       "      <th>X_garage</th>\n",
       "    </tr>\n",
       "  </thead>\n",
       "  <tbody>\n",
       "    <tr>\n",
       "      <th>0</th>\n",
       "      <td>R$ 750.000</td>\n",
       "      <td>Recife, Boa Viagem</td>\n",
       "      <td>3 quartos | 130m² | 1 vaga</td>\n",
       "      <td>750000</td>\n",
       "      <td>Boa Viagem</td>\n",
       "      <td>3</td>\n",
       "      <td>130</td>\n",
       "      <td>1</td>\n",
       "    </tr>\n",
       "    <tr>\n",
       "      <th>1</th>\n",
       "      <td>R$ 200.000</td>\n",
       "      <td>Jaboatão dos Guararapes, Candeias</td>\n",
       "      <td>2 quartos | 61m² | 1 vaga</td>\n",
       "      <td>200000</td>\n",
       "      <td>Candeias</td>\n",
       "      <td>2</td>\n",
       "      <td>61</td>\n",
       "      <td>1</td>\n",
       "    </tr>\n",
       "    <tr>\n",
       "      <th>2</th>\n",
       "      <td>R$ 300.000</td>\n",
       "      <td>Recife, Cordeiro</td>\n",
       "      <td>2 quartos | 50m² | Condomínio: R$ 1 | 1 vaga</td>\n",
       "      <td>300000</td>\n",
       "      <td>Cordeiro</td>\n",
       "      <td>2</td>\n",
       "      <td>50</td>\n",
       "      <td>1</td>\n",
       "    </tr>\n",
       "    <tr>\n",
       "      <th>3</th>\n",
       "      <td>R$ 128.000</td>\n",
       "      <td>Paulista, Nossa Senhora do Ó</td>\n",
       "      <td>2 quartos | 63m² | 1 vaga</td>\n",
       "      <td>128000</td>\n",
       "      <td>Nossa Senhora do Ó</td>\n",
       "      <td>2</td>\n",
       "      <td>63</td>\n",
       "      <td>1</td>\n",
       "    </tr>\n",
       "    <tr>\n",
       "      <th>4</th>\n",
       "      <td>R$ 125.000</td>\n",
       "      <td>Recife, Areias</td>\n",
       "      <td>2 quartos | 62m² | Condomínio: R$ 140 | 1 vaga</td>\n",
       "      <td>125000</td>\n",
       "      <td>Areias</td>\n",
       "      <td>2</td>\n",
       "      <td>62</td>\n",
       "      <td>1</td>\n",
       "    </tr>\n",
       "  </tbody>\n",
       "</table>\n",
       "</div>"
      ],
      "text/plain": [
       "       prices                          locations  \\\n",
       "0  R$ 750.000                 Recife, Boa Viagem   \n",
       "1  R$ 200.000  Jaboatão dos Guararapes, Candeias   \n",
       "2  R$ 300.000                   Recife, Cordeiro   \n",
       "3  R$ 128.000       Paulista, Nossa Senhora do Ó   \n",
       "4  R$ 125.000                     Recife, Areias   \n",
       "\n",
       "                                            other  y_price  \\\n",
       "0                      3 quartos | 130m² | 1 vaga   750000   \n",
       "1                       2 quartos | 61m² | 1 vaga   200000   \n",
       "2    2 quartos | 50m² | Condomínio: R$ 1 | 1 vaga   300000   \n",
       "3                       2 quartos | 63m² | 1 vaga   128000   \n",
       "4  2 quartos | 62m² | Condomínio: R$ 140 | 1 vaga   125000   \n",
       "\n",
       "            X_location  X_Bedroom  X_size  X_garage  \n",
       "0           Boa Viagem          3     130         1  \n",
       "1             Candeias          2      61         1  \n",
       "2             Cordeiro          2      50         1  \n",
       "3   Nossa Senhora do Ó          2      63         1  \n",
       "4               Areias          2      62         1  "
      ]
     },
     "execution_count": 230,
     "metadata": {},
     "output_type": "execute_result"
    }
   ],
   "source": [
    "raw_data.head()"
   ]
  },
  {
   "cell_type": "markdown",
   "metadata": {},
   "source": [
    "## 1.4 Salvando Progresso (to_pickle)\n",
    "\n",
    "Manterei a coluna ['locations'] caso precise usá-la quando testar se os bairros estão corretos ou se precisam de correção."
   ]
  },
  {
   "cell_type": "code",
   "execution_count": 231,
   "metadata": {},
   "outputs": [
    {
     "data": {
      "text/plain": [
       "Index(['prices', 'locations', 'other', 'y_price', 'X_location', 'X_Bedroom',\n",
       "       'X_size', 'X_garage'],\n",
       "      dtype='object')"
      ]
     },
     "execution_count": 231,
     "metadata": {},
     "output_type": "execute_result"
    }
   ],
   "source": [
    "raw_data.columns"
   ]
  },
  {
   "cell_type": "code",
   "execution_count": 232,
   "metadata": {},
   "outputs": [
    {
     "data": {
      "text/html": [
       "<div>\n",
       "<style scoped>\n",
       "    .dataframe tbody tr th:only-of-type {\n",
       "        vertical-align: middle;\n",
       "    }\n",
       "\n",
       "    .dataframe tbody tr th {\n",
       "        vertical-align: top;\n",
       "    }\n",
       "\n",
       "    .dataframe thead th {\n",
       "        text-align: right;\n",
       "    }\n",
       "</style>\n",
       "<table border=\"1\" class=\"dataframe\">\n",
       "  <thead>\n",
       "    <tr style=\"text-align: right;\">\n",
       "      <th></th>\n",
       "      <th>locations</th>\n",
       "      <th>y_price</th>\n",
       "      <th>X_location</th>\n",
       "      <th>X_Bedroom</th>\n",
       "      <th>X_size</th>\n",
       "      <th>X_garage</th>\n",
       "    </tr>\n",
       "  </thead>\n",
       "  <tbody>\n",
       "    <tr>\n",
       "      <th>0</th>\n",
       "      <td>Recife, Boa Viagem</td>\n",
       "      <td>750000</td>\n",
       "      <td>Boa Viagem</td>\n",
       "      <td>3</td>\n",
       "      <td>130</td>\n",
       "      <td>1</td>\n",
       "    </tr>\n",
       "    <tr>\n",
       "      <th>1</th>\n",
       "      <td>Jaboatão dos Guararapes, Candeias</td>\n",
       "      <td>200000</td>\n",
       "      <td>Candeias</td>\n",
       "      <td>2</td>\n",
       "      <td>61</td>\n",
       "      <td>1</td>\n",
       "    </tr>\n",
       "    <tr>\n",
       "      <th>2</th>\n",
       "      <td>Recife, Cordeiro</td>\n",
       "      <td>300000</td>\n",
       "      <td>Cordeiro</td>\n",
       "      <td>2</td>\n",
       "      <td>50</td>\n",
       "      <td>1</td>\n",
       "    </tr>\n",
       "    <tr>\n",
       "      <th>3</th>\n",
       "      <td>Paulista, Nossa Senhora do Ó</td>\n",
       "      <td>128000</td>\n",
       "      <td>Nossa Senhora do Ó</td>\n",
       "      <td>2</td>\n",
       "      <td>63</td>\n",
       "      <td>1</td>\n",
       "    </tr>\n",
       "    <tr>\n",
       "      <th>4</th>\n",
       "      <td>Recife, Areias</td>\n",
       "      <td>125000</td>\n",
       "      <td>Areias</td>\n",
       "      <td>2</td>\n",
       "      <td>62</td>\n",
       "      <td>1</td>\n",
       "    </tr>\n",
       "  </tbody>\n",
       "</table>\n",
       "</div>"
      ],
      "text/plain": [
       "                           locations  y_price           X_location  X_Bedroom  \\\n",
       "0                 Recife, Boa Viagem   750000           Boa Viagem          3   \n",
       "1  Jaboatão dos Guararapes, Candeias   200000             Candeias          2   \n",
       "2                   Recife, Cordeiro   300000             Cordeiro          2   \n",
       "3       Paulista, Nossa Senhora do Ó   128000   Nossa Senhora do Ó          2   \n",
       "4                     Recife, Areias   125000               Areias          2   \n",
       "\n",
       "   X_size  X_garage  \n",
       "0     130         1  \n",
       "1      61         1  \n",
       "2      50         1  \n",
       "3      63         1  \n",
       "4      62         1  "
      ]
     },
     "execution_count": 232,
     "metadata": {},
     "output_type": "execute_result"
    }
   ],
   "source": [
    "df = raw_data[['locations', 'y_price', 'X_location', 'X_Bedroom', 'X_size', 'X_garage']]\n",
    "df.head()"
   ]
  },
  {
   "cell_type": "code",
   "execution_count": 237,
   "metadata": {},
   "outputs": [],
   "source": [
    "df.to_pickle(\"1 Apartamentos Dados Limpos.pkl\")"
   ]
  },
  {
   "cell_type": "markdown",
   "metadata": {},
   "source": [
    "Para os outros DataFrames fundamentalmente o processo será o mesmo, com pequenas diferenças já que os dados estão estruturados de maneira diferente.\n",
    "\n",
    "## 2º DataFrame\n",
    "\n",
    "Não há NaN \\o\\\\|o|/o/"
   ]
  },
  {
   "cell_type": "code",
   "execution_count": 2,
   "metadata": {},
   "outputs": [
    {
     "data": {
      "text/html": [
       "<div>\n",
       "<style scoped>\n",
       "    .dataframe tbody tr th:only-of-type {\n",
       "        vertical-align: middle;\n",
       "    }\n",
       "\n",
       "    .dataframe tbody tr th {\n",
       "        vertical-align: top;\n",
       "    }\n",
       "\n",
       "    .dataframe thead th {\n",
       "        text-align: right;\n",
       "    }\n",
       "</style>\n",
       "<table border=\"1\" class=\"dataframe\">\n",
       "  <thead>\n",
       "    <tr style=\"text-align: right;\">\n",
       "      <th></th>\n",
       "      <th>prices</th>\n",
       "      <th>locations</th>\n",
       "      <th>other</th>\n",
       "    </tr>\n",
       "  </thead>\n",
       "  <tbody>\n",
       "    <tr>\n",
       "      <th>0</th>\n",
       "      <td>R$ 80.000</td>\n",
       "      <td>Campo Grande</td>\n",
       "      <td>2quartos2banheiros1vaga67m²</td>\n",
       "    </tr>\n",
       "    <tr>\n",
       "      <th>1</th>\n",
       "      <td>R$ 130.000</td>\n",
       "      <td>Boa Vista</td>\n",
       "      <td>1quarto1banheiro 58,40m²</td>\n",
       "    </tr>\n",
       "    <tr>\n",
       "      <th>2</th>\n",
       "      <td>R$ 130.000</td>\n",
       "      <td>Linha do Tiro</td>\n",
       "      <td>2quartos1banheiro 1vaga65m²</td>\n",
       "    </tr>\n",
       "    <tr>\n",
       "      <th>3</th>\n",
       "      <td>R$ 132.000R$ 630/ano</td>\n",
       "      <td>Várzea</td>\n",
       "      <td>2quartos1banheiro 1vaga50m²</td>\n",
       "    </tr>\n",
       "    <tr>\n",
       "      <th>4</th>\n",
       "      <td>R$ 140.000</td>\n",
       "      <td>Tejipió</td>\n",
       "      <td>2quartos1banheiro 80vagas41m²</td>\n",
       "    </tr>\n",
       "  </tbody>\n",
       "</table>\n",
       "</div>"
      ],
      "text/plain": [
       "                 prices      locations                          other\n",
       "0             R$ 80.000   Campo Grande    2quartos2banheiros1vaga67m²\n",
       "1            R$ 130.000      Boa Vista       1quarto1banheiro 58,40m²\n",
       "2            R$ 130.000  Linha do Tiro    2quartos1banheiro 1vaga65m²\n",
       "3  R$ 132.000R$ 630/ano         Várzea    2quartos1banheiro 1vaga50m²\n",
       "4            R$ 140.000        Tejipió  2quartos1banheiro 80vagas41m²"
      ]
     },
     "execution_count": 2,
     "metadata": {},
     "output_type": "execute_result"
    }
   ],
   "source": [
    "raw_data2 = pd.read_csv('0.1 - Apartamentos Dados (Bruto).csv', index_col=0)\n",
    "raw_data2.head()"
   ]
  },
  {
   "cell_type": "code",
   "execution_count": 3,
   "metadata": {},
   "outputs": [
    {
     "data": {
      "text/plain": [
       "prices       0\n",
       "locations    0\n",
       "other        0\n",
       "dtype: int64"
      ]
     },
     "execution_count": 3,
     "metadata": {},
     "output_type": "execute_result"
    }
   ],
   "source": [
    "raw_data2.isna().sum()"
   ]
  },
  {
   "cell_type": "markdown",
   "metadata": {},
   "source": [
    "## 2.1 - ['y_price']"
   ]
  },
  {
   "cell_type": "code",
   "execution_count": 4,
   "metadata": {},
   "outputs": [],
   "source": [
    "raw_data2['y_price'] = raw_data2.prices.apply(lambda x: x.split(\"R$\")[1].replace('.',''))"
   ]
  },
  {
   "cell_type": "markdown",
   "metadata": {},
   "source": [
    "Note que em uns temos o preço \" _R\\$ 190.000Preço de locaçãoSob consulta_ \" (vamos trabalhar para pegá-lo) em outros o \" _Preço de vendaSob consultaR\\$ 1.450/mês_ \" ele ainda está sendo decidido (provavelmente estão sendo construídos e o que pegamos são os dados de como serão), deletar e deletar."
   ]
  },
  {
   "cell_type": "code",
   "execution_count": 5,
   "metadata": {},
   "outputs": [
    {
     "data": {
      "text/plain": [
       "array([' 80000', ' 130000', ' 132000', ' 140000', ' 145000', ' 150000',\n",
       "       ' 160000', ' 168000', ' 170000', ' 1450/mês', ' 174000', ' 180000',\n",
       "       ' 182000', ' 186000', ' 190000',\n",
       "       ' 190000Preço de locaçãoSob consulta', ' 195000', ' 198990',\n",
       "       ' 199000', ' 199990'], dtype=object)"
      ]
     },
     "execution_count": 5,
     "metadata": {},
     "output_type": "execute_result"
    }
   ],
   "source": [
    "raw_data2.y_price.unique()[:20]"
   ]
  },
  {
   "cell_type": "code",
   "execution_count": 6,
   "metadata": {},
   "outputs": [
    {
     "data": {
      "text/html": [
       "<div>\n",
       "<style scoped>\n",
       "    .dataframe tbody tr th:only-of-type {\n",
       "        vertical-align: middle;\n",
       "    }\n",
       "\n",
       "    .dataframe tbody tr th {\n",
       "        vertical-align: top;\n",
       "    }\n",
       "\n",
       "    .dataframe thead th {\n",
       "        text-align: right;\n",
       "    }\n",
       "</style>\n",
       "<table border=\"1\" class=\"dataframe\">\n",
       "  <thead>\n",
       "    <tr style=\"text-align: right;\">\n",
       "      <th></th>\n",
       "      <th>prices</th>\n",
       "      <th>locations</th>\n",
       "      <th>other</th>\n",
       "      <th>y_price</th>\n",
       "    </tr>\n",
       "  </thead>\n",
       "  <tbody>\n",
       "    <tr>\n",
       "      <th>32</th>\n",
       "      <td>R$ 190.000Preço de locaçãoSob consulta</td>\n",
       "      <td>Iputinga</td>\n",
       "      <td>3quartos2banheiros1vaga77m²</td>\n",
       "      <td>190000Preço de locaçãoSob consulta</td>\n",
       "    </tr>\n",
       "  </tbody>\n",
       "</table>\n",
       "</div>"
      ],
      "text/plain": [
       "                                    prices locations  \\\n",
       "32  R$ 190.000Preço de locaçãoSob consulta  Iputinga   \n",
       "\n",
       "                          other                              y_price  \n",
       "32  3quartos2banheiros1vaga77m²   190000Preço de locaçãoSob consulta  "
      ]
     },
     "execution_count": 6,
     "metadata": {},
     "output_type": "execute_result"
    }
   ],
   "source": [
    "raw_data2[raw_data2.y_price == ' 190000Preço de locaçãoSob consulta']"
   ]
  },
  {
   "cell_type": "code",
   "execution_count": 7,
   "metadata": {},
   "outputs": [
    {
     "data": {
      "text/html": [
       "<div>\n",
       "<style scoped>\n",
       "    .dataframe tbody tr th:only-of-type {\n",
       "        vertical-align: middle;\n",
       "    }\n",
       "\n",
       "    .dataframe tbody tr th {\n",
       "        vertical-align: top;\n",
       "    }\n",
       "\n",
       "    .dataframe thead th {\n",
       "        text-align: right;\n",
       "    }\n",
       "</style>\n",
       "<table border=\"1\" class=\"dataframe\">\n",
       "  <thead>\n",
       "    <tr style=\"text-align: right;\">\n",
       "      <th></th>\n",
       "      <th>prices</th>\n",
       "      <th>locations</th>\n",
       "      <th>other</th>\n",
       "      <th>y_price</th>\n",
       "    </tr>\n",
       "  </thead>\n",
       "  <tbody>\n",
       "    <tr>\n",
       "      <th>18</th>\n",
       "      <td>Preço de vendaSob consultaR$ 1.450/mês</td>\n",
       "      <td>Várzea</td>\n",
       "      <td>2quartos1suíte2banheiros1vaga70m²</td>\n",
       "      <td>1450/mês</td>\n",
       "    </tr>\n",
       "  </tbody>\n",
       "</table>\n",
       "</div>"
      ],
      "text/plain": [
       "                                    prices locations  \\\n",
       "18  Preço de vendaSob consultaR$ 1.450/mês    Várzea   \n",
       "\n",
       "                                other    y_price  \n",
       "18  2quartos1suíte2banheiros1vaga70m²   1450/mês  "
      ]
     },
     "execution_count": 7,
     "metadata": {},
     "output_type": "execute_result"
    }
   ],
   "source": [
    "raw_data2[raw_data2.y_price == ' 1450/mês']"
   ]
  },
  {
   "cell_type": "code",
   "execution_count": 8,
   "metadata": {},
   "outputs": [
    {
     "name": "stdout",
     "output_type": "stream",
     "text": [
      " 1450/mês\n",
      " 190000Preço de locaçãoSob consulta\n",
      " 255000Preço de locaçãoSob consulta\n",
      " 1750/mês\n",
      " 270000Preço de locaçãoSob consulta\n",
      " 290000Preço de locaçãoSob consulta\n",
      " 1000/mês\n",
      " 1250/mês\n",
      " 350000Preço de locaçãoSob consulta\n",
      " 2000/mês\n",
      " 360000Preço de locaçãoSob consulta\n",
      " 2200/mês\n",
      " 500000Preço de locaçãoSob consulta\n",
      " 1700/mês\n",
      " 700000Preço de locaçãoSob consulta\n",
      " 900000Preço de locaçãoSob consulta\n",
      " 980000Preço de locaçãoSob consulta\n",
      " 1350000Preço de locaçãoSob consulta\n"
     ]
    }
   ],
   "source": [
    "values_to_get = []\n",
    "\n",
    "for item in raw_data2.y_price.unique():\n",
    "    try:\n",
    "        int(item)\n",
    "    except:\n",
    "        print(item)\n",
    "        values_to_get.append(item)"
   ]
  },
  {
   "cell_type": "markdown",
   "metadata": {},
   "source": [
    "Na verdade, mudei de ideia kkkk. São tão poucos dados que deletarei todos."
   ]
  },
  {
   "cell_type": "code",
   "execution_count": 9,
   "metadata": {},
   "outputs": [
    {
     "data": {
      "text/plain": [
       "[18, 32, 140, 194, 195]"
      ]
     },
     "execution_count": 9,
     "metadata": {},
     "output_type": "execute_result"
    }
   ],
   "source": [
    "indexes_to_delete = []\n",
    "\n",
    "for value in raw_data2.y_price:\n",
    "    if value in values_to_get:\n",
    "        for index in raw_data2[raw_data2.y_price == value].index:\n",
    "            indexes_to_delete.append(index)  \n",
    "\n",
    "indexes_to_delete[:5]"
   ]
  },
  {
   "cell_type": "code",
   "execution_count": 10,
   "metadata": {},
   "outputs": [
    {
     "data": {
      "text/plain": [
       "24"
      ]
     },
     "execution_count": 10,
     "metadata": {},
     "output_type": "execute_result"
    }
   ],
   "source": [
    "len(indexes_to_delete)"
   ]
  },
  {
   "cell_type": "code",
   "execution_count": 11,
   "metadata": {},
   "outputs": [],
   "source": [
    "raw_data2.drop(index=indexes_to_delete, inplace=True)"
   ]
  },
  {
   "cell_type": "code",
   "execution_count": 12,
   "metadata": {},
   "outputs": [],
   "source": [
    "raw_data2['y_price'] = raw_data2.y_price.apply(lambda x: int(x))"
   ]
  },
  {
   "cell_type": "code",
   "execution_count": 13,
   "metadata": {},
   "outputs": [
    {
     "data": {
      "text/html": [
       "<div>\n",
       "<style scoped>\n",
       "    .dataframe tbody tr th:only-of-type {\n",
       "        vertical-align: middle;\n",
       "    }\n",
       "\n",
       "    .dataframe tbody tr th {\n",
       "        vertical-align: top;\n",
       "    }\n",
       "\n",
       "    .dataframe thead th {\n",
       "        text-align: right;\n",
       "    }\n",
       "</style>\n",
       "<table border=\"1\" class=\"dataframe\">\n",
       "  <thead>\n",
       "    <tr style=\"text-align: right;\">\n",
       "      <th></th>\n",
       "      <th>prices</th>\n",
       "      <th>locations</th>\n",
       "      <th>other</th>\n",
       "      <th>y_price</th>\n",
       "    </tr>\n",
       "  </thead>\n",
       "  <tbody>\n",
       "    <tr>\n",
       "      <th>0</th>\n",
       "      <td>R$ 80.000</td>\n",
       "      <td>Campo Grande</td>\n",
       "      <td>2quartos2banheiros1vaga67m²</td>\n",
       "      <td>80000</td>\n",
       "    </tr>\n",
       "    <tr>\n",
       "      <th>1</th>\n",
       "      <td>R$ 130.000</td>\n",
       "      <td>Boa Vista</td>\n",
       "      <td>1quarto1banheiro 58,40m²</td>\n",
       "      <td>130000</td>\n",
       "    </tr>\n",
       "    <tr>\n",
       "      <th>2</th>\n",
       "      <td>R$ 130.000</td>\n",
       "      <td>Linha do Tiro</td>\n",
       "      <td>2quartos1banheiro 1vaga65m²</td>\n",
       "      <td>130000</td>\n",
       "    </tr>\n",
       "    <tr>\n",
       "      <th>3</th>\n",
       "      <td>R$ 132.000R$ 630/ano</td>\n",
       "      <td>Várzea</td>\n",
       "      <td>2quartos1banheiro 1vaga50m²</td>\n",
       "      <td>132000</td>\n",
       "    </tr>\n",
       "    <tr>\n",
       "      <th>4</th>\n",
       "      <td>R$ 140.000</td>\n",
       "      <td>Tejipió</td>\n",
       "      <td>2quartos1banheiro 80vagas41m²</td>\n",
       "      <td>140000</td>\n",
       "    </tr>\n",
       "  </tbody>\n",
       "</table>\n",
       "</div>"
      ],
      "text/plain": [
       "                 prices      locations                          other  y_price\n",
       "0             R$ 80.000   Campo Grande    2quartos2banheiros1vaga67m²    80000\n",
       "1            R$ 130.000      Boa Vista       1quarto1banheiro 58,40m²   130000\n",
       "2            R$ 130.000  Linha do Tiro    2quartos1banheiro 1vaga65m²   130000\n",
       "3  R$ 132.000R$ 630/ano         Várzea    2quartos1banheiro 1vaga50m²   132000\n",
       "4            R$ 140.000        Tejipió  2quartos1banheiro 80vagas41m²   140000"
      ]
     },
     "execution_count": 13,
     "metadata": {},
     "output_type": "execute_result"
    }
   ],
   "source": [
    "raw_data2.head()"
   ]
  },
  {
   "cell_type": "markdown",
   "metadata": {},
   "source": [
    "## 2.2 - ['X_location']\n",
    "\n",
    "Unbelievable! Já está pronto kkkkk tinha até esquecido que vi isso durante a exploração."
   ]
  },
  {
   "cell_type": "code",
   "execution_count": 14,
   "metadata": {},
   "outputs": [],
   "source": [
    "raw_data2['X_location'] = raw_data2.locations\n",
    "raw_data2.drop(columns='locations', inplace=True)"
   ]
  },
  {
   "cell_type": "markdown",
   "metadata": {},
   "source": [
    "## 2.3 - ['Quarto'] ['Banheiro']  ['Tamanho'] ['Garagem'] \n",
    "\n",
    "Informações coladas na string ksksks foi divertido resolver essa parte.\n",
    "\n",
    "### 2.3.1 ['Quarto']"
   ]
  },
  {
   "cell_type": "code",
   "execution_count": 15,
   "metadata": {},
   "outputs": [
    {
     "data": {
      "text/html": [
       "<div>\n",
       "<style scoped>\n",
       "    .dataframe tbody tr th:only-of-type {\n",
       "        vertical-align: middle;\n",
       "    }\n",
       "\n",
       "    .dataframe tbody tr th {\n",
       "        vertical-align: top;\n",
       "    }\n",
       "\n",
       "    .dataframe thead th {\n",
       "        text-align: right;\n",
       "    }\n",
       "</style>\n",
       "<table border=\"1\" class=\"dataframe\">\n",
       "  <thead>\n",
       "    <tr style=\"text-align: right;\">\n",
       "      <th></th>\n",
       "      <th>prices</th>\n",
       "      <th>other</th>\n",
       "      <th>y_price</th>\n",
       "      <th>X_location</th>\n",
       "    </tr>\n",
       "  </thead>\n",
       "  <tbody>\n",
       "    <tr>\n",
       "      <th>0</th>\n",
       "      <td>R$ 80.000</td>\n",
       "      <td>2quartos2banheiros1vaga67m²</td>\n",
       "      <td>80000</td>\n",
       "      <td>Campo Grande</td>\n",
       "    </tr>\n",
       "    <tr>\n",
       "      <th>1</th>\n",
       "      <td>R$ 130.000</td>\n",
       "      <td>1quarto1banheiro 58,40m²</td>\n",
       "      <td>130000</td>\n",
       "      <td>Boa Vista</td>\n",
       "    </tr>\n",
       "    <tr>\n",
       "      <th>2</th>\n",
       "      <td>R$ 130.000</td>\n",
       "      <td>2quartos1banheiro 1vaga65m²</td>\n",
       "      <td>130000</td>\n",
       "      <td>Linha do Tiro</td>\n",
       "    </tr>\n",
       "    <tr>\n",
       "      <th>3</th>\n",
       "      <td>R$ 132.000R$ 630/ano</td>\n",
       "      <td>2quartos1banheiro 1vaga50m²</td>\n",
       "      <td>132000</td>\n",
       "      <td>Várzea</td>\n",
       "    </tr>\n",
       "    <tr>\n",
       "      <th>4</th>\n",
       "      <td>R$ 140.000</td>\n",
       "      <td>2quartos1banheiro 80vagas41m²</td>\n",
       "      <td>140000</td>\n",
       "      <td>Tejipió</td>\n",
       "    </tr>\n",
       "  </tbody>\n",
       "</table>\n",
       "</div>"
      ],
      "text/plain": [
       "                 prices                          other  y_price     X_location\n",
       "0             R$ 80.000    2quartos2banheiros1vaga67m²    80000   Campo Grande\n",
       "1            R$ 130.000       1quarto1banheiro 58,40m²   130000      Boa Vista\n",
       "2            R$ 130.000    2quartos1banheiro 1vaga65m²   130000  Linha do Tiro\n",
       "3  R$ 132.000R$ 630/ano    2quartos1banheiro 1vaga50m²   132000         Várzea\n",
       "4            R$ 140.000  2quartos1banheiro 80vagas41m²   140000        Tejipió"
      ]
     },
     "execution_count": 15,
     "metadata": {},
     "output_type": "execute_result"
    }
   ],
   "source": [
    "raw_data2.head()"
   ]
  },
  {
   "cell_type": "code",
   "execution_count": 16,
   "metadata": {},
   "outputs": [],
   "source": [
    "raw_data2['X_bedroom'] = raw_data2.other.apply(lambda x: int(x.split('q')[0]))"
   ]
  },
  {
   "cell_type": "code",
   "execution_count": 17,
   "metadata": {},
   "outputs": [
    {
     "data": {
      "text/plain": [
       "array([2, 1, 3, 4, 5], dtype=int64)"
      ]
     },
     "execution_count": 17,
     "metadata": {},
     "output_type": "execute_result"
    }
   ],
   "source": [
    "raw_data2['X_bedroom'].unique()"
   ]
  },
  {
   "cell_type": "markdown",
   "metadata": {},
   "source": [
    "### 2.3.2 ['Banheiro']"
   ]
  },
  {
   "cell_type": "code",
   "execution_count": 18,
   "metadata": {},
   "outputs": [],
   "source": [
    "raw_data2['X_bathroom'] = raw_data2.other.apply(lambda x: x.split('banheiro')[0][-1])"
   ]
  },
  {
   "cell_type": "code",
   "execution_count": 19,
   "metadata": {},
   "outputs": [
    {
     "data": {
      "text/plain": [
       "array(['2', '1', '3', '²', '4', '5', '6'], dtype=object)"
      ]
     },
     "execution_count": 19,
     "metadata": {},
     "output_type": "execute_result"
    }
   ],
   "source": [
    "raw_data2['X_bathroom'].unique()"
   ]
  },
  {
   "cell_type": "code",
   "execution_count": 20,
   "metadata": {},
   "outputs": [
    {
     "data": {
      "text/html": [
       "<div>\n",
       "<style scoped>\n",
       "    .dataframe tbody tr th:only-of-type {\n",
       "        vertical-align: middle;\n",
       "    }\n",
       "\n",
       "    .dataframe tbody tr th {\n",
       "        vertical-align: top;\n",
       "    }\n",
       "\n",
       "    .dataframe thead th {\n",
       "        text-align: right;\n",
       "    }\n",
       "</style>\n",
       "<table border=\"1\" class=\"dataframe\">\n",
       "  <thead>\n",
       "    <tr style=\"text-align: right;\">\n",
       "      <th></th>\n",
       "      <th>prices</th>\n",
       "      <th>other</th>\n",
       "      <th>y_price</th>\n",
       "      <th>X_location</th>\n",
       "      <th>X_bedroom</th>\n",
       "      <th>X_bathroom</th>\n",
       "    </tr>\n",
       "  </thead>\n",
       "  <tbody>\n",
       "    <tr>\n",
       "      <th>161</th>\n",
       "      <td>R$ 260.000</td>\n",
       "      <td>2quartos1suíte1vaga43m²</td>\n",
       "      <td>260000</td>\n",
       "      <td>Torre</td>\n",
       "      <td>2</td>\n",
       "      <td>²</td>\n",
       "    </tr>\n",
       "    <tr>\n",
       "      <th>297</th>\n",
       "      <td>R$ 302.500</td>\n",
       "      <td>2quartos1suíte1vaga50,22m²</td>\n",
       "      <td>302500</td>\n",
       "      <td>Torre</td>\n",
       "      <td>2</td>\n",
       "      <td>²</td>\n",
       "    </tr>\n",
       "    <tr>\n",
       "      <th>482</th>\n",
       "      <td>R$ 367.000</td>\n",
       "      <td>3quartos1suíte1vaga58,80m²</td>\n",
       "      <td>367000</td>\n",
       "      <td>Ilha do Retiro</td>\n",
       "      <td>3</td>\n",
       "      <td>²</td>\n",
       "    </tr>\n",
       "    <tr>\n",
       "      <th>797</th>\n",
       "      <td>R$ 550.000</td>\n",
       "      <td>1quarto1vaga40m²</td>\n",
       "      <td>550000</td>\n",
       "      <td>Boa Viagem</td>\n",
       "      <td>1</td>\n",
       "      <td>²</td>\n",
       "    </tr>\n",
       "    <tr>\n",
       "      <th>801</th>\n",
       "      <td>R$ 550.000</td>\n",
       "      <td>1quarto1vaga40m²</td>\n",
       "      <td>550000</td>\n",
       "      <td>Boa Viagem</td>\n",
       "      <td>1</td>\n",
       "      <td>²</td>\n",
       "    </tr>\n",
       "  </tbody>\n",
       "</table>\n",
       "</div>"
      ],
      "text/plain": [
       "         prices                       other  y_price      X_location  \\\n",
       "161  R$ 260.000     2quartos1suíte1vaga43m²   260000           Torre   \n",
       "297  R$ 302.500  2quartos1suíte1vaga50,22m²   302500           Torre   \n",
       "482  R$ 367.000  3quartos1suíte1vaga58,80m²   367000  Ilha do Retiro   \n",
       "797  R$ 550.000            1quarto1vaga40m²   550000      Boa Viagem   \n",
       "801  R$ 550.000            1quarto1vaga40m²   550000      Boa Viagem   \n",
       "\n",
       "     X_bedroom X_bathroom  \n",
       "161          2          ²  \n",
       "297          2          ²  \n",
       "482          3          ²  \n",
       "797          1          ²  \n",
       "801          1          ²  "
      ]
     },
     "execution_count": 20,
     "metadata": {},
     "output_type": "execute_result"
    }
   ],
   "source": [
    "raw_data2[raw_data2['X_bathroom'] == '²'] # Ahhh, não tem banheiro kkkkk"
   ]
  },
  {
   "cell_type": "code",
   "execution_count": 21,
   "metadata": {},
   "outputs": [],
   "source": [
    "raw_data2 = raw_data2[raw_data2['X_bathroom'] != '²']"
   ]
  },
  {
   "cell_type": "code",
   "execution_count": 22,
   "metadata": {},
   "outputs": [],
   "source": [
    "raw_data2['X_bathroom'] = raw_data2['X_bathroom'].apply(lambda x: int(x))"
   ]
  },
  {
   "cell_type": "markdown",
   "metadata": {},
   "source": [
    "### 2.3.3 ['Garagem']"
   ]
  },
  {
   "cell_type": "code",
   "execution_count": 23,
   "metadata": {},
   "outputs": [],
   "source": [
    "raw_data2['X_garage'] = raw_data2.other.apply(lambda x: x.split('vaga')[0][-1])"
   ]
  },
  {
   "cell_type": "code",
   "execution_count": 24,
   "metadata": {},
   "outputs": [
    {
     "data": {
      "text/plain": [
       "array(['1', '²', '0', '2', '3', '4'], dtype=object)"
      ]
     },
     "execution_count": 24,
     "metadata": {},
     "output_type": "execute_result"
    }
   ],
   "source": [
    "raw_data2['X_garage'].unique()"
   ]
  },
  {
   "cell_type": "code",
   "execution_count": 25,
   "metadata": {},
   "outputs": [
    {
     "data": {
      "text/html": [
       "<div>\n",
       "<style scoped>\n",
       "    .dataframe tbody tr th:only-of-type {\n",
       "        vertical-align: middle;\n",
       "    }\n",
       "\n",
       "    .dataframe tbody tr th {\n",
       "        vertical-align: top;\n",
       "    }\n",
       "\n",
       "    .dataframe thead th {\n",
       "        text-align: right;\n",
       "    }\n",
       "</style>\n",
       "<table border=\"1\" class=\"dataframe\">\n",
       "  <thead>\n",
       "    <tr style=\"text-align: right;\">\n",
       "      <th></th>\n",
       "      <th>prices</th>\n",
       "      <th>other</th>\n",
       "      <th>y_price</th>\n",
       "      <th>X_location</th>\n",
       "      <th>X_bedroom</th>\n",
       "      <th>X_bathroom</th>\n",
       "      <th>X_garage</th>\n",
       "    </tr>\n",
       "  </thead>\n",
       "  <tbody>\n",
       "    <tr>\n",
       "      <th>1</th>\n",
       "      <td>R$ 130.000</td>\n",
       "      <td>1quarto1banheiro 58,40m²</td>\n",
       "      <td>130000</td>\n",
       "      <td>Boa Vista</td>\n",
       "      <td>1</td>\n",
       "      <td>1</td>\n",
       "      <td>²</td>\n",
       "    </tr>\n",
       "    <tr>\n",
       "      <th>11</th>\n",
       "      <td>R$ 160.000</td>\n",
       "      <td>2quartos1suíte2banheiros100m²</td>\n",
       "      <td>160000</td>\n",
       "      <td>Boa Vista</td>\n",
       "      <td>2</td>\n",
       "      <td>2</td>\n",
       "      <td>²</td>\n",
       "    </tr>\n",
       "    <tr>\n",
       "      <th>27</th>\n",
       "      <td>R$ 190.000</td>\n",
       "      <td>3quartos2banheiros95m²</td>\n",
       "      <td>190000</td>\n",
       "      <td>Aflitos</td>\n",
       "      <td>3</td>\n",
       "      <td>2</td>\n",
       "      <td>²</td>\n",
       "    </tr>\n",
       "    <tr>\n",
       "      <th>45</th>\n",
       "      <td>R$ 200.000</td>\n",
       "      <td>2quartos1suíte1banheiro 100m²</td>\n",
       "      <td>200000</td>\n",
       "      <td>Boa Vista</td>\n",
       "      <td>2</td>\n",
       "      <td>1</td>\n",
       "      <td>²</td>\n",
       "    </tr>\n",
       "    <tr>\n",
       "      <th>47</th>\n",
       "      <td>R$ 200.000</td>\n",
       "      <td>1quarto1banheiro 27,49m²</td>\n",
       "      <td>200000</td>\n",
       "      <td>Boa Viagem</td>\n",
       "      <td>1</td>\n",
       "      <td>1</td>\n",
       "      <td>²</td>\n",
       "    </tr>\n",
       "  </tbody>\n",
       "</table>\n",
       "</div>"
      ],
      "text/plain": [
       "        prices                          other  y_price  X_location  X_bedroom  \\\n",
       "1   R$ 130.000       1quarto1banheiro 58,40m²   130000   Boa Vista          1   \n",
       "11  R$ 160.000  2quartos1suíte2banheiros100m²   160000   Boa Vista          2   \n",
       "27  R$ 190.000         3quartos2banheiros95m²   190000     Aflitos          3   \n",
       "45  R$ 200.000  2quartos1suíte1banheiro 100m²   200000   Boa Vista          2   \n",
       "47  R$ 200.000       1quarto1banheiro 27,49m²   200000  Boa Viagem          1   \n",
       "\n",
       "    X_bathroom X_garage  \n",
       "1            1        ²  \n",
       "11           2        ²  \n",
       "27           2        ²  \n",
       "45           1        ²  \n",
       "47           1        ²  "
      ]
     },
     "execution_count": 25,
     "metadata": {},
     "output_type": "execute_result"
    }
   ],
   "source": [
    "raw_data2[raw_data2['X_garage'] == '²'].head()"
   ]
  },
  {
   "cell_type": "code",
   "execution_count": 26,
   "metadata": {},
   "outputs": [
    {
     "data": {
      "text/plain": [
       "47"
      ]
     },
     "execution_count": 26,
     "metadata": {},
     "output_type": "execute_result"
    }
   ],
   "source": [
    "len(raw_data2[raw_data2['X_garage'] == '²'])"
   ]
  },
  {
   "cell_type": "code",
   "execution_count": 27,
   "metadata": {},
   "outputs": [],
   "source": [
    "raw_data2 = raw_data2[raw_data2['X_garage'] != '²']"
   ]
  },
  {
   "cell_type": "code",
   "execution_count": 28,
   "metadata": {},
   "outputs": [],
   "source": [
    "raw_data2['X_garage'] = raw_data2['X_garage'].apply(lambda x: int(x))"
   ]
  },
  {
   "cell_type": "markdown",
   "metadata": {},
   "source": [
    "### 2.3.4 ['Tamanho']"
   ]
  },
  {
   "cell_type": "code",
   "execution_count": 29,
   "metadata": {},
   "outputs": [
    {
     "data": {
      "text/html": [
       "<div>\n",
       "<style scoped>\n",
       "    .dataframe tbody tr th:only-of-type {\n",
       "        vertical-align: middle;\n",
       "    }\n",
       "\n",
       "    .dataframe tbody tr th {\n",
       "        vertical-align: top;\n",
       "    }\n",
       "\n",
       "    .dataframe thead th {\n",
       "        text-align: right;\n",
       "    }\n",
       "</style>\n",
       "<table border=\"1\" class=\"dataframe\">\n",
       "  <thead>\n",
       "    <tr style=\"text-align: right;\">\n",
       "      <th></th>\n",
       "      <th>prices</th>\n",
       "      <th>other</th>\n",
       "      <th>y_price</th>\n",
       "      <th>X_location</th>\n",
       "      <th>X_bedroom</th>\n",
       "      <th>X_bathroom</th>\n",
       "      <th>X_garage</th>\n",
       "    </tr>\n",
       "  </thead>\n",
       "  <tbody>\n",
       "    <tr>\n",
       "      <th>0</th>\n",
       "      <td>R$ 80.000</td>\n",
       "      <td>2quartos2banheiros1vaga67m²</td>\n",
       "      <td>80000</td>\n",
       "      <td>Campo Grande</td>\n",
       "      <td>2</td>\n",
       "      <td>2</td>\n",
       "      <td>1</td>\n",
       "    </tr>\n",
       "    <tr>\n",
       "      <th>2</th>\n",
       "      <td>R$ 130.000</td>\n",
       "      <td>2quartos1banheiro 1vaga65m²</td>\n",
       "      <td>130000</td>\n",
       "      <td>Linha do Tiro</td>\n",
       "      <td>2</td>\n",
       "      <td>1</td>\n",
       "      <td>1</td>\n",
       "    </tr>\n",
       "    <tr>\n",
       "      <th>3</th>\n",
       "      <td>R$ 132.000R$ 630/ano</td>\n",
       "      <td>2quartos1banheiro 1vaga50m²</td>\n",
       "      <td>132000</td>\n",
       "      <td>Várzea</td>\n",
       "      <td>2</td>\n",
       "      <td>1</td>\n",
       "      <td>1</td>\n",
       "    </tr>\n",
       "    <tr>\n",
       "      <th>4</th>\n",
       "      <td>R$ 140.000</td>\n",
       "      <td>2quartos1banheiro 80vagas41m²</td>\n",
       "      <td>140000</td>\n",
       "      <td>Tejipió</td>\n",
       "      <td>2</td>\n",
       "      <td>1</td>\n",
       "      <td>0</td>\n",
       "    </tr>\n",
       "    <tr>\n",
       "      <th>5</th>\n",
       "      <td>R$ 145.000R$ 720/ano</td>\n",
       "      <td>2quartos1banheiro 1vaga50m²</td>\n",
       "      <td>145000</td>\n",
       "      <td>Várzea</td>\n",
       "      <td>2</td>\n",
       "      <td>1</td>\n",
       "      <td>1</td>\n",
       "    </tr>\n",
       "  </tbody>\n",
       "</table>\n",
       "</div>"
      ],
      "text/plain": [
       "                 prices                          other  y_price  \\\n",
       "0             R$ 80.000    2quartos2banheiros1vaga67m²    80000   \n",
       "2            R$ 130.000    2quartos1banheiro 1vaga65m²   130000   \n",
       "3  R$ 132.000R$ 630/ano    2quartos1banheiro 1vaga50m²   132000   \n",
       "4            R$ 140.000  2quartos1banheiro 80vagas41m²   140000   \n",
       "5  R$ 145.000R$ 720/ano    2quartos1banheiro 1vaga50m²   145000   \n",
       "\n",
       "      X_location  X_bedroom  X_bathroom  X_garage  \n",
       "0   Campo Grande          2           2         1  \n",
       "2  Linha do Tiro          2           1         1  \n",
       "3         Várzea          2           1         1  \n",
       "4        Tejipió          2           1         0  \n",
       "5         Várzea          2           1         1  "
      ]
     },
     "execution_count": 29,
     "metadata": {},
     "output_type": "execute_result"
    }
   ],
   "source": [
    "raw_data2.head()"
   ]
  },
  {
   "cell_type": "code",
   "execution_count": 30,
   "metadata": {},
   "outputs": [],
   "source": [
    "raw_data2['X_size'] = raw_data2.other.apply(lambda x: int(float(x.split('vaga')[1].replace('m²','').replace('s','').replace(',','.'))))"
   ]
  },
  {
   "cell_type": "code",
   "execution_count": 31,
   "metadata": {},
   "outputs": [
    {
     "data": {
      "text/plain": [
       "array([ 67,  65,  50,  41,  80,  74,  68,  70,  25,  64,  55,  75,  52,\n",
       "        73,  34, 100,  45,  28,  33,  78,  56,  30,  61,  38,  39,  23,\n",
       "        85,  60,  94,  18,  35,  82,  42,  47,  53,  93,  97,  29,  24,\n",
       "        63,  71,  69, 120,  72,  40,  44,  48,  76,  59,  31,  62,  77,\n",
       "        90,  32, 105,  36,  46,  81, 109, 130,  43,  58, 112,  49,  57,\n",
       "        92,  84,  54,  95, 110,  51, 107,  79, 106, 126, 127, 145,  88,\n",
       "        66, 117,  86,  87, 138,  89, 149,  96, 131, 144, 129, 133,  91,\n",
       "       132, 198, 114, 150, 125,  98, 160, 158, 115, 122, 147, 104, 118,\n",
       "       177, 151, 139, 103, 155, 116,  83, 180, 123, 143, 111, 142, 165,\n",
       "       152, 140, 135, 170, 156, 119, 136, 268,  99, 345, 163, 128, 176,\n",
       "       102, 178, 173, 175, 134, 121, 108, 113, 278, 230, 159, 168, 101,\n",
       "       148, 220, 237, 216, 124, 238, 190, 380, 250, 205, 146, 154, 227,\n",
       "       364, 212, 248, 210, 193, 137, 191, 223, 308, 218, 208, 164, 200,\n",
       "       153, 167, 217, 225, 141, 204, 196, 185, 240, 275, 307, 350, 247,\n",
       "       297, 166, 266, 174, 188, 201, 171, 197, 172, 236], dtype=int64)"
      ]
     },
     "execution_count": 31,
     "metadata": {},
     "output_type": "execute_result"
    }
   ],
   "source": [
    "raw_data2['X_size'].unique()"
   ]
  },
  {
   "cell_type": "code",
   "execution_count": 32,
   "metadata": {},
   "outputs": [
    {
     "data": {
      "text/html": [
       "<div>\n",
       "<style scoped>\n",
       "    .dataframe tbody tr th:only-of-type {\n",
       "        vertical-align: middle;\n",
       "    }\n",
       "\n",
       "    .dataframe tbody tr th {\n",
       "        vertical-align: top;\n",
       "    }\n",
       "\n",
       "    .dataframe thead th {\n",
       "        text-align: right;\n",
       "    }\n",
       "</style>\n",
       "<table border=\"1\" class=\"dataframe\">\n",
       "  <thead>\n",
       "    <tr style=\"text-align: right;\">\n",
       "      <th></th>\n",
       "      <th>prices</th>\n",
       "      <th>other</th>\n",
       "      <th>y_price</th>\n",
       "      <th>X_location</th>\n",
       "      <th>X_bedroom</th>\n",
       "      <th>X_bathroom</th>\n",
       "      <th>X_garage</th>\n",
       "      <th>X_size</th>\n",
       "    </tr>\n",
       "  </thead>\n",
       "  <tbody>\n",
       "    <tr>\n",
       "      <th>0</th>\n",
       "      <td>R$ 80.000</td>\n",
       "      <td>2quartos2banheiros1vaga67m²</td>\n",
       "      <td>80000</td>\n",
       "      <td>Campo Grande</td>\n",
       "      <td>2</td>\n",
       "      <td>2</td>\n",
       "      <td>1</td>\n",
       "      <td>67</td>\n",
       "    </tr>\n",
       "    <tr>\n",
       "      <th>2</th>\n",
       "      <td>R$ 130.000</td>\n",
       "      <td>2quartos1banheiro 1vaga65m²</td>\n",
       "      <td>130000</td>\n",
       "      <td>Linha do Tiro</td>\n",
       "      <td>2</td>\n",
       "      <td>1</td>\n",
       "      <td>1</td>\n",
       "      <td>65</td>\n",
       "    </tr>\n",
       "    <tr>\n",
       "      <th>3</th>\n",
       "      <td>R$ 132.000R$ 630/ano</td>\n",
       "      <td>2quartos1banheiro 1vaga50m²</td>\n",
       "      <td>132000</td>\n",
       "      <td>Várzea</td>\n",
       "      <td>2</td>\n",
       "      <td>1</td>\n",
       "      <td>1</td>\n",
       "      <td>50</td>\n",
       "    </tr>\n",
       "    <tr>\n",
       "      <th>4</th>\n",
       "      <td>R$ 140.000</td>\n",
       "      <td>2quartos1banheiro 80vagas41m²</td>\n",
       "      <td>140000</td>\n",
       "      <td>Tejipió</td>\n",
       "      <td>2</td>\n",
       "      <td>1</td>\n",
       "      <td>0</td>\n",
       "      <td>41</td>\n",
       "    </tr>\n",
       "    <tr>\n",
       "      <th>5</th>\n",
       "      <td>R$ 145.000R$ 720/ano</td>\n",
       "      <td>2quartos1banheiro 1vaga50m²</td>\n",
       "      <td>145000</td>\n",
       "      <td>Várzea</td>\n",
       "      <td>2</td>\n",
       "      <td>1</td>\n",
       "      <td>1</td>\n",
       "      <td>50</td>\n",
       "    </tr>\n",
       "  </tbody>\n",
       "</table>\n",
       "</div>"
      ],
      "text/plain": [
       "                 prices                          other  y_price  \\\n",
       "0             R$ 80.000    2quartos2banheiros1vaga67m²    80000   \n",
       "2            R$ 130.000    2quartos1banheiro 1vaga65m²   130000   \n",
       "3  R$ 132.000R$ 630/ano    2quartos1banheiro 1vaga50m²   132000   \n",
       "4            R$ 140.000  2quartos1banheiro 80vagas41m²   140000   \n",
       "5  R$ 145.000R$ 720/ano    2quartos1banheiro 1vaga50m²   145000   \n",
       "\n",
       "      X_location  X_bedroom  X_bathroom  X_garage  X_size  \n",
       "0   Campo Grande          2           2         1      67  \n",
       "2  Linha do Tiro          2           1         1      65  \n",
       "3         Várzea          2           1         1      50  \n",
       "4        Tejipió          2           1         0      41  \n",
       "5         Várzea          2           1         1      50  "
      ]
     },
     "execution_count": 32,
     "metadata": {},
     "output_type": "execute_result"
    }
   ],
   "source": [
    "raw_data2.head()"
   ]
  },
  {
   "cell_type": "markdown",
   "metadata": {},
   "source": [
    "## 2.4 Salvando Progresso (to_pickle)"
   ]
  },
  {
   "cell_type": "code",
   "execution_count": 33,
   "metadata": {},
   "outputs": [
    {
     "data": {
      "text/html": [
       "<div>\n",
       "<style scoped>\n",
       "    .dataframe tbody tr th:only-of-type {\n",
       "        vertical-align: middle;\n",
       "    }\n",
       "\n",
       "    .dataframe tbody tr th {\n",
       "        vertical-align: top;\n",
       "    }\n",
       "\n",
       "    .dataframe thead th {\n",
       "        text-align: right;\n",
       "    }\n",
       "</style>\n",
       "<table border=\"1\" class=\"dataframe\">\n",
       "  <thead>\n",
       "    <tr style=\"text-align: right;\">\n",
       "      <th></th>\n",
       "      <th>y_price</th>\n",
       "      <th>X_location</th>\n",
       "      <th>X_bedroom</th>\n",
       "      <th>X_bathroom</th>\n",
       "      <th>X_size</th>\n",
       "      <th>X_garage</th>\n",
       "    </tr>\n",
       "  </thead>\n",
       "  <tbody>\n",
       "    <tr>\n",
       "      <th>0</th>\n",
       "      <td>80000</td>\n",
       "      <td>Campo Grande</td>\n",
       "      <td>2</td>\n",
       "      <td>2</td>\n",
       "      <td>67</td>\n",
       "      <td>1</td>\n",
       "    </tr>\n",
       "    <tr>\n",
       "      <th>2</th>\n",
       "      <td>130000</td>\n",
       "      <td>Linha do Tiro</td>\n",
       "      <td>2</td>\n",
       "      <td>1</td>\n",
       "      <td>65</td>\n",
       "      <td>1</td>\n",
       "    </tr>\n",
       "    <tr>\n",
       "      <th>3</th>\n",
       "      <td>132000</td>\n",
       "      <td>Várzea</td>\n",
       "      <td>2</td>\n",
       "      <td>1</td>\n",
       "      <td>50</td>\n",
       "      <td>1</td>\n",
       "    </tr>\n",
       "    <tr>\n",
       "      <th>4</th>\n",
       "      <td>140000</td>\n",
       "      <td>Tejipió</td>\n",
       "      <td>2</td>\n",
       "      <td>1</td>\n",
       "      <td>41</td>\n",
       "      <td>0</td>\n",
       "    </tr>\n",
       "    <tr>\n",
       "      <th>5</th>\n",
       "      <td>145000</td>\n",
       "      <td>Várzea</td>\n",
       "      <td>2</td>\n",
       "      <td>1</td>\n",
       "      <td>50</td>\n",
       "      <td>1</td>\n",
       "    </tr>\n",
       "  </tbody>\n",
       "</table>\n",
       "</div>"
      ],
      "text/plain": [
       "   y_price     X_location  X_bedroom  X_bathroom  X_size  X_garage\n",
       "0    80000   Campo Grande          2           2      67         1\n",
       "2   130000  Linha do Tiro          2           1      65         1\n",
       "3   132000         Várzea          2           1      50         1\n",
       "4   140000        Tejipió          2           1      41         0\n",
       "5   145000         Várzea          2           1      50         1"
      ]
     },
     "execution_count": 33,
     "metadata": {},
     "output_type": "execute_result"
    }
   ],
   "source": [
    "df = raw_data2[['y_price', 'X_location', 'X_bedroom', 'X_bathroom', 'X_size', 'X_garage']]\n",
    "df.head()"
   ]
  },
  {
   "cell_type": "code",
   "execution_count": 331,
   "metadata": {},
   "outputs": [],
   "source": [
    "df.to_pickle('2 Apartamentos Dados Limpos.pkl')"
   ]
  },
  {
   "cell_type": "markdown",
   "metadata": {},
   "source": [
    "## 3º DataFrame\n",
    "\n",
    "Livre de NaN, mas esse é o conjunto com duplicatas. E obter os bairros parece que será um desafio aqui."
   ]
  },
  {
   "cell_type": "code",
   "execution_count": 2,
   "metadata": {},
   "outputs": [
    {
     "data": {
      "text/html": [
       "<div>\n",
       "<style scoped>\n",
       "    .dataframe tbody tr th:only-of-type {\n",
       "        vertical-align: middle;\n",
       "    }\n",
       "\n",
       "    .dataframe tbody tr th {\n",
       "        vertical-align: top;\n",
       "    }\n",
       "\n",
       "    .dataframe thead th {\n",
       "        text-align: right;\n",
       "    }\n",
       "</style>\n",
       "<table border=\"1\" class=\"dataframe\">\n",
       "  <thead>\n",
       "    <tr style=\"text-align: right;\">\n",
       "      <th></th>\n",
       "      <th>prices</th>\n",
       "      <th>locations</th>\n",
       "      <th>other</th>\n",
       "    </tr>\n",
       "  </thead>\n",
       "  <tbody>\n",
       "    <tr>\n",
       "      <th>0</th>\n",
       "      <td>R$ 1.700.000</td>\n",
       "      <td>Avenida Dezessete de Agosto, 2720 - Casa Fort...</td>\n",
       "      <td>207   Área m²     4   Quartos     4   Suíte...</td>\n",
       "    </tr>\n",
       "    <tr>\n",
       "      <th>1</th>\n",
       "      <td>Sob Consulta</td>\n",
       "      <td>Rua Eurico de Souza Leão, 541 - Cordeiro, Rec...</td>\n",
       "      <td>55-73   Área m²     1-3   Quartos     1   B...</td>\n",
       "    </tr>\n",
       "    <tr>\n",
       "      <th>2</th>\n",
       "      <td>R$ 780.000</td>\n",
       "      <td>Rua Wilfrid Rússel Shorto, 61 - Boa Viagem, R...</td>\n",
       "      <td>250   Área m²     4   Quartos     2   Suíte...</td>\n",
       "    </tr>\n",
       "    <tr>\n",
       "      <th>3</th>\n",
       "      <td>R$ 450.000</td>\n",
       "      <td>Estrada do Encanamento, 1342 - Casa Forte, Re...</td>\n",
       "      <td>82   Área m²     3   Quartos     1   Suíte ...</td>\n",
       "    </tr>\n",
       "    <tr>\n",
       "      <th>4</th>\n",
       "      <td>R$ 350.000</td>\n",
       "      <td>Rua Doutor Luiz Inácio Pessoa de Melo, 81 - B...</td>\n",
       "      <td>70   Área m²     2   Quartos     1   Suíte ...</td>\n",
       "    </tr>\n",
       "  </tbody>\n",
       "</table>\n",
       "</div>"
      ],
      "text/plain": [
       "                   prices                                          locations  \\\n",
       "0        R$ 1.700.000       Avenida Dezessete de Agosto, 2720 - Casa Fort...   \n",
       "1         Sob Consulta      Rua Eurico de Souza Leão, 541 - Cordeiro, Rec...   \n",
       "2          R$ 780.000       Rua Wilfrid Rússel Shorto, 61 - Boa Viagem, R...   \n",
       "3          R$ 450.000       Estrada do Encanamento, 1342 - Casa Forte, Re...   \n",
       "4          R$ 350.000       Rua Doutor Luiz Inácio Pessoa de Melo, 81 - B...   \n",
       "\n",
       "                                               other  \n",
       "0     207   Área m²     4   Quartos     4   Suíte...  \n",
       "1     55-73   Área m²     1-3   Quartos     1   B...  \n",
       "2     250   Área m²     4   Quartos     2   Suíte...  \n",
       "3     82   Área m²     3   Quartos     1   Suíte ...  \n",
       "4     70   Área m²     2   Quartos     1   Suíte ...  "
      ]
     },
     "execution_count": 2,
     "metadata": {},
     "output_type": "execute_result"
    }
   ],
   "source": [
    "raw_data3 = pd.read_csv('0.2 - Apartamentos Dados (Bruto).csv', index_col=0)\n",
    "raw_data3.head()"
   ]
  },
  {
   "cell_type": "code",
   "execution_count": 4,
   "metadata": {},
   "outputs": [
    {
     "data": {
      "text/plain": [
       "prices       0\n",
       "locations    0\n",
       "other        0\n",
       "dtype: int64"
      ]
     },
     "execution_count": 4,
     "metadata": {},
     "output_type": "execute_result"
    }
   ],
   "source": [
    "raw_data3.isna().sum() "
   ]
  },
  {
   "cell_type": "markdown",
   "metadata": {},
   "source": [
    "A grande esmagadora e imensa maioria dos dados são  duplicatas? ('-' )\n",
    "\n",
    "> As localizações são bem específicas então não poderia haver 299 apartamentos em \"Avenida Boa Viagem, 1616 - Boa Viagem, Recife - PE\""
   ]
  },
  {
   "cell_type": "code",
   "execution_count": 26,
   "metadata": {},
   "outputs": [
    {
     "data": {
      "text/plain": [
       "10728"
      ]
     },
     "execution_count": 26,
     "metadata": {},
     "output_type": "execute_result"
    }
   ],
   "source": [
    "raw_data3.duplicated().sum()"
   ]
  },
  {
   "cell_type": "code",
   "execution_count": 28,
   "metadata": {},
   "outputs": [
    {
     "data": {
      "text/plain": [
       "0.9966555183946488"
      ]
     },
     "execution_count": 28,
     "metadata": {},
     "output_type": "execute_result"
    }
   ],
   "source": [
    "raw_data3.duplicated().sum() / raw_data3.shape[0] # (º-º)"
   ]
  },
  {
   "cell_type": "code",
   "execution_count": 18,
   "metadata": {
    "scrolled": false
   },
   "outputs": [
    {
     "data": {
      "text/html": [
       "<div>\n",
       "<style scoped>\n",
       "    .dataframe tbody tr th:only-of-type {\n",
       "        vertical-align: middle;\n",
       "    }\n",
       "\n",
       "    .dataframe tbody tr th {\n",
       "        vertical-align: top;\n",
       "    }\n",
       "\n",
       "    .dataframe thead th {\n",
       "        text-align: right;\n",
       "    }\n",
       "</style>\n",
       "<table border=\"1\" class=\"dataframe\">\n",
       "  <thead>\n",
       "    <tr style=\"text-align: right;\">\n",
       "      <th></th>\n",
       "      <th>prices</th>\n",
       "      <th>other</th>\n",
       "    </tr>\n",
       "    <tr>\n",
       "      <th>locations</th>\n",
       "      <th></th>\n",
       "      <th></th>\n",
       "    </tr>\n",
       "  </thead>\n",
       "  <tbody>\n",
       "    <tr>\n",
       "      <th>Avenida Boa Viagem, 1616 - Boa Viagem, Recife - PE</th>\n",
       "      <td>299</td>\n",
       "      <td>299</td>\n",
       "    </tr>\n",
       "    <tr>\n",
       "      <th>Avenida Boa Viagem, 1662 - Boa Viagem, Recife - PE</th>\n",
       "      <td>299</td>\n",
       "      <td>299</td>\n",
       "    </tr>\n",
       "    <tr>\n",
       "      <th>Avenida Dezessete de Agosto, 2720 - Casa Forte, Recife - PE</th>\n",
       "      <td>299</td>\n",
       "      <td>299</td>\n",
       "    </tr>\n",
       "    <tr>\n",
       "      <th>Avenida Engenheiro Domingos Ferreira, 2842 - Boa Viagem, Recife - PE</th>\n",
       "      <td>299</td>\n",
       "      <td>299</td>\n",
       "    </tr>\n",
       "    <tr>\n",
       "      <th>Avenida República do Líbano, 560 - Pina, Recife - PE</th>\n",
       "      <td>299</td>\n",
       "      <td>299</td>\n",
       "    </tr>\n",
       "    <tr>\n",
       "      <th>Avenida Santos Dumont - Aflitos, Recife - PE</th>\n",
       "      <td>299</td>\n",
       "      <td>299</td>\n",
       "    </tr>\n",
       "    <tr>\n",
       "      <th>Avenida Santos Dumont, 1500 - Ponto de Parada, Recife - PE</th>\n",
       "      <td>299</td>\n",
       "      <td>299</td>\n",
       "    </tr>\n",
       "    <tr>\n",
       "      <th>Avenida Visconde de Albuquerque, 186 - Madalena, Recife - PE</th>\n",
       "      <td>299</td>\n",
       "      <td>299</td>\n",
       "    </tr>\n",
       "    <tr>\n",
       "      <th>Encruzilhada, Recife - PE</th>\n",
       "      <td>299</td>\n",
       "      <td>299</td>\n",
       "    </tr>\n",
       "    <tr>\n",
       "      <th>Estrada do Arraial, 3574 - Casa Amarela, Recife - PE</th>\n",
       "      <td>299</td>\n",
       "      <td>299</td>\n",
       "    </tr>\n",
       "    <tr>\n",
       "      <th>Estrada do Encanamento, 1342 - Casa Forte, Recife - PE</th>\n",
       "      <td>299</td>\n",
       "      <td>299</td>\n",
       "    </tr>\n",
       "    <tr>\n",
       "      <th>Rua Arnaldo Bastos - Madalena, Recife - PE</th>\n",
       "      <td>299</td>\n",
       "      <td>299</td>\n",
       "    </tr>\n",
       "    <tr>\n",
       "      <th>Rua Benjamin Constant, 122 - Torre, Recife - PE</th>\n",
       "      <td>299</td>\n",
       "      <td>299</td>\n",
       "    </tr>\n",
       "    <tr>\n",
       "      <th>Rua Bruno Veloso, 422 - Boa Viagem, Recife - PE</th>\n",
       "      <td>299</td>\n",
       "      <td>299</td>\n",
       "    </tr>\n",
       "    <tr>\n",
       "      <th>Rua Caio Pereira, 225 - Rosarinho, Recife - PE</th>\n",
       "      <td>299</td>\n",
       "      <td>299</td>\n",
       "    </tr>\n",
       "    <tr>\n",
       "      <th>Rua Dois de Julho, 251 - Santo Amaro, Recife - PE</th>\n",
       "      <td>299</td>\n",
       "      <td>299</td>\n",
       "    </tr>\n",
       "    <tr>\n",
       "      <th>Rua Doutor João Santos Filho, 250 - Parnamirim, Recife - PE</th>\n",
       "      <td>299</td>\n",
       "      <td>299</td>\n",
       "    </tr>\n",
       "    <tr>\n",
       "      <th>Rua Doutor Luiz Inácio Pessoa de Melo, 81 - Boa Viagem, Recife - PE</th>\n",
       "      <td>299</td>\n",
       "      <td>299</td>\n",
       "    </tr>\n",
       "    <tr>\n",
       "      <th>Rua Ernani Braga, 109 - Madalena, Recife - PE</th>\n",
       "      <td>299</td>\n",
       "      <td>299</td>\n",
       "    </tr>\n",
       "    <tr>\n",
       "      <th>Rua Eurico de Souza Leão, 541 - Cordeiro, Recife - PE</th>\n",
       "      <td>299</td>\n",
       "      <td>299</td>\n",
       "    </tr>\n",
       "    <tr>\n",
       "      <th>Rua Félix de Brito Melo, 202 - Boa Viagem, Recife - PE</th>\n",
       "      <td>299</td>\n",
       "      <td>299</td>\n",
       "    </tr>\n",
       "    <tr>\n",
       "      <th>Rua Gervásio Fioravante - Graças, Recife - PE</th>\n",
       "      <td>299</td>\n",
       "      <td>299</td>\n",
       "    </tr>\n",
       "    <tr>\n",
       "      <th>Rua Guilherme Salazar, 150 - Poço, Recife - PE</th>\n",
       "      <td>299</td>\n",
       "      <td>299</td>\n",
       "    </tr>\n",
       "    <tr>\n",
       "      <th>Rua Japecanga, Apto. 203 - Prado, Recife - PE</th>\n",
       "      <td>299</td>\n",
       "      <td>299</td>\n",
       "    </tr>\n",
       "    <tr>\n",
       "      <th>Rua Jonathas de Vasconcelos, 427 - Boa Viagem, Recife - PE</th>\n",
       "      <td>299</td>\n",
       "      <td>299</td>\n",
       "    </tr>\n",
       "    <tr>\n",
       "      <th>Rua Jorge Couceiro da Costa Eiras, 443 - Boa Viagem, Recife - PE</th>\n",
       "      <td>299</td>\n",
       "      <td>299</td>\n",
       "    </tr>\n",
       "    <tr>\n",
       "      <th>Rua Le Parc, 100 - Imbiribeira, Recife - PE</th>\n",
       "      <td>299</td>\n",
       "      <td>299</td>\n",
       "    </tr>\n",
       "    <tr>\n",
       "      <th>Rua Manuel de Barros Lima, 173 - Campo Grande, Recife - PE</th>\n",
       "      <td>299</td>\n",
       "      <td>299</td>\n",
       "    </tr>\n",
       "    <tr>\n",
       "      <th>Rua Padre Roma, 669 - Parnamirim, Recife - PE</th>\n",
       "      <td>299</td>\n",
       "      <td>299</td>\n",
       "    </tr>\n",
       "    <tr>\n",
       "      <th>Rua Professor Augusto Lins e Silva, 356 - Boa Viagem, Recife - PE</th>\n",
       "      <td>299</td>\n",
       "      <td>299</td>\n",
       "    </tr>\n",
       "    <tr>\n",
       "      <th>Rua Real da Torre, 1275 - Madalena, Recife - PE</th>\n",
       "      <td>299</td>\n",
       "      <td>299</td>\n",
       "    </tr>\n",
       "    <tr>\n",
       "      <th>Rua Tenente Antônio João, 61 - Graças, Recife - PE</th>\n",
       "      <td>299</td>\n",
       "      <td>299</td>\n",
       "    </tr>\n",
       "    <tr>\n",
       "      <th>Rua Wilfrid Rússel Shorto, 61 - Boa Viagem, Recife - PE</th>\n",
       "      <td>299</td>\n",
       "      <td>299</td>\n",
       "    </tr>\n",
       "    <tr>\n",
       "      <th>Rua da Angustura, 195 - Aflitos, Recife - PE</th>\n",
       "      <td>299</td>\n",
       "      <td>299</td>\n",
       "    </tr>\n",
       "    <tr>\n",
       "      <th>Rua do Futuro, 305 - Graças, Recife - PE</th>\n",
       "      <td>299</td>\n",
       "      <td>299</td>\n",
       "    </tr>\n",
       "    <tr>\n",
       "      <th>Travessa Maria Carolina, 816 - Boa Viagem, Recife - PE</th>\n",
       "      <td>299</td>\n",
       "      <td>299</td>\n",
       "    </tr>\n",
       "  </tbody>\n",
       "</table>\n",
       "</div>"
      ],
      "text/plain": [
       "                                                    prices  other\n",
       "locations                                                        \n",
       " Avenida Boa Viagem, 1616 - Boa Viagem, Recife ...     299    299\n",
       " Avenida Boa Viagem, 1662 - Boa Viagem, Recife ...     299    299\n",
       " Avenida Dezessete de Agosto, 2720 - Casa Forte...     299    299\n",
       " Avenida Engenheiro Domingos Ferreira, 2842 - B...     299    299\n",
       " Avenida República do Líbano, 560 - Pina, Recif...     299    299\n",
       " Avenida Santos Dumont - Aflitos, Recife - PE          299    299\n",
       " Avenida Santos Dumont, 1500 - Ponto de Parada,...     299    299\n",
       " Avenida Visconde de Albuquerque, 186 - Madalen...     299    299\n",
       " Encruzilhada, Recife - PE                             299    299\n",
       " Estrada do Arraial, 3574 - Casa Amarela, Recif...     299    299\n",
       " Estrada do Encanamento, 1342 - Casa Forte, Rec...     299    299\n",
       " Rua Arnaldo Bastos - Madalena, Recife - PE            299    299\n",
       " Rua Benjamin Constant, 122 - Torre, Recife - PE       299    299\n",
       " Rua Bruno Veloso, 422 - Boa Viagem, Recife - PE       299    299\n",
       " Rua Caio Pereira, 225 - Rosarinho, Recife - PE        299    299\n",
       " Rua Dois de Julho, 251 - Santo Amaro, Recife -...     299    299\n",
       " Rua Doutor João Santos Filho, 250 - Parnamirim...     299    299\n",
       " Rua Doutor Luiz Inácio Pessoa de Melo, 81 - Bo...     299    299\n",
       " Rua Ernani Braga, 109 - Madalena, Recife - PE         299    299\n",
       " Rua Eurico de Souza Leão, 541 - Cordeiro, Reci...     299    299\n",
       " Rua Félix de Brito Melo, 202 - Boa Viagem, Rec...     299    299\n",
       " Rua Gervásio Fioravante - Graças, Recife - PE         299    299\n",
       " Rua Guilherme Salazar, 150 - Poço, Recife - PE        299    299\n",
       " Rua Japecanga, Apto. 203 - Prado, Recife - PE         299    299\n",
       " Rua Jonathas de Vasconcelos, 427 - Boa Viagem,...     299    299\n",
       " Rua Jorge Couceiro da Costa Eiras, 443 - Boa V...     299    299\n",
       " Rua Le Parc, 100 - Imbiribeira, Recife - PE           299    299\n",
       " Rua Manuel de Barros Lima, 173 - Campo Grande,...     299    299\n",
       " Rua Padre Roma, 669 - Parnamirim, Recife - PE         299    299\n",
       " Rua Professor Augusto Lins e Silva, 356 - Boa ...     299    299\n",
       " Rua Real da Torre, 1275 - Madalena, Recife - PE       299    299\n",
       " Rua Tenente Antônio João, 61 - Graças, Recife ...     299    299\n",
       " Rua Wilfrid Rússel Shorto, 61 - Boa Viagem, Re...     299    299\n",
       " Rua da Angustura, 195 - Aflitos, Recife - PE          299    299\n",
       " Rua do Futuro, 305 - Graças, Recife - PE              299    299\n",
       " Travessa Maria Carolina, 816 - Boa Viagem, Rec...     299    299"
      ]
     },
     "execution_count": 18,
     "metadata": {},
     "output_type": "execute_result"
    }
   ],
   "source": [
    "raw_data3.groupby('locations').count()"
   ]
  },
  {
   "cell_type": "markdown",
   "metadata": {},
   "source": [
    "**Tanto trabalho para salvar 36 dados? hummm... não, vamos partir direto para análise dos dados que já temos.**"
   ]
  },
  {
   "cell_type": "code",
   "execution_count": 30,
   "metadata": {},
   "outputs": [
    {
     "data": {
      "text/plain": [
       "36"
      ]
     },
     "execution_count": 30,
     "metadata": {},
     "output_type": "execute_result"
    }
   ],
   "source": [
    "len(raw_data3.drop_duplicates())"
   ]
  }
 ],
 "metadata": {
  "kernelspec": {
   "display_name": "Python 3",
   "language": "python",
   "name": "python3"
  },
  "language_info": {
   "codemirror_mode": {
    "name": "ipython",
    "version": 3
   },
   "file_extension": ".py",
   "mimetype": "text/x-python",
   "name": "python",
   "nbconvert_exporter": "python",
   "pygments_lexer": "ipython3",
   "version": "3.7.7"
  }
 },
 "nbformat": 4,
 "nbformat_minor": 4
}
