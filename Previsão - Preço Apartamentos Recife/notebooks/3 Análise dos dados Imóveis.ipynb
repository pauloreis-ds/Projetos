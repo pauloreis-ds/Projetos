{
 "cells": [
  {
   "cell_type": "markdown",
   "metadata": {},
   "source": [
    "# Análise dos dados \n",
    "\n",
    "Selecionando os dados que serão úteis.\n",
    "\n",
    "## Agenda\n",
    "        Em busca de irregularidades.\n",
    "        1 - Preço por m²\n",
    "        2 - Relação Banheiros por Quartos\n",
    "        3 - Estimando quantidade de banheiro (2º DataFrame)\n",
    "            3.1 - Preço por m²\n",
    "            3.2 - Relação Banheiros por Quartos\n",
    "        4 - Unindo as tabelas\n",
    "            Salvando Progresso \\o\\|o|/o/\n",
    "        5 - Garagem e Bairros \n",
    "            (dados extras)\n",
    "            5.1 Garagem\n",
    "            5.2 Bairros\n",
    "        6 - Reanálise da análise .-.\n",
    "            "
   ]
  },
  {
   "cell_type": "code",
   "execution_count": 2,
   "metadata": {},
   "outputs": [],
   "source": [
    "import pandas as pd\n",
    "import numpy as np\n",
    "import seaborn as sns\n",
    "import matplotlib.pyplot as plt\n",
    "sns.set_style('whitegrid')"
   ]
  },
  {
   "cell_type": "markdown",
   "metadata": {},
   "source": [
    "> Começar pela segunda tabela, pois a outra não contém coluna ['banheiro']. Criaremos tal coluna baseada no padrão quarto/banheiro/m² do dataset que estamos a limpar."
   ]
  },
  {
   "cell_type": "code",
   "execution_count": 30,
   "metadata": {},
   "outputs": [
    {
     "data": {
      "text/html": [
       "<div>\n",
       "<style scoped>\n",
       "    .dataframe tbody tr th:only-of-type {\n",
       "        vertical-align: middle;\n",
       "    }\n",
       "\n",
       "    .dataframe tbody tr th {\n",
       "        vertical-align: top;\n",
       "    }\n",
       "\n",
       "    .dataframe thead th {\n",
       "        text-align: right;\n",
       "    }\n",
       "</style>\n",
       "<table border=\"1\" class=\"dataframe\">\n",
       "  <thead>\n",
       "    <tr style=\"text-align: right;\">\n",
       "      <th></th>\n",
       "      <th>price</th>\n",
       "      <th>district</th>\n",
       "      <th>bedroom</th>\n",
       "      <th>bathroom</th>\n",
       "      <th>size</th>\n",
       "      <th>garage</th>\n",
       "    </tr>\n",
       "  </thead>\n",
       "  <tbody>\n",
       "    <tr>\n",
       "      <th>0</th>\n",
       "      <td>80000</td>\n",
       "      <td>Campo Grande</td>\n",
       "      <td>2</td>\n",
       "      <td>2</td>\n",
       "      <td>67</td>\n",
       "      <td>1</td>\n",
       "    </tr>\n",
       "    <tr>\n",
       "      <th>2</th>\n",
       "      <td>130000</td>\n",
       "      <td>Linha do Tiro</td>\n",
       "      <td>2</td>\n",
       "      <td>1</td>\n",
       "      <td>65</td>\n",
       "      <td>1</td>\n",
       "    </tr>\n",
       "    <tr>\n",
       "      <th>3</th>\n",
       "      <td>132000</td>\n",
       "      <td>Várzea</td>\n",
       "      <td>2</td>\n",
       "      <td>1</td>\n",
       "      <td>50</td>\n",
       "      <td>1</td>\n",
       "    </tr>\n",
       "    <tr>\n",
       "      <th>4</th>\n",
       "      <td>140000</td>\n",
       "      <td>Tejipió</td>\n",
       "      <td>2</td>\n",
       "      <td>1</td>\n",
       "      <td>41</td>\n",
       "      <td>0</td>\n",
       "    </tr>\n",
       "    <tr>\n",
       "      <th>5</th>\n",
       "      <td>145000</td>\n",
       "      <td>Várzea</td>\n",
       "      <td>2</td>\n",
       "      <td>1</td>\n",
       "      <td>50</td>\n",
       "      <td>1</td>\n",
       "    </tr>\n",
       "  </tbody>\n",
       "</table>\n",
       "</div>"
      ],
      "text/plain": [
       "    price       district  bedroom  bathroom  size  garage\n",
       "0   80000   Campo Grande        2         2    67       1\n",
       "2  130000  Linha do Tiro        2         1    65       1\n",
       "3  132000         Várzea        2         1    50       1\n",
       "4  140000        Tejipió        2         1    41       0\n",
       "5  145000         Várzea        2         1    50       1"
      ]
     },
     "execution_count": 30,
     "metadata": {},
     "output_type": "execute_result"
    }
   ],
   "source": [
    "data = pd.read_pickle('2 Apartamentos Dados Limpos.pkl')\n",
    "\n",
    "data.rename(columns={\"X_location\": \"district\", \"X_size\": \"size\", \"X_bedroom\": \"bedroom\", \n",
    "                     \"X_bathroom\": \"bathroom\", \"X_garage\": \"garage\", \"y_price\": \"price\"},\n",
    "                      inplace = True)\n",
    "data.head()"
   ]
  },
  {
   "cell_type": "markdown",
   "metadata": {},
   "source": [
    "## Em busca de irregularidades.\n",
    "\n",
    "Observando alguns dados estatísticos vemos uma certa normalidade com os valores mínimos e máximos.\n",
    "\n",
    "    Vamos observar mais de perto.\n",
    "\n",
    "Antes vamos criar uma coluna para análisar o preço por m².\n",
    "\n",
    "## 1 - Preço por m²"
   ]
  },
  {
   "cell_type": "code",
   "execution_count": 31,
   "metadata": {},
   "outputs": [],
   "source": [
    "data['price by m²'] = data['price']/data['size']"
   ]
  },
  {
   "cell_type": "code",
   "execution_count": 32,
   "metadata": {},
   "outputs": [
    {
     "data": {
      "text/html": [
       "<div>\n",
       "<style scoped>\n",
       "    .dataframe tbody tr th:only-of-type {\n",
       "        vertical-align: middle;\n",
       "    }\n",
       "\n",
       "    .dataframe tbody tr th {\n",
       "        vertical-align: top;\n",
       "    }\n",
       "\n",
       "    .dataframe thead th {\n",
       "        text-align: right;\n",
       "    }\n",
       "</style>\n",
       "<table border=\"1\" class=\"dataframe\">\n",
       "  <thead>\n",
       "    <tr style=\"text-align: right;\">\n",
       "      <th></th>\n",
       "      <th>price</th>\n",
       "      <th>bedroom</th>\n",
       "      <th>bathroom</th>\n",
       "      <th>size</th>\n",
       "      <th>garage</th>\n",
       "      <th>price by m²</th>\n",
       "    </tr>\n",
       "  </thead>\n",
       "  <tbody>\n",
       "    <tr>\n",
       "      <th>count</th>\n",
       "      <td>1.164000e+03</td>\n",
       "      <td>1164.000000</td>\n",
       "      <td>1164.000000</td>\n",
       "      <td>1164.000000</td>\n",
       "      <td>1164.000000</td>\n",
       "      <td>1164.000000</td>\n",
       "    </tr>\n",
       "    <tr>\n",
       "      <th>mean</th>\n",
       "      <td>5.228815e+05</td>\n",
       "      <td>2.795533</td>\n",
       "      <td>2.117698</td>\n",
       "      <td>95.969931</td>\n",
       "      <td>1.505155</td>\n",
       "      <td>5808.520820</td>\n",
       "    </tr>\n",
       "    <tr>\n",
       "      <th>std</th>\n",
       "      <td>2.828549e+05</td>\n",
       "      <td>0.868547</td>\n",
       "      <td>1.139789</td>\n",
       "      <td>52.722280</td>\n",
       "      <td>0.633657</td>\n",
       "      <td>1992.358716</td>\n",
       "    </tr>\n",
       "    <tr>\n",
       "      <th>min</th>\n",
       "      <td>8.000000e+04</td>\n",
       "      <td>1.000000</td>\n",
       "      <td>1.000000</td>\n",
       "      <td>18.000000</td>\n",
       "      <td>0.000000</td>\n",
       "      <td>1194.029851</td>\n",
       "    </tr>\n",
       "    <tr>\n",
       "      <th>25%</th>\n",
       "      <td>3.150000e+05</td>\n",
       "      <td>2.000000</td>\n",
       "      <td>1.000000</td>\n",
       "      <td>59.000000</td>\n",
       "      <td>1.000000</td>\n",
       "      <td>4435.059725</td>\n",
       "    </tr>\n",
       "    <tr>\n",
       "      <th>50%</th>\n",
       "      <td>4.200000e+05</td>\n",
       "      <td>3.000000</td>\n",
       "      <td>2.000000</td>\n",
       "      <td>81.000000</td>\n",
       "      <td>1.000000</td>\n",
       "      <td>5729.166667</td>\n",
       "    </tr>\n",
       "    <tr>\n",
       "      <th>75%</th>\n",
       "      <td>6.800000e+05</td>\n",
       "      <td>3.000000</td>\n",
       "      <td>3.000000</td>\n",
       "      <td>124.000000</td>\n",
       "      <td>2.000000</td>\n",
       "      <td>6910.541586</td>\n",
       "    </tr>\n",
       "    <tr>\n",
       "      <th>max</th>\n",
       "      <td>1.400000e+06</td>\n",
       "      <td>5.000000</td>\n",
       "      <td>6.000000</td>\n",
       "      <td>380.000000</td>\n",
       "      <td>4.000000</td>\n",
       "      <td>14473.684211</td>\n",
       "    </tr>\n",
       "  </tbody>\n",
       "</table>\n",
       "</div>"
      ],
      "text/plain": [
       "              price      bedroom     bathroom         size       garage  \\\n",
       "count  1.164000e+03  1164.000000  1164.000000  1164.000000  1164.000000   \n",
       "mean   5.228815e+05     2.795533     2.117698    95.969931     1.505155   \n",
       "std    2.828549e+05     0.868547     1.139789    52.722280     0.633657   \n",
       "min    8.000000e+04     1.000000     1.000000    18.000000     0.000000   \n",
       "25%    3.150000e+05     2.000000     1.000000    59.000000     1.000000   \n",
       "50%    4.200000e+05     3.000000     2.000000    81.000000     1.000000   \n",
       "75%    6.800000e+05     3.000000     3.000000   124.000000     2.000000   \n",
       "max    1.400000e+06     5.000000     6.000000   380.000000     4.000000   \n",
       "\n",
       "        price by m²  \n",
       "count   1164.000000  \n",
       "mean    5808.520820  \n",
       "std     1992.358716  \n",
       "min     1194.029851  \n",
       "25%     4435.059725  \n",
       "50%     5729.166667  \n",
       "75%     6910.541586  \n",
       "max    14473.684211  "
      ]
     },
     "execution_count": 32,
     "metadata": {},
     "output_type": "execute_result"
    }
   ],
   "source": [
    "data.describe()"
   ]
  },
  {
   "cell_type": "markdown",
   "metadata": {},
   "source": [
    "Abaixo notamos que o preço dos imóveis com relação ao m² está um tanto quanto disperso. Vemos apartamentos com um valor alto no m² mas o preço bem inferior ao esperado. O mesmo para m² mais baixos com um alto preço de venda.\n",
    "\n",
    "> Para retirar esses outliers vamos focar nos imóveis com preço por m² entre 3500 e 7000."
   ]
  },
  {
   "cell_type": "code",
   "execution_count": 33,
   "metadata": {},
   "outputs": [
    {
     "data": {
      "image/png": "[encoded data removed]",
      "text/plain": [
       "<Figure size 432x288 with 1 Axes>"
      ]
     },
     "metadata": {},
     "output_type": "display_data"
    }
   ],
   "source": [
    "plt.scatter(data['size'], data.price)\n",
    "plt.show()"
   ]
  },
  {
   "cell_type": "code",
   "execution_count": 35,
   "metadata": {},
   "outputs": [
    {
     "data": {
      "image/png": "[encoded data removed]",
      "text/plain": [
       "<Figure size 432x288 with 1 Axes>"
      ]
     },
     "metadata": {},
     "output_type": "display_data"
    }
   ],
   "source": [
    "df = data[(data['price by m²'] > 3500) & (data['price by m²'] < 7000) ]\n",
    "plt.scatter(df['size'], df.price)\n",
    "plt.show()"
   ]
  },
  {
   "cell_type": "markdown",
   "metadata": {},
   "source": [
    "> Após essa alteração, a relação entre o número de quartos e o preço também começa a ficar mais aparente... já que, teoricamente, quanto maior a quantidade de quartos, maior o m² e consequentemente, um preço mais elevado."
   ]
  },
  {
   "cell_type": "code",
   "execution_count": 36,
   "metadata": {},
   "outputs": [
    {
     "data": {
      "image/png": "[encoded data removed]",
      "text/plain": [
       "<Figure size 720x288 with 2 Axes>"
      ]
     },
     "metadata": {},
     "output_type": "display_data"
    }
   ],
   "source": [
    "sns.set_style('darkgrid')\n",
    "fig, axes = plt.subplots(nrows=1, ncols=2, figsize=(10, 4))\n",
    "axes[0].scatter(data['bedroom'], data.price)\n",
    "axes[1].scatter(df['bedroom'], df.price)\n",
    "plt.show()"
   ]
  },
  {
   "cell_type": "markdown",
   "metadata": {},
   "source": [
    "## 2 - Relação Banheiros por Quartos\n",
    "\n",
    "O gráfico demostra observações difíceis de ocorrer. Apartamento com 4 quartos e apenas 1 banheiro, por exemplo. Precisamos fazer essa limpeza para deixar essa relação mais fácil do modelo entender. Mesmo que sejam situações possíveis de acontecer, não são normais e não temos dados o suficiente para o modelo identificá-los corretamente, por assim dizer, eles são ruídos.\n",
    "\n",
    "    Examinar, editar, examinar, editar."
   ]
  },
  {
   "cell_type": "code",
   "execution_count": 38,
   "metadata": {},
   "outputs": [
    {
     "data": {
      "image/png": "[encoded data removed]",
      "text/plain": [
       "<Figure size 432x288 with 1 Axes>"
      ]
     },
     "metadata": {},
     "output_type": "display_data"
    }
   ],
   "source": [
    "plt.scatter(df.bedroom, df.bathroom)\n",
    "plt.xlabel('Quartos')\n",
    "plt.ylabel('Banheiros')\n",
    "plt.show()"
   ]
  },
  {
   "cell_type": "code",
   "execution_count": 39,
   "metadata": {},
   "outputs": [
    {
     "data": {
      "text/html": [
       "<div>\n",
       "<style scoped>\n",
       "    .dataframe tbody tr th:only-of-type {\n",
       "        vertical-align: middle;\n",
       "    }\n",
       "\n",
       "    .dataframe tbody tr th {\n",
       "        vertical-align: top;\n",
       "    }\n",
       "\n",
       "    .dataframe thead th {\n",
       "        text-align: right;\n",
       "    }\n",
       "</style>\n",
       "<table border=\"1\" class=\"dataframe\">\n",
       "  <thead>\n",
       "    <tr style=\"text-align: right;\">\n",
       "      <th></th>\n",
       "      <th>price</th>\n",
       "      <th>district</th>\n",
       "      <th>bedroom</th>\n",
       "      <th>bathroom</th>\n",
       "      <th>size</th>\n",
       "      <th>garage</th>\n",
       "      <th>price by m²</th>\n",
       "    </tr>\n",
       "  </thead>\n",
       "  <tbody>\n",
       "    <tr>\n",
       "      <th>839</th>\n",
       "      <td>580000</td>\n",
       "      <td>Boa Viagem</td>\n",
       "      <td>4</td>\n",
       "      <td>1</td>\n",
       "      <td>122</td>\n",
       "      <td>2</td>\n",
       "      <td>4754.098361</td>\n",
       "    </tr>\n",
       "    <tr>\n",
       "      <th>847</th>\n",
       "      <td>580000</td>\n",
       "      <td>Parnamirim</td>\n",
       "      <td>4</td>\n",
       "      <td>1</td>\n",
       "      <td>156</td>\n",
       "      <td>1</td>\n",
       "      <td>3717.948718</td>\n",
       "    </tr>\n",
       "    <tr>\n",
       "      <th>882</th>\n",
       "      <td>620000</td>\n",
       "      <td>Tamarineira</td>\n",
       "      <td>4</td>\n",
       "      <td>1</td>\n",
       "      <td>122</td>\n",
       "      <td>2</td>\n",
       "      <td>5081.967213</td>\n",
       "    </tr>\n",
       "    <tr>\n",
       "      <th>902</th>\n",
       "      <td>650000</td>\n",
       "      <td>Espinheiro</td>\n",
       "      <td>4</td>\n",
       "      <td>1</td>\n",
       "      <td>170</td>\n",
       "      <td>2</td>\n",
       "      <td>3823.529412</td>\n",
       "    </tr>\n",
       "    <tr>\n",
       "      <th>905</th>\n",
       "      <td>650000</td>\n",
       "      <td>Boa Viagem</td>\n",
       "      <td>4</td>\n",
       "      <td>1</td>\n",
       "      <td>120</td>\n",
       "      <td>2</td>\n",
       "      <td>5416.666667</td>\n",
       "    </tr>\n",
       "  </tbody>\n",
       "</table>\n",
       "</div>"
      ],
      "text/plain": [
       "      price     district  bedroom  bathroom  size  garage  price by m²\n",
       "839  580000   Boa Viagem        4         1   122       2  4754.098361\n",
       "847  580000   Parnamirim        4         1   156       1  3717.948718\n",
       "882  620000  Tamarineira        4         1   122       2  5081.967213\n",
       "902  650000   Espinheiro        4         1   170       2  3823.529412\n",
       "905  650000   Boa Viagem        4         1   120       2  5416.666667"
      ]
     },
     "execution_count": 39,
     "metadata": {},
     "output_type": "execute_result"
    }
   ],
   "source": [
    "df[(df.bedroom == df.bathroom+3)].head()"
   ]
  },
  {
   "cell_type": "code",
   "execution_count": 40,
   "metadata": {},
   "outputs": [],
   "source": [
    "df = df[~(df.bedroom == df.bathroom+3)]"
   ]
  },
  {
   "cell_type": "code",
   "execution_count": 41,
   "metadata": {},
   "outputs": [
    {
     "data": {
      "text/html": [
       "<div>\n",
       "<style scoped>\n",
       "    .dataframe tbody tr th:only-of-type {\n",
       "        vertical-align: middle;\n",
       "    }\n",
       "\n",
       "    .dataframe tbody tr th {\n",
       "        vertical-align: top;\n",
       "    }\n",
       "\n",
       "    .dataframe thead th {\n",
       "        text-align: right;\n",
       "    }\n",
       "</style>\n",
       "<table border=\"1\" class=\"dataframe\">\n",
       "  <thead>\n",
       "    <tr style=\"text-align: right;\">\n",
       "      <th></th>\n",
       "      <th>price</th>\n",
       "      <th>district</th>\n",
       "      <th>bedroom</th>\n",
       "      <th>bathroom</th>\n",
       "      <th>size</th>\n",
       "      <th>garage</th>\n",
       "      <th>price by m²</th>\n",
       "    </tr>\n",
       "  </thead>\n",
       "  <tbody>\n",
       "    <tr>\n",
       "      <th>103</th>\n",
       "      <td>243657</td>\n",
       "      <td>Iputinga</td>\n",
       "      <td>3</td>\n",
       "      <td>1</td>\n",
       "      <td>60</td>\n",
       "      <td>1</td>\n",
       "      <td>4060.950000</td>\n",
       "    </tr>\n",
       "    <tr>\n",
       "      <th>157</th>\n",
       "      <td>260000</td>\n",
       "      <td>Jardim São Paulo</td>\n",
       "      <td>3</td>\n",
       "      <td>1</td>\n",
       "      <td>72</td>\n",
       "      <td>1</td>\n",
       "      <td>3611.111111</td>\n",
       "    </tr>\n",
       "    <tr>\n",
       "      <th>218</th>\n",
       "      <td>280000</td>\n",
       "      <td>Jardim São Paulo</td>\n",
       "      <td>3</td>\n",
       "      <td>1</td>\n",
       "      <td>72</td>\n",
       "      <td>1</td>\n",
       "      <td>3888.888889</td>\n",
       "    </tr>\n",
       "    <tr>\n",
       "      <th>219</th>\n",
       "      <td>280000</td>\n",
       "      <td>Iputinga</td>\n",
       "      <td>3</td>\n",
       "      <td>1</td>\n",
       "      <td>78</td>\n",
       "      <td>1</td>\n",
       "      <td>3589.743590</td>\n",
       "    </tr>\n",
       "    <tr>\n",
       "      <th>268</th>\n",
       "      <td>296000</td>\n",
       "      <td>Encruzilhada</td>\n",
       "      <td>3</td>\n",
       "      <td>1</td>\n",
       "      <td>60</td>\n",
       "      <td>1</td>\n",
       "      <td>4933.333333</td>\n",
       "    </tr>\n",
       "  </tbody>\n",
       "</table>\n",
       "</div>"
      ],
      "text/plain": [
       "      price          district  bedroom  bathroom  size  garage  price by m²\n",
       "103  243657          Iputinga        3         1    60       1  4060.950000\n",
       "157  260000  Jardim São Paulo        3         1    72       1  3611.111111\n",
       "218  280000  Jardim São Paulo        3         1    72       1  3888.888889\n",
       "219  280000          Iputinga        3         1    78       1  3589.743590\n",
       "268  296000      Encruzilhada        3         1    60       1  4933.333333"
      ]
     },
     "execution_count": 41,
     "metadata": {},
     "output_type": "execute_result"
    }
   ],
   "source": [
    "df[(df.bedroom == 3) & (df.bathroom == 1)].head()"
   ]
  },
  {
   "cell_type": "code",
   "execution_count": 42,
   "metadata": {},
   "outputs": [],
   "source": [
    "df = df[~((df.bedroom == 3) & (df.bathroom == 1))]"
   ]
  },
  {
   "cell_type": "code",
   "execution_count": 43,
   "metadata": {},
   "outputs": [
    {
     "data": {
      "text/html": [
       "<div>\n",
       "<style scoped>\n",
       "    .dataframe tbody tr th:only-of-type {\n",
       "        vertical-align: middle;\n",
       "    }\n",
       "\n",
       "    .dataframe tbody tr th {\n",
       "        vertical-align: top;\n",
       "    }\n",
       "\n",
       "    .dataframe thead th {\n",
       "        text-align: right;\n",
       "    }\n",
       "</style>\n",
       "<table border=\"1\" class=\"dataframe\">\n",
       "  <thead>\n",
       "    <tr style=\"text-align: right;\">\n",
       "      <th></th>\n",
       "      <th>price</th>\n",
       "      <th>district</th>\n",
       "      <th>bedroom</th>\n",
       "      <th>bathroom</th>\n",
       "      <th>size</th>\n",
       "      <th>garage</th>\n",
       "      <th>price by m²</th>\n",
       "    </tr>\n",
       "  </thead>\n",
       "  <tbody>\n",
       "    <tr>\n",
       "      <th>1136</th>\n",
       "      <td>1000000</td>\n",
       "      <td>Rosarinho</td>\n",
       "      <td>2</td>\n",
       "      <td>4</td>\n",
       "      <td>218</td>\n",
       "      <td>2</td>\n",
       "      <td>4587.155963</td>\n",
       "    </tr>\n",
       "  </tbody>\n",
       "</table>\n",
       "</div>"
      ],
      "text/plain": [
       "        price   district  bedroom  bathroom  size  garage  price by m²\n",
       "1136  1000000  Rosarinho        2         4   218       2  4587.155963"
      ]
     },
     "execution_count": 43,
     "metadata": {},
     "output_type": "execute_result"
    }
   ],
   "source": [
    "df[((df.bedroom == 2) & (df.bathroom == 4))]"
   ]
  },
  {
   "cell_type": "code",
   "execution_count": 44,
   "metadata": {},
   "outputs": [],
   "source": [
    "df.drop(index=1136, inplace=True)"
   ]
  },
  {
   "cell_type": "code",
   "execution_count": 46,
   "metadata": {},
   "outputs": [
    {
     "data": {
      "text/html": [
       "<div>\n",
       "<style scoped>\n",
       "    .dataframe tbody tr th:only-of-type {\n",
       "        vertical-align: middle;\n",
       "    }\n",
       "\n",
       "    .dataframe tbody tr th {\n",
       "        vertical-align: top;\n",
       "    }\n",
       "\n",
       "    .dataframe thead th {\n",
       "        text-align: right;\n",
       "    }\n",
       "</style>\n",
       "<table border=\"1\" class=\"dataframe\">\n",
       "  <thead>\n",
       "    <tr style=\"text-align: right;\">\n",
       "      <th></th>\n",
       "      <th>price</th>\n",
       "      <th>district</th>\n",
       "      <th>bedroom</th>\n",
       "      <th>bathroom</th>\n",
       "      <th>size</th>\n",
       "      <th>garage</th>\n",
       "      <th>price by m²</th>\n",
       "    </tr>\n",
       "  </thead>\n",
       "  <tbody>\n",
       "    <tr>\n",
       "      <th>850</th>\n",
       "      <td>590000</td>\n",
       "      <td>Casa Forte</td>\n",
       "      <td>4</td>\n",
       "      <td>2</td>\n",
       "      <td>136</td>\n",
       "      <td>2</td>\n",
       "      <td>4338.235294</td>\n",
       "    </tr>\n",
       "    <tr>\n",
       "      <th>866</th>\n",
       "      <td>600000</td>\n",
       "      <td>Boa Viagem</td>\n",
       "      <td>4</td>\n",
       "      <td>2</td>\n",
       "      <td>120</td>\n",
       "      <td>2</td>\n",
       "      <td>5000.000000</td>\n",
       "    </tr>\n",
       "    <tr>\n",
       "      <th>920</th>\n",
       "      <td>660000</td>\n",
       "      <td>Pina</td>\n",
       "      <td>4</td>\n",
       "      <td>2</td>\n",
       "      <td>105</td>\n",
       "      <td>2</td>\n",
       "      <td>6285.714286</td>\n",
       "    </tr>\n",
       "    <tr>\n",
       "      <th>932</th>\n",
       "      <td>680000</td>\n",
       "      <td>Tamarineira</td>\n",
       "      <td>4</td>\n",
       "      <td>2</td>\n",
       "      <td>178</td>\n",
       "      <td>2</td>\n",
       "      <td>3820.224719</td>\n",
       "    </tr>\n",
       "    <tr>\n",
       "      <th>967</th>\n",
       "      <td>724582</td>\n",
       "      <td>Poço</td>\n",
       "      <td>4</td>\n",
       "      <td>2</td>\n",
       "      <td>134</td>\n",
       "      <td>2</td>\n",
       "      <td>5407.328358</td>\n",
       "    </tr>\n",
       "  </tbody>\n",
       "</table>\n",
       "</div>"
      ],
      "text/plain": [
       "      price     district  bedroom  bathroom  size  garage  price by m²\n",
       "850  590000   Casa Forte        4         2   136       2  4338.235294\n",
       "866  600000   Boa Viagem        4         2   120       2  5000.000000\n",
       "920  660000         Pina        4         2   105       2  6285.714286\n",
       "932  680000  Tamarineira        4         2   178       2  3820.224719\n",
       "967  724582         Poço        4         2   134       2  5407.328358"
      ]
     },
     "execution_count": 46,
     "metadata": {},
     "output_type": "execute_result"
    }
   ],
   "source": [
    "df[((df.bedroom == 4) & (df.bathroom == 2))].head()"
   ]
  },
  {
   "cell_type": "code",
   "execution_count": 47,
   "metadata": {},
   "outputs": [],
   "source": [
    "df = df[~((df.bedroom == 4) & (df.bathroom == 2))]"
   ]
  },
  {
   "cell_type": "markdown",
   "metadata": {},
   "source": [
    "Agora temos um gráfico e dados menos ruidosos."
   ]
  },
  {
   "cell_type": "code",
   "execution_count": 48,
   "metadata": {},
   "outputs": [
    {
     "data": {
      "image/png": "[encoded data removed]",
      "text/plain": [
       "<Figure size 432x288 with 1 Axes>"
      ]
     },
     "metadata": {},
     "output_type": "display_data"
    }
   ],
   "source": [
    "plt.scatter(df.bedroom, df.bathroom)\n",
    "plt.xlabel('Quartos')\n",
    "plt.ylabel('Banheiros')\n",
    "plt.show()"
   ]
  },
  {
   "cell_type": "markdown",
   "metadata": {},
   "source": [
    "> A relação entre o número de banheiros e o preço também começa a ficar mais aparente...\n",
    "\n",
    "Perceba o antes e o depois."
   ]
  },
  {
   "cell_type": "code",
   "execution_count": 52,
   "metadata": {},
   "outputs": [
    {
     "data": {
      "image/png": "[encoded data removed]",
      "text/plain": [
       "<Figure size 720x288 with 2 Axes>"
      ]
     },
     "metadata": {},
     "output_type": "display_data"
    }
   ],
   "source": [
    "sns.set_style('dark')\n",
    "fig, axes = plt.subplots(nrows=1, ncols=2, figsize=(10, 4))\n",
    "axes[0].scatter(data['bathroom'], data.price)\n",
    "axes[1].scatter(df['bathroom'], df.price)\n",
    "plt.xlabel('Número de Banheiro')\n",
    "plt.ylabel('Preço (milhão)')\n",
    "plt.show()"
   ]
  },
  {
   "cell_type": "markdown",
   "metadata": {},
   "source": [
    "## 3 - Estimando quantidade de banheiro (2º DataFrame)\n",
    "\n",
    "Agora podemos fazer a mesma triagem para a outra tabela.\n",
    "\n",
    "O primeiro desafio é criar a coluna com número de banheiros. Vamos utilizar as informações da tabela anterior para inserir valores mais confiáveis de acordo com certas características."
   ]
  },
  {
   "cell_type": "code",
   "execution_count": 110,
   "metadata": {},
   "outputs": [
    {
     "data": {
      "text/html": [
       "<div>\n",
       "<style scoped>\n",
       "    .dataframe tbody tr th:only-of-type {\n",
       "        vertical-align: middle;\n",
       "    }\n",
       "\n",
       "    .dataframe tbody tr th {\n",
       "        vertical-align: top;\n",
       "    }\n",
       "\n",
       "    .dataframe thead th {\n",
       "        text-align: right;\n",
       "    }\n",
       "</style>\n",
       "<table border=\"1\" class=\"dataframe\">\n",
       "  <thead>\n",
       "    <tr style=\"text-align: right;\">\n",
       "      <th></th>\n",
       "      <th>locations</th>\n",
       "      <th>price</th>\n",
       "      <th>district</th>\n",
       "      <th>bedroom</th>\n",
       "      <th>size</th>\n",
       "      <th>garage</th>\n",
       "    </tr>\n",
       "  </thead>\n",
       "  <tbody>\n",
       "    <tr>\n",
       "      <th>0</th>\n",
       "      <td>Recife, Boa Viagem</td>\n",
       "      <td>750000</td>\n",
       "      <td>Boa Viagem</td>\n",
       "      <td>3</td>\n",
       "      <td>130</td>\n",
       "      <td>1</td>\n",
       "    </tr>\n",
       "    <tr>\n",
       "      <th>1</th>\n",
       "      <td>Jaboatão dos Guararapes, Candeias</td>\n",
       "      <td>200000</td>\n",
       "      <td>Candeias</td>\n",
       "      <td>2</td>\n",
       "      <td>61</td>\n",
       "      <td>1</td>\n",
       "    </tr>\n",
       "    <tr>\n",
       "      <th>2</th>\n",
       "      <td>Recife, Cordeiro</td>\n",
       "      <td>300000</td>\n",
       "      <td>Cordeiro</td>\n",
       "      <td>2</td>\n",
       "      <td>50</td>\n",
       "      <td>1</td>\n",
       "    </tr>\n",
       "    <tr>\n",
       "      <th>3</th>\n",
       "      <td>Paulista, Nossa Senhora do Ó</td>\n",
       "      <td>128000</td>\n",
       "      <td>Nossa Senhora do Ó</td>\n",
       "      <td>2</td>\n",
       "      <td>63</td>\n",
       "      <td>1</td>\n",
       "    </tr>\n",
       "    <tr>\n",
       "      <th>4</th>\n",
       "      <td>Recife, Areias</td>\n",
       "      <td>125000</td>\n",
       "      <td>Areias</td>\n",
       "      <td>2</td>\n",
       "      <td>62</td>\n",
       "      <td>1</td>\n",
       "    </tr>\n",
       "  </tbody>\n",
       "</table>\n",
       "</div>"
      ],
      "text/plain": [
       "                           locations   price             district  bedroom  \\\n",
       "0                 Recife, Boa Viagem  750000           Boa Viagem        3   \n",
       "1  Jaboatão dos Guararapes, Candeias  200000             Candeias        2   \n",
       "2                   Recife, Cordeiro  300000             Cordeiro        2   \n",
       "3       Paulista, Nossa Senhora do Ó  128000   Nossa Senhora do Ó        2   \n",
       "4                     Recife, Areias  125000               Areias        2   \n",
       "\n",
       "   size  garage  \n",
       "0   130       1  \n",
       "1    61       1  \n",
       "2    50       1  \n",
       "3    63       1  \n",
       "4    62       1  "
      ]
     },
     "execution_count": 110,
     "metadata": {},
     "output_type": "execute_result"
    }
   ],
   "source": [
    "data2 = pd.read_pickle('1 Apartamentos Dados Limpos.pkl')\n",
    "\n",
    "data2.rename(columns={\"X_location\": \"district\", \"X_size\": \"size\", \"X_Bedroom\": \"bedroom\", \n",
    "                      \"X_garage\": \"garage\", \"y_price\": \"price\"}, inplace = True)\n",
    "data2.head()"
   ]
  },
  {
   "cell_type": "markdown",
   "metadata": {},
   "source": [
    "Criando a coluna previamente e então editando-a.\n",
    "\n",
    "> Utilizarei a mediana como referência já que a média é facilmente influenciada por valores mais extremos. Se bem que como os dados já estão limpos elas não se distanciam tanto."
   ]
  },
  {
   "cell_type": "code",
   "execution_count": 111,
   "metadata": {
    "scrolled": true
   },
   "outputs": [
    {
     "data": {
      "text/html": [
       "<div>\n",
       "<style scoped>\n",
       "    .dataframe tbody tr th:only-of-type {\n",
       "        vertical-align: middle;\n",
       "    }\n",
       "\n",
       "    .dataframe tbody tr th {\n",
       "        vertical-align: top;\n",
       "    }\n",
       "\n",
       "    .dataframe thead th {\n",
       "        text-align: right;\n",
       "    }\n",
       "</style>\n",
       "<table border=\"1\" class=\"dataframe\">\n",
       "  <thead>\n",
       "    <tr style=\"text-align: right;\">\n",
       "      <th></th>\n",
       "      <th>locations</th>\n",
       "      <th>price</th>\n",
       "      <th>district</th>\n",
       "      <th>bedroom</th>\n",
       "      <th>size</th>\n",
       "      <th>garage</th>\n",
       "      <th>bathroom</th>\n",
       "    </tr>\n",
       "  </thead>\n",
       "  <tbody>\n",
       "    <tr>\n",
       "      <th>0</th>\n",
       "      <td>Recife, Boa Viagem</td>\n",
       "      <td>750000</td>\n",
       "      <td>Boa Viagem</td>\n",
       "      <td>3</td>\n",
       "      <td>130</td>\n",
       "      <td>1</td>\n",
       "      <td>0</td>\n",
       "    </tr>\n",
       "    <tr>\n",
       "      <th>1</th>\n",
       "      <td>Jaboatão dos Guararapes, Candeias</td>\n",
       "      <td>200000</td>\n",
       "      <td>Candeias</td>\n",
       "      <td>2</td>\n",
       "      <td>61</td>\n",
       "      <td>1</td>\n",
       "      <td>0</td>\n",
       "    </tr>\n",
       "  </tbody>\n",
       "</table>\n",
       "</div>"
      ],
      "text/plain": [
       "                           locations   price     district  bedroom  size  \\\n",
       "0                 Recife, Boa Viagem  750000   Boa Viagem        3   130   \n",
       "1  Jaboatão dos Guararapes, Candeias  200000     Candeias        2    61   \n",
       "\n",
       "   garage  bathroom  \n",
       "0       1         0  \n",
       "1       1         0  "
      ]
     },
     "execution_count": 111,
     "metadata": {},
     "output_type": "execute_result"
    }
   ],
   "source": [
    "data2['bathroom'] = 0\n",
    "data2.head(2)"
   ]
  },
  {
   "cell_type": "code",
   "execution_count": 112,
   "metadata": {},
   "outputs": [
    {
     "data": {
      "text/plain": [
       "bedroom  bathroom\n",
       "1        1            38.200000\n",
       "         2            47.000000\n",
       "2        1            54.161765\n",
       "         2            56.941860\n",
       "         3            77.647059\n",
       "3        2            80.344828\n",
       "         3            96.957447\n",
       "         4           152.000000\n",
       "         5           163.250000\n",
       "4        3           158.851852\n",
       "         4           171.435897\n",
       "         5           187.777778\n",
       "         6           209.714286\n",
       "5        4           145.000000\n",
       "Name: size, dtype: float64"
      ]
     },
     "execution_count": 112,
     "metadata": {},
     "output_type": "execute_result"
    }
   ],
   "source": [
    "df.groupby(['bedroom','bathroom']).mean()['size']"
   ]
  },
  {
   "cell_type": "code",
   "execution_count": 113,
   "metadata": {},
   "outputs": [
    {
     "data": {
      "text/plain": [
       "bedroom  bathroom\n",
       "1        1            38.0\n",
       "         2            47.0\n",
       "2        1            53.0\n",
       "         2            55.0\n",
       "         3            76.0\n",
       "3        2            72.0\n",
       "         3            89.0\n",
       "         4           128.0\n",
       "         5           165.5\n",
       "4        3           156.0\n",
       "         4           163.0\n",
       "         5           202.5\n",
       "         6           204.0\n",
       "5        4           145.0\n",
       "Name: size, dtype: float64"
      ]
     },
     "execution_count": 113,
     "metadata": {},
     "output_type": "execute_result"
    }
   ],
   "source": [
    "df.groupby(['bedroom','bathroom']).median()['size']"
   ]
  },
  {
   "cell_type": "code",
   "execution_count": 114,
   "metadata": {},
   "outputs": [
    {
     "data": {
      "text/html": [
       "<div>\n",
       "<style scoped>\n",
       "    .dataframe tbody tr th:only-of-type {\n",
       "        vertical-align: middle;\n",
       "    }\n",
       "\n",
       "    .dataframe tbody tr th {\n",
       "        vertical-align: top;\n",
       "    }\n",
       "\n",
       "    .dataframe thead th {\n",
       "        text-align: right;\n",
       "    }\n",
       "</style>\n",
       "<table border=\"1\" class=\"dataframe\">\n",
       "  <thead>\n",
       "    <tr style=\"text-align: right;\">\n",
       "      <th></th>\n",
       "      <th>locations</th>\n",
       "      <th>price</th>\n",
       "      <th>district</th>\n",
       "      <th>bedroom</th>\n",
       "      <th>size</th>\n",
       "      <th>garage</th>\n",
       "      <th>bathroom</th>\n",
       "    </tr>\n",
       "  </thead>\n",
       "  <tbody>\n",
       "    <tr>\n",
       "      <th>0</th>\n",
       "      <td>Recife, Boa Viagem</td>\n",
       "      <td>750000</td>\n",
       "      <td>Boa Viagem</td>\n",
       "      <td>3</td>\n",
       "      <td>130</td>\n",
       "      <td>1</td>\n",
       "      <td>4</td>\n",
       "    </tr>\n",
       "    <tr>\n",
       "      <th>1</th>\n",
       "      <td>Jaboatão dos Guararapes, Candeias</td>\n",
       "      <td>200000</td>\n",
       "      <td>Candeias</td>\n",
       "      <td>2</td>\n",
       "      <td>61</td>\n",
       "      <td>1</td>\n",
       "      <td>2</td>\n",
       "    </tr>\n",
       "    <tr>\n",
       "      <th>2</th>\n",
       "      <td>Recife, Cordeiro</td>\n",
       "      <td>300000</td>\n",
       "      <td>Cordeiro</td>\n",
       "      <td>2</td>\n",
       "      <td>50</td>\n",
       "      <td>1</td>\n",
       "      <td>1</td>\n",
       "    </tr>\n",
       "    <tr>\n",
       "      <th>3</th>\n",
       "      <td>Paulista, Nossa Senhora do Ó</td>\n",
       "      <td>128000</td>\n",
       "      <td>Nossa Senhora do Ó</td>\n",
       "      <td>2</td>\n",
       "      <td>63</td>\n",
       "      <td>1</td>\n",
       "      <td>2</td>\n",
       "    </tr>\n",
       "    <tr>\n",
       "      <th>4</th>\n",
       "      <td>Recife, Areias</td>\n",
       "      <td>125000</td>\n",
       "      <td>Areias</td>\n",
       "      <td>2</td>\n",
       "      <td>62</td>\n",
       "      <td>1</td>\n",
       "      <td>2</td>\n",
       "    </tr>\n",
       "  </tbody>\n",
       "</table>\n",
       "</div>"
      ],
      "text/plain": [
       "                           locations   price             district  bedroom  \\\n",
       "0                 Recife, Boa Viagem  750000           Boa Viagem        3   \n",
       "1  Jaboatão dos Guararapes, Candeias  200000             Candeias        2   \n",
       "2                   Recife, Cordeiro  300000             Cordeiro        2   \n",
       "3       Paulista, Nossa Senhora do Ó  128000   Nossa Senhora do Ó        2   \n",
       "4                     Recife, Areias  125000               Areias        2   \n",
       "\n",
       "   size  garage  bathroom  \n",
       "0   130       1         4  \n",
       "1    61       1         2  \n",
       "2    50       1         1  \n",
       "3    63       1         2  \n",
       "4    62       1         2  "
      ]
     },
     "execution_count": 114,
     "metadata": {},
     "output_type": "execute_result"
    }
   ],
   "source": [
    "# 1 quarto\n",
    "data2.loc[(data2.bedroom == 1) & (data2[\"size\"] <= 55), 'bathroom'] = 1\n",
    "data2.loc[(data2.bedroom == 1) & (data2[\"size\"] > 55), 'bathroom'] = 2\n",
    "\n",
    "# 2 quartos\n",
    "data2.loc[(data2.bedroom == 2) & (data2[\"size\"] <= 60), 'bathroom'] = 1\n",
    "data2.loc[(data2.bedroom == 2) & ((data2[\"size\"] > 60) & (data2[\"size\"] <= 70)), 'bathroom'] = 2\n",
    "data2.loc[(data2.bedroom == 2) & (data2[\"size\"] > 70)] = 3\n",
    "\n",
    "# 3 quartos\n",
    "data2.loc[(data2.bedroom == 3) & (data2[\"size\"] <= 80), 'bathroom'] = 2\n",
    "data2.loc[(data2.bedroom == 3) & ((data2[\"size\"] > 80) & (data2[\"size\"] <= 120)), 'bathroom'] = 3\n",
    "data2.loc[(data2.bedroom == 3) & ((data2[\"size\"] > 120) & (data2[\"size\"] <= 170)), 'bathroom'] = 4\n",
    "data2.loc[(data2.bedroom == 3) & (data2[\"size\"] > 170), 'bathroom'] = 5\n",
    "\n",
    "# 4 quartos\n",
    "data2.loc[(data2.bedroom == 4) & (data2[\"size\"] <= 160), 'bathroom'] = 3\n",
    "data2.loc[(data2.bedroom == 4) & ((data2[\"size\"] > 160) & (data2[\"size\"] <= 175)), 'bathroom'] = 4\n",
    "data2.loc[(data2.bedroom == 4) & ((data2[\"size\"] > 175) & (data2[\"size\"] <= 205)), 'bathroom'] = 5\n",
    "data2.loc[(data2.bedroom == 4) & (data2[\"size\"] > 205), 'bathroom'] = 6\n",
    "\n",
    "# 5 quartos\n",
    "data2.loc[(data2.bedroom == 5) & (data2[\"size\"] <= 155), 'bathroom'] = 4\n",
    "data2.loc[(data2.bedroom == 5) & (data2[\"size\"] > 155), 'bathroom'] = 5\n",
    "\n",
    "data2.head()"
   ]
  },
  {
   "cell_type": "markdown",
   "metadata": {},
   "source": [
    "### 3.1 - Preço por m²\n",
    "\n",
    "O mesmo processo que anteriormente. Criar preço por m²... Uau, problemas à vista."
   ]
  },
  {
   "cell_type": "code",
   "execution_count": 115,
   "metadata": {},
   "outputs": [
    {
     "data": {
      "text/html": [
       "<div>\n",
       "<style scoped>\n",
       "    .dataframe tbody tr th:only-of-type {\n",
       "        vertical-align: middle;\n",
       "    }\n",
       "\n",
       "    .dataframe tbody tr th {\n",
       "        vertical-align: top;\n",
       "    }\n",
       "\n",
       "    .dataframe thead th {\n",
       "        text-align: right;\n",
       "    }\n",
       "</style>\n",
       "<table border=\"1\" class=\"dataframe\">\n",
       "  <thead>\n",
       "    <tr style=\"text-align: right;\">\n",
       "      <th></th>\n",
       "      <th>price</th>\n",
       "      <th>bedroom</th>\n",
       "      <th>size</th>\n",
       "      <th>garage</th>\n",
       "      <th>bathroom</th>\n",
       "      <th>price by m²</th>\n",
       "    </tr>\n",
       "  </thead>\n",
       "  <tbody>\n",
       "    <tr>\n",
       "      <th>count</th>\n",
       "      <td>4.455000e+03</td>\n",
       "      <td>4455.000000</td>\n",
       "      <td>4455.000000</td>\n",
       "      <td>4455.000000</td>\n",
       "      <td>4455.000000</td>\n",
       "      <td>4455.000000</td>\n",
       "    </tr>\n",
       "    <tr>\n",
       "      <th>mean</th>\n",
       "      <td>4.980954e+05</td>\n",
       "      <td>2.717845</td>\n",
       "      <td>134.397531</td>\n",
       "      <td>1.524130</td>\n",
       "      <td>2.253199</td>\n",
       "      <td>inf</td>\n",
       "    </tr>\n",
       "    <tr>\n",
       "      <th>std</th>\n",
       "      <td>5.911441e+05</td>\n",
       "      <td>0.839410</td>\n",
       "      <td>1046.770426</td>\n",
       "      <td>0.787925</td>\n",
       "      <td>1.374310</td>\n",
       "      <td>NaN</td>\n",
       "    </tr>\n",
       "    <tr>\n",
       "      <th>min</th>\n",
       "      <td>3.000000e+00</td>\n",
       "      <td>1.000000</td>\n",
       "      <td>0.000000</td>\n",
       "      <td>1.000000</td>\n",
       "      <td>1.000000</td>\n",
       "      <td>1.000000</td>\n",
       "    </tr>\n",
       "    <tr>\n",
       "      <th>25%</th>\n",
       "      <td>1.860105e+05</td>\n",
       "      <td>2.000000</td>\n",
       "      <td>49.000000</td>\n",
       "      <td>1.000000</td>\n",
       "      <td>1.000000</td>\n",
       "      <td>2556.797235</td>\n",
       "    </tr>\n",
       "    <tr>\n",
       "      <th>50%</th>\n",
       "      <td>3.200000e+05</td>\n",
       "      <td>3.000000</td>\n",
       "      <td>64.000000</td>\n",
       "      <td>1.000000</td>\n",
       "      <td>2.000000</td>\n",
       "      <td>4677.350000</td>\n",
       "    </tr>\n",
       "    <tr>\n",
       "      <th>75%</th>\n",
       "      <td>6.100025e+05</td>\n",
       "      <td>3.000000</td>\n",
       "      <td>108.000000</td>\n",
       "      <td>2.000000</td>\n",
       "      <td>3.000000</td>\n",
       "      <td>8000.000000</td>\n",
       "    </tr>\n",
       "    <tr>\n",
       "      <th>max</th>\n",
       "      <td>7.503010e+06</td>\n",
       "      <td>5.000000</td>\n",
       "      <td>58723.000000</td>\n",
       "      <td>5.000000</td>\n",
       "      <td>6.000000</td>\n",
       "      <td>inf</td>\n",
       "    </tr>\n",
       "  </tbody>\n",
       "</table>\n",
       "</div>"
      ],
      "text/plain": [
       "              price      bedroom          size       garage     bathroom  \\\n",
       "count  4.455000e+03  4455.000000   4455.000000  4455.000000  4455.000000   \n",
       "mean   4.980954e+05     2.717845    134.397531     1.524130     2.253199   \n",
       "std    5.911441e+05     0.839410   1046.770426     0.787925     1.374310   \n",
       "min    3.000000e+00     1.000000      0.000000     1.000000     1.000000   \n",
       "25%    1.860105e+05     2.000000     49.000000     1.000000     1.000000   \n",
       "50%    3.200000e+05     3.000000     64.000000     1.000000     2.000000   \n",
       "75%    6.100025e+05     3.000000    108.000000     2.000000     3.000000   \n",
       "max    7.503010e+06     5.000000  58723.000000     5.000000     6.000000   \n",
       "\n",
       "       price by m²  \n",
       "count  4455.000000  \n",
       "mean           inf  \n",
       "std            NaN  \n",
       "min       1.000000  \n",
       "25%    2556.797235  \n",
       "50%    4677.350000  \n",
       "75%    8000.000000  \n",
       "max            inf  "
      ]
     },
     "execution_count": 115,
     "metadata": {},
     "output_type": "execute_result"
    }
   ],
   "source": [
    "data2['price by m²'] = data2['price']/data2['size']\n",
    "data2.describe()"
   ]
  },
  {
   "cell_type": "markdown",
   "metadata": {},
   "source": [
    "Deletar todos esses m² igual a 0."
   ]
  },
  {
   "cell_type": "code",
   "execution_count": 116,
   "metadata": {},
   "outputs": [
    {
     "data": {
      "image/png": "[encoded data removed]",
      "text/plain": [
       "<Figure size 432x288 with 1 Axes>"
      ]
     },
     "metadata": {},
     "output_type": "display_data"
    }
   ],
   "source": [
    "plt.scatter(data2['size'], data2.price)\n",
    "plt.show()"
   ]
  },
  {
   "cell_type": "code",
   "execution_count": 117,
   "metadata": {},
   "outputs": [
    {
     "data": {
      "image/png": "[encoded data removed]",
      "text/plain": [
       "<Figure size 432x288 with 1 Axes>"
      ]
     },
     "metadata": {},
     "output_type": "display_data"
    }
   ],
   "source": [
    "''' Não muita diferença kkkkk por conta do extremos everests '''\n",
    "\n",
    "data2 = data2[data2['size'] > 25]\n",
    "\n",
    "plt.scatter(data2['size'], data2.price)\n",
    "plt.show()"
   ]
  },
  {
   "cell_type": "code",
   "execution_count": 118,
   "metadata": {},
   "outputs": [
    {
     "data": {
      "text/html": [
       "<div>\n",
       "<style scoped>\n",
       "    .dataframe tbody tr th:only-of-type {\n",
       "        vertical-align: middle;\n",
       "    }\n",
       "\n",
       "    .dataframe tbody tr th {\n",
       "        vertical-align: top;\n",
       "    }\n",
       "\n",
       "    .dataframe thead th {\n",
       "        text-align: right;\n",
       "    }\n",
       "</style>\n",
       "<table border=\"1\" class=\"dataframe\">\n",
       "  <thead>\n",
       "    <tr style=\"text-align: right;\">\n",
       "      <th></th>\n",
       "      <th>locations</th>\n",
       "      <th>price</th>\n",
       "      <th>district</th>\n",
       "      <th>bedroom</th>\n",
       "      <th>size</th>\n",
       "      <th>garage</th>\n",
       "      <th>bathroom</th>\n",
       "      <th>price by m²</th>\n",
       "    </tr>\n",
       "  </thead>\n",
       "  <tbody>\n",
       "    <tr>\n",
       "      <th>790</th>\n",
       "      <td>Recife, Madalena</td>\n",
       "      <td>465000</td>\n",
       "      <td>Madalena</td>\n",
       "      <td>3</td>\n",
       "      <td>8926</td>\n",
       "      <td>2</td>\n",
       "      <td>5</td>\n",
       "      <td>52.095003</td>\n",
       "    </tr>\n",
       "    <tr>\n",
       "      <th>850</th>\n",
       "      <td>Recife, Cordeiro</td>\n",
       "      <td>319000</td>\n",
       "      <td>Cordeiro</td>\n",
       "      <td>4</td>\n",
       "      <td>58723</td>\n",
       "      <td>4</td>\n",
       "      <td>6</td>\n",
       "      <td>5.432284</td>\n",
       "    </tr>\n",
       "    <tr>\n",
       "      <th>1173</th>\n",
       "      <td>Jaboatão dos Guararapes, Piedade</td>\n",
       "      <td>306244</td>\n",
       "      <td>Piedade</td>\n",
       "      <td>3</td>\n",
       "      <td>7372</td>\n",
       "      <td>1</td>\n",
       "      <td>5</td>\n",
       "      <td>41.541508</td>\n",
       "    </tr>\n",
       "    <tr>\n",
       "      <th>1339</th>\n",
       "      <td>Recife, Casa Forte</td>\n",
       "      <td>699934</td>\n",
       "      <td>Casa Forte</td>\n",
       "      <td>4</td>\n",
       "      <td>14000</td>\n",
       "      <td>2</td>\n",
       "      <td>6</td>\n",
       "      <td>49.995286</td>\n",
       "    </tr>\n",
       "    <tr>\n",
       "      <th>1373</th>\n",
       "      <td>Recife, Boa Viagem</td>\n",
       "      <td>750460</td>\n",
       "      <td>Boa Viagem</td>\n",
       "      <td>3</td>\n",
       "      <td>6700</td>\n",
       "      <td>1</td>\n",
       "      <td>5</td>\n",
       "      <td>112.008955</td>\n",
       "    </tr>\n",
       "  </tbody>\n",
       "</table>\n",
       "</div>"
      ],
      "text/plain": [
       "                             locations   price     district  bedroom   size  \\\n",
       "790                   Recife, Madalena  465000     Madalena        3   8926   \n",
       "850                   Recife, Cordeiro  319000     Cordeiro        4  58723   \n",
       "1173  Jaboatão dos Guararapes, Piedade  306244      Piedade        3   7372   \n",
       "1339                Recife, Casa Forte  699934   Casa Forte        4  14000   \n",
       "1373                Recife, Boa Viagem  750460   Boa Viagem        3   6700   \n",
       "\n",
       "      garage  bathroom  price by m²  \n",
       "790        2         5    52.095003  \n",
       "850        4         6     5.432284  \n",
       "1173       1         5    41.541508  \n",
       "1339       2         6    49.995286  \n",
       "1373       1         5   112.008955  "
      ]
     },
     "execution_count": 118,
     "metadata": {},
     "output_type": "execute_result"
    }
   ],
   "source": [
    "data2[data2['size'] > 2000].head() # hahaha 58723m²"
   ]
  },
  {
   "cell_type": "markdown",
   "metadata": {},
   "source": [
    "Um pouco melhor, mais ainda ruim. \n",
    "\n",
    "> Usaremos o mesmo parâmetro que inicialmente, focaremos nos imóveis com preço por m² entre 3500 e 7000."
   ]
  },
  {
   "cell_type": "code",
   "execution_count": 119,
   "metadata": {},
   "outputs": [
    {
     "data": {
      "image/png": "[encoded data removed]",
      "text/plain": [
       "<Figure size 432x288 with 1 Axes>"
      ]
     },
     "metadata": {},
     "output_type": "display_data"
    }
   ],
   "source": [
    "data2 = data2[data2['size'] < 2000]\n",
    "\n",
    "plt.scatter(data2['size'], data2.price)\n",
    "plt.show()"
   ]
  },
  {
   "cell_type": "code",
   "execution_count": 120,
   "metadata": {},
   "outputs": [
    {
     "data": {
      "image/png": "[encoded data removed]",
      "text/plain": [
       "<Figure size 432x288 with 1 Axes>"
      ]
     },
     "metadata": {},
     "output_type": "display_data"
    }
   ],
   "source": [
    "df2 = data2[(data2['price by m²'] > 3500) & (data2['price by m²'] < 7000) ]\n",
    "plt.scatter(df2['size'], df2.price)\n",
    "plt.show()"
   ]
  },
  {
   "cell_type": "markdown",
   "metadata": {},
   "source": [
    "Novamente a relação entre o número de quartos e o preço começa a ficar mais visível."
   ]
  },
  {
   "cell_type": "code",
   "execution_count": 121,
   "metadata": {},
   "outputs": [
    {
     "data": {
      "image/png": "[encoded data removed]",
      "text/plain": [
       "<Figure size 720x288 with 2 Axes>"
      ]
     },
     "metadata": {},
     "output_type": "display_data"
    }
   ],
   "source": [
    "sns.set_style('darkgrid')\n",
    "fig, axes = plt.subplots(nrows=1, ncols=2, figsize=(10, 4))\n",
    "axes[0].scatter(data2['bedroom'], data2.price)\n",
    "axes[1].scatter(df2['bedroom'], df2.price)\n",
    "plt.show()"
   ]
  },
  {
   "cell_type": "markdown",
   "metadata": {},
   "source": [
    "### 3.2 - Relação Banheiros por Quartos\n",
    "\n",
    "Pensando que juntaremos os datasets, está ok."
   ]
  },
  {
   "cell_type": "code",
   "execution_count": 122,
   "metadata": {},
   "outputs": [
    {
     "data": {
      "image/png": "[encoded data removed]",
      "text/plain": [
       "<Figure size 432x288 with 1 Axes>"
      ]
     },
     "metadata": {},
     "output_type": "display_data"
    }
   ],
   "source": [
    "plt.scatter(df2.bedroom, df2.bathroom)\n",
    "plt.xlabel('Quartos')\n",
    "plt.ylabel('Banheiros')\n",
    "plt.show()"
   ]
  },
  {
   "cell_type": "markdown",
   "metadata": {},
   "source": [
    "Antes e depois da relação entre o número de banheiros e o preço."
   ]
  },
  {
   "cell_type": "code",
   "execution_count": 124,
   "metadata": {},
   "outputs": [
    {
     "data": {
      "image/png": "[encoded data removed]",
      "text/plain": [
       "<Figure size 720x288 with 2 Axes>"
      ]
     },
     "metadata": {},
     "output_type": "display_data"
    }
   ],
   "source": [
    "fig, axes = plt.subplots(nrows=1, ncols=2, figsize=(10, 4))\n",
    "axes[0].scatter(data2['bathroom'], data2.price)\n",
    "axes[1].scatter(df2['bathroom'], df2.price)\n",
    "plt.xlabel('Número de Banheiro')\n",
    "plt.ylabel('Preço (milhão)')\n",
    "plt.show()"
   ]
  },
  {
   "cell_type": "markdown",
   "metadata": {},
   "source": [
    "## 4 - Unindo as tabelas\n",
    "\n",
    "Primeiro, manterei as mesmas colunas entre os DFs. E já podemos criar mais um checkpoint de dados."
   ]
  },
  {
   "cell_type": "code",
   "execution_count": 138,
   "metadata": {
    "scrolled": true
   },
   "outputs": [
    {
     "data": {
      "text/html": [
       "<div>\n",
       "<style scoped>\n",
       "    .dataframe tbody tr th:only-of-type {\n",
       "        vertical-align: middle;\n",
       "    }\n",
       "\n",
       "    .dataframe tbody tr th {\n",
       "        vertical-align: top;\n",
       "    }\n",
       "\n",
       "    .dataframe thead th {\n",
       "        text-align: right;\n",
       "    }\n",
       "</style>\n",
       "<table border=\"1\" class=\"dataframe\">\n",
       "  <thead>\n",
       "    <tr style=\"text-align: right;\">\n",
       "      <th></th>\n",
       "      <th>price</th>\n",
       "      <th>district</th>\n",
       "      <th>bedroom</th>\n",
       "      <th>bathroom</th>\n",
       "      <th>size</th>\n",
       "      <th>garage</th>\n",
       "      <th>price by m²</th>\n",
       "    </tr>\n",
       "  </thead>\n",
       "  <tbody>\n",
       "    <tr>\n",
       "      <th>10</th>\n",
       "      <td>160000</td>\n",
       "      <td>Derby</td>\n",
       "      <td>1</td>\n",
       "      <td>1</td>\n",
       "      <td>25</td>\n",
       "      <td>2</td>\n",
       "      <td>6400.0</td>\n",
       "    </tr>\n",
       "  </tbody>\n",
       "</table>\n",
       "</div>"
      ],
      "text/plain": [
       "     price district  bedroom  bathroom  size  garage  price by m²\n",
       "10  160000    Derby        1         1    25       2       6400.0"
      ]
     },
     "execution_count": 138,
     "metadata": {},
     "output_type": "execute_result"
    }
   ],
   "source": [
    "df.head(1)"
   ]
  },
  {
   "cell_type": "code",
   "execution_count": 139,
   "metadata": {},
   "outputs": [
    {
     "data": {
      "text/html": [
       "<div>\n",
       "<style scoped>\n",
       "    .dataframe tbody tr th:only-of-type {\n",
       "        vertical-align: middle;\n",
       "    }\n",
       "\n",
       "    .dataframe tbody tr th {\n",
       "        vertical-align: top;\n",
       "    }\n",
       "\n",
       "    .dataframe thead th {\n",
       "        text-align: right;\n",
       "    }\n",
       "</style>\n",
       "<table border=\"1\" class=\"dataframe\">\n",
       "  <thead>\n",
       "    <tr style=\"text-align: right;\">\n",
       "      <th></th>\n",
       "      <th>locations</th>\n",
       "      <th>price</th>\n",
       "      <th>district</th>\n",
       "      <th>bedroom</th>\n",
       "      <th>size</th>\n",
       "      <th>garage</th>\n",
       "      <th>bathroom</th>\n",
       "      <th>price by m²</th>\n",
       "    </tr>\n",
       "  </thead>\n",
       "  <tbody>\n",
       "    <tr>\n",
       "      <th>0</th>\n",
       "      <td>Recife, Boa Viagem</td>\n",
       "      <td>750000</td>\n",
       "      <td>Boa Viagem</td>\n",
       "      <td>3</td>\n",
       "      <td>130</td>\n",
       "      <td>1</td>\n",
       "      <td>4</td>\n",
       "      <td>5769.230769</td>\n",
       "    </tr>\n",
       "  </tbody>\n",
       "</table>\n",
       "</div>"
      ],
      "text/plain": [
       "            locations   price     district  bedroom  size  garage  bathroom  \\\n",
       "0  Recife, Boa Viagem  750000   Boa Viagem        3   130       1         4   \n",
       "\n",
       "   price by m²  \n",
       "0  5769.230769  "
      ]
     },
     "execution_count": 139,
     "metadata": {},
     "output_type": "execute_result"
    }
   ],
   "source": [
    "df2.head(1)"
   ]
  },
  {
   "cell_type": "code",
   "execution_count": 137,
   "metadata": {
    "scrolled": true
   },
   "outputs": [
    {
     "data": {
      "text/plain": [
       "Index(['price', 'district', 'bedroom', 'bathroom', 'size', 'garage',\n",
       "       'price by m²'],\n",
       "      dtype='object')"
      ]
     },
     "execution_count": 137,
     "metadata": {},
     "output_type": "execute_result"
    }
   ],
   "source": [
    "df.columns"
   ]
  },
  {
   "cell_type": "code",
   "execution_count": 140,
   "metadata": {},
   "outputs": [
    {
     "data": {
      "text/html": [
       "<div>\n",
       "<style scoped>\n",
       "    .dataframe tbody tr th:only-of-type {\n",
       "        vertical-align: middle;\n",
       "    }\n",
       "\n",
       "    .dataframe tbody tr th {\n",
       "        vertical-align: top;\n",
       "    }\n",
       "\n",
       "    .dataframe thead th {\n",
       "        text-align: right;\n",
       "    }\n",
       "</style>\n",
       "<table border=\"1\" class=\"dataframe\">\n",
       "  <thead>\n",
       "    <tr style=\"text-align: right;\">\n",
       "      <th></th>\n",
       "      <th>price</th>\n",
       "      <th>district</th>\n",
       "      <th>bedroom</th>\n",
       "      <th>bathroom</th>\n",
       "      <th>size</th>\n",
       "      <th>garage</th>\n",
       "      <th>price by m²</th>\n",
       "    </tr>\n",
       "  </thead>\n",
       "  <tbody>\n",
       "    <tr>\n",
       "      <th>0</th>\n",
       "      <td>750000</td>\n",
       "      <td>Boa Viagem</td>\n",
       "      <td>3</td>\n",
       "      <td>4</td>\n",
       "      <td>130</td>\n",
       "      <td>1</td>\n",
       "      <td>5769.230769</td>\n",
       "    </tr>\n",
       "  </tbody>\n",
       "</table>\n",
       "</div>"
      ],
      "text/plain": [
       "    price     district  bedroom  bathroom  size  garage  price by m²\n",
       "0  750000   Boa Viagem        3         4   130       1  5769.230769"
      ]
     },
     "execution_count": 140,
     "metadata": {},
     "output_type": "execute_result"
    }
   ],
   "source": [
    "df3 = df2[['price', 'district', 'bedroom', 'bathroom', 'size', 'garage', 'price by m²']]\n",
    "df3.head(1)"
   ]
  },
  {
   "cell_type": "code",
   "execution_count": 148,
   "metadata": {},
   "outputs": [
    {
     "name": "stdout",
     "output_type": "stream",
     "text": [
      "Tamanho das tabelas:\n",
      "df     565\n",
      "df3    1426\n",
      "df+df3 1991\n",
      "\n",
      "data_frame 1991\n"
     ]
    }
   ],
   "source": [
    "data_frame = pd.concat([df, df3]) \n",
    "\n",
    "print(f'Tamanho das tabelas:\\ndf     {len(df)}')\n",
    "print(f'df3    {len(df3)}')\n",
    "print(f'df+df3 {len(df)+len(df3)}')\n",
    "print(f'\\ndata_frame {len(data_frame)}')"
   ]
  },
  {
   "cell_type": "code",
   "execution_count": 149,
   "metadata": {},
   "outputs": [],
   "source": [
    "data_frame.to_pickle('3 Apartamentos pós-análise.pkl')"
   ]
  },
  {
   "cell_type": "markdown",
   "metadata": {},
   "source": [
    "## 5 - Garagem e Bairros\n",
    "\n",
    "Ainda falta examinarmos a quantidade de garagem e conferir se há alguma irregularidade com os bairros.\n",
    "\n",
    "> Mas antes, adicionarei mais dados (da 2ª versão deste mesmo projeto, não quero me alongar em explicações.... basicamente, algo deu errado e decidi recomeçar com sites diferentes). Limpei melhor os dados e de 6000 observações, ficaram 2339, em condições parecidas com os nossos dados atuais."
   ]
  },
  {
   "cell_type": "code",
   "execution_count": 202,
   "metadata": {},
   "outputs": [
    {
     "data": {
      "text/plain": [
       "Index(['price', 'district', 'bedroom', 'bathroom', 'size', 'garage',\n",
       "       'price by m²'],\n",
       "      dtype='object')"
      ]
     },
     "execution_count": 202,
     "metadata": {},
     "output_type": "execute_result"
    }
   ],
   "source": [
    "data_frame.columns"
   ]
  },
  {
   "cell_type": "code",
   "execution_count": 203,
   "metadata": {},
   "outputs": [
    {
     "data": {
      "text/plain": [
       "(2339, 7)"
      ]
     },
     "execution_count": 203,
     "metadata": {},
     "output_type": "execute_result"
    }
   ],
   "source": [
    "more_data = pd.read_pickle(\"Dados Extras.pkl\")\n",
    "more_data = more_data[['price', 'district', 'bedroom', 'bathroom', 'size', 'garage','price by m²']]\n",
    "more_data.shape"
   ]
  },
  {
   "cell_type": "code",
   "execution_count": 205,
   "metadata": {},
   "outputs": [
    {
     "name": "stdout",
     "output_type": "stream",
     "text": [
      "Tamanho das tabelas:\n",
      "data_frame     1980\n",
      "more_data     2339\n",
      "data_frame + more_data 4319\n",
      "\n",
      "data_frame (alterado) 4319\n"
     ]
    }
   ],
   "source": [
    "print(f'Tamanho das tabelas:\\ndata_frame     {len(data_frame)}')\n",
    "print(f'more_data     {len(more_data)}')\n",
    "print(f'data_frame + more_data {len(data_frame)+len(more_data)}')\n",
    "\n",
    "\n",
    "data_frame = pd.concat([data_frame, more_data]) \n",
    "\n",
    "print(f'\\ndata_frame (alterado) {len(data_frame)}')"
   ]
  },
  {
   "cell_type": "code",
   "execution_count": 206,
   "metadata": {},
   "outputs": [],
   "source": [
    "data_frame.to_pickle('4 Apartamentos pós-análise.pkl')"
   ]
  },
  {
   "cell_type": "code",
   "execution_count": 81,
   "metadata": {},
   "outputs": [
    {
     "data": {
      "text/html": [
       "<div>\n",
       "<style scoped>\n",
       "    .dataframe tbody tr th:only-of-type {\n",
       "        vertical-align: middle;\n",
       "    }\n",
       "\n",
       "    .dataframe tbody tr th {\n",
       "        vertical-align: top;\n",
       "    }\n",
       "\n",
       "    .dataframe thead th {\n",
       "        text-align: right;\n",
       "    }\n",
       "</style>\n",
       "<table border=\"1\" class=\"dataframe\">\n",
       "  <thead>\n",
       "    <tr style=\"text-align: right;\">\n",
       "      <th></th>\n",
       "      <th>price</th>\n",
       "      <th>district</th>\n",
       "      <th>bedroom</th>\n",
       "      <th>bathroom</th>\n",
       "      <th>size</th>\n",
       "      <th>garage</th>\n",
       "      <th>price by m²</th>\n",
       "    </tr>\n",
       "  </thead>\n",
       "  <tbody>\n",
       "    <tr>\n",
       "      <th>10</th>\n",
       "      <td>160000</td>\n",
       "      <td>Derby</td>\n",
       "      <td>1</td>\n",
       "      <td>1</td>\n",
       "      <td>25.0</td>\n",
       "      <td>2</td>\n",
       "      <td>6400.000000</td>\n",
       "    </tr>\n",
       "    <tr>\n",
       "      <th>13</th>\n",
       "      <td>168000</td>\n",
       "      <td>Soledade</td>\n",
       "      <td>1</td>\n",
       "      <td>1</td>\n",
       "      <td>25.0</td>\n",
       "      <td>1</td>\n",
       "      <td>6720.000000</td>\n",
       "    </tr>\n",
       "    <tr>\n",
       "      <th>19</th>\n",
       "      <td>174000</td>\n",
       "      <td>Parnamirim</td>\n",
       "      <td>1</td>\n",
       "      <td>1</td>\n",
       "      <td>34.0</td>\n",
       "      <td>1</td>\n",
       "      <td>5117.647059</td>\n",
       "    </tr>\n",
       "    <tr>\n",
       "      <th>23</th>\n",
       "      <td>180000</td>\n",
       "      <td>Água Fria</td>\n",
       "      <td>2</td>\n",
       "      <td>2</td>\n",
       "      <td>45.0</td>\n",
       "      <td>1</td>\n",
       "      <td>4000.000000</td>\n",
       "    </tr>\n",
       "    <tr>\n",
       "      <th>24</th>\n",
       "      <td>180000</td>\n",
       "      <td>Rosarinho</td>\n",
       "      <td>1</td>\n",
       "      <td>1</td>\n",
       "      <td>34.0</td>\n",
       "      <td>1</td>\n",
       "      <td>5294.117647</td>\n",
       "    </tr>\n",
       "  </tbody>\n",
       "</table>\n",
       "</div>"
      ],
      "text/plain": [
       "     price    district  bedroom  bathroom  size  garage  price by m²\n",
       "10  160000       Derby        1         1  25.0       2  6400.000000\n",
       "13  168000    Soledade        1         1  25.0       1  6720.000000\n",
       "19  174000  Parnamirim        1         1  34.0       1  5117.647059\n",
       "23  180000   Água Fria        2         2  45.0       1  4000.000000\n",
       "24  180000   Rosarinho        1         1  34.0       1  5294.117647"
      ]
     },
     "execution_count": 81,
     "metadata": {},
     "output_type": "execute_result"
    }
   ],
   "source": [
    "data_frame = pd.read_pickle('4 Apartamentos pós-análise.pkl')\n",
    "data_frame.head()"
   ]
  },
  {
   "cell_type": "markdown",
   "metadata": {},
   "source": [
    "###  5.1 Garagem\n",
    "\n",
    "A quantidade de garagem com relação aos quartos parece estar normal. Nesses (kkkk e em vários outros) momentos seria ideal interagir com algum especialista da área. Principalmente por o fator m² ser o provável grande influenciador, mas como vemos no 2º plot, ele parece não afetar tanto a quantia de vagas na garagem."
   ]
  },
  {
   "cell_type": "code",
   "execution_count": 3,
   "metadata": {},
   "outputs": [
    {
     "data": {
      "image/png": "[encoded data removed]",
      "text/plain": [
       "<Figure size 432x288 with 1 Axes>"
      ]
     },
     "metadata": {},
     "output_type": "display_data"
    }
   ],
   "source": [
    "plt.scatter(data_frame.bedroom, data_frame.garage)\n",
    "plt.xlabel('Quartos')\n",
    "plt.ylabel('Garagem')\n",
    "plt.show()"
   ]
  },
  {
   "cell_type": "code",
   "execution_count": 13,
   "metadata": {},
   "outputs": [
    {
     "data": {
      "image/png": "[encoded data removed]",
      "text/plain": [
       "<Figure size 432x288 with 1 Axes>"
      ]
     },
     "metadata": {},
     "output_type": "display_data"
    }
   ],
   "source": [
    "plt.scatter(data_frame['size'], data_frame.garage)\n",
    "plt.xlabel('m²')\n",
    "plt.ylabel('Garagem')\n",
    "plt.show()"
   ]
  },
  {
   "cell_type": "markdown",
   "metadata": {},
   "source": [
    "### 5.2 Bairros"
   ]
  },
  {
   "cell_type": "code",
   "execution_count": 17,
   "metadata": {},
   "outputs": [
    {
     "data": {
      "text/html": [
       "<div>\n",
       "<style scoped>\n",
       "    .dataframe tbody tr th:only-of-type {\n",
       "        vertical-align: middle;\n",
       "    }\n",
       "\n",
       "    .dataframe tbody tr th {\n",
       "        vertical-align: top;\n",
       "    }\n",
       "\n",
       "    .dataframe thead th {\n",
       "        text-align: right;\n",
       "    }\n",
       "</style>\n",
       "<table border=\"1\" class=\"dataframe\">\n",
       "  <thead>\n",
       "    <tr style=\"text-align: right;\">\n",
       "      <th></th>\n",
       "      <th>price</th>\n",
       "      <th>district</th>\n",
       "      <th>bedroom</th>\n",
       "      <th>bathroom</th>\n",
       "      <th>size</th>\n",
       "      <th>garage</th>\n",
       "      <th>price by m²</th>\n",
       "    </tr>\n",
       "  </thead>\n",
       "  <tbody>\n",
       "    <tr>\n",
       "      <th>10</th>\n",
       "      <td>160000</td>\n",
       "      <td>Derby</td>\n",
       "      <td>1</td>\n",
       "      <td>1</td>\n",
       "      <td>25.0</td>\n",
       "      <td>2</td>\n",
       "      <td>6400.000000</td>\n",
       "    </tr>\n",
       "    <tr>\n",
       "      <th>13</th>\n",
       "      <td>168000</td>\n",
       "      <td>Soledade</td>\n",
       "      <td>1</td>\n",
       "      <td>1</td>\n",
       "      <td>25.0</td>\n",
       "      <td>1</td>\n",
       "      <td>6720.000000</td>\n",
       "    </tr>\n",
       "    <tr>\n",
       "      <th>19</th>\n",
       "      <td>174000</td>\n",
       "      <td>Parnamirim</td>\n",
       "      <td>1</td>\n",
       "      <td>1</td>\n",
       "      <td>34.0</td>\n",
       "      <td>1</td>\n",
       "      <td>5117.647059</td>\n",
       "    </tr>\n",
       "    <tr>\n",
       "      <th>23</th>\n",
       "      <td>180000</td>\n",
       "      <td>Água Fria</td>\n",
       "      <td>2</td>\n",
       "      <td>2</td>\n",
       "      <td>45.0</td>\n",
       "      <td>1</td>\n",
       "      <td>4000.000000</td>\n",
       "    </tr>\n",
       "    <tr>\n",
       "      <th>24</th>\n",
       "      <td>180000</td>\n",
       "      <td>Rosarinho</td>\n",
       "      <td>1</td>\n",
       "      <td>1</td>\n",
       "      <td>34.0</td>\n",
       "      <td>1</td>\n",
       "      <td>5294.117647</td>\n",
       "    </tr>\n",
       "  </tbody>\n",
       "</table>\n",
       "</div>"
      ],
      "text/plain": [
       "     price    district  bedroom  bathroom  size  garage  price by m²\n",
       "10  160000       Derby        1         1  25.0       2  6400.000000\n",
       "13  168000    Soledade        1         1  25.0       1  6720.000000\n",
       "19  174000  Parnamirim        1         1  34.0       1  5117.647059\n",
       "23  180000   Água Fria        2         2  45.0       1  4000.000000\n",
       "24  180000   Rosarinho        1         1  34.0       1  5294.117647"
      ]
     },
     "execution_count": 17,
     "metadata": {},
     "output_type": "execute_result"
    }
   ],
   "source": [
    "data_frame.head()"
   ]
  },
  {
   "cell_type": "code",
   "execution_count": 35,
   "metadata": {},
   "outputs": [
    {
     "data": {
      "text/plain": [
       "107"
      ]
     },
     "execution_count": 35,
     "metadata": {},
     "output_type": "execute_result"
    }
   ],
   "source": [
    "len(data_frame.district.unique())"
   ]
  },
  {
   "cell_type": "code",
   "execution_count": 82,
   "metadata": {},
   "outputs": [],
   "source": [
    "# Eliminando possíveis '\\n' ou espaços \" \" extras\n",
    "data_frame['district'] = data_frame.district.apply(lambda x: x.strip())"
   ]
  },
  {
   "cell_type": "markdown",
   "metadata": {},
   "source": [
    "_\"Não acho que essa seja a maneira mais sênior de se fazer as coisas, mas basicamente **peguei uma lista com todos os bairros da cidade do Recife (fiz uma limpeza para retirar os '\\n's) e comparei os valores em data_frame['district'] com os nomes dos bairros do Recife.**\"_\n",
    "\n",
    "> Assim temos um (talvez não o melhor) modo de saber quais bairros realmente são bairros."
   ]
  },
  {
   "cell_type": "code",
   "execution_count": 83,
   "metadata": {},
   "outputs": [
    {
     "data": {
      "text/plain": [
       "'\\n            Torrões'"
      ]
     },
     "execution_count": 83,
     "metadata": {},
     "output_type": "execute_result"
    }
   ],
   "source": [
    "neighborhoods ='''Aflitos,Afogados,Água Fria,Alto José Bonifácio,Alto José do Pinho,Alto do Mandu,Alto do Pascoal,\n",
    "            Alto Santa Teresinha,Apipucos,Areias,Arruda,Barro,Beberibe,Benfica,Boa Viagem,Boa Vista,Bomba do Hemetério,Bongi,\n",
    "            Brasília Teimosa,Brejo do Beberibe,Brejo da Guabiraba,Cabanga,Caçote,Cajueiro,Campina do Barreto,Campo Grande,\n",
    "            Casa Amarela,Casa Forte,Caxangá,Cidade Universitária,Coelhos,Cohab,Comunidade do Pilar,Coque,Coqueiral,Cordeiro,\n",
    "            Córrego do Jenipapo,Curado,Derby,Dois Irmãos,Dois Unidos,Encruzilhada,Engenho do Meio,Entra Apulso,Espinheiro,\n",
    "            Estância,Fundão,Graças,Guabiraba,Hipódromo,Ibura,Ilha Joana Bezerra,Ilha do Leite,Ilha do Retiro,Imbiribeira,\n",
    "            Ipsep,Iputinga,Jaqueira,Jardim São Paulo,Jiquiá,Jordão,Linha do Tiro,Macaxeira,Madalena,Mangabeira,Mangueira,\n",
    "            Monteiro,Morro da Conceição,Mustardinha,Nova Descoberta,Paissandu,Parnamirim,Passarinho,Pau Ferro,Peixinhos,Pina,\n",
    "            Poço da Panela,Ponte d’Uchoa,Ponto de Parada,Porto da Madeira,Prado,Recife (bairro),Rosarinho,San Martin,Sancho,\n",
    "            Santana,Santo Amaro,Santo Antônio,São José,Setúbal,Sítio dos Pintos,Soledade,Tamarineira,Tejipió,Torre,Torreão,\n",
    "            Torrões,Totó,Várzea,Vasco da Gama,Vila Tamandaré,Zumbi'''\n",
    "\n",
    "neighborhoods_list = neighborhoods.split(',')\n",
    "\n",
    "recife_neighborhoods = []\n",
    "for neighborhood in neighborhoods_list:\n",
    "    recife_neighborhoods.append(neighborhood.strip()) # removendo '\\n' \n",
    "\n",
    "# Lista com '\\n's \n",
    "neighborhoods_list[-6]"
   ]
  },
  {
   "cell_type": "code",
   "execution_count": 84,
   "metadata": {
    "scrolled": true
   },
   "outputs": [
    {
     "data": {
      "text/plain": [
       "'Torrões'"
      ]
     },
     "execution_count": 84,
     "metadata": {},
     "output_type": "execute_result"
    }
   ],
   "source": [
    "# A que usaremos\n",
    "recife_neighborhoods[-6]"
   ]
  },
  {
   "cell_type": "markdown",
   "metadata": {},
   "source": [
    "Agora podemos comparar...\n",
    "\n",
    "**Temos 107 bairros diferentes na nossa tabela.\n",
    "Mas apenas 55 aparecem na lista de bairros do Recife.**\n",
    "\n",
    "Uma das causas pode ser palavras escritas diferentemente, seja \n",
    "\"água\" != \"agua\"   ou   \"água\" != \"h2o\"\n",
    "\n",
    "[Regex](https://www.w3schools.com/python/python_regex.asp) poderia ser útil aqui.\n",
    "\n",
    "### ...\n",
    "\n",
    "### Insights ( * o * )\n",
    "Em breve análise percebi que alguns bairros dos dados coletados referem-se à região metropolitana do recife (que é formada por várias cidades conectadas). Ou seja, são dados de apartamentos não da cidade do Recife mas de cidades próximas _(por isso eles não aparecem na lista de bairros do Recife)_.\n",
    "\n",
    "    Mirueira --> Paulista\n",
    "    Rio Doce --> Olinda\n",
    "\n",
    "Outros são derivados da troca na ordem escrita. No Data Cleaning, como pegamos a última parte das strings (na coluna com as localizações) pode ter acontecido de alguns endereços terem o nome do bairro no meio da string e não no final.\n",
    "\n",
    "    Boa Viagem, Recife --->  Recife\n",
    "    Piedade, Olinda    --->  Olinda \n",
    "    \n",
    "Primeiro, examinaremos a quantidade de elementos por bairro e eliminaremos os que que contém pouquissímos dados."
   ]
  },
  {
   "cell_type": "code",
   "execution_count": 34,
   "metadata": {},
   "outputs": [
    {
     "data": {
      "image/png": "[encoded data removed]",
      "text/plain": [
       "<IPython.core.display.Image object>"
      ]
     },
     "metadata": {},
     "output_type": "display_data"
    }
   ],
   "source": [
    "from IPython.display import display, Image\n",
    "display(Image(filename='Regiao-Metropolitana-de-Recife.png'))"
   ]
  },
  {
   "cell_type": "code",
   "execution_count": 85,
   "metadata": {
    "scrolled": false
   },
   "outputs": [
    {
     "name": "stdout",
     "output_type": "stream",
     "text": [
      "Derby\n",
      "Soledade\n",
      "Parnamirim\n",
      "Água Fria\n",
      "Rosarinho\n",
      "Tamarineira\n",
      "Boa Viagem\n",
      "Iputinga\n",
      "Boa Vista\n",
      "Campo Grande\n",
      "Graças\n",
      "Várzea\n",
      "Torre\n",
      "Imbiribeira\n",
      "Casa Amarela\n",
      "Arruda\n",
      "Madalena\n",
      "Aflitos\n",
      "Cordeiro\n",
      "Jardim São Paulo\n",
      "Espinheiro\n",
      "Caxangá\n",
      "Encruzilhada\n",
      "Apipucos\n",
      "Santo Amaro\n",
      "Prado\n",
      "Tejipió\n",
      "Casa Forte\n",
      "Torreão\n",
      "Pina\n",
      "Ilha do Retiro\n",
      "____FORA DA LISTA ---> Poço\n",
      "Poço da Panela\n",
      "____FORA DA LISTA ---> Brejo de Beberibe\n",
      "Jaqueira\n",
      "Monteiro\n",
      "Setúbal\n",
      "Ipsep\n",
      "____FORA DA LISTA ---> Barra de Jangada\n",
      "____FORA DA LISTA ---> Piedade\n",
      "Barro\n",
      "____FORA DA LISTA ---> Ipojuca\n",
      "____FORA DA LISTA ---> Indianópolis\n",
      "____FORA DA LISTA ---> Candeias\n",
      "____FORA DA LISTA ---> Vila Rural\n",
      "Dois Irmãos\n",
      "____FORA DA LISTA ---> Centro\n",
      "____FORA DA LISTA ---> Recife\n",
      "____FORA DA LISTA ---> Alberto Maia\n",
      "____FORA DA LISTA ---> Casa Caiada\n",
      "____FORA DA LISTA ---> Maranguape I\n",
      "Cajueiro\n",
      "____FORA DA LISTA ---> Socorro\n",
      "____FORA DA LISTA ---> Jardim Atlântico\n",
      "____FORA DA LISTA ---> Sucupira\n",
      "____FORA DA LISTA ---> Paudalho\n",
      "____FORA DA LISTA ---> Jaboatão dos Guararapes\n",
      "____FORA DA LISTA ---> Janga\n",
      "____FORA DA LISTA ---> Bairro Novo\n",
      "____FORA DA LISTA ---> Nobre\n",
      "____FORA DA LISTA ---> Timbí\n",
      "Afogados\n",
      "____FORA DA LISTA ---> Engenho Velho\n",
      "Ilha do Leite\n",
      "____FORA DA LISTA ---> Pau Amarelo\n",
      "____FORA DA LISTA ---> Nossa Senhora do Ó\n",
      "____FORA DA LISTA ---> Universitário\n",
      "____FORA DA LISTA ---> Marcos Freire\n",
      "Ponto de Parada\n",
      "____FORA DA LISTA ---> Nossa Senhora do Rosário\n",
      "____FORA DA LISTA ---> Tamandaré\n",
      "Peixinhos\n",
      "____FORA DA LISTA ---> Luiz Gonzaga\n",
      "Campina do Barreto\n",
      "____FORA DA LISTA ---> Aurora\n",
      "____FORA DA LISTA ---> Vassoural\n",
      "____FORA DA LISTA ---> Ilha de Itamaracá\n",
      "____FORA DA LISTA ---> Prazeres\n",
      "Santo Antônio\n",
      "____FORA DA LISTA ---> Santa Mônica\n",
      "____FORA DA LISTA ---> Paratibe\n",
      "Zumbi\n",
      "____FORA DA LISTA ---> Cajueiro Seco\n",
      "São José\n",
      "____FORA DA LISTA ---> Gravatá\n",
      "____FORA DA LISTA ---> Rio Doce\n",
      "Estância\n",
      "____FORA DA LISTA ---> Dois Carneiros\n",
      "____FORA DA LISTA ---> COHAB\n",
      "____FORA DA LISTA ---> Olinda\n",
      "____FORA DA LISTA ---> Mirueira\n",
      "Coelhos\n",
      "Guabiraba\n",
      "____FORA DA LISTA ---> Nova Caruaru\n",
      "Engenho do Meio\n",
      "____FORA DA LISTA ---> Caruaru\n",
      "____FORA DA LISTA ---> Paulista\n",
      "____FORA DA LISTA ---> Estação Nova\n",
      "____FORA DA LISTA ---> Camaragibe\n",
      "____FORA DA LISTA ---> Nova Tiúma\n",
      "____FORA DA LISTA ---> Rendeiras\n",
      "____FORA DA LISTA ---> Santo Agostinho\n",
      "____FORA DA LISTA ---> Suape\n",
      "Santana\n",
      "San Martin\n",
      "Cidade Universitária\n",
      "Bongi\n",
      "\n",
      "Confirmados:  55\n",
      "Fora da lista:  52\n"
     ]
    }
   ],
   "source": [
    "count_equals = 0; not_equals = 0\n",
    "\n",
    "for neighborhood in data_frame['district'].unique():\n",
    "    if neighborhood in recife_neighborhoods:\n",
    "        print(neighborhood)\n",
    "        count_equals += 1\n",
    "    else:\n",
    "        print('____FORA DA LISTA --->',neighborhood)\n",
    "        not_equals += 1\n",
    "\n",
    "print('\\nConfirmados: ',count_equals)\n",
    "print('Fora da lista: ',not_equals)"
   ]
  },
  {
   "cell_type": "markdown",
   "metadata": {},
   "source": [
    "Deletar bairros com menos de 25 apartamentos."
   ]
  },
  {
   "cell_type": "code",
   "execution_count": 46,
   "metadata": {},
   "outputs": [
    {
     "data": {
      "text/html": [
       "<div>\n",
       "<style scoped>\n",
       "    .dataframe tbody tr th:only-of-type {\n",
       "        vertical-align: middle;\n",
       "    }\n",
       "\n",
       "    .dataframe tbody tr th {\n",
       "        vertical-align: top;\n",
       "    }\n",
       "\n",
       "    .dataframe thead th {\n",
       "        text-align: right;\n",
       "    }\n",
       "</style>\n",
       "<table border=\"1\" class=\"dataframe\">\n",
       "  <thead>\n",
       "    <tr style=\"text-align: right;\">\n",
       "      <th></th>\n",
       "      <th>price</th>\n",
       "      <th>bedroom</th>\n",
       "      <th>bathroom</th>\n",
       "      <th>size</th>\n",
       "      <th>garage</th>\n",
       "      <th>price by m²</th>\n",
       "    </tr>\n",
       "    <tr>\n",
       "      <th>district</th>\n",
       "      <th></th>\n",
       "      <th></th>\n",
       "      <th></th>\n",
       "      <th></th>\n",
       "      <th></th>\n",
       "      <th></th>\n",
       "    </tr>\n",
       "  </thead>\n",
       "  <tbody>\n",
       "    <tr>\n",
       "      <th>Boa Viagem</th>\n",
       "      <td>869</td>\n",
       "      <td>869</td>\n",
       "      <td>869</td>\n",
       "      <td>869</td>\n",
       "      <td>869</td>\n",
       "      <td>869</td>\n",
       "    </tr>\n",
       "    <tr>\n",
       "      <th>Casa Amarela</th>\n",
       "      <td>314</td>\n",
       "      <td>314</td>\n",
       "      <td>314</td>\n",
       "      <td>314</td>\n",
       "      <td>314</td>\n",
       "      <td>314</td>\n",
       "    </tr>\n",
       "    <tr>\n",
       "      <th>Torre</th>\n",
       "      <td>267</td>\n",
       "      <td>267</td>\n",
       "      <td>267</td>\n",
       "      <td>267</td>\n",
       "      <td>267</td>\n",
       "      <td>267</td>\n",
       "    </tr>\n",
       "    <tr>\n",
       "      <th>Madalena</th>\n",
       "      <td>255</td>\n",
       "      <td>255</td>\n",
       "      <td>255</td>\n",
       "      <td>255</td>\n",
       "      <td>255</td>\n",
       "      <td>255</td>\n",
       "    </tr>\n",
       "    <tr>\n",
       "      <th>Encruzilhada</th>\n",
       "      <td>218</td>\n",
       "      <td>218</td>\n",
       "      <td>218</td>\n",
       "      <td>218</td>\n",
       "      <td>218</td>\n",
       "      <td>218</td>\n",
       "    </tr>\n",
       "    <tr>\n",
       "      <th>Espinheiro</th>\n",
       "      <td>176</td>\n",
       "      <td>176</td>\n",
       "      <td>176</td>\n",
       "      <td>176</td>\n",
       "      <td>176</td>\n",
       "      <td>176</td>\n",
       "    </tr>\n",
       "    <tr>\n",
       "      <th>Rosarinho</th>\n",
       "      <td>168</td>\n",
       "      <td>168</td>\n",
       "      <td>168</td>\n",
       "      <td>168</td>\n",
       "      <td>168</td>\n",
       "      <td>168</td>\n",
       "    </tr>\n",
       "    <tr>\n",
       "      <th>Graças</th>\n",
       "      <td>147</td>\n",
       "      <td>147</td>\n",
       "      <td>147</td>\n",
       "      <td>147</td>\n",
       "      <td>147</td>\n",
       "      <td>147</td>\n",
       "    </tr>\n",
       "    <tr>\n",
       "      <th>Casa Forte</th>\n",
       "      <td>135</td>\n",
       "      <td>135</td>\n",
       "      <td>135</td>\n",
       "      <td>135</td>\n",
       "      <td>135</td>\n",
       "      <td>135</td>\n",
       "    </tr>\n",
       "    <tr>\n",
       "      <th>Candeias</th>\n",
       "      <td>129</td>\n",
       "      <td>129</td>\n",
       "      <td>129</td>\n",
       "      <td>129</td>\n",
       "      <td>129</td>\n",
       "      <td>129</td>\n",
       "    </tr>\n",
       "    <tr>\n",
       "      <th>Piedade</th>\n",
       "      <td>126</td>\n",
       "      <td>126</td>\n",
       "      <td>126</td>\n",
       "      <td>126</td>\n",
       "      <td>126</td>\n",
       "      <td>126</td>\n",
       "    </tr>\n",
       "    <tr>\n",
       "      <th>Tamarineira</th>\n",
       "      <td>124</td>\n",
       "      <td>124</td>\n",
       "      <td>124</td>\n",
       "      <td>124</td>\n",
       "      <td>124</td>\n",
       "      <td>124</td>\n",
       "    </tr>\n",
       "    <tr>\n",
       "      <th>Cordeiro</th>\n",
       "      <td>104</td>\n",
       "      <td>104</td>\n",
       "      <td>104</td>\n",
       "      <td>104</td>\n",
       "      <td>104</td>\n",
       "      <td>104</td>\n",
       "    </tr>\n",
       "    <tr>\n",
       "      <th>Pina</th>\n",
       "      <td>98</td>\n",
       "      <td>98</td>\n",
       "      <td>98</td>\n",
       "      <td>98</td>\n",
       "      <td>98</td>\n",
       "      <td>98</td>\n",
       "    </tr>\n",
       "    <tr>\n",
       "      <th>Santo Amaro</th>\n",
       "      <td>82</td>\n",
       "      <td>82</td>\n",
       "      <td>82</td>\n",
       "      <td>82</td>\n",
       "      <td>82</td>\n",
       "      <td>82</td>\n",
       "    </tr>\n",
       "    <tr>\n",
       "      <th>Caxangá</th>\n",
       "      <td>81</td>\n",
       "      <td>81</td>\n",
       "      <td>81</td>\n",
       "      <td>81</td>\n",
       "      <td>81</td>\n",
       "      <td>81</td>\n",
       "    </tr>\n",
       "    <tr>\n",
       "      <th>Parnamirim</th>\n",
       "      <td>80</td>\n",
       "      <td>80</td>\n",
       "      <td>80</td>\n",
       "      <td>80</td>\n",
       "      <td>80</td>\n",
       "      <td>80</td>\n",
       "    </tr>\n",
       "    <tr>\n",
       "      <th>Aflitos</th>\n",
       "      <td>69</td>\n",
       "      <td>69</td>\n",
       "      <td>69</td>\n",
       "      <td>69</td>\n",
       "      <td>69</td>\n",
       "      <td>69</td>\n",
       "    </tr>\n",
       "    <tr>\n",
       "      <th>Várzea</th>\n",
       "      <td>63</td>\n",
       "      <td>63</td>\n",
       "      <td>63</td>\n",
       "      <td>63</td>\n",
       "      <td>63</td>\n",
       "      <td>63</td>\n",
       "    </tr>\n",
       "    <tr>\n",
       "      <th>Prado</th>\n",
       "      <td>61</td>\n",
       "      <td>61</td>\n",
       "      <td>61</td>\n",
       "      <td>61</td>\n",
       "      <td>61</td>\n",
       "      <td>61</td>\n",
       "    </tr>\n",
       "    <tr>\n",
       "      <th>Imbiribeira</th>\n",
       "      <td>58</td>\n",
       "      <td>58</td>\n",
       "      <td>58</td>\n",
       "      <td>58</td>\n",
       "      <td>58</td>\n",
       "      <td>58</td>\n",
       "    </tr>\n",
       "    <tr>\n",
       "      <th>Iputinga</th>\n",
       "      <td>52</td>\n",
       "      <td>52</td>\n",
       "      <td>52</td>\n",
       "      <td>52</td>\n",
       "      <td>52</td>\n",
       "      <td>52</td>\n",
       "    </tr>\n",
       "    <tr>\n",
       "      <th>Campo Grande</th>\n",
       "      <td>47</td>\n",
       "      <td>47</td>\n",
       "      <td>47</td>\n",
       "      <td>47</td>\n",
       "      <td>47</td>\n",
       "      <td>47</td>\n",
       "    </tr>\n",
       "    <tr>\n",
       "      <th>Recife</th>\n",
       "      <td>41</td>\n",
       "      <td>41</td>\n",
       "      <td>41</td>\n",
       "      <td>41</td>\n",
       "      <td>41</td>\n",
       "      <td>41</td>\n",
       "    </tr>\n",
       "    <tr>\n",
       "      <th>Boa Vista</th>\n",
       "      <td>40</td>\n",
       "      <td>40</td>\n",
       "      <td>40</td>\n",
       "      <td>40</td>\n",
       "      <td>40</td>\n",
       "      <td>40</td>\n",
       "    </tr>\n",
       "    <tr>\n",
       "      <th>Ilha do Retiro</th>\n",
       "      <td>38</td>\n",
       "      <td>38</td>\n",
       "      <td>38</td>\n",
       "      <td>38</td>\n",
       "      <td>38</td>\n",
       "      <td>38</td>\n",
       "    </tr>\n",
       "    <tr>\n",
       "      <th>Apipucos</th>\n",
       "      <td>37</td>\n",
       "      <td>37</td>\n",
       "      <td>37</td>\n",
       "      <td>37</td>\n",
       "      <td>37</td>\n",
       "      <td>37</td>\n",
       "    </tr>\n",
       "    <tr>\n",
       "      <th>Barra de Jangada</th>\n",
       "      <td>35</td>\n",
       "      <td>35</td>\n",
       "      <td>35</td>\n",
       "      <td>35</td>\n",
       "      <td>35</td>\n",
       "      <td>35</td>\n",
       "    </tr>\n",
       "    <tr>\n",
       "      <th>Centro</th>\n",
       "      <td>27</td>\n",
       "      <td>27</td>\n",
       "      <td>27</td>\n",
       "      <td>27</td>\n",
       "      <td>27</td>\n",
       "      <td>27</td>\n",
       "    </tr>\n",
       "    <tr>\n",
       "      <th>Ipojuca</th>\n",
       "      <td>23</td>\n",
       "      <td>23</td>\n",
       "      <td>23</td>\n",
       "      <td>23</td>\n",
       "      <td>23</td>\n",
       "      <td>23</td>\n",
       "    </tr>\n",
       "    <tr>\n",
       "      <th>Monteiro</th>\n",
       "      <td>21</td>\n",
       "      <td>21</td>\n",
       "      <td>21</td>\n",
       "      <td>21</td>\n",
       "      <td>21</td>\n",
       "      <td>21</td>\n",
       "    </tr>\n",
       "    <tr>\n",
       "      <th>Janga</th>\n",
       "      <td>20</td>\n",
       "      <td>20</td>\n",
       "      <td>20</td>\n",
       "      <td>20</td>\n",
       "      <td>20</td>\n",
       "      <td>20</td>\n",
       "    </tr>\n",
       "    <tr>\n",
       "      <th>Casa Caiada</th>\n",
       "      <td>17</td>\n",
       "      <td>17</td>\n",
       "      <td>17</td>\n",
       "      <td>17</td>\n",
       "      <td>17</td>\n",
       "      <td>17</td>\n",
       "    </tr>\n",
       "    <tr>\n",
       "      <th>Derby</th>\n",
       "      <td>17</td>\n",
       "      <td>17</td>\n",
       "      <td>17</td>\n",
       "      <td>17</td>\n",
       "      <td>17</td>\n",
       "      <td>17</td>\n",
       "    </tr>\n",
       "    <tr>\n",
       "      <th>Barro</th>\n",
       "      <td>16</td>\n",
       "      <td>16</td>\n",
       "      <td>16</td>\n",
       "      <td>16</td>\n",
       "      <td>16</td>\n",
       "      <td>16</td>\n",
       "    </tr>\n",
       "    <tr>\n",
       "      <th>Torreão</th>\n",
       "      <td>16</td>\n",
       "      <td>16</td>\n",
       "      <td>16</td>\n",
       "      <td>16</td>\n",
       "      <td>16</td>\n",
       "      <td>16</td>\n",
       "    </tr>\n",
       "    <tr>\n",
       "      <th>Poço</th>\n",
       "      <td>15</td>\n",
       "      <td>15</td>\n",
       "      <td>15</td>\n",
       "      <td>15</td>\n",
       "      <td>15</td>\n",
       "      <td>15</td>\n",
       "    </tr>\n",
       "    <tr>\n",
       "      <th>Tejipió</th>\n",
       "      <td>14</td>\n",
       "      <td>14</td>\n",
       "      <td>14</td>\n",
       "      <td>14</td>\n",
       "      <td>14</td>\n",
       "      <td>14</td>\n",
       "    </tr>\n",
       "    <tr>\n",
       "      <th>Ponto de Parada</th>\n",
       "      <td>14</td>\n",
       "      <td>14</td>\n",
       "      <td>14</td>\n",
       "      <td>14</td>\n",
       "      <td>14</td>\n",
       "      <td>14</td>\n",
       "    </tr>\n",
       "    <tr>\n",
       "      <th>Jaqueira</th>\n",
       "      <td>13</td>\n",
       "      <td>13</td>\n",
       "      <td>13</td>\n",
       "      <td>13</td>\n",
       "      <td>13</td>\n",
       "      <td>13</td>\n",
       "    </tr>\n",
       "    <tr>\n",
       "      <th>Arruda</th>\n",
       "      <td>11</td>\n",
       "      <td>11</td>\n",
       "      <td>11</td>\n",
       "      <td>11</td>\n",
       "      <td>11</td>\n",
       "      <td>11</td>\n",
       "    </tr>\n",
       "    <tr>\n",
       "      <th>Santana</th>\n",
       "      <td>8</td>\n",
       "      <td>8</td>\n",
       "      <td>8</td>\n",
       "      <td>8</td>\n",
       "      <td>8</td>\n",
       "      <td>8</td>\n",
       "    </tr>\n",
       "    <tr>\n",
       "      <th>San Martin</th>\n",
       "      <td>8</td>\n",
       "      <td>8</td>\n",
       "      <td>8</td>\n",
       "      <td>8</td>\n",
       "      <td>8</td>\n",
       "      <td>8</td>\n",
       "    </tr>\n",
       "    <tr>\n",
       "      <th>Indianópolis</th>\n",
       "      <td>8</td>\n",
       "      <td>8</td>\n",
       "      <td>8</td>\n",
       "      <td>8</td>\n",
       "      <td>8</td>\n",
       "      <td>8</td>\n",
       "    </tr>\n",
       "    <tr>\n",
       "      <th>Água Fria</th>\n",
       "      <td>8</td>\n",
       "      <td>8</td>\n",
       "      <td>8</td>\n",
       "      <td>8</td>\n",
       "      <td>8</td>\n",
       "      <td>8</td>\n",
       "    </tr>\n",
       "    <tr>\n",
       "      <th>Bairro Novo</th>\n",
       "      <td>8</td>\n",
       "      <td>8</td>\n",
       "      <td>8</td>\n",
       "      <td>8</td>\n",
       "      <td>8</td>\n",
       "      <td>8</td>\n",
       "    </tr>\n",
       "    <tr>\n",
       "      <th>Jardim São Paulo</th>\n",
       "      <td>7</td>\n",
       "      <td>7</td>\n",
       "      <td>7</td>\n",
       "      <td>7</td>\n",
       "      <td>7</td>\n",
       "      <td>7</td>\n",
       "    </tr>\n",
       "    <tr>\n",
       "      <th>Maranguape I</th>\n",
       "      <td>7</td>\n",
       "      <td>7</td>\n",
       "      <td>7</td>\n",
       "      <td>7</td>\n",
       "      <td>7</td>\n",
       "      <td>7</td>\n",
       "    </tr>\n",
       "    <tr>\n",
       "      <th>Dois Irmãos</th>\n",
       "      <td>7</td>\n",
       "      <td>7</td>\n",
       "      <td>7</td>\n",
       "      <td>7</td>\n",
       "      <td>7</td>\n",
       "      <td>7</td>\n",
       "    </tr>\n",
       "    <tr>\n",
       "      <th>Engenho do Meio</th>\n",
       "      <td>6</td>\n",
       "      <td>6</td>\n",
       "      <td>6</td>\n",
       "      <td>6</td>\n",
       "      <td>6</td>\n",
       "      <td>6</td>\n",
       "    </tr>\n",
       "    <tr>\n",
       "      <th>Universitário</th>\n",
       "      <td>5</td>\n",
       "      <td>5</td>\n",
       "      <td>5</td>\n",
       "      <td>5</td>\n",
       "      <td>5</td>\n",
       "      <td>5</td>\n",
       "    </tr>\n",
       "    <tr>\n",
       "      <th>Tamandaré</th>\n",
       "      <td>5</td>\n",
       "      <td>5</td>\n",
       "      <td>5</td>\n",
       "      <td>5</td>\n",
       "      <td>5</td>\n",
       "      <td>5</td>\n",
       "    </tr>\n",
       "    <tr>\n",
       "      <th>Soledade</th>\n",
       "      <td>5</td>\n",
       "      <td>5</td>\n",
       "      <td>5</td>\n",
       "      <td>5</td>\n",
       "      <td>5</td>\n",
       "      <td>5</td>\n",
       "    </tr>\n",
       "    <tr>\n",
       "      <th>Jardim Atlântico</th>\n",
       "      <td>5</td>\n",
       "      <td>5</td>\n",
       "      <td>5</td>\n",
       "      <td>5</td>\n",
       "      <td>5</td>\n",
       "      <td>5</td>\n",
       "    </tr>\n",
       "    <tr>\n",
       "      <th>Cidade Universitária</th>\n",
       "      <td>5</td>\n",
       "      <td>5</td>\n",
       "      <td>5</td>\n",
       "      <td>5</td>\n",
       "      <td>5</td>\n",
       "      <td>5</td>\n",
       "    </tr>\n",
       "    <tr>\n",
       "      <th>Alberto Maia</th>\n",
       "      <td>4</td>\n",
       "      <td>4</td>\n",
       "      <td>4</td>\n",
       "      <td>4</td>\n",
       "      <td>4</td>\n",
       "      <td>4</td>\n",
       "    </tr>\n",
       "    <tr>\n",
       "      <th>Socorro</th>\n",
       "      <td>4</td>\n",
       "      <td>4</td>\n",
       "      <td>4</td>\n",
       "      <td>4</td>\n",
       "      <td>4</td>\n",
       "      <td>4</td>\n",
       "    </tr>\n",
       "    <tr>\n",
       "      <th>Campina do Barreto</th>\n",
       "      <td>4</td>\n",
       "      <td>4</td>\n",
       "      <td>4</td>\n",
       "      <td>4</td>\n",
       "      <td>4</td>\n",
       "      <td>4</td>\n",
       "    </tr>\n",
       "    <tr>\n",
       "      <th>Ilha do Leite</th>\n",
       "      <td>4</td>\n",
       "      <td>4</td>\n",
       "      <td>4</td>\n",
       "      <td>4</td>\n",
       "      <td>4</td>\n",
       "      <td>4</td>\n",
       "    </tr>\n",
       "    <tr>\n",
       "      <th>Jaboatão dos Guararapes</th>\n",
       "      <td>4</td>\n",
       "      <td>4</td>\n",
       "      <td>4</td>\n",
       "      <td>4</td>\n",
       "      <td>4</td>\n",
       "      <td>4</td>\n",
       "    </tr>\n",
       "  </tbody>\n",
       "</table>\n",
       "</div>"
      ],
      "text/plain": [
       "                         price  bedroom  bathroom  size  garage  price by m²\n",
       "district                                                                    \n",
       "Boa Viagem                 869      869       869   869     869          869\n",
       "Casa Amarela               314      314       314   314     314          314\n",
       "Torre                      267      267       267   267     267          267\n",
       "Madalena                   255      255       255   255     255          255\n",
       "Encruzilhada               218      218       218   218     218          218\n",
       "Espinheiro                 176      176       176   176     176          176\n",
       "Rosarinho                  168      168       168   168     168          168\n",
       "Graças                     147      147       147   147     147          147\n",
       "Casa Forte                 135      135       135   135     135          135\n",
       "Candeias                   129      129       129   129     129          129\n",
       "Piedade                    126      126       126   126     126          126\n",
       "Tamarineira                124      124       124   124     124          124\n",
       "Cordeiro                   104      104       104   104     104          104\n",
       "Pina                        98       98        98    98      98           98\n",
       "Santo Amaro                 82       82        82    82      82           82\n",
       "Caxangá                     81       81        81    81      81           81\n",
       "Parnamirim                  80       80        80    80      80           80\n",
       "Aflitos                     69       69        69    69      69           69\n",
       "Várzea                      63       63        63    63      63           63\n",
       "Prado                       61       61        61    61      61           61\n",
       "Imbiribeira                 58       58        58    58      58           58\n",
       "Iputinga                    52       52        52    52      52           52\n",
       "Campo Grande                47       47        47    47      47           47\n",
       "Recife                      41       41        41    41      41           41\n",
       "Boa Vista                   40       40        40    40      40           40\n",
       "Ilha do Retiro              38       38        38    38      38           38\n",
       "Apipucos                    37       37        37    37      37           37\n",
       "Barra de Jangada            35       35        35    35      35           35\n",
       "Centro                      27       27        27    27      27           27\n",
       "Ipojuca                     23       23        23    23      23           23\n",
       "Monteiro                    21       21        21    21      21           21\n",
       "Janga                       20       20        20    20      20           20\n",
       "Casa Caiada                 17       17        17    17      17           17\n",
       "Derby                       17       17        17    17      17           17\n",
       "Barro                       16       16        16    16      16           16\n",
       "Torreão                     16       16        16    16      16           16\n",
       "Poço                        15       15        15    15      15           15\n",
       "Tejipió                     14       14        14    14      14           14\n",
       "Ponto de Parada             14       14        14    14      14           14\n",
       "Jaqueira                    13       13        13    13      13           13\n",
       "Arruda                      11       11        11    11      11           11\n",
       "Santana                      8        8         8     8       8            8\n",
       "San Martin                   8        8         8     8       8            8\n",
       "Indianópolis                 8        8         8     8       8            8\n",
       "Água Fria                    8        8         8     8       8            8\n",
       "Bairro Novo                  8        8         8     8       8            8\n",
       "Jardim São Paulo             7        7         7     7       7            7\n",
       "Maranguape I                 7        7         7     7       7            7\n",
       "Dois Irmãos                  7        7         7     7       7            7\n",
       "Engenho do Meio              6        6         6     6       6            6\n",
       "Universitário                5        5         5     5       5            5\n",
       "Tamandaré                    5        5         5     5       5            5\n",
       "Soledade                     5        5         5     5       5            5\n",
       "Jardim Atlântico             5        5         5     5       5            5\n",
       "Cidade Universitária         5        5         5     5       5            5\n",
       "Alberto Maia                 4        4         4     4       4            4\n",
       "Socorro                      4        4         4     4       4            4\n",
       "Campina do Barreto           4        4         4     4       4            4\n",
       "Ilha do Leite                4        4         4     4       4            4\n",
       "Jaboatão dos Guararapes      4        4         4     4       4            4"
      ]
     },
     "execution_count": 46,
     "metadata": {},
     "output_type": "execute_result"
    }
   ],
   "source": [
    "data_frame.groupby('district').count().sort_values(['bedroom'], ascending=False).head(60)"
   ]
  },
  {
   "cell_type": "code",
   "execution_count": 86,
   "metadata": {},
   "outputs": [
    {
     "data": {
      "text/plain": [
       "['Ipojuca', 'Monteiro', 'Janga', 'Casa Caiada', 'Derby', 'Barro']"
      ]
     },
     "execution_count": 86,
     "metadata": {},
     "output_type": "execute_result"
    }
   ],
   "source": [
    "neighborhoods_to_delete = []\n",
    "districts = data_frame.groupby('district').count().sort_values(['bedroom'], ascending=False)\n",
    "\n",
    "for row, col in districts.iterrows():\n",
    "    if col.price < 25:\n",
    "        neighborhoods_to_delete.append(row)\n",
    "        \n",
    "neighborhoods_to_delete[:6]"
   ]
  },
  {
   "cell_type": "code",
   "execution_count": 87,
   "metadata": {},
   "outputs": [],
   "source": [
    "data_frame = data_frame[~data_frame['district'].isin(neighborhoods_to_delete)]"
   ]
  },
  {
   "cell_type": "code",
   "execution_count": 88,
   "metadata": {},
   "outputs": [
    {
     "data": {
      "text/html": [
       "<div>\n",
       "<style scoped>\n",
       "    .dataframe tbody tr th:only-of-type {\n",
       "        vertical-align: middle;\n",
       "    }\n",
       "\n",
       "    .dataframe tbody tr th {\n",
       "        vertical-align: top;\n",
       "    }\n",
       "\n",
       "    .dataframe thead th {\n",
       "        text-align: right;\n",
       "    }\n",
       "</style>\n",
       "<table border=\"1\" class=\"dataframe\">\n",
       "  <thead>\n",
       "    <tr style=\"text-align: right;\">\n",
       "      <th></th>\n",
       "      <th>price</th>\n",
       "      <th>bedroom</th>\n",
       "      <th>bathroom</th>\n",
       "      <th>size</th>\n",
       "      <th>garage</th>\n",
       "      <th>price by m²</th>\n",
       "    </tr>\n",
       "    <tr>\n",
       "      <th>district</th>\n",
       "      <th></th>\n",
       "      <th></th>\n",
       "      <th></th>\n",
       "      <th></th>\n",
       "      <th></th>\n",
       "      <th></th>\n",
       "    </tr>\n",
       "  </thead>\n",
       "  <tbody>\n",
       "    <tr>\n",
       "      <th>Boa Viagem</th>\n",
       "      <td>869</td>\n",
       "      <td>869</td>\n",
       "      <td>869</td>\n",
       "      <td>869</td>\n",
       "      <td>869</td>\n",
       "      <td>869</td>\n",
       "    </tr>\n",
       "    <tr>\n",
       "      <th>Casa Amarela</th>\n",
       "      <td>314</td>\n",
       "      <td>314</td>\n",
       "      <td>314</td>\n",
       "      <td>314</td>\n",
       "      <td>314</td>\n",
       "      <td>314</td>\n",
       "    </tr>\n",
       "    <tr>\n",
       "      <th>Torre</th>\n",
       "      <td>267</td>\n",
       "      <td>267</td>\n",
       "      <td>267</td>\n",
       "      <td>267</td>\n",
       "      <td>267</td>\n",
       "      <td>267</td>\n",
       "    </tr>\n",
       "    <tr>\n",
       "      <th>Madalena</th>\n",
       "      <td>255</td>\n",
       "      <td>255</td>\n",
       "      <td>255</td>\n",
       "      <td>255</td>\n",
       "      <td>255</td>\n",
       "      <td>255</td>\n",
       "    </tr>\n",
       "    <tr>\n",
       "      <th>Encruzilhada</th>\n",
       "      <td>218</td>\n",
       "      <td>218</td>\n",
       "      <td>218</td>\n",
       "      <td>218</td>\n",
       "      <td>218</td>\n",
       "      <td>218</td>\n",
       "    </tr>\n",
       "    <tr>\n",
       "      <th>Espinheiro</th>\n",
       "      <td>176</td>\n",
       "      <td>176</td>\n",
       "      <td>176</td>\n",
       "      <td>176</td>\n",
       "      <td>176</td>\n",
       "      <td>176</td>\n",
       "    </tr>\n",
       "    <tr>\n",
       "      <th>Rosarinho</th>\n",
       "      <td>168</td>\n",
       "      <td>168</td>\n",
       "      <td>168</td>\n",
       "      <td>168</td>\n",
       "      <td>168</td>\n",
       "      <td>168</td>\n",
       "    </tr>\n",
       "    <tr>\n",
       "      <th>Graças</th>\n",
       "      <td>147</td>\n",
       "      <td>147</td>\n",
       "      <td>147</td>\n",
       "      <td>147</td>\n",
       "      <td>147</td>\n",
       "      <td>147</td>\n",
       "    </tr>\n",
       "    <tr>\n",
       "      <th>Casa Forte</th>\n",
       "      <td>135</td>\n",
       "      <td>135</td>\n",
       "      <td>135</td>\n",
       "      <td>135</td>\n",
       "      <td>135</td>\n",
       "      <td>135</td>\n",
       "    </tr>\n",
       "    <tr>\n",
       "      <th>Candeias</th>\n",
       "      <td>129</td>\n",
       "      <td>129</td>\n",
       "      <td>129</td>\n",
       "      <td>129</td>\n",
       "      <td>129</td>\n",
       "      <td>129</td>\n",
       "    </tr>\n",
       "    <tr>\n",
       "      <th>Piedade</th>\n",
       "      <td>126</td>\n",
       "      <td>126</td>\n",
       "      <td>126</td>\n",
       "      <td>126</td>\n",
       "      <td>126</td>\n",
       "      <td>126</td>\n",
       "    </tr>\n",
       "    <tr>\n",
       "      <th>Tamarineira</th>\n",
       "      <td>124</td>\n",
       "      <td>124</td>\n",
       "      <td>124</td>\n",
       "      <td>124</td>\n",
       "      <td>124</td>\n",
       "      <td>124</td>\n",
       "    </tr>\n",
       "    <tr>\n",
       "      <th>Cordeiro</th>\n",
       "      <td>104</td>\n",
       "      <td>104</td>\n",
       "      <td>104</td>\n",
       "      <td>104</td>\n",
       "      <td>104</td>\n",
       "      <td>104</td>\n",
       "    </tr>\n",
       "    <tr>\n",
       "      <th>Pina</th>\n",
       "      <td>98</td>\n",
       "      <td>98</td>\n",
       "      <td>98</td>\n",
       "      <td>98</td>\n",
       "      <td>98</td>\n",
       "      <td>98</td>\n",
       "    </tr>\n",
       "    <tr>\n",
       "      <th>Santo Amaro</th>\n",
       "      <td>82</td>\n",
       "      <td>82</td>\n",
       "      <td>82</td>\n",
       "      <td>82</td>\n",
       "      <td>82</td>\n",
       "      <td>82</td>\n",
       "    </tr>\n",
       "    <tr>\n",
       "      <th>Caxangá</th>\n",
       "      <td>81</td>\n",
       "      <td>81</td>\n",
       "      <td>81</td>\n",
       "      <td>81</td>\n",
       "      <td>81</td>\n",
       "      <td>81</td>\n",
       "    </tr>\n",
       "    <tr>\n",
       "      <th>Parnamirim</th>\n",
       "      <td>80</td>\n",
       "      <td>80</td>\n",
       "      <td>80</td>\n",
       "      <td>80</td>\n",
       "      <td>80</td>\n",
       "      <td>80</td>\n",
       "    </tr>\n",
       "    <tr>\n",
       "      <th>Aflitos</th>\n",
       "      <td>69</td>\n",
       "      <td>69</td>\n",
       "      <td>69</td>\n",
       "      <td>69</td>\n",
       "      <td>69</td>\n",
       "      <td>69</td>\n",
       "    </tr>\n",
       "    <tr>\n",
       "      <th>Várzea</th>\n",
       "      <td>63</td>\n",
       "      <td>63</td>\n",
       "      <td>63</td>\n",
       "      <td>63</td>\n",
       "      <td>63</td>\n",
       "      <td>63</td>\n",
       "    </tr>\n",
       "    <tr>\n",
       "      <th>Prado</th>\n",
       "      <td>61</td>\n",
       "      <td>61</td>\n",
       "      <td>61</td>\n",
       "      <td>61</td>\n",
       "      <td>61</td>\n",
       "      <td>61</td>\n",
       "    </tr>\n",
       "    <tr>\n",
       "      <th>Imbiribeira</th>\n",
       "      <td>58</td>\n",
       "      <td>58</td>\n",
       "      <td>58</td>\n",
       "      <td>58</td>\n",
       "      <td>58</td>\n",
       "      <td>58</td>\n",
       "    </tr>\n",
       "    <tr>\n",
       "      <th>Iputinga</th>\n",
       "      <td>52</td>\n",
       "      <td>52</td>\n",
       "      <td>52</td>\n",
       "      <td>52</td>\n",
       "      <td>52</td>\n",
       "      <td>52</td>\n",
       "    </tr>\n",
       "    <tr>\n",
       "      <th>Campo Grande</th>\n",
       "      <td>47</td>\n",
       "      <td>47</td>\n",
       "      <td>47</td>\n",
       "      <td>47</td>\n",
       "      <td>47</td>\n",
       "      <td>47</td>\n",
       "    </tr>\n",
       "    <tr>\n",
       "      <th>Recife</th>\n",
       "      <td>41</td>\n",
       "      <td>41</td>\n",
       "      <td>41</td>\n",
       "      <td>41</td>\n",
       "      <td>41</td>\n",
       "      <td>41</td>\n",
       "    </tr>\n",
       "    <tr>\n",
       "      <th>Boa Vista</th>\n",
       "      <td>40</td>\n",
       "      <td>40</td>\n",
       "      <td>40</td>\n",
       "      <td>40</td>\n",
       "      <td>40</td>\n",
       "      <td>40</td>\n",
       "    </tr>\n",
       "    <tr>\n",
       "      <th>Ilha do Retiro</th>\n",
       "      <td>38</td>\n",
       "      <td>38</td>\n",
       "      <td>38</td>\n",
       "      <td>38</td>\n",
       "      <td>38</td>\n",
       "      <td>38</td>\n",
       "    </tr>\n",
       "    <tr>\n",
       "      <th>Apipucos</th>\n",
       "      <td>37</td>\n",
       "      <td>37</td>\n",
       "      <td>37</td>\n",
       "      <td>37</td>\n",
       "      <td>37</td>\n",
       "      <td>37</td>\n",
       "    </tr>\n",
       "    <tr>\n",
       "      <th>Barra de Jangada</th>\n",
       "      <td>35</td>\n",
       "      <td>35</td>\n",
       "      <td>35</td>\n",
       "      <td>35</td>\n",
       "      <td>35</td>\n",
       "      <td>35</td>\n",
       "    </tr>\n",
       "    <tr>\n",
       "      <th>Centro</th>\n",
       "      <td>27</td>\n",
       "      <td>27</td>\n",
       "      <td>27</td>\n",
       "      <td>27</td>\n",
       "      <td>27</td>\n",
       "      <td>27</td>\n",
       "    </tr>\n",
       "  </tbody>\n",
       "</table>\n",
       "</div>"
      ],
      "text/plain": [
       "                  price  bedroom  bathroom  size  garage  price by m²\n",
       "district                                                             \n",
       "Boa Viagem          869      869       869   869     869          869\n",
       "Casa Amarela        314      314       314   314     314          314\n",
       "Torre               267      267       267   267     267          267\n",
       "Madalena            255      255       255   255     255          255\n",
       "Encruzilhada        218      218       218   218     218          218\n",
       "Espinheiro          176      176       176   176     176          176\n",
       "Rosarinho           168      168       168   168     168          168\n",
       "Graças              147      147       147   147     147          147\n",
       "Casa Forte          135      135       135   135     135          135\n",
       "Candeias            129      129       129   129     129          129\n",
       "Piedade             126      126       126   126     126          126\n",
       "Tamarineira         124      124       124   124     124          124\n",
       "Cordeiro            104      104       104   104     104          104\n",
       "Pina                 98       98        98    98      98           98\n",
       "Santo Amaro          82       82        82    82      82           82\n",
       "Caxangá              81       81        81    81      81           81\n",
       "Parnamirim           80       80        80    80      80           80\n",
       "Aflitos              69       69        69    69      69           69\n",
       "Várzea               63       63        63    63      63           63\n",
       "Prado                61       61        61    61      61           61\n",
       "Imbiribeira          58       58        58    58      58           58\n",
       "Iputinga             52       52        52    52      52           52\n",
       "Campo Grande         47       47        47    47      47           47\n",
       "Recife               41       41        41    41      41           41\n",
       "Boa Vista            40       40        40    40      40           40\n",
       "Ilha do Retiro       38       38        38    38      38           38\n",
       "Apipucos             37       37        37    37      37           37\n",
       "Barra de Jangada     35       35        35    35      35           35\n",
       "Centro               27       27        27    27      27           27"
      ]
     },
     "execution_count": 88,
     "metadata": {},
     "output_type": "execute_result"
    }
   ],
   "source": [
    "data_frame.groupby('district').count().sort_values(['bedroom'], ascending=False)"
   ]
  },
  {
   "cell_type": "code",
   "execution_count": 89,
   "metadata": {},
   "outputs": [
    {
     "name": "stdout",
     "output_type": "stream",
     "text": [
      "Parnamirim\n",
      "Rosarinho\n",
      "Tamarineira\n",
      "Boa Viagem\n",
      "Iputinga\n",
      "Boa Vista\n",
      "Campo Grande\n",
      "Graças\n",
      "Várzea\n",
      "Torre\n",
      "Imbiribeira\n",
      "Casa Amarela\n",
      "Madalena\n",
      "Aflitos\n",
      "Cordeiro\n",
      "Espinheiro\n",
      "Caxangá\n",
      "Encruzilhada\n",
      "Apipucos\n",
      "Santo Amaro\n",
      "Prado\n",
      "Casa Forte\n",
      "Pina\n",
      "Ilha do Retiro\n",
      "____FORA DA LISTA ---> Barra de Jangada\n",
      "____FORA DA LISTA ---> Piedade\n",
      "____FORA DA LISTA ---> Candeias\n",
      "____FORA DA LISTA ---> Centro\n",
      "____FORA DA LISTA ---> Recife\n",
      "\n",
      "Confirmados:  24\n",
      "Fora da lista:  5\n"
     ]
    }
   ],
   "source": [
    "count_equals = 0; not_equals = 0\n",
    "for neighborhood in data_frame['district'].unique():\n",
    "    if neighborhood in recife_neighborhoods:\n",
    "        print(neighborhood)\n",
    "        count_equals += 1\n",
    "    else:\n",
    "        print('____FORA DA LISTA --->',neighborhood)\n",
    "        not_equals += 1\n",
    "print('\\nConfirmados: ',count_equals)\n",
    "print('Fora da lista: ',not_equals)"
   ]
  },
  {
   "cell_type": "markdown",
   "metadata": {},
   "source": [
    "Dos fora da lista, eliminarei apenas Recife."
   ]
  },
  {
   "cell_type": "code",
   "execution_count": 91,
   "metadata": {},
   "outputs": [],
   "source": [
    "data_frame = data_frame[data_frame['district'] != 'Recife']"
   ]
  },
  {
   "cell_type": "markdown",
   "metadata": {},
   "source": [
    "## 6 - Reanálise da análise .-.\n",
    "\n",
    "Podemos examinar novamente a tabela já limpa (só pra confirmar), antes de partirmos para a modelagem. \n",
    "\n",
    "> Ainda há outliers. Entretanto, utilizarei esse DataFrame para ver como o modelo se comporta e caso necessário, voltarei e aplicarei mais mudanças."
   ]
  },
  {
   "cell_type": "code",
   "execution_count": null,
   "metadata": {},
   "outputs": [],
   "source": [
    "data_frame.to_pickle(\"5 Apartamentos para modelagem.pkl\")"
   ]
  },
  {
   "cell_type": "code",
   "execution_count": 110,
   "metadata": {},
   "outputs": [
    {
     "data": {
      "image/png": "[encoded data removed]",
      "text/plain": [
       "<Figure size 432x288 with 1 Axes>"
      ]
     },
     "metadata": {},
     "output_type": "display_data"
    }
   ],
   "source": [
    "sns.set_style('dark')\n",
    "plt.scatter(data_frame['size'], data_frame.price)\n",
    "plt.xlabel('m²')\n",
    "plt.ylabel('Preço (milhão)')\n",
    "plt.show()"
   ]
  },
  {
   "cell_type": "code",
   "execution_count": 103,
   "metadata": {},
   "outputs": [
    {
     "data": {
      "image/png": "[encoded data removed]",
      "text/plain": [
       "<Figure size 432x288 with 1 Axes>"
      ]
     },
     "metadata": {},
     "output_type": "display_data"
    }
   ],
   "source": [
    "plt.scatter(data_frame.bedroom, data_frame.bathroom)\n",
    "plt.xlabel('Quartos')\n",
    "plt.ylabel('Banheiros')\n",
    "plt.show()"
   ]
  },
  {
   "cell_type": "markdown",
   "metadata": {},
   "source": [
    "Esses 4 gráficos seguintes me incomodam. O preço deveria aumentar quanto maior o número de quartos, banheiros ou garagens disponíveis. Entretanto essa variância se mostra ser bem pequena, quase como se não fizesse diferença. Imagino que haja outros fatores que interfiram, mas mesmo assim..."
   ]
  },
  {
   "cell_type": "code",
   "execution_count": 111,
   "metadata": {},
   "outputs": [
    {
     "data": {
      "image/png": "[encoded data removed]",
      "text/plain": [
       "<Figure size 432x288 with 1 Axes>"
      ]
     },
     "metadata": {},
     "output_type": "display_data"
    }
   ],
   "source": [
    "plt.scatter(data_frame.bedroom, data_frame.price)\n",
    "plt.xlabel('Quartos')\n",
    "plt.ylabel('Preço')\n",
    "plt.show()"
   ]
  },
  {
   "cell_type": "code",
   "execution_count": 113,
   "metadata": {},
   "outputs": [
    {
     "data": {
      "image/png": "[encoded data removed]",
      "text/plain": [
       "<Figure size 432x288 with 1 Axes>"
      ]
     },
     "metadata": {},
     "output_type": "display_data"
    }
   ],
   "source": [
    "plt.scatter(data_frame.bathroom, data_frame.price)\n",
    "plt.xlabel('Banheiros')\n",
    "plt.ylabel('Preço')\n",
    "plt.show()"
   ]
  },
  {
   "cell_type": "code",
   "execution_count": 125,
   "metadata": {},
   "outputs": [
    {
     "data": {
      "image/png": "[encoded data removed]",
      "text/plain": [
       "<Figure size 432x288 with 1 Axes>"
      ]
     },
     "metadata": {},
     "output_type": "display_data"
    }
   ],
   "source": [
    "plt.scatter(data_frame.bedroom, data_frame['size'])\n",
    "plt.xlabel('Quartos')\n",
    "plt.ylabel('m²')\n",
    "plt.show()"
   ]
  },
  {
   "cell_type": "code",
   "execution_count": 124,
   "metadata": {},
   "outputs": [
    {
     "data": {
      "image/png": "[encoded data removed]",
      "text/plain": [
       "<Figure size 432x288 with 1 Axes>"
      ]
     },
     "metadata": {},
     "output_type": "display_data"
    }
   ],
   "source": [
    "plt.scatter(data_frame.bathroom, data_frame['size'])\n",
    "plt.xlabel('Banheiros')\n",
    "plt.ylabel('m²')\n",
    "plt.show()"
   ]
  },
  {
   "cell_type": "markdown",
   "metadata": {},
   "source": [
    "Créditos ao meu amigo e mentor [Daniel Bion](https://github.com/danielbion), que disponibilizou parte de seu tempo para me nortear durante a segunda versão do projeto. E acabei reutilizando o código e umas de suas idéias nessa 3ª tentativa também."
   ]
  },
  {
   "cell_type": "code",
   "execution_count": 127,
   "metadata": {},
   "outputs": [
    {
     "data": {
      "image/png": "[encoded data removed]",
      "text/plain": [
       "<Figure size 864x360 with 2 Axes>"
      ]
     },
     "metadata": {},
     "output_type": "display_data"
    },
    {
     "data": {
      "image/png": "[encoded data removed]",
      "text/plain": [
       "<Figure size 864x360 with 2 Axes>"
      ]
     },
     "metadata": {},
     "output_type": "display_data"
    }
   ],
   "source": [
    "sns.set_style('white')\n",
    "p = data_frame.groupby('district', as_index = False).agg({'size': 'count', 'price': 'mean'})\\\n",
    ".sort_values('size', ascending = False).reset_index().head(30)\n",
    "\n",
    "fig = plt.figure(figsize = (12, 5))\n",
    "ax = sns.barplot(x = 'district', y = 'size', data = p, label = 'Quantidade', color = 'lightgreen')\n",
    "plt.xticks(rotation = 90)\n",
    "plt.ylabel('Quantidade de Apartamentos')\n",
    "plt.legend()\n",
    "sns.lineplot(x = 'district', y = 'price', data = p, ax = ax.twinx(), label = 'Valor médio', color = 'green', sort = False)\n",
    "\n",
    "plt.show()\n",
    "\n",
    "p = data_frame.groupby('district', as_index = False).agg({'size': 'count', 'price': 'mean'})\\\n",
    ".sort_values('price', ascending = False).reset_index().head(30)\n",
    "\n",
    "fig = plt.figure(figsize = (12, 5))\n",
    "ax = sns.barplot(x = 'district', y = 'size', data = p, label = 'Quantidade', color = 'lightgreen')\n",
    "plt.xticks(rotation = 90)\n",
    "plt.ylabel('Quantidade de Apartamentos')\n",
    "plt.legend()\n",
    "sns.lineplot(x = 'district', y = 'price', data = p, ax = ax.twinx(), label = 'Valor médio', color = 'green', sort = False)\n",
    "\n",
    "plt.show()"
   ]
  },
  {
   "cell_type": "markdown",
   "metadata": {},
   "source": [
    "Outliers. Pelo que rapidamente examinei, diria que são outliers \"seguros\". Eles vão interferir no modelo, mas penso que por estarem dentro de certo padrão não serão tão problemáticos assim. Testarei e confirmaremos após a modelagem."
   ]
  },
  {
   "cell_type": "code",
   "execution_count": 128,
   "metadata": {},
   "outputs": [
    {
     "data": {
      "image/png": "[encoded data removed]",
      "text/plain": [
       "<Figure size 432x288 with 1 Axes>"
      ]
     },
     "metadata": {},
     "output_type": "display_data"
    },
    {
     "data": {
      "image/png": "[encoded data removed]",
      "text/plain": [
       "<Figure size 432x288 with 1 Axes>"
      ]
     },
     "metadata": {},
     "output_type": "display_data"
    },
    {
     "data": {
      "image/png": "[encoded data removed]",
      "text/plain": [
       "<Figure size 432x288 with 1 Axes>"
      ]
     },
     "metadata": {},
     "output_type": "display_data"
    },
    {
     "data": {
      "image/png": "[encoded data removed]",
      "text/plain": [
       "<Figure size 432x288 with 1 Axes>"
      ]
     },
     "metadata": {},
     "output_type": "display_data"
    },
    {
     "data": {
      "image/png": "[encoded data removed]",
      "text/plain": [
       "<Figure size 432x288 with 1 Axes>"
      ]
     },
     "metadata": {},
     "output_type": "display_data"
    },
    {
     "data": {
      "image/png": "[encoded data removed]",
      "text/plain": [
       "<Figure size 432x288 with 1 Axes>"
      ]
     },
     "metadata": {},
     "output_type": "display_data"
    }
   ],
   "source": [
    "for column in data_frame.columns:\n",
    "    if(data_frame[column].dtype != 'object'):\n",
    "        sns.boxplot(data_frame[column])\n",
    "        plt.show()"
   ]
  },
  {
   "cell_type": "markdown",
   "metadata": {},
   "source": [
    "GO GO Machine Learning!"
   ]
  }
 ],
 "metadata": {
  "kernelspec": {
   "display_name": "Python 3",
   "language": "python",
   "name": "python3"
  },
  "language_info": {
   "codemirror_mode": {
    "name": "ipython",
    "version": 3
   },
   "file_extension": ".py",
   "mimetype": "text/x-python",
   "name": "python",
   "nbconvert_exporter": "python",
   "pygments_lexer": "ipython3",
   "version": "3.7.7"
  }
 },
 "nbformat": 4,
 "nbformat_minor": 4
}
