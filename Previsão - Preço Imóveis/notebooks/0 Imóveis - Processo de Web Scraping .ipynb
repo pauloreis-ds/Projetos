{
 "cells": [
  {
   "cell_type": "markdown",
   "metadata": {},
   "source": [
    "    Optei por mostrar todo o processo (com erros, acertos, dúvidas e frustrações) por demostrar melhor\n",
    "    o progresso. Ao final separei o código \"útil\". Mas se você quer acompanhar minha linha de raciocínio,\n",
    "    só precisa continuar lendo hehe\n",
    "    \n",
    "\n",
    "## Agenda\n",
    "        0 - Requisições\n",
    "            Como obter dados de todas as páginas?\n",
    "        1 - Como obter os dados desejados?\n",
    "            1.1 Primeiros problemas \n",
    "            1.2 De volta pro futur--web scraping\n",
    "                Código nos dados:\n",
    "                    Preço do apartamento\n",
    "                    Tamanho do apartamento, número de: Quartos, Banheiros, Vagas para estacionar\n",
    "        2 - Efetivamente Coletando os dados.\n",
    "        3 - Otimizando o código\n",
    "        4 - Criando um arquivo .csv e finalizando a fase 1 do projeto.\n",
    "            ps: Nunca, mas nunca subestime o retardo humano (-.-' )\n",
    "        5 - Código final! \\(*O*)/\n"
   ]
  },
  {
   "cell_type": "code",
   "execution_count": 98,
   "metadata": {},
   "outputs": [],
   "source": [
    "# Pegar os dados da web\n",
    "import requests\n",
    "from bs4 import BeautifulSoup\n",
    "\n",
    "# Dessa vez usei apenas para \"confirmar um Erro\" rsrs\n",
    "from urllib.request import urlopen \n",
    "\n",
    "# Criar arquivo csv para uso posterior\n",
    "import pandas as pd"
   ]
  },
  {
   "cell_type": "markdown",
   "metadata": {},
   "source": [
    "## Requisições \n",
    "Para ter acesso às páginas da web com as informações desejadas."
   ]
  },
  {
   "cell_type": "code",
   "execution_count": 2,
   "metadata": {},
   "outputs": [],
   "source": [
    "url = \"https://www.zapimoveis.com.br/venda/imoveis/pe+recife/?onde=,Pernambuco,Recife,,,,BR%3EPernambuco%3ENULL%3ERecife,-8.05224,-34.92861&transacao=Venda&tipo=Im%C3%B3vel%20usado&pagina=1&ordem=Data%20Atualiza%C3%A7%C3%A3o\""
   ]
  },
  {
   "cell_type": "code",
   "execution_count": 3,
   "metadata": {},
   "outputs": [
    {
     "name": "stdout",
     "output_type": "stream",
     "text": [
      "<!DOCTYPE html>\n",
      "<!--[if lt IE 7]> <html class=\"no-js ie6 oldie\" lang=\"en-US\"> <![endif]-->\n",
      "<!--[if IE 7]>    <html class=\"no-js ie7 oldie\" lang=\"en-US\"> <![endif]-->\n",
      "<!--[if IE 8]>    <html class=\"no-js ie8 oldie\" lang=\"en-US\"> <![endif]-->\n",
      "<!--[if gt IE 8]><!--> <html class=\"no-js\" lang=\"en-US\"> <!--<![endif]-->\n",
      "<head>\n",
      "<title>Access denied | www.zapimoveis.com.br used Cloudflare to restrict access</title>\n",
      "<meta charset=\"UTF-8\" />\n",
      "<meta http-equiv=\"Content-Type\" content=\"text/html; charset=UTF-8\n"
     ]
    }
   ],
   "source": [
    "r = requests.get(url)\n",
    "\n",
    "print(r.text[0:500])"
   ]
  },
  {
   "cell_type": "markdown",
   "metadata": {},
   "source": [
    "### Como obter dados de todas as páginas?\n",
    "**Para saber como acessar todas as páginas do site, comparei as urls das primeiras páginas, e ao encontrar a diferença, posso simplesmente (após pegar os dados de 1 página) iterar sobre as outras.**\n",
    "\n",
    "A primeira é nitidamente diferente das outras. Como já faria o web scraping dela à parte (para depois automatizar o processo nas outras 282 páginas) não é tão problematico assim."
   ]
  },
  {
   "cell_type": "code",
   "execution_count": 4,
   "metadata": {},
   "outputs": [],
   "source": [
    "url_page1 = \"https://www.zapimoveis.com.br/venda/imoveis/pe+recife/?__zt=ctaw%3Ab&onde=,Pernambuco,Recife,,,,BR%3EPernambuco%3ENULL%3ERecife,-8.05224,-34.92861&ordem=Data%20Atualiza%C3%A7%C3%A3o&pagina=1&tipo=Im%C3%B3vel%20usado&transacao=Venda\"\n",
    "url_page2 = \"https://www.zapimoveis.com.br/venda/imoveis/pe+recife/?__zt=ctaw%3Ab&pagina=2&onde=,Pernambuco,Recife,,,,BR%3EPernambuco%3ENULL%3ERecife,-8.05224,-34.92861&transacao=Venda&tipo=Im%C3%B3vel%20usado&ordem=Data%20Atualiza%C3%A7%C3%A3o\"\n",
    "url_page3 = \"https://www.zapimoveis.com.br/venda/imoveis/pe+recife/?__zt=ctaw%3Ab&pagina=3&onde=,Pernambuco,Recife,,,,BR%3EPernambuco%3ENULL%3ERecife,-8.05224,-34.92861&transacao=Venda&tipo=Im%C3%B3vel%20usado&ordem=Data%20Atualiza%C3%A7%C3%A3o\""
   ]
  },
  {
   "cell_type": "code",
   "execution_count": 5,
   "metadata": {},
   "outputs": [
    {
     "name": "stdout",
     "output_type": "stream",
     "text": [
      "url1 ---  {'2'} \n",
      "url2 --- {'3'}\n"
     ]
    }
   ],
   "source": [
    "for url1, url2 in zip (url_page2,url_page3):\n",
    "    if url1 == url2:\n",
    "        pass\n",
    "    else:\n",
    "        print('url1 --- ',{url1}, '\\nurl2 ---',{url2})"
   ]
  },
  {
   "cell_type": "markdown",
   "metadata": {},
   "source": [
    "## 1 - Como obter os dados desejados?\n",
    "Ao inspecionar o código fonte da página é possível saber onde cada dados está localizado. Depois disso só precisamos utilizar \n",
    "os métodos do bs4 para pegá-los.\n",
    "\n",
    "Durante esse processo descobri uma url aparentemente \"melhor\" para se utilizar. Em outras palavras, não precisava ter feito o que fiz acima."
   ]
  },
  {
   "cell_type": "code",
   "execution_count": 6,
   "metadata": {},
   "outputs": [
    {
     "name": "stdout",
     "output_type": "stream",
     "text": [
      "<!DOCTYPE html>\n",
      "<!--[if lt IE 7]> <html class=\"no-js ie6 oldie\" lang=\"en-US\"> <![endif]-->\n",
      "<!--[if IE 7]>    <html class=\"no-js ie7 oldie\" lang=\"en-US\"> <![endif]-->\n",
      "<!--[if IE 8]>    <html class=\"no-js ie8 oldie\" lang=\"en-US\"> <![endif]-->\n",
      "<!--[if gt IE 8]><!--> <html class=\"no-js\" lang=\"en-US\"> <!--<![endif]-->\n",
      "<head>\n",
      "<title>Access denied | www.zapimoveis.com.br used Cloudflare to restrict access</title>\n",
      "<meta charset=\"UTF-8\" />\n",
      "<meta http-equiv=\"Content-Type\" content=\"text/html; charset=UTF-8\n"
     ]
    }
   ],
   "source": [
    "url = \"https://www.zapimoveis.com.br/venda/imoveis/pe+recife/?__zt=ctaw%3Ab&pagina=1\"\n",
    "request = requests.get(url)\n",
    "print(request.text[0:500])"
   ]
  },
  {
   "cell_type": "markdown",
   "metadata": {},
   "source": [
    "**Passando os dados para um objeto bs4, assim podemos utilizar seus métodos para conseguir as informações que queremos**"
   ]
  },
  {
   "cell_type": "code",
   "execution_count": 7,
   "metadata": {},
   "outputs": [
    {
     "data": {
      "text/plain": [
       "'\\n\\n\\n\\n  \\n\\nAccess denied | www.zapimoveis.com.br used Cloudflare to restrict access\\n\\n\\n\\n\\n\\n\\n\\n\\n\\n\\n\\n\\n\\nPlease enable cookies.\\n\\n\\n\\nError\\n1020\\nRay ID: 5c0cbfcb4c9df6c7 • 2020-08-10 21:18:24 UTC\\n\\nAccess denied\\n\\n\\n\\n\\n\\nWhat happened?\\nThis website is using a security service to protect itself from online attacks.\\n\\n\\n\\n\\n\\nCloudflare Ray ID: 5c0cbfcb4c9df6c7\\n•\\nYour IP: 45.224.113.175\\n•\\nPerformance & security by Cloudflare\\n\\n\\n\\n\\n\\n\\n\\n'"
      ]
     },
     "execution_count": 7,
     "metadata": {},
     "output_type": "execute_result"
    }
   ],
   "source": [
    "soup = BeautifulSoup(request.text, 'html.parser')\n",
    "soup.text[0:500]"
   ]
  },
  {
   "cell_type": "markdown",
   "metadata": {},
   "source": [
    "### 1.1 Primeiros problemas\n",
    "Como pode ver, não estamos recebendo acesso ao site -.- Por que? Não sei. Pesquisar e descobrir."
   ]
  },
  {
   "cell_type": "code",
   "execution_count": 8,
   "metadata": {},
   "outputs": [
    {
     "name": "stdout",
     "output_type": "stream",
     "text": [
      "None\n"
     ]
    }
   ],
   "source": [
    "print(soup.find('div', class_ = 'simple-card__actions'))"
   ]
  },
  {
   "cell_type": "code",
   "execution_count": 9,
   "metadata": {},
   "outputs": [
    {
     "data": {
      "text/plain": [
       "<p>This website is using a security service to protect itself from online attacks.</p>"
      ]
     },
     "execution_count": 9,
     "metadata": {},
     "output_type": "execute_result"
    }
   ],
   "source": [
    "soup.find('p')"
   ]
  },
  {
   "cell_type": "markdown",
   "metadata": {},
   "source": [
    "**ERROR**"
   ]
  },
  {
   "cell_type": "code",
   "execution_count": 10,
   "metadata": {},
   "outputs": [
    {
     "ename": "HTTPError",
     "evalue": "HTTP Error 403: Forbidden",
     "output_type": "error",
     "traceback": [
      "\u001b[1;31m---------------------------------------------------------------------------\u001b[0m",
      "\u001b[1;31mHTTPError\u001b[0m                                 Traceback (most recent call last)",
      "\u001b[1;32m<ipython-input-10-36b8b0ba4220>\u001b[0m in \u001b[0;36m<module>\u001b[1;34m\u001b[0m\n\u001b[0;32m      1\u001b[0m \u001b[0murl\u001b[0m \u001b[1;33m=\u001b[0m \u001b[1;34m\"https://www.zapimoveis.com.br/venda/imoveis/pe+recife/?__zt=ctaw%3Ab&pagina=1\"\u001b[0m\u001b[1;33m\u001b[0m\u001b[1;33m\u001b[0m\u001b[0m\n\u001b[1;32m----> 2\u001b[1;33m \u001b[0mrequest\u001b[0m \u001b[1;33m=\u001b[0m \u001b[0murlopen\u001b[0m\u001b[1;33m(\u001b[0m\u001b[0murl\u001b[0m\u001b[1;33m)\u001b[0m\u001b[1;33m\u001b[0m\u001b[1;33m\u001b[0m\u001b[0m\n\u001b[0m",
      "\u001b[1;32m~\\.conda\\envs\\tenserflow\\lib\\urllib\\request.py\u001b[0m in \u001b[0;36murlopen\u001b[1;34m(url, data, timeout, cafile, capath, cadefault, context)\u001b[0m\n\u001b[0;32m    220\u001b[0m     \u001b[1;32melse\u001b[0m\u001b[1;33m:\u001b[0m\u001b[1;33m\u001b[0m\u001b[1;33m\u001b[0m\u001b[0m\n\u001b[0;32m    221\u001b[0m         \u001b[0mopener\u001b[0m \u001b[1;33m=\u001b[0m \u001b[0m_opener\u001b[0m\u001b[1;33m\u001b[0m\u001b[1;33m\u001b[0m\u001b[0m\n\u001b[1;32m--> 222\u001b[1;33m     \u001b[1;32mreturn\u001b[0m \u001b[0mopener\u001b[0m\u001b[1;33m.\u001b[0m\u001b[0mopen\u001b[0m\u001b[1;33m(\u001b[0m\u001b[0murl\u001b[0m\u001b[1;33m,\u001b[0m \u001b[0mdata\u001b[0m\u001b[1;33m,\u001b[0m \u001b[0mtimeout\u001b[0m\u001b[1;33m)\u001b[0m\u001b[1;33m\u001b[0m\u001b[1;33m\u001b[0m\u001b[0m\n\u001b[0m\u001b[0;32m    223\u001b[0m \u001b[1;33m\u001b[0m\u001b[0m\n\u001b[0;32m    224\u001b[0m \u001b[1;32mdef\u001b[0m \u001b[0minstall_opener\u001b[0m\u001b[1;33m(\u001b[0m\u001b[0mopener\u001b[0m\u001b[1;33m)\u001b[0m\u001b[1;33m:\u001b[0m\u001b[1;33m\u001b[0m\u001b[1;33m\u001b[0m\u001b[0m\n",
      "\u001b[1;32m~\\.conda\\envs\\tenserflow\\lib\\urllib\\request.py\u001b[0m in \u001b[0;36mopen\u001b[1;34m(self, fullurl, data, timeout)\u001b[0m\n\u001b[0;32m    529\u001b[0m         \u001b[1;32mfor\u001b[0m \u001b[0mprocessor\u001b[0m \u001b[1;32min\u001b[0m \u001b[0mself\u001b[0m\u001b[1;33m.\u001b[0m\u001b[0mprocess_response\u001b[0m\u001b[1;33m.\u001b[0m\u001b[0mget\u001b[0m\u001b[1;33m(\u001b[0m\u001b[0mprotocol\u001b[0m\u001b[1;33m,\u001b[0m \u001b[1;33m[\u001b[0m\u001b[1;33m]\u001b[0m\u001b[1;33m)\u001b[0m\u001b[1;33m:\u001b[0m\u001b[1;33m\u001b[0m\u001b[1;33m\u001b[0m\u001b[0m\n\u001b[0;32m    530\u001b[0m             \u001b[0mmeth\u001b[0m \u001b[1;33m=\u001b[0m \u001b[0mgetattr\u001b[0m\u001b[1;33m(\u001b[0m\u001b[0mprocessor\u001b[0m\u001b[1;33m,\u001b[0m \u001b[0mmeth_name\u001b[0m\u001b[1;33m)\u001b[0m\u001b[1;33m\u001b[0m\u001b[1;33m\u001b[0m\u001b[0m\n\u001b[1;32m--> 531\u001b[1;33m             \u001b[0mresponse\u001b[0m \u001b[1;33m=\u001b[0m \u001b[0mmeth\u001b[0m\u001b[1;33m(\u001b[0m\u001b[0mreq\u001b[0m\u001b[1;33m,\u001b[0m \u001b[0mresponse\u001b[0m\u001b[1;33m)\u001b[0m\u001b[1;33m\u001b[0m\u001b[1;33m\u001b[0m\u001b[0m\n\u001b[0m\u001b[0;32m    532\u001b[0m \u001b[1;33m\u001b[0m\u001b[0m\n\u001b[0;32m    533\u001b[0m         \u001b[1;32mreturn\u001b[0m \u001b[0mresponse\u001b[0m\u001b[1;33m\u001b[0m\u001b[1;33m\u001b[0m\u001b[0m\n",
      "\u001b[1;32m~\\.conda\\envs\\tenserflow\\lib\\urllib\\request.py\u001b[0m in \u001b[0;36mhttp_response\u001b[1;34m(self, request, response)\u001b[0m\n\u001b[0;32m    639\u001b[0m         \u001b[1;32mif\u001b[0m \u001b[1;32mnot\u001b[0m \u001b[1;33m(\u001b[0m\u001b[1;36m200\u001b[0m \u001b[1;33m<=\u001b[0m \u001b[0mcode\u001b[0m \u001b[1;33m<\u001b[0m \u001b[1;36m300\u001b[0m\u001b[1;33m)\u001b[0m\u001b[1;33m:\u001b[0m\u001b[1;33m\u001b[0m\u001b[1;33m\u001b[0m\u001b[0m\n\u001b[0;32m    640\u001b[0m             response = self.parent.error(\n\u001b[1;32m--> 641\u001b[1;33m                 'http', request, response, code, msg, hdrs)\n\u001b[0m\u001b[0;32m    642\u001b[0m \u001b[1;33m\u001b[0m\u001b[0m\n\u001b[0;32m    643\u001b[0m         \u001b[1;32mreturn\u001b[0m \u001b[0mresponse\u001b[0m\u001b[1;33m\u001b[0m\u001b[1;33m\u001b[0m\u001b[0m\n",
      "\u001b[1;32m~\\.conda\\envs\\tenserflow\\lib\\urllib\\request.py\u001b[0m in \u001b[0;36merror\u001b[1;34m(self, proto, *args)\u001b[0m\n\u001b[0;32m    567\u001b[0m         \u001b[1;32mif\u001b[0m \u001b[0mhttp_err\u001b[0m\u001b[1;33m:\u001b[0m\u001b[1;33m\u001b[0m\u001b[1;33m\u001b[0m\u001b[0m\n\u001b[0;32m    568\u001b[0m             \u001b[0margs\u001b[0m \u001b[1;33m=\u001b[0m \u001b[1;33m(\u001b[0m\u001b[0mdict\u001b[0m\u001b[1;33m,\u001b[0m \u001b[1;34m'default'\u001b[0m\u001b[1;33m,\u001b[0m \u001b[1;34m'http_error_default'\u001b[0m\u001b[1;33m)\u001b[0m \u001b[1;33m+\u001b[0m \u001b[0morig_args\u001b[0m\u001b[1;33m\u001b[0m\u001b[1;33m\u001b[0m\u001b[0m\n\u001b[1;32m--> 569\u001b[1;33m             \u001b[1;32mreturn\u001b[0m \u001b[0mself\u001b[0m\u001b[1;33m.\u001b[0m\u001b[0m_call_chain\u001b[0m\u001b[1;33m(\u001b[0m\u001b[1;33m*\u001b[0m\u001b[0margs\u001b[0m\u001b[1;33m)\u001b[0m\u001b[1;33m\u001b[0m\u001b[1;33m\u001b[0m\u001b[0m\n\u001b[0m\u001b[0;32m    570\u001b[0m \u001b[1;33m\u001b[0m\u001b[0m\n\u001b[0;32m    571\u001b[0m \u001b[1;31m# XXX probably also want an abstract factory that knows when it makes\u001b[0m\u001b[1;33m\u001b[0m\u001b[1;33m\u001b[0m\u001b[1;33m\u001b[0m\u001b[0m\n",
      "\u001b[1;32m~\\.conda\\envs\\tenserflow\\lib\\urllib\\request.py\u001b[0m in \u001b[0;36m_call_chain\u001b[1;34m(self, chain, kind, meth_name, *args)\u001b[0m\n\u001b[0;32m    501\u001b[0m         \u001b[1;32mfor\u001b[0m \u001b[0mhandler\u001b[0m \u001b[1;32min\u001b[0m \u001b[0mhandlers\u001b[0m\u001b[1;33m:\u001b[0m\u001b[1;33m\u001b[0m\u001b[1;33m\u001b[0m\u001b[0m\n\u001b[0;32m    502\u001b[0m             \u001b[0mfunc\u001b[0m \u001b[1;33m=\u001b[0m \u001b[0mgetattr\u001b[0m\u001b[1;33m(\u001b[0m\u001b[0mhandler\u001b[0m\u001b[1;33m,\u001b[0m \u001b[0mmeth_name\u001b[0m\u001b[1;33m)\u001b[0m\u001b[1;33m\u001b[0m\u001b[1;33m\u001b[0m\u001b[0m\n\u001b[1;32m--> 503\u001b[1;33m             \u001b[0mresult\u001b[0m \u001b[1;33m=\u001b[0m \u001b[0mfunc\u001b[0m\u001b[1;33m(\u001b[0m\u001b[1;33m*\u001b[0m\u001b[0margs\u001b[0m\u001b[1;33m)\u001b[0m\u001b[1;33m\u001b[0m\u001b[1;33m\u001b[0m\u001b[0m\n\u001b[0m\u001b[0;32m    504\u001b[0m             \u001b[1;32mif\u001b[0m \u001b[0mresult\u001b[0m \u001b[1;32mis\u001b[0m \u001b[1;32mnot\u001b[0m \u001b[1;32mNone\u001b[0m\u001b[1;33m:\u001b[0m\u001b[1;33m\u001b[0m\u001b[1;33m\u001b[0m\u001b[0m\n\u001b[0;32m    505\u001b[0m                 \u001b[1;32mreturn\u001b[0m \u001b[0mresult\u001b[0m\u001b[1;33m\u001b[0m\u001b[1;33m\u001b[0m\u001b[0m\n",
      "\u001b[1;32m~\\.conda\\envs\\tenserflow\\lib\\urllib\\request.py\u001b[0m in \u001b[0;36mhttp_error_default\u001b[1;34m(self, req, fp, code, msg, hdrs)\u001b[0m\n\u001b[0;32m    647\u001b[0m \u001b[1;32mclass\u001b[0m \u001b[0mHTTPDefaultErrorHandler\u001b[0m\u001b[1;33m(\u001b[0m\u001b[0mBaseHandler\u001b[0m\u001b[1;33m)\u001b[0m\u001b[1;33m:\u001b[0m\u001b[1;33m\u001b[0m\u001b[1;33m\u001b[0m\u001b[0m\n\u001b[0;32m    648\u001b[0m     \u001b[1;32mdef\u001b[0m \u001b[0mhttp_error_default\u001b[0m\u001b[1;33m(\u001b[0m\u001b[0mself\u001b[0m\u001b[1;33m,\u001b[0m \u001b[0mreq\u001b[0m\u001b[1;33m,\u001b[0m \u001b[0mfp\u001b[0m\u001b[1;33m,\u001b[0m \u001b[0mcode\u001b[0m\u001b[1;33m,\u001b[0m \u001b[0mmsg\u001b[0m\u001b[1;33m,\u001b[0m \u001b[0mhdrs\u001b[0m\u001b[1;33m)\u001b[0m\u001b[1;33m:\u001b[0m\u001b[1;33m\u001b[0m\u001b[1;33m\u001b[0m\u001b[0m\n\u001b[1;32m--> 649\u001b[1;33m         \u001b[1;32mraise\u001b[0m \u001b[0mHTTPError\u001b[0m\u001b[1;33m(\u001b[0m\u001b[0mreq\u001b[0m\u001b[1;33m.\u001b[0m\u001b[0mfull_url\u001b[0m\u001b[1;33m,\u001b[0m \u001b[0mcode\u001b[0m\u001b[1;33m,\u001b[0m \u001b[0mmsg\u001b[0m\u001b[1;33m,\u001b[0m \u001b[0mhdrs\u001b[0m\u001b[1;33m,\u001b[0m \u001b[0mfp\u001b[0m\u001b[1;33m)\u001b[0m\u001b[1;33m\u001b[0m\u001b[1;33m\u001b[0m\u001b[0m\n\u001b[0m\u001b[0;32m    650\u001b[0m \u001b[1;33m\u001b[0m\u001b[0m\n\u001b[0;32m    651\u001b[0m \u001b[1;32mclass\u001b[0m \u001b[0mHTTPRedirectHandler\u001b[0m\u001b[1;33m(\u001b[0m\u001b[0mBaseHandler\u001b[0m\u001b[1;33m)\u001b[0m\u001b[1;33m:\u001b[0m\u001b[1;33m\u001b[0m\u001b[1;33m\u001b[0m\u001b[0m\n",
      "\u001b[1;31mHTTPError\u001b[0m: HTTP Error 403: Forbidden"
     ]
    }
   ],
   "source": [
    "url = \"https://www.zapimoveis.com.br/venda/imoveis/pe+recife/?__zt=ctaw%3Ab&pagina=1\"\n",
    "request = urlopen(url)"
   ]
  },
  {
   "cell_type": "code",
   "execution_count": 11,
   "metadata": {},
   "outputs": [
    {
     "data": {
      "text/plain": [
       "403"
      ]
     },
     "execution_count": 11,
     "metadata": {},
     "output_type": "execute_result"
    }
   ],
   "source": [
    "request.status_code"
   ]
  },
  {
   "cell_type": "markdown",
   "metadata": {},
   "source": [
    "**Depois de um tempo** encontrei essa resposta.\n",
    "\n",
    "https://stackoverflow.com/questions/50831469/i-am-not-able-to-scrap-the-web-data-from-the-given-website-using-python"
   ]
  },
  {
   "cell_type": "code",
   "execution_count": 12,
   "metadata": {},
   "outputs": [],
   "source": [
    "headers = {'User-Agent': 'Mozilla/5.0 (Macintosh; Intel Mac OS X 10_11_5) AppleWebKit/537.36 (KHTML, like Gecko) Chrome/50.0.2661.102 Safari/537.36'}\n",
    "request = requests.get(url, headers=headers)"
   ]
  },
  {
   "cell_type": "code",
   "execution_count": 13,
   "metadata": {
    "scrolled": true
   },
   "outputs": [
    {
     "data": {
      "text/plain": [
       "200"
      ]
     },
     "execution_count": 13,
     "metadata": {},
     "output_type": "execute_result"
    }
   ],
   "source": [
    "request.status_code # Successo"
   ]
  },
  {
   "cell_type": "markdown",
   "metadata": {},
   "source": [
    "_\"The HTTP 200 OK success status response code indicates that the request has succeeded.\"_\n",
    "\n",
    "    Em outras palavras, agora devemos ser capazes de acessar o conteúdo \\(*O*)/"
   ]
  },
  {
   "cell_type": "code",
   "execution_count": 14,
   "metadata": {},
   "outputs": [
    {
     "name": "stdout",
     "output_type": "stream",
     "text": [
      "<!DOCTYPE html>\n",
      "<html data-vue-meta-server-rendered=\"\" lang=\"pt-br\">\n",
      " <head>\n",
      "  <meta charset=\"utf-8\" data-vue-meta=\"ssr\"/>\n",
      "  <meta content=\"width=device-width, initial-scale=1.0, maximum-scale=5.0\" data-vue-meta=\"ssr\" name=\"viewport\"/>\n",
      "  <meta content=\"#007aa5\" data-vue-meta=\"ssr\" name=\"theme-color\"/>\n",
      "  <meta content=\"No ZAP Imóveis você encontra Imóveis à venda em Recife, PE. Confira as melhores ofertas de imóveis à venda e feche ótimos negócios!\" data-vue-meta=\"ssr\" name=\"description\"/>\n",
      "  <met\n"
     ]
    }
   ],
   "source": [
    "soup = BeautifulSoup(request.text, 'html.parser')\n",
    "print(soup.prettify()[0:500])"
   ]
  },
  {
   "cell_type": "code",
   "execution_count": 15,
   "metadata": {},
   "outputs": [
    {
     "name": "stdout",
     "output_type": "stream",
     "text": [
      "<div class=\"simple-card__actions\"><p class=\"color-dark text-regular simple-card__address\" ellipsis=\"true\" ellipsis-lines=\"1\">Rua Eurico de Souza Leão, Cordeiro</p><ul class=\"feature__container simple-card__amenities\"><li class=\"feature__item text-small js-areas\"><span class=\"icon icon-color--current icon-size--regular\"><svg viewbox=\"0 0 24 24\" xmlns=\"http://www.w3.org/2000/svg\"><g fill=\"none\" fill-rule=\"nonzero\"><path d=\"M0 0h24v24H0z\"></path><path d=\"M2 2h20v20H2z\"></path><path d=\"M5 18V6a1 1 0 00-2 0v13a2 2 0 002 2h13a1 1 0 000-2H6a1 1 0 01-1-1zM19.25 3c.966 0 1.75.784 1.75 1.75v10.5A1.75 1.75 0 0119.25 17H8.75A1.75 1.75 0 017 15.25V4.75C7 3.784 7.784 3 8.75 3zM18 5h-8a1 1 0 00-1 1v8a1 1 0 001 1h8a1 1 0 001-1V6a1 1 0 00-1-1z\" fill=\"currentColor\"></path></g></svg></span><span>\n",
      "        55 - 73 m²\n",
      "        <!-- --></span></li><li class=\"feature__item text-small js-bedrooms\"><span class=\"icon icon-color--current icon-size--regular\"><svg viewbox=\"0 0 24 24\" xmlns=\"http://www.w3.org/2000/svg\"><path d=\"M21 14H3v-1c0-.801.312-1.555.879-2.121A2.978 2.978 0 016 10h12c.801 0 1.555.312 2.121.879.567.566.879 1.32.879 2.121v1zm0 3H3v-1h18v1zM5 8V6c0-.551.449-1 1-1h4c.551 0 1 .449 1 1v2H5zm8-2c0-.551.449-1 1-1h4c.551 0 1 .449 1 1v2h-6V6zm8 3V6a3 3 0 00-3-3h-4c-.768 0-1.47.29-2 .764A2.993 2.993 0 0010 3H6a3 3 0 00-3 3v3a4.992 4.992 0 00-2 4v6a2 2 0 002 2h1v-2h16v2h1a2 2 0 002-2v-6a4.992 4.992 0 00-2-4z\" fill=\"currentColor\"></path></svg></span><span>\n",
      "        1 - 3 \n",
      "        <!-- --></span></li><li class=\"feature__item text-small js-parking-spaces\"><span class=\"icon icon-color--current icon-size--regular\"><svg viewbox=\"0 0 24 24\" xmlns=\"http://www.w3.org/2000/svg\"><g fill=\"none\" fill-rule=\"nonzero\"><path d=\"M0 0h24v24H0z\"></path><path d=\"M2 2h20v20H2z\"></path><path d=\"M15.843 2a3 3 0 012.935 2.38l.778 3.671A3 3 0 0122 11v9a2 2 0 01-2 2h-1a1 1 0 01-1-1v-2H6v2a1 1 0 01-1 1H4a2 2 0 01-2-2v-9a3 3 0 012.444-2.949l.778-3.672A3 3 0 018.157 2zM19 10H5a1 1 0 00-1 1v6h16v-6a1 1 0 00-1-1zm-2.5 2a1.5 1.5 0 110 3 1.5 1.5 0 010-3zm-9 0a1.5 1.5 0 110 3 1.5 1.5 0 010-3zm8.343-8H8.157l-.117.007a1 1 0 00-.862.786L6.5 8h11l-.678-3.207-.031-.113a1 1 0 00-.948-.68z\" fill=\"currentColor\"></path></g></svg></span><span>\n",
      "        1 - 2 \n",
      "        <!-- --></span></li><li class=\"feature__item text-small js-bathrooms\"><span class=\"icon icon-color--current icon-size--regular\"><svg viewbox=\"0 0 24 24\" xmlns=\"http://www.w3.org/2000/svg\"><g fill=\"none\" fill-rule=\"nonzero\"><path d=\"M0 0h24v24H0z\"></path><path d=\"M2 2h20v20H2z\"></path><path d=\"M10.912 16h.125a.963.963 0 00.963-.963V13h-2v2.088c0 .504.408.912.912.912zm4 3h.125a.963.963 0 00.963-.963V13h-2v5.088c0 .504.408.912.912.912zm4-3h.125a.963.963 0 00.963-.963V13h-2v2.088c0 .504.408.912.912.912zM21 11H9V9a2 2 0 012-2h3V4H5v17a1 1 0 11-2 0V4a2 2 0 012-2h9a2 2 0 012 2v3h3a2 2 0 012 2v2z\" fill=\"currentColor\"></path></g></svg></span><span>\n",
      "        1 \n",
      "        <!-- --></span></li></ul></div>\n"
     ]
    }
   ],
   "source": [
    "print(soup.find('div', class_ = 'simple-card__actions'))"
   ]
  },
  {
   "cell_type": "markdown",
   "metadata": {},
   "source": [
    "### 1.2 De volta pro futur--web scraping\n",
    "\n",
    "Podendo capturar os dados, nos resta descobrir em quais tags do HTML eles se encontram. Como já mencionei, ao inspecionar o código fonte do site descobrimos isso. Agora utilizamos os métodos do objeto bs4 para importamos o que queremos para a memória e efetivamente utilizar.\n",
    "\n",
    "**Faça funcionar para 1. Depois automatize.**"
   ]
  },
  {
   "cell_type": "markdown",
   "metadata": {},
   "source": [
    "### Código nos dados \n",
    "Para dar uma de cartomante e prever os preços dos apartamentos de Recife precisamos de informações como:\n",
    "        \n",
    "        Preço do apartamento\n",
    "        Localização\n",
    "        Tamanho\n",
    "        E quantidade de: Quartos\n",
    "                         Banheiros\n",
    "                         Vagas para estacionar\n",
    "                         \n",
    "Enquanto o preço é o nosso _label_ <br>\n",
    "Os outros dados serão nossas _features_. Dados que o modelo de machine learning usará para prever o valor do label.\n",
    "\n",
    "Vamos atrás de cada um deles individualmente e no fim, juntamos tudo \\o\\|o|/o/"
   ]
  },
  {
   "cell_type": "markdown",
   "metadata": {},
   "source": [
    "### Preço do apartamento\n",
    "\n",
    "Como você vê, não temos exatamente o output que esperávamos, mas isso porque alguns apartamentos ainda estão em construção, então seus valores ainda não foram definidos. **O importante é que conseguimos chegar na tag com a informação**."
   ]
  },
  {
   "cell_type": "code",
   "execution_count": 16,
   "metadata": {},
   "outputs": [
    {
     "data": {
      "text/plain": [
       "'\\n    Sob consulta\\n  '"
      ]
     },
     "execution_count": 16,
     "metadata": {},
     "output_type": "execute_result"
    }
   ],
   "source": [
    "apartament_price = soup.find('div', class_ = 'simple-card__prices')\n",
    "apartament_price.text"
   ]
  },
  {
   "cell_type": "markdown",
   "metadata": {},
   "source": [
    "obs: caso a [imagem](https://github.com/pauloreis-ds/Projetos/blob/master/Previs%C3%A3o%20-%20Pre%C3%A7o%20Im%C3%B3veis/imagens/Pre%C3%A7o%20Apartamento.JPG) não apareça :/"
   ]
  },
  {
   "cell_type": "code",
   "execution_count": 17,
   "metadata": {},
   "outputs": [
    {
     "data": {
      "image/jpeg": "[encoded data removed]",
      "text/plain": [
       "<IPython.core.display.Image object>"
      ]
     },
     "execution_count": 17,
     "metadata": {},
     "output_type": "execute_result"
    }
   ],
   "source": [
    "from IPython.display import Image\n",
    "Image(filename='Preço Apartamento.JPG') "
   ]
  },
  {
   "cell_type": "markdown",
   "metadata": {},
   "source": [
    "### Localização\n",
    "Simples assim :) (por hora)"
   ]
  },
  {
   "cell_type": "code",
   "execution_count": 18,
   "metadata": {},
   "outputs": [
    {
     "data": {
      "text/plain": [
       "'Rua Eurico de Souza Leão, Cordeiro'"
      ]
     },
     "execution_count": 18,
     "metadata": {},
     "output_type": "execute_result"
    }
   ],
   "source": [
    "location = soup.find('div', class_ = 'simple-card__actions')\n",
    "location.p.text"
   ]
  },
  {
   "cell_type": "markdown",
   "metadata": {},
   "source": [
    "### Tamanho do apartamento, número de: Quartos, Banheiros, Vagas para estacionar"
   ]
  },
  {
   "cell_type": "code",
   "execution_count": 19,
   "metadata": {},
   "outputs": [
    {
     "data": {
      "text/plain": [
       "'\\n        55 - 73 m²\\n        \\n        1 - 3 \\n        \\n        1 - 2 \\n        \\n        1 \\n        '"
      ]
     },
     "execution_count": 19,
     "metadata": {},
     "output_type": "execute_result"
    }
   ],
   "source": [
    "numerical_set = soup.find('div', class_ = 'simple-card__actions')\n",
    "numerical_set.ul.text"
   ]
  },
  {
   "cell_type": "code",
   "execution_count": 20,
   "metadata": {},
   "outputs": [
    {
     "data": {
      "text/plain": [
       "['',\n",
       " '        55 - 73 m²',\n",
       " '        ',\n",
       " '        1 - 3 ',\n",
       " '        ',\n",
       " '        1 - 2 ',\n",
       " '        ',\n",
       " '        1 ',\n",
       " '        ']"
      ]
     },
     "execution_count": 20,
     "metadata": {},
     "output_type": "execute_result"
    }
   ],
   "source": [
    "apartament_numerical_set = numerical_set.ul.text.split('\\n')\n",
    "apartament_numerical_set"
   ]
  },
  {
   "cell_type": "code",
   "execution_count": 21,
   "metadata": {},
   "outputs": [
    {
     "data": {
      "text/plain": [
       "list"
      ]
     },
     "execution_count": 21,
     "metadata": {},
     "output_type": "execute_result"
    }
   ],
   "source": [
    "type(apartament_numerical_set)"
   ]
  },
  {
   "cell_type": "markdown",
   "metadata": {},
   "source": [
    "**Aqui vemos que os índices ímpares têm os dados.**"
   ]
  },
  {
   "cell_type": "code",
   "execution_count": 22,
   "metadata": {},
   "outputs": [
    {
     "name": "stdout",
     "output_type": "stream",
     "text": [
      "\n",
      "index -- [ 0 ]\n",
      " data -- \n",
      "\n",
      "index -- [ 1 ]\n",
      " data -- 55 - 73 m²\n",
      "\n",
      "index -- [ 2 ]\n",
      " data -- \n",
      "\n",
      "index -- [ 3 ]\n",
      " data -- 1 - 3\n",
      "\n",
      "index -- [ 4 ]\n",
      " data -- \n",
      "\n",
      "index -- [ 5 ]\n",
      " data -- 1 - 2\n",
      "\n",
      "index -- [ 6 ]\n",
      " data -- \n",
      "\n",
      "index -- [ 7 ]\n",
      " data -- 1\n",
      "\n",
      "index -- [ 8 ]\n",
      " data -- \n"
     ]
    }
   ],
   "source": [
    "for index in range(len(apartament_numerical_set)):\n",
    "    print('\\nindex -- [', index, ']\\n data --', apartament_numerical_set[index].strip())"
   ]
  },
  {
   "cell_type": "code",
   "execution_count": 23,
   "metadata": {},
   "outputs": [],
   "source": [
    "size = apartament_numerical_set[1].strip()\n",
    "rooms = apartament_numerical_set[3].strip()\n",
    "bathrooms = apartament_numerical_set[5].strip()\n",
    "parking_lots = apartament_numerical_set[7].strip()"
   ]
  },
  {
   "cell_type": "code",
   "execution_count": 24,
   "metadata": {},
   "outputs": [
    {
     "name": "stdout",
     "output_type": "stream",
     "text": [
      "55 - 73 m² 1 - 3 1 - 2 1\n"
     ]
    }
   ],
   "source": [
    "print(size, rooms, bathrooms, parking_lots)"
   ]
  },
  {
   "cell_type": "markdown",
   "metadata": {},
   "source": [
    "## 2 - Efetivamente Coletando os dados\n",
    "Agora que já sabemos como pegar cada parte necessária, podemos trabalhar para aplicar esse processo em toda a página e, em seguida, nas outras páginas do site.\n",
    "\n",
    "    ps: ao invés de .find() usamos o find_all() e tratamos all/todas as tags como elementos de uma lista,\n",
    "        ainda fazendo uso dos métodos do objeto bs4."
   ]
  },
  {
   "cell_type": "code",
   "execution_count": 60,
   "metadata": {},
   "outputs": [
    {
     "data": {
      "text/plain": [
       "[<div class=\"simple-card__prices simple-card__listing-prices\"><p class=\"simple-card__price js-price heading-regular heading-regular__bolder align-left\"><strong>\n",
       "     Sob consulta\n",
       "   </strong></p><!-- --></div>,\n",
       " <div class=\"simple-card__prices simple-card__listing-prices\"><p class=\"simple-card__price js-price heading-regular heading-regular__bolder align-left\"><strong>\n",
       "     Sob consulta\n",
       "   </strong></p><!-- --></div>,\n",
       " <div class=\"simple-card__prices simple-card__listing-prices\"><p class=\"simple-card__price js-price heading-regular heading-regular__bolder align-left\"><strong>\n",
       "     R$ 262.900\n",
       "   </strong></p><!-- --></div>]"
      ]
     },
     "execution_count": 60,
     "metadata": {},
     "output_type": "execute_result"
    }
   ],
   "source": [
    "apartament_prices = soup.find_all('div', class_ = 'simple-card__prices')\n",
    "apartament_prices[0:3]"
   ]
  },
  {
   "cell_type": "code",
   "execution_count": 61,
   "metadata": {},
   "outputs": [
    {
     "data": {
      "text/plain": [
       "'\\n    R$ 1.700.000\\n  '"
      ]
     },
     "execution_count": 61,
     "metadata": {},
     "output_type": "execute_result"
    }
   ],
   "source": [
    "apartament_prices[3].text "
   ]
  },
  {
   "cell_type": "code",
   "execution_count": 62,
   "metadata": {},
   "outputs": [
    {
     "data": {
      "text/plain": [
       "24"
      ]
     },
     "execution_count": 62,
     "metadata": {},
     "output_type": "execute_result"
    }
   ],
   "source": [
    "len(apartament_prices)"
   ]
  },
  {
   "cell_type": "code",
   "execution_count": 63,
   "metadata": {},
   "outputs": [
    {
     "data": {
      "text/plain": [
       "['\\n    Sob consulta\\n  ',\n",
       " '\\n    Sob consulta\\n  ',\n",
       " '\\n    R$ 262.900\\n  ',\n",
       " '\\n    R$ 1.700.000\\n  ',\n",
       " '\\n    R$ 450.000\\n  \\n      condomínio\\n      R$ 460\\n      IPTU\\n      R$ 1.600',\n",
       " '\\n    R$ 2.500.000\\n  \\n      condomínio\\n      R$ 1.600',\n",
       " '\\n    R$ 499.000\\n  \\n      condomínio\\n      R$ 650\\n      IPTU\\n      R$ 1.500',\n",
       " '\\n    R$ 350.000\\n  \\n      condomínio\\n      R$ 600\\n      IPTU\\n      R$ 1.200',\n",
       " '\\n    R$ 480.000\\n  \\n      condomínio\\n      R$ 445\\n      IPTU\\n      R$ 180',\n",
       " '\\n    R$ 280.000\\n  \\n      condomínio\\n      R$ 400',\n",
       " '\\n    R$ 750.000\\n  \\n      condomínio\\n      R$ 1.760',\n",
       " '\\n    R$ 320.000\\n  \\n      condomínio\\n      R$ 340\\n      IPTU\\n      R$ 1.300',\n",
       " '\\n    R$ 245.000\\n  \\n      condomínio\\n      R$ 450',\n",
       " '\\n    R$ 4.500\\n  ',\n",
       " '\\n    R$ 680.000\\n  \\n      condomínio\\n      R$ 780\\n      IPTU\\n      R$ 2.922',\n",
       " '\\n    R$ 450.000\\n  ',\n",
       " '\\n    R$ 250.000\\n  \\n      condomínio\\n      R$ 700',\n",
       " '\\n    R$ 317.500\\n  \\n      condomínio\\n      R$ 400',\n",
       " '\\n    R$ 585.000\\n  \\n      condomínio\\n      R$ 850\\n      IPTU\\n      R$ 255',\n",
       " '\\n    R$ 450.000\\n  \\n      condomínio\\n      R$ 600',\n",
       " '\\n    R$ 760.000\\n  \\n      condomínio\\n      R$ 1.000',\n",
       " '\\n    R$ 530.000\\n  \\n      condomínio\\n      R$ 645\\n      IPTU\\n      R$ 256',\n",
       " '\\n    R$ 700.000\\n  \\n      condomínio\\n      R$ 1.100\\n      IPTU\\n      R$ 3.500',\n",
       " '\\n    R$ 620.000\\n  \\n      condomínio\\n      R$ 550']"
      ]
     },
     "execution_count": 63,
     "metadata": {},
     "output_type": "execute_result"
    }
   ],
   "source": [
    "''' Armazenaremos os dados em listas  '''\n",
    "\n",
    "price_list = []\n",
    "\n",
    "for price in range(len(apartament_prices)):\n",
    "    price_list.append(apartament_prices[price].text)\n",
    "    \n",
    "price_list"
   ]
  },
  {
   "cell_type": "markdown",
   "metadata": {},
   "source": [
    "**Interessante. Informações que não esperava encontrar surgiram. Por hora, ficaremos com elas, até decidirmos como tratá-las**\n",
    "\n",
    "    De qualquer modo, faremos o mesmo com os outros dados, com exceção que a abordagem será \n",
    "    um pouquinho diferente. Mas o conceito é exatamente o mesmo."
   ]
  },
  {
   "cell_type": "code",
   "execution_count": 68,
   "metadata": {},
   "outputs": [],
   "source": [
    "numerical_sets = soup.find_all('div', class_ = 'simple-card__actions')\n",
    "# numerical_sets[0] # Só um já bem grandinho, então não deixarei à mostra aqui"
   ]
  },
  {
   "cell_type": "code",
   "execution_count": 79,
   "metadata": {},
   "outputs": [
    {
     "data": {
      "text/plain": [
       "'        55 - 73 m²'"
      ]
     },
     "execution_count": 79,
     "metadata": {},
     "output_type": "execute_result"
    }
   ],
   "source": [
    "# Dessa maneira temos acesso ao dado\n",
    "numerical_set[0].ul.text.split('\\n')[1]"
   ]
  },
  {
   "cell_type": "code",
   "execution_count": 81,
   "metadata": {},
   "outputs": [],
   "source": [
    "size_list = []\n",
    "rooms_list = []\n",
    "bathrooms_list = []\n",
    "parking_lots_list = []\n",
    "\n",
    "for item in range(len(numerical_sets)):\n",
    "    size_list.append(numerical_set[item].ul.text.split('\\n')[1])\n",
    "    rooms_list.append(numerical_set[item].ul.text.split('\\n')[3])\n",
    "    bathrooms_list.append(numerical_set[item].ul.text.split('\\n')[5])\n",
    "    parking_lots_list.append(numerical_set[item].ul.text.split('\\n')[7])"
   ]
  },
  {
   "cell_type": "code",
   "execution_count": 84,
   "metadata": {},
   "outputs": [
    {
     "name": "stdout",
     "output_type": "stream",
     "text": [
      "        55 - 73 m² ---         1 - 3  ---         1 - 2  ---         1 \n",
      "        111 - 209 m² ---         3  ---         2  ---         3 \n",
      "        69 m² ---         2  ---         1  ---         1 \n",
      "        230 m² ---         4  ---         2  ---         5 \n",
      "        54 m² ---         2  ---         1  ---         2 \n",
      "        204 m² ---         4  ---         3  ---         5 \n",
      "        70 m² ---         2  ---         1  ---         2 \n",
      "        74 m² ---         3  ---         1  ---         3 \n",
      "        89 m² ---         3  ---         2  ---         3 \n",
      "        110 m² ---         4  ---         2  ---         3 \n",
      "        186 m² ---         4  ---         3  ---         4 \n",
      "        51 m² ---         2  ---         1  ---         2 \n",
      "        66 m² ---         3  ---         1  ---         2 \n",
      "        600 m² ---         3  ---         5  ---         1 \n",
      "        103 m² ---         4  ---         2  ---         3 \n",
      "        180 m² ---         4  ---         2  ---         2 \n",
      "        110 m² ---         3  ---         1  ---         2 \n",
      "        55 m² ---         2  ---         1  ---         2 \n",
      "        104 m² ---         3  ---         2  ---         3 \n",
      "        87 m² ---         3  ---         2  ---         3 \n",
      "        142 m² ---         3  ---         2  ---         4 \n",
      "        82 m² ---         3  ---         2  ---         2 \n",
      "        145 m² ---         4  ---         2  ---         4 \n",
      "        86 m² ---         3  ---         2  ---         3 \n"
     ]
    }
   ],
   "source": [
    "# Deu certo \\o\\|o|/o/\n",
    "\n",
    "for s, r, b, p in zip(size_list, rooms_list, bathrooms_list, parking_lots_list):\n",
    "    print(s, '---', r, '---', b, '---', p)"
   ]
  },
  {
   "cell_type": "markdown",
   "metadata": {},
   "source": [
    "## 3 - Otimizando o código \n",
    "(passando por todas as páginas) Para completar o web scraping e obter todas as features que usaremos no modelo de machine learning.\n",
    "\n",
    "    Sei que o site tem 282 páginas com informações sobre vendas de apartamento. Acho que \n",
    "    poderia criar diretamente um loop e iterar sobre elas, mas decidi criar uma lista de\n",
    "    urls e iterar sobre ela (o que resultará nos mesmo)."
   ]
  },
  {
   "cell_type": "code",
   "execution_count": 89,
   "metadata": {},
   "outputs": [
    {
     "data": {
      "text/plain": [
       "['https://www.zapimoveis.com.br/venda/imoveis/pe+recife/?__zt=ctaw%3Ab&pagina=1',\n",
       " 'https://www.zapimoveis.com.br/venda/imoveis/pe+recife/?__zt=ctaw%3Ab&pagina=2',\n",
       " 'https://www.zapimoveis.com.br/venda/imoveis/pe+recife/?__zt=ctaw%3Ab&pagina=3']"
      ]
     },
     "execution_count": 89,
     "metadata": {},
     "output_type": "execute_result"
    }
   ],
   "source": [
    "urls = []\n",
    "\n",
    "for url in range(1, 283):\n",
    "    urls.append(\"https://www.zapimoveis.com.br/venda/imoveis/pe+recife/?__zt=ctaw%3Ab&pagina=\"+ str(url))\n",
    "\n",
    "urls[0:3]    "
   ]
  },
  {
   "cell_type": "markdown",
   "metadata": {},
   "source": [
    "**Finalmente, O Grande Finale:**\n",
    "\n",
    "Esse processo pode demorar um pouco."
   ]
  },
  {
   "cell_type": "code",
   "execution_count": 93,
   "metadata": {},
   "outputs": [],
   "source": [
    "# Faz o site saber que somos usuários, ao invés de máquinas hehe\n",
    "headers = {'User-Agent': 'Mozilla/5.0 (Macintosh; Intel Mac OS X 10_11_5) AppleWebKit/537.36 (KHTML, like Gecko) Chrome/50.0.2661.102 Safari/537.36'}"
   ]
  },
  {
   "cell_type": "code",
   "execution_count": 94,
   "metadata": {},
   "outputs": [],
   "source": [
    "# Para armazenar os elementos pegos\n",
    "price_list = []\n",
    "size_list = []\n",
    "rooms_list = []\n",
    "bathrooms_list = []\n",
    "parking_lots_list = []\n",
    "\n",
    "for url in urls:\n",
    "    # Requerimentos para ter acesso ao conteúdo do site\n",
    "    request = requests.get(url, headers=headers)\n",
    "    \n",
    "    # Nossa forma orientada a objeto de interagir com tal conteúdo \n",
    "    soup = BeautifulSoup(request.text, 'html.parser')\n",
    "    \n",
    "    # Acessando as tags que contêm os dados \n",
    "    apartament_prices = soup.find_all('div', class_ = 'simple-card__prices')\n",
    "    numerical_sets = soup.find_all('div', class_ = 'simple-card__actions')\n",
    "    \n",
    "    # Salvando os dados contidos nas tags nas listas\n",
    "    for price in range(len(apartament_price)):\n",
    "        price_list.append(apartament_price[price].text)\n",
    "    for item in range(len(numerical_sets)):\n",
    "        size_list.append(numerical_set[item].ul.text.split('\\n')[1])\n",
    "        rooms_list.append(numerical_set[item].ul.text.split('\\n')[3])\n",
    "        bathrooms_list.append(numerical_set[item].ul.text.split('\\n')[5])\n",
    "        parking_lots_list.append(numerical_set[item].ul.text.split('\\n')[7])"
   ]
  },
  {
   "cell_type": "code",
   "execution_count": 96,
   "metadata": {},
   "outputs": [
    {
     "name": "stdout",
     "output_type": "stream",
     "text": [
      "6768 6768 6768 6768 6768\n"
     ]
    }
   ],
   "source": [
    "print(len(price_list), len(size_list), len(rooms_list), len(bathrooms_list), len(parking_lots_list))"
   ]
  },
  {
   "cell_type": "markdown",
   "metadata": {},
   "source": [
    "## 4 - Criando um arquivo .csv\n",
    "\n",
    "O _pandas_ nos ajudará com essa tarefa"
   ]
  },
  {
   "cell_type": "code",
   "execution_count": 150,
   "metadata": {},
   "outputs": [
    {
     "data": {
      "text/html": [
       "<div>\n",
       "<style scoped>\n",
       "    .dataframe tbody tr th:only-of-type {\n",
       "        vertical-align: middle;\n",
       "    }\n",
       "\n",
       "    .dataframe tbody tr th {\n",
       "        vertical-align: top;\n",
       "    }\n",
       "\n",
       "    .dataframe thead th {\n",
       "        text-align: right;\n",
       "    }\n",
       "</style>\n",
       "<table border=\"1\" class=\"dataframe\">\n",
       "  <thead>\n",
       "    <tr style=\"text-align: right;\">\n",
       "      <th></th>\n",
       "      <th>Preço</th>\n",
       "      <th>Tamanho (m2)</th>\n",
       "      <th>Número de quartos</th>\n",
       "      <th>Número de banheiros</th>\n",
       "      <th>vagas para estacionar</th>\n",
       "    </tr>\n",
       "  </thead>\n",
       "  <tbody>\n",
       "    <tr>\n",
       "      <th>0</th>\n",
       "      <td>\\n    Sob consulta\\n</td>\n",
       "      <td>55 - 73 m²</td>\n",
       "      <td>1 - 3</td>\n",
       "      <td>1 - 2</td>\n",
       "      <td>1</td>\n",
       "    </tr>\n",
       "    <tr>\n",
       "      <th>1</th>\n",
       "      <td>\\n    Sob consulta\\n</td>\n",
       "      <td>111 - 209 m²</td>\n",
       "      <td>3</td>\n",
       "      <td>2</td>\n",
       "      <td>3</td>\n",
       "    </tr>\n",
       "    <tr>\n",
       "      <th>2</th>\n",
       "      <td>\\n    R$ 262.900\\n</td>\n",
       "      <td>69 m²</td>\n",
       "      <td>2</td>\n",
       "      <td>1</td>\n",
       "      <td>1</td>\n",
       "    </tr>\n",
       "    <tr>\n",
       "      <th>3</th>\n",
       "      <td>\\n    R$ 1.700.000\\n</td>\n",
       "      <td>230 m²</td>\n",
       "      <td>4</td>\n",
       "      <td>2</td>\n",
       "      <td>5</td>\n",
       "    </tr>\n",
       "    <tr>\n",
       "      <th>4</th>\n",
       "      <td>\\n    R$ 450.000\\n  \\n      condomínio\\n      ...</td>\n",
       "      <td>54 m²</td>\n",
       "      <td>2</td>\n",
       "      <td>1</td>\n",
       "      <td>2</td>\n",
       "    </tr>\n",
       "  </tbody>\n",
       "</table>\n",
       "</div>"
      ],
      "text/plain": [
       "                                               Preço          Tamanho (m2)  \\\n",
       "0                             \\n    Sob consulta\\n              55 - 73 m²   \n",
       "1                             \\n    Sob consulta\\n            111 - 209 m²   \n",
       "2                               \\n    R$ 262.900\\n                   69 m²   \n",
       "3                             \\n    R$ 1.700.000\\n                  230 m²   \n",
       "4  \\n    R$ 450.000\\n  \\n      condomínio\\n      ...                 54 m²   \n",
       "\n",
       "  Número de quartos Número de banheiros vagas para estacionar  \n",
       "0            1 - 3               1 - 2                     1   \n",
       "1                3                   2                     3   \n",
       "2                2                   1                     1   \n",
       "3                4                   2                     5   \n",
       "4                2                   1                     2   "
      ]
     },
     "execution_count": 150,
     "metadata": {},
     "output_type": "execute_result"
    }
   ],
   "source": [
    "df = pd.DataFrame(list(zip(price_list, size_list, rooms_list, bathrooms_list, parking_lots_list)), \n",
    "               columns =['Preço', 'Tamanho (m2)', 'Número de quartos', 'Número de banheiros',\n",
    "                        'vagas para estacionar']) \n",
    "df.head() "
   ]
  },
  {
   "cell_type": "markdown",
   "metadata": {},
   "source": [
    "Agora só precisaríamos converter o DataFrame em um arquivo csv, **Mas Eu Esqueci De Incluir as Localizações!** Então as pegarei separadamente mesmo (para não gastar tanto tempo) e unirei os dados com o DataFrame já formado."
   ]
  },
  {
   "cell_type": "code",
   "execution_count": 128,
   "metadata": {},
   "outputs": [],
   "source": [
    "locations = []\n",
    "\n",
    "for url in urls:\n",
    "    request = requests.get(url, headers=headers)\n",
    "    soup = BeautifulSoup(request.text, 'html.parser')\n",
    "    \n",
    "    location = soup.find_all('div', class_ = 'simple-card__actions')\n",
    "    \n",
    "    for price in range(len(location)):\n",
    "        locations.append(location[price].text)    "
   ]
  },
  {
   "cell_type": "markdown",
   "metadata": {},
   "source": [
    "    Ok, por erro meu veio mais que apenas as localidades. Deveria ter feito \n",
    "    location[price].p.text ao invés de location[price].text\n",
    "    Bom, irei corrigir isso no código final. Por hora, podemos resolver assim:"
   ]
  },
  {
   "cell_type": "code",
   "execution_count": 147,
   "metadata": {},
   "outputs": [
    {
     "data": {
      "text/plain": [
       "['Rua Eurico de Souza Leão, Cordeiro\\n        55 - 73 m²\\n        \\n        1 - 3 \\n        \\n        1 - 2 \\n        \\n        1 \\n        ',\n",
       " 'Rua Marquês de Tamandaré, Poço\\n        111 - 209 m²\\n        \\n        3 \\n        \\n        2 \\n        \\n        3 \\n        ',\n",
       " 'Rua General Polidoro, Várzea\\n        69 m²\\n        \\n        2 \\n        \\n        1 \\n        \\n        1 \\n        ']"
      ]
     },
     "execution_count": 147,
     "metadata": {},
     "output_type": "execute_result"
    }
   ],
   "source": [
    "locations[0:3]"
   ]
  },
  {
   "cell_type": "code",
   "execution_count": 146,
   "metadata": {},
   "outputs": [
    {
     "data": {
      "text/plain": [
       "['Rua Eurico de Souza Leão, Cordeiro',\n",
       " 'Rua Marquês de Tamandaré, Poço',\n",
       " 'Rua General Polidoro, Várzea',\n",
       " 'Avenida Boa Viagem, Recife']"
      ]
     },
     "execution_count": 146,
     "metadata": {},
     "output_type": "execute_result"
    }
   ],
   "source": [
    "only_locations = []\n",
    "\n",
    "for item in range(len(locations)):\n",
    "    only_locations.append(locations[item].split('\\n')[0])\n",
    "\n",
    "only_locations[0:4]"
   ]
  },
  {
   "cell_type": "markdown",
   "metadata": {},
   "source": [
    "### Finalmente Criando um arquivo csv.\n",
    "\n",
    "ps: tinha pensado em transformar _only_locations_ em um objeto Série do pandas e anexá-la ao df, mas nesse caso foi mais fácil simplesmente adicioná-la na criação do DataFrame."
   ]
  },
  {
   "cell_type": "code",
   "execution_count": 154,
   "metadata": {},
   "outputs": [
    {
     "data": {
      "text/html": [
       "<div>\n",
       "<style scoped>\n",
       "    .dataframe tbody tr th:only-of-type {\n",
       "        vertical-align: middle;\n",
       "    }\n",
       "\n",
       "    .dataframe tbody tr th {\n",
       "        vertical-align: top;\n",
       "    }\n",
       "\n",
       "    .dataframe thead th {\n",
       "        text-align: right;\n",
       "    }\n",
       "</style>\n",
       "<table border=\"1\" class=\"dataframe\">\n",
       "  <thead>\n",
       "    <tr style=\"text-align: right;\">\n",
       "      <th></th>\n",
       "      <th>Localização</th>\n",
       "      <th>Preço</th>\n",
       "      <th>Tamanho (m2)</th>\n",
       "      <th>Número de quartos</th>\n",
       "      <th>vagas para estacionar</th>\n",
       "      <th>Número de banheiros</th>\n",
       "    </tr>\n",
       "  </thead>\n",
       "  <tbody>\n",
       "    <tr>\n",
       "      <th>0</th>\n",
       "      <td>Rua Eurico de Souza Leão, Cordeiro</td>\n",
       "      <td>\\n    Sob consulta\\n</td>\n",
       "      <td>55 - 73 m²</td>\n",
       "      <td>1 - 3</td>\n",
       "      <td>1 - 2</td>\n",
       "      <td>1</td>\n",
       "    </tr>\n",
       "    <tr>\n",
       "      <th>1</th>\n",
       "      <td>Rua Marquês de Tamandaré, Poço</td>\n",
       "      <td>\\n    Sob consulta\\n</td>\n",
       "      <td>111 - 209 m²</td>\n",
       "      <td>3</td>\n",
       "      <td>2</td>\n",
       "      <td>3</td>\n",
       "    </tr>\n",
       "    <tr>\n",
       "      <th>2</th>\n",
       "      <td>Rua General Polidoro, Várzea</td>\n",
       "      <td>\\n    R$ 262.900\\n</td>\n",
       "      <td>69 m²</td>\n",
       "      <td>2</td>\n",
       "      <td>1</td>\n",
       "      <td>1</td>\n",
       "    </tr>\n",
       "    <tr>\n",
       "      <th>3</th>\n",
       "      <td>Avenida Boa Viagem, Recife</td>\n",
       "      <td>\\n    R$ 1.700.000\\n</td>\n",
       "      <td>230 m²</td>\n",
       "      <td>4</td>\n",
       "      <td>2</td>\n",
       "      <td>5</td>\n",
       "    </tr>\n",
       "    <tr>\n",
       "      <th>4</th>\n",
       "      <td>Avenida Santos Dumont, Aflitos</td>\n",
       "      <td>\\n    R$ 450.000\\n  \\n      condomínio\\n      ...</td>\n",
       "      <td>54 m²</td>\n",
       "      <td>2</td>\n",
       "      <td>1</td>\n",
       "      <td>2</td>\n",
       "    </tr>\n",
       "  </tbody>\n",
       "</table>\n",
       "</div>"
      ],
      "text/plain": [
       "                          Localização  \\\n",
       "0  Rua Eurico de Souza Leão, Cordeiro   \n",
       "1      Rua Marquês de Tamandaré, Poço   \n",
       "2        Rua General Polidoro, Várzea   \n",
       "3          Avenida Boa Viagem, Recife   \n",
       "4      Avenida Santos Dumont, Aflitos   \n",
       "\n",
       "                                               Preço          Tamanho (m2)  \\\n",
       "0                             \\n    Sob consulta\\n              55 - 73 m²   \n",
       "1                             \\n    Sob consulta\\n            111 - 209 m²   \n",
       "2                               \\n    R$ 262.900\\n                   69 m²   \n",
       "3                             \\n    R$ 1.700.000\\n                  230 m²   \n",
       "4  \\n    R$ 450.000\\n  \\n      condomínio\\n      ...                 54 m²   \n",
       "\n",
       "  Número de quartos vagas para estacionar Número de banheiros  \n",
       "0            1 - 3                 1 - 2                   1   \n",
       "1                3                     2                   3   \n",
       "2                2                     1                   1   \n",
       "3                4                     2                   5   \n",
       "4                2                     1                   2   "
      ]
     },
     "execution_count": 154,
     "metadata": {},
     "output_type": "execute_result"
    }
   ],
   "source": [
    "df = pd.DataFrame(list(zip(only_locations, price_list, size_list, rooms_list, bathrooms_list, parking_lots_list)), \n",
    "               columns =['Localização','Preço', 'Tamanho (m2)', 'Número de quartos', 'vagas para estacionar',\n",
    "                        'Número de banheiros']) \n",
    "df.head()"
   ]
  },
  {
   "cell_type": "code",
   "execution_count": 155,
   "metadata": {},
   "outputs": [],
   "source": [
    "df.to_csv('Dados Apartamentos.csv')"
   ]
  },
  {
   "cell_type": "markdown",
   "metadata": {},
   "source": [
    "## 5 - Código final! \\\\(\\*-\\*)/\n",
    "\n",
    "Caso precisasse pegar novas informações (para atualizar os dados por exemplo), esse poderia ser o código utilizado para tal tarefa.\n",
    "    \n",
    "        ps: também fiz uns reajustes, não afetam o resultado, mas deixa o código mais limpo.\n",
    "        (inverter parking_lots_list com bathrooms_list, tinha os listado na ordem errada)"
   ]
  },
  {
   "cell_type": "code",
   "execution_count": null,
   "metadata": {},
   "outputs": [],
   "source": [
    "# Pegar os dados da web\n",
    "import requests\n",
    "from bs4 import BeautifulSoup\n",
    "\n",
    "# Criar arquivo csv para uso posterior\n",
    "import pandas as pd"
   ]
  },
  {
   "cell_type": "code",
   "execution_count": null,
   "metadata": {},
   "outputs": [],
   "source": [
    "# Criando urls a serem acessadas\n",
    "urls = []\n",
    "\n",
    "for url in range(1, 283):\n",
    "    urls.append(\"https://www.zapimoveis.com.br/venda/imoveis/pe+recife/?__zt=ctaw%3Ab&pagina=\"+ str(url))"
   ]
  },
  {
   "cell_type": "code",
   "execution_count": 156,
   "metadata": {},
   "outputs": [],
   "source": [
    "# Faz o site saber que somos usuários, ao invés de máquinas hehe\n",
    "headers = {'User-Agent': 'Mozilla/5.0 (Macintosh; Intel Mac OS X 10_11_5) AppleWebKit/537.36 (KHTML, like Gecko) Chrome/50.0.2661.102 Safari/537.36'}"
   ]
  },
  {
   "cell_type": "code",
   "execution_count": 157,
   "metadata": {},
   "outputs": [
    {
     "name": "stdout",
     "output_type": "stream",
     "text": [
      "Processo Finalizado!\n"
     ]
    }
   ],
   "source": [
    "# Para armazenar os elementos pegos\n",
    "price_list = []\n",
    "locations = []\n",
    "size_list = []\n",
    "rooms_list = []\n",
    "bathrooms_list = []\n",
    "parking_lots_list = []\n",
    "\n",
    "for url in urls:\n",
    "    # Requerimentos para ter acesso ao conteúdo do site\n",
    "    request = requests.get(url, headers=headers)\n",
    "    \n",
    "    # Nossa forma orientada a objeto de interagir com tal conteúdo \n",
    "    soup = BeautifulSoup(request.text, 'html.parser')\n",
    "    \n",
    "    # Acessando as tags que contêm os dados \n",
    "    apartament_prices = soup.find_all('div', class_ = 'simple-card__prices')\n",
    "    location = soup.find_all('div', class_ = 'simple-card__actions')\n",
    "    numerical_sets = soup.find_all('div', class_ = 'simple-card__actions')\n",
    "    \n",
    "    # Salvando os dados contidos nas tags nas listas\n",
    "    for price in range(len(apartament_price)):\n",
    "        price_list.append(apartament_price[price].text)\n",
    "    for price in range(len(location)):\n",
    "        locations.append(location[price].p.text)  \n",
    "    for item in range(len(numerical_sets)):\n",
    "        size_list.append(numerical_set[item].ul.text.split('\\n')[1])\n",
    "        rooms_list.append(numerical_set[item].ul.text.split('\\n')[3])\n",
    "        parking_lots_list.append(numerical_set[item].ul.text.split('\\n')[5])\n",
    "        bathrooms_list.append(numerical_set[item].ul.text.split('\\n')[7])\n",
    "        \n",
    "print(\"Processo Finalizado!\")"
   ]
  },
  {
   "cell_type": "code",
   "execution_count": 159,
   "metadata": {},
   "outputs": [
    {
     "name": "stdout",
     "output_type": "stream",
     "text": [
      "6768 6768 6768 6768 6768 6768\n"
     ]
    }
   ],
   "source": [
    "print(len(locations), len(price_list), len(size_list), len(rooms_list), len(bathrooms_list), len(parking_lots_list))"
   ]
  },
  {
   "cell_type": "code",
   "execution_count": 160,
   "metadata": {
    "scrolled": true
   },
   "outputs": [
    {
     "data": {
      "text/html": [
       "<div>\n",
       "<style scoped>\n",
       "    .dataframe tbody tr th:only-of-type {\n",
       "        vertical-align: middle;\n",
       "    }\n",
       "\n",
       "    .dataframe tbody tr th {\n",
       "        vertical-align: top;\n",
       "    }\n",
       "\n",
       "    .dataframe thead th {\n",
       "        text-align: right;\n",
       "    }\n",
       "</style>\n",
       "<table border=\"1\" class=\"dataframe\">\n",
       "  <thead>\n",
       "    <tr style=\"text-align: right;\">\n",
       "      <th></th>\n",
       "      <th>Localização</th>\n",
       "      <th>Preço</th>\n",
       "      <th>Tamanho (m2)</th>\n",
       "      <th>Número de quartos</th>\n",
       "      <th>Número de banheiros</th>\n",
       "      <th>vagas para estacionar</th>\n",
       "    </tr>\n",
       "  </thead>\n",
       "  <tbody>\n",
       "    <tr>\n",
       "      <th>0</th>\n",
       "      <td>Rua Eurico de Souza Leão, Cordeiro</td>\n",
       "      <td>\\n    Sob consulta\\n</td>\n",
       "      <td>55 - 73 m²</td>\n",
       "      <td>1 - 3</td>\n",
       "      <td>1</td>\n",
       "      <td>1 - 2</td>\n",
       "    </tr>\n",
       "    <tr>\n",
       "      <th>1</th>\n",
       "      <td>Rua Marquês de Tamandaré, Poço</td>\n",
       "      <td>\\n    Sob consulta\\n</td>\n",
       "      <td>111 - 209 m²</td>\n",
       "      <td>3</td>\n",
       "      <td>3</td>\n",
       "      <td>2</td>\n",
       "    </tr>\n",
       "    <tr>\n",
       "      <th>2</th>\n",
       "      <td>Rua General Polidoro, Várzea</td>\n",
       "      <td>\\n    R$ 262.900\\n</td>\n",
       "      <td>69 m²</td>\n",
       "      <td>2</td>\n",
       "      <td>1</td>\n",
       "      <td>1</td>\n",
       "    </tr>\n",
       "    <tr>\n",
       "      <th>3</th>\n",
       "      <td>Avenida Boa Viagem, Recife</td>\n",
       "      <td>\\n    R$ 1.700.000\\n</td>\n",
       "      <td>230 m²</td>\n",
       "      <td>4</td>\n",
       "      <td>5</td>\n",
       "      <td>2</td>\n",
       "    </tr>\n",
       "    <tr>\n",
       "      <th>4</th>\n",
       "      <td>Avenida Santos Dumont, Aflitos</td>\n",
       "      <td>\\n    R$ 450.000\\n  \\n      condomínio\\n      ...</td>\n",
       "      <td>54 m²</td>\n",
       "      <td>2</td>\n",
       "      <td>2</td>\n",
       "      <td>1</td>\n",
       "    </tr>\n",
       "  </tbody>\n",
       "</table>\n",
       "</div>"
      ],
      "text/plain": [
       "                          Localização  \\\n",
       "0  Rua Eurico de Souza Leão, Cordeiro   \n",
       "1      Rua Marquês de Tamandaré, Poço   \n",
       "2        Rua General Polidoro, Várzea   \n",
       "3          Avenida Boa Viagem, Recife   \n",
       "4      Avenida Santos Dumont, Aflitos   \n",
       "\n",
       "                                               Preço          Tamanho (m2)  \\\n",
       "0                             \\n    Sob consulta\\n              55 - 73 m²   \n",
       "1                             \\n    Sob consulta\\n            111 - 209 m²   \n",
       "2                               \\n    R$ 262.900\\n                   69 m²   \n",
       "3                             \\n    R$ 1.700.000\\n                  230 m²   \n",
       "4  \\n    R$ 450.000\\n  \\n      condomínio\\n      ...                 54 m²   \n",
       "\n",
       "  Número de quartos Número de banheiros vagas para estacionar  \n",
       "0            1 - 3                   1                 1 - 2   \n",
       "1                3                   3                     2   \n",
       "2                2                   1                     1   \n",
       "3                4                   5                     2   \n",
       "4                2                   2                     1   "
      ]
     },
     "execution_count": 160,
     "metadata": {},
     "output_type": "execute_result"
    }
   ],
   "source": [
    "df = pd.DataFrame(list(zip(only_locations, price_list, size_list, rooms_list, bathrooms_list, parking_lots_list)), \n",
    "               columns =['Localização','Preço', 'Tamanho (m2)', 'Número de quartos', 'Número de banheiros',\n",
    "                        'vagas para estacionar']) \n",
    "df.head()"
   ]
  },
  {
   "cell_type": "code",
   "execution_count": 161,
   "metadata": {},
   "outputs": [],
   "source": [
    "df.to_csv('Dados Apartamentos.csv')"
   ]
  },
  {
   "cell_type": "markdown",
   "metadata": {},
   "source": [
    "**Fim da fase 1 - Web Scraping Completo!**"
   ]
  }
 ],
 "metadata": {
  "kernelspec": {
   "display_name": "Python 3",
   "language": "python",
   "name": "python3"
  },
  "language_info": {
   "codemirror_mode": {
    "name": "ipython",
    "version": 3
   },
   "file_extension": ".py",
   "mimetype": "text/x-python",
   "name": "python",
   "nbconvert_exporter": "python",
   "pygments_lexer": "ipython3",
   "version": "3.7.7"
  }
 },
 "nbformat": 4,
 "nbformat_minor": 4
}
