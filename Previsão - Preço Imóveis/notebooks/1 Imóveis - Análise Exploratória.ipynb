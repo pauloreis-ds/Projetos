{
 "cells": [
  {
   "cell_type": "markdown",
   "metadata": {},
   "source": [
    "Conhecendo os dados (o que são? de onde vêm?), refletindo sobre como lidar com eles e efetivamente transformando-os!\n",
    "\n",
    "## Agenda\n",
    "        1 - Explorando os Dados\n",
    "            Identificando os desafios\n",
    "                1.1 ['Localização']\n",
    "                1.2 ['Preço']\n",
    "                1.3 ['Tamanho (m2)']\n",
    "                1.4 ['Número de quartos'] e ['vagas para estacionar']\n",
    "                1.5 ['Número de banheiros']\n",
    "        2 - Manipulação dos dados (Limpeza - Data Cleaning)\n",
    "            Eliminando coluna ['Unnamed: 0'] e linhas sem preço (\"Sob consulta\")\n",
    "            2.1 ['X_tamanho_em_m2']\n",
    "            2.2 ['y_preço']\n",
    "            2.3 ['X_número_de_quartos'], ['X_vagas_para_estacionar'] \n",
    "                ['X_número_de_banheiros']\n",
    "            2.4 Salvando Alterações"
   ]
  },
  {
   "cell_type": "code",
   "execution_count": 1,
   "metadata": {},
   "outputs": [],
   "source": [
    "import pandas as pd"
   ]
  },
  {
   "cell_type": "code",
   "execution_count": 2,
   "metadata": {},
   "outputs": [
    {
     "data": {
      "text/html": [
       "<div>\n",
       "<style scoped>\n",
       "    .dataframe tbody tr th:only-of-type {\n",
       "        vertical-align: middle;\n",
       "    }\n",
       "\n",
       "    .dataframe tbody tr th {\n",
       "        vertical-align: top;\n",
       "    }\n",
       "\n",
       "    .dataframe thead th {\n",
       "        text-align: right;\n",
       "    }\n",
       "</style>\n",
       "<table border=\"1\" class=\"dataframe\">\n",
       "  <thead>\n",
       "    <tr style=\"text-align: right;\">\n",
       "      <th></th>\n",
       "      <th>Unnamed: 0</th>\n",
       "      <th>Localização</th>\n",
       "      <th>Preço</th>\n",
       "      <th>Tamanho (m2)</th>\n",
       "      <th>Número de quartos</th>\n",
       "      <th>Número de banheiros</th>\n",
       "      <th>vagas para estacionar</th>\n",
       "    </tr>\n",
       "  </thead>\n",
       "  <tbody>\n",
       "    <tr>\n",
       "      <th>0</th>\n",
       "      <td>0</td>\n",
       "      <td>Rua Eurico de Souza Leão, Cordeiro</td>\n",
       "      <td>\\n    Sob consulta\\n</td>\n",
       "      <td>55 - 73 m²</td>\n",
       "      <td>1 - 3</td>\n",
       "      <td>1</td>\n",
       "      <td>1 - 2</td>\n",
       "    </tr>\n",
       "    <tr>\n",
       "      <th>1</th>\n",
       "      <td>1</td>\n",
       "      <td>Rua Marquês de Tamandaré, Poço</td>\n",
       "      <td>\\n    Sob consulta\\n</td>\n",
       "      <td>111 - 209 m²</td>\n",
       "      <td>3</td>\n",
       "      <td>3</td>\n",
       "      <td>2</td>\n",
       "    </tr>\n",
       "    <tr>\n",
       "      <th>2</th>\n",
       "      <td>2</td>\n",
       "      <td>Rua General Polidoro, Várzea</td>\n",
       "      <td>\\n    R$ 262.900\\n</td>\n",
       "      <td>69 m²</td>\n",
       "      <td>2</td>\n",
       "      <td>1</td>\n",
       "      <td>1</td>\n",
       "    </tr>\n",
       "    <tr>\n",
       "      <th>3</th>\n",
       "      <td>3</td>\n",
       "      <td>Avenida Boa Viagem, Recife</td>\n",
       "      <td>\\n    R$ 1.700.000\\n</td>\n",
       "      <td>230 m²</td>\n",
       "      <td>4</td>\n",
       "      <td>5</td>\n",
       "      <td>2</td>\n",
       "    </tr>\n",
       "    <tr>\n",
       "      <th>4</th>\n",
       "      <td>4</td>\n",
       "      <td>Avenida Santos Dumont, Aflitos</td>\n",
       "      <td>\\n    R$ 450.000\\n  \\n      condomínio\\n      ...</td>\n",
       "      <td>54 m²</td>\n",
       "      <td>2</td>\n",
       "      <td>2</td>\n",
       "      <td>1</td>\n",
       "    </tr>\n",
       "  </tbody>\n",
       "</table>\n",
       "</div>"
      ],
      "text/plain": [
       "   Unnamed: 0                         Localização  \\\n",
       "0           0  Rua Eurico de Souza Leão, Cordeiro   \n",
       "1           1      Rua Marquês de Tamandaré, Poço   \n",
       "2           2        Rua General Polidoro, Várzea   \n",
       "3           3          Avenida Boa Viagem, Recife   \n",
       "4           4      Avenida Santos Dumont, Aflitos   \n",
       "\n",
       "                                               Preço          Tamanho (m2)  \\\n",
       "0                             \\n    Sob consulta\\n              55 - 73 m²   \n",
       "1                             \\n    Sob consulta\\n            111 - 209 m²   \n",
       "2                               \\n    R$ 262.900\\n                   69 m²   \n",
       "3                             \\n    R$ 1.700.000\\n                  230 m²   \n",
       "4  \\n    R$ 450.000\\n  \\n      condomínio\\n      ...                 54 m²   \n",
       "\n",
       "  Número de quartos  Número de banheiros vagas para estacionar  \n",
       "0            1 - 3                     1                1 - 2   \n",
       "1                3                     3                    2   \n",
       "2                2                     1                    1   \n",
       "3                4                     5                    2   \n",
       "4                2                     2                    1   "
      ]
     },
     "execution_count": 2,
     "metadata": {},
     "output_type": "execute_result"
    }
   ],
   "source": [
    "data_frame = pd.read_csv('Dados Apartamentos.csv')\n",
    "data_frame.head()"
   ]
  },
  {
   "cell_type": "markdown",
   "metadata": {},
   "source": [
    "## 1 - Explorando os Dados\n",
    "Um roteiro básico para entender o que temos em mãos, e ter uma ideia de como lidar com eles."
   ]
  },
  {
   "cell_type": "code",
   "execution_count": 3,
   "metadata": {},
   "outputs": [
    {
     "data": {
      "text/plain": [
       "(6768, 7)"
      ]
     },
     "execution_count": 3,
     "metadata": {},
     "output_type": "execute_result"
    }
   ],
   "source": [
    "data_frame.shape"
   ]
  },
  {
   "cell_type": "markdown",
   "metadata": {},
   "source": [
    "    Grande parte das colunas numéricas estão no formato object (str, dict ou list...). \n",
    "    Teremos que converter futuramente, mas pelo que vemos na tabela acima, não será um\n",
    "    processo tão simples assim."
   ]
  },
  {
   "cell_type": "code",
   "execution_count": 6,
   "metadata": {
    "scrolled": true
   },
   "outputs": [
    {
     "name": "stdout",
     "output_type": "stream",
     "text": [
      "<class 'pandas.core.frame.DataFrame'>\n",
      "RangeIndex: 6768 entries, 0 to 6767\n",
      "Data columns (total 7 columns):\n",
      " #   Column                 Non-Null Count  Dtype \n",
      "---  ------                 --------------  ----- \n",
      " 0   Unnamed: 0             6768 non-null   int64 \n",
      " 1   Localização            6768 non-null   object\n",
      " 2   Preço                  6768 non-null   object\n",
      " 3   Tamanho (m2)           6768 non-null   object\n",
      " 4   Número de quartos      6768 non-null   object\n",
      " 5   Número de banheiros    6768 non-null   int64 \n",
      " 6   vagas para estacionar  6768 non-null   object\n",
      "dtypes: int64(2), object(5)\n",
      "memory usage: 370.2+ KB\n"
     ]
    }
   ],
   "source": [
    "data_frame.info()"
   ]
  },
  {
   "cell_type": "markdown",
   "metadata": {},
   "source": [
    "    Menos mal que não há NaN, mas em .head() podemos perceber que há valores\n",
    "    em ['Preço'] que a priori talvez tenhamos que eliminar da análise."
   ]
  },
  {
   "cell_type": "code",
   "execution_count": 5,
   "metadata": {},
   "outputs": [
    {
     "data": {
      "text/plain": [
       "Unnamed: 0               0\n",
       "Localização              0\n",
       "Preço                    0\n",
       "Tamanho (m2)             0\n",
       "Número de quartos        0\n",
       "Número de banheiros      0\n",
       "vagas para estacionar    0\n",
       "dtype: int64"
      ]
     },
     "execution_count": 5,
     "metadata": {},
     "output_type": "execute_result"
    }
   ],
   "source": [
    "data_frame.isna().sum()"
   ]
  },
  {
   "cell_type": "code",
   "execution_count": 8,
   "metadata": {},
   "outputs": [
    {
     "data": {
      "text/plain": [
       "Index(['Unnamed: 0', 'Localização', 'Preço', 'Tamanho (m2)',\n",
       "       'Número de quartos', 'Número de banheiros', 'vagas para estacionar'],\n",
       "      dtype='object')"
      ]
     },
     "execution_count": 8,
     "metadata": {},
     "output_type": "execute_result"
    }
   ],
   "source": [
    "data_frame.columns"
   ]
  },
  {
   "cell_type": "markdown",
   "metadata": {},
   "source": [
    "## Identificando os desafios.\n",
    "Agora, vamos inspecionar cada ['coluna'] individualmente para saber os desafios que estão por vir. E já começar a racioncinar como resolvê-los.\n",
    "\n",
    "### 1.1 ['Localização']"
   ]
  },
  {
   "cell_type": "code",
   "execution_count": 32,
   "metadata": {},
   "outputs": [
    {
     "data": {
      "text/plain": [
       "1110"
      ]
     },
     "execution_count": 32,
     "metadata": {},
     "output_type": "execute_result"
    }
   ],
   "source": [
    "# 1110 endereços diferentes \\o\\|o|/o/\n",
    "\n",
    "len(data_frame['Localização'].unique())"
   ]
  },
  {
   "cell_type": "markdown",
   "metadata": {},
   "source": [
    "Estava pensando em separar os dados por bairro. Aqui vejo que será uma tarefa bem mais trabalhosa do que pensei. Já que na linha 3, por exemplo, temos o nome do bairro no meio da string \"Avenida **Boa Viagem**, Recife\", enquanto que nas linhas 6766 e 6767 ele está no final (o que facilita nosso trabalho) \"Rua Professor Júlio Ferreira de Melo, **Boa Viagem**\".\n",
    "\n",
    "Há técnicas que nos auxiliam nesse tipo de problema (**regular expressions - Regex**), mas ainda não sou muito familiarizado com elas. Lidar com isso vai ser um verdadeiro challenge pra mim.\n",
    "\n",
    "hehe"
   ]
  },
  {
   "cell_type": "code",
   "execution_count": 33,
   "metadata": {
    "scrolled": true
   },
   "outputs": [
    {
     "data": {
      "text/plain": [
       "0    Rua Eurico de Souza Leão, Cordeiro\n",
       "1        Rua Marquês de Tamandaré, Poço\n",
       "2          Rua General Polidoro, Várzea\n",
       "3            Avenida Boa Viagem, Recife\n",
       "4        Avenida Santos Dumont, Aflitos\n",
       "Name: Localização, dtype: object"
      ]
     },
     "execution_count": 33,
     "metadata": {},
     "output_type": "execute_result"
    }
   ],
   "source": [
    "data_frame['Localização'].head()"
   ]
  },
  {
   "cell_type": "code",
   "execution_count": 34,
   "metadata": {
    "scrolled": true
   },
   "outputs": [
    {
     "data": {
      "text/plain": [
       "6763                 Travessa Maria Carolina, Boa Viagem\n",
       "6764       Rua Professor Otávio de Freitas, Encruzilhada\n",
       "6765             Rua Jerônimo de Albuquerque, Casa Forte\n",
       "6766    Rua Professor Júlio Ferreira de Melo, Boa Viagem\n",
       "6767                     Rua Solidônio Leite, Boa Viagem\n",
       "Name: Localização, dtype: object"
      ]
     },
     "execution_count": 34,
     "metadata": {},
     "output_type": "execute_result"
    }
   ],
   "source": [
    "data_frame['Localização'].tail()"
   ]
  },
  {
   "cell_type": "markdown",
   "metadata": {},
   "source": [
    "### 1.2 ['Preço']\n",
    "\n",
    "Pela forma que fiz o web scraping, bastantes preços vieram com informações adicionais. Não esperava por isso e poderia apenas ignorar o conteúdo extra, mas talvez possa até ser útil. Se não souber como tirar proveito deles, simplesmente\n",
    "os deletarei."
   ]
  },
  {
   "cell_type": "code",
   "execution_count": 37,
   "metadata": {},
   "outputs": [
    {
     "data": {
      "text/plain": [
       "23"
      ]
     },
     "execution_count": 37,
     "metadata": {},
     "output_type": "execute_result"
    }
   ],
   "source": [
    "len(data_frame['Preço'].unique())"
   ]
  },
  {
   "cell_type": "code",
   "execution_count": 36,
   "metadata": {},
   "outputs": [
    {
     "data": {
      "text/plain": [
       "array(['\\n    Sob consulta\\n  ', '\\n    R$ 262.900\\n  ',\n",
       "       '\\n    R$ 1.700.000\\n  ',\n",
       "       '\\n    R$ 450.000\\n  \\n      condomínio\\n      R$ 460\\n      IPTU\\n      R$ 1.600',\n",
       "       '\\n    R$ 2.500.000\\n  \\n      condomínio\\n      R$ 1.600',\n",
       "       '\\n    R$ 499.000\\n  \\n      condomínio\\n      R$ 650\\n      IPTU\\n      R$ 1.500',\n",
       "       '\\n    R$ 350.000\\n  \\n      condomínio\\n      R$ 600\\n      IPTU\\n      R$ 1.200',\n",
       "       '\\n    R$ 480.000\\n  \\n      condomínio\\n      R$ 445\\n      IPTU\\n      R$ 180',\n",
       "       '\\n    R$ 280.000\\n  \\n      condomínio\\n      R$ 400',\n",
       "       '\\n    R$ 750.000\\n  \\n      condomínio\\n      R$ 1.760',\n",
       "       '\\n    R$ 320.000\\n  \\n      condomínio\\n      R$ 340\\n      IPTU\\n      R$ 1.300',\n",
       "       '\\n    R$ 245.000\\n  \\n      condomínio\\n      R$ 450',\n",
       "       '\\n    R$ 4.500\\n  ',\n",
       "       '\\n    R$ 680.000\\n  \\n      condomínio\\n      R$ 780\\n      IPTU\\n      R$ 2.922',\n",
       "       '\\n    R$ 450.000\\n  ',\n",
       "       '\\n    R$ 250.000\\n  \\n      condomínio\\n      R$ 700',\n",
       "       '\\n    R$ 317.500\\n  \\n      condomínio\\n      R$ 400',\n",
       "       '\\n    R$ 585.000\\n  \\n      condomínio\\n      R$ 850\\n      IPTU\\n      R$ 255',\n",
       "       '\\n    R$ 450.000\\n  \\n      condomínio\\n      R$ 600',\n",
       "       '\\n    R$ 760.000\\n  \\n      condomínio\\n      R$ 1.000',\n",
       "       '\\n    R$ 530.000\\n  \\n      condomínio\\n      R$ 645\\n      IPTU\\n      R$ 256',\n",
       "       '\\n    R$ 700.000\\n  \\n      condomínio\\n      R$ 1.100\\n      IPTU\\n      R$ 3.500',\n",
       "       '\\n    R$ 620.000\\n  \\n      condomínio\\n      R$ 550'],\n",
       "      dtype=object)"
      ]
     },
     "execution_count": 36,
     "metadata": {},
     "output_type": "execute_result"
    }
   ],
   "source": [
    "data_frame['Preço'].unique()"
   ]
  },
  {
   "cell_type": "markdown",
   "metadata": {},
   "source": [
    "### 1.3 ['Tamanho (m2)']\n",
    "Acredito que a única problemática aqui seja fazer a média dos _ranges_ de dados como \"55 - 73 m²\" ou \"111 - 209 m²\""
   ]
  },
  {
   "cell_type": "code",
   "execution_count": 38,
   "metadata": {},
   "outputs": [
    {
     "data": {
      "text/plain": [
       "23"
      ]
     },
     "execution_count": 38,
     "metadata": {},
     "output_type": "execute_result"
    }
   ],
   "source": [
    "len(data_frame['Tamanho (m2)'].unique())"
   ]
  },
  {
   "cell_type": "code",
   "execution_count": 40,
   "metadata": {},
   "outputs": [
    {
     "data": {
      "text/plain": [
       "array(['        55 - 73 m²', '        111 - 209 m²', '        69 m²',\n",
       "       '        230 m²', '        54 m²', '        204 m²',\n",
       "       '        70 m²', '        74 m²', '        89 m²',\n",
       "       '        110 m²', '        186 m²', '        51 m²',\n",
       "       '        66 m²', '        600 m²', '        103 m²',\n",
       "       '        180 m²', '        55 m²', '        104 m²',\n",
       "       '        87 m²', '        142 m²', '        82 m²',\n",
       "       '        145 m²', '        86 m²'], dtype=object)"
      ]
     },
     "execution_count": 40,
     "metadata": {},
     "output_type": "execute_result"
    }
   ],
   "source": [
    "data_frame['Tamanho (m2)'].unique()"
   ]
  },
  {
   "cell_type": "markdown",
   "metadata": {},
   "source": [
    "### 1.4 ['Número de quartos'] e ['vagas para estacionar']\n",
    "\n",
    "Por ter esse tipo de dado em _range_ \"1 - 3\" e \"1 - 2\" podemos tratar todos os dados como uma \"classe\" (mesmo os outros não sendo um intervalo/range, ainda assim eles seriam outras classes) ou tirar a \"média\", se bem que 1.5 quartos não parece ser uma quantidade normal de quartos em uma casa. No momento, não tenho certeza de como tratar esse ponto."
   ]
  },
  {
   "cell_type": "code",
   "execution_count": 45,
   "metadata": {
    "scrolled": true
   },
   "outputs": [
    {
     "data": {
      "text/plain": [
       "array(['        1 - 3 ', '        3 ', '        2 ', '        4 '],\n",
       "      dtype=object)"
      ]
     },
     "execution_count": 45,
     "metadata": {},
     "output_type": "execute_result"
    }
   ],
   "source": [
    "data_frame['Número de quartos'].unique()"
   ]
  },
  {
   "cell_type": "code",
   "execution_count": 48,
   "metadata": {},
   "outputs": [
    {
     "data": {
      "text/plain": [
       "array(['        1 - 2 ', '        2 ', '        1 ', '        3 ',\n",
       "       '        5 '], dtype=object)"
      ]
     },
     "execution_count": 48,
     "metadata": {},
     "output_type": "execute_result"
    }
   ],
   "source": [
    "data_frame['vagas para estacionar'].unique()"
   ]
  },
  {
   "cell_type": "markdown",
   "metadata": {},
   "source": [
    "### 1.5 ['Número de banheiros']\n",
    "O queridinho... idealmente ideal... 0 defeitos. Aprecie (\\*-\\* )"
   ]
  },
  {
   "cell_type": "code",
   "execution_count": 46,
   "metadata": {},
   "outputs": [
    {
     "data": {
      "text/plain": [
       "array([1, 3, 5, 2, 4], dtype=int64)"
      ]
     },
     "execution_count": 46,
     "metadata": {},
     "output_type": "execute_result"
    }
   ],
   "source": [
    "data_frame['Número de banheiros'].unique()"
   ]
  },
  {
   "cell_type": "markdown",
   "metadata": {},
   "source": [
    "## 2 - Manipulação dos dados (Limpeza - Data Cleaning)\n",
    "Continuando a explorar os dados, podemos começar a fazer alterações de acordo com nosso objetivo. Para isso, podemos começar a **limpar os dados**, transformando-os de maneira a conseguirmos utilizarmos depois.\n",
    "\n",
    "    ps: Ao criar as novas colunas utilizei ['X_nome'] para se referir às features e ['y_nome'] ao label\n",
    "        (para se assimilar à linguagem padrão machine learning --> X_train, y_train, X_test, y_test)\n",
    "    \n",
    "    E também mative bastante o .head() para acompanhar as mudanças."
   ]
  },
  {
   "cell_type": "code",
   "execution_count": 14,
   "metadata": {},
   "outputs": [
    {
     "data": {
      "text/html": [
       "<div>\n",
       "<style scoped>\n",
       "    .dataframe tbody tr th:only-of-type {\n",
       "        vertical-align: middle;\n",
       "    }\n",
       "\n",
       "    .dataframe tbody tr th {\n",
       "        vertical-align: top;\n",
       "    }\n",
       "\n",
       "    .dataframe thead th {\n",
       "        text-align: right;\n",
       "    }\n",
       "</style>\n",
       "<table border=\"1\" class=\"dataframe\">\n",
       "  <thead>\n",
       "    <tr style=\"text-align: right;\">\n",
       "      <th></th>\n",
       "      <th>Unnamed: 0</th>\n",
       "      <th>Localização</th>\n",
       "      <th>Preço</th>\n",
       "      <th>Tamanho (m2)</th>\n",
       "      <th>Número de quartos</th>\n",
       "      <th>Número de banheiros</th>\n",
       "      <th>vagas para estacionar</th>\n",
       "    </tr>\n",
       "  </thead>\n",
       "  <tbody>\n",
       "    <tr>\n",
       "      <th>0</th>\n",
       "      <td>0</td>\n",
       "      <td>Rua Eurico de Souza Leão, Cordeiro</td>\n",
       "      <td>\\n    Sob consulta\\n</td>\n",
       "      <td>55 - 73 m²</td>\n",
       "      <td>1 - 3</td>\n",
       "      <td>1</td>\n",
       "      <td>1 - 2</td>\n",
       "    </tr>\n",
       "    <tr>\n",
       "      <th>1</th>\n",
       "      <td>1</td>\n",
       "      <td>Rua Marquês de Tamandaré, Poço</td>\n",
       "      <td>\\n    Sob consulta\\n</td>\n",
       "      <td>111 - 209 m²</td>\n",
       "      <td>3</td>\n",
       "      <td>3</td>\n",
       "      <td>2</td>\n",
       "    </tr>\n",
       "  </tbody>\n",
       "</table>\n",
       "</div>"
      ],
      "text/plain": [
       "   Unnamed: 0                         Localização                   Preço  \\\n",
       "0           0  Rua Eurico de Souza Leão, Cordeiro  \\n    Sob consulta\\n     \n",
       "1           1      Rua Marquês de Tamandaré, Poço  \\n    Sob consulta\\n     \n",
       "\n",
       "           Tamanho (m2) Número de quartos  Número de banheiros  \\\n",
       "0            55 - 73 m²            1 - 3                     1   \n",
       "1          111 - 209 m²                3                     3   \n",
       "\n",
       "  vagas para estacionar  \n",
       "0                1 - 2   \n",
       "1                    2   "
      ]
     },
     "execution_count": 14,
     "metadata": {},
     "output_type": "execute_result"
    }
   ],
   "source": [
    "data_frame.head(2)"
   ]
  },
  {
   "cell_type": "markdown",
   "metadata": {},
   "source": [
    "**Primeiro, vamos deletar a coluna ['Unnamed: 0']**. Ela é desnecessária."
   ]
  },
  {
   "cell_type": "code",
   "execution_count": 15,
   "metadata": {},
   "outputs": [
    {
     "data": {
      "text/html": [
       "<div>\n",
       "<style scoped>\n",
       "    .dataframe tbody tr th:only-of-type {\n",
       "        vertical-align: middle;\n",
       "    }\n",
       "\n",
       "    .dataframe tbody tr th {\n",
       "        vertical-align: top;\n",
       "    }\n",
       "\n",
       "    .dataframe thead th {\n",
       "        text-align: right;\n",
       "    }\n",
       "</style>\n",
       "<table border=\"1\" class=\"dataframe\">\n",
       "  <thead>\n",
       "    <tr style=\"text-align: right;\">\n",
       "      <th></th>\n",
       "      <th>Localização</th>\n",
       "      <th>Preço</th>\n",
       "      <th>Tamanho (m2)</th>\n",
       "      <th>Número de quartos</th>\n",
       "      <th>Número de banheiros</th>\n",
       "      <th>vagas para estacionar</th>\n",
       "    </tr>\n",
       "  </thead>\n",
       "  <tbody>\n",
       "    <tr>\n",
       "      <th>0</th>\n",
       "      <td>Rua Eurico de Souza Leão, Cordeiro</td>\n",
       "      <td>\\n    Sob consulta\\n</td>\n",
       "      <td>55 - 73 m²</td>\n",
       "      <td>1 - 3</td>\n",
       "      <td>1</td>\n",
       "      <td>1 - 2</td>\n",
       "    </tr>\n",
       "    <tr>\n",
       "      <th>1</th>\n",
       "      <td>Rua Marquês de Tamandaré, Poço</td>\n",
       "      <td>\\n    Sob consulta\\n</td>\n",
       "      <td>111 - 209 m²</td>\n",
       "      <td>3</td>\n",
       "      <td>3</td>\n",
       "      <td>2</td>\n",
       "    </tr>\n",
       "    <tr>\n",
       "      <th>2</th>\n",
       "      <td>Rua General Polidoro, Várzea</td>\n",
       "      <td>\\n    R$ 262.900\\n</td>\n",
       "      <td>69 m²</td>\n",
       "      <td>2</td>\n",
       "      <td>1</td>\n",
       "      <td>1</td>\n",
       "    </tr>\n",
       "    <tr>\n",
       "      <th>3</th>\n",
       "      <td>Avenida Boa Viagem, Recife</td>\n",
       "      <td>\\n    R$ 1.700.000\\n</td>\n",
       "      <td>230 m²</td>\n",
       "      <td>4</td>\n",
       "      <td>5</td>\n",
       "      <td>2</td>\n",
       "    </tr>\n",
       "    <tr>\n",
       "      <th>4</th>\n",
       "      <td>Avenida Santos Dumont, Aflitos</td>\n",
       "      <td>\\n    R$ 450.000\\n  \\n      condomínio\\n      ...</td>\n",
       "      <td>54 m²</td>\n",
       "      <td>2</td>\n",
       "      <td>2</td>\n",
       "      <td>1</td>\n",
       "    </tr>\n",
       "  </tbody>\n",
       "</table>\n",
       "</div>"
      ],
      "text/plain": [
       "                          Localização  \\\n",
       "0  Rua Eurico de Souza Leão, Cordeiro   \n",
       "1      Rua Marquês de Tamandaré, Poço   \n",
       "2        Rua General Polidoro, Várzea   \n",
       "3          Avenida Boa Viagem, Recife   \n",
       "4      Avenida Santos Dumont, Aflitos   \n",
       "\n",
       "                                               Preço          Tamanho (m2)  \\\n",
       "0                             \\n    Sob consulta\\n              55 - 73 m²   \n",
       "1                             \\n    Sob consulta\\n            111 - 209 m²   \n",
       "2                               \\n    R$ 262.900\\n                   69 m²   \n",
       "3                             \\n    R$ 1.700.000\\n                  230 m²   \n",
       "4  \\n    R$ 450.000\\n  \\n      condomínio\\n      ...                 54 m²   \n",
       "\n",
       "  Número de quartos  Número de banheiros vagas para estacionar  \n",
       "0            1 - 3                     1                1 - 2   \n",
       "1                3                     3                    2   \n",
       "2                2                     1                    1   \n",
       "3                4                     5                    2   \n",
       "4                2                     2                    1   "
      ]
     },
     "execution_count": 15,
     "metadata": {},
     "output_type": "execute_result"
    }
   ],
   "source": [
    "data_frame.drop(columns='Unnamed: 0', inplace=True)\n",
    "data_frame.head()"
   ]
  },
  {
   "cell_type": "markdown",
   "metadata": {},
   "source": [
    "Agora **vamos eliminar os preços \"Sob consulta\"**, já que ainda não foram definidos. \n",
    "    \n",
    "      Poderíamos fazer um tipo de agrupamento por localização e utilizar as outras variáveis\n",
    "      (já \"limpas\") como features para aplicar um algoritmo de ML que pudesse estimar esses \n",
    "      valores. Sinto que há conhecimentos específicos da área (que não sei) que talvez \n",
    "      precisasse considerar ao fazer isso. Sem contar que é um procedimento que não tenho\n",
    "      prática, então prefiro eliminar tais valores (até porque eles representam aproximadamente \n",
    "      8% dos dados totais, ou seja, é uma perda relativamente pequena)."
   ]
  },
  {
   "cell_type": "code",
   "execution_count": 16,
   "metadata": {},
   "outputs": [
    {
     "data": {
      "text/plain": [
       "564"
      ]
     },
     "execution_count": 16,
     "metadata": {},
     "output_type": "execute_result"
    }
   ],
   "source": [
    "data_frame.Preço[data_frame.Preço == '\\n    Sob consulta\\n  '].count()"
   ]
  },
  {
   "cell_type": "code",
   "execution_count": 19,
   "metadata": {},
   "outputs": [
    {
     "data": {
      "text/plain": [
       "0.08333333333333333"
      ]
     },
     "execution_count": 19,
     "metadata": {},
     "output_type": "execute_result"
    }
   ],
   "source": [
    "data_frame.Preço[data_frame.Preço == '\\n    Sob consulta\\n  '].count() / data_frame.shape[0]"
   ]
  },
  {
   "cell_type": "code",
   "execution_count": 95,
   "metadata": {
    "scrolled": true
   },
   "outputs": [
    {
     "data": {
      "text/html": [
       "<div>\n",
       "<style scoped>\n",
       "    .dataframe tbody tr th:only-of-type {\n",
       "        vertical-align: middle;\n",
       "    }\n",
       "\n",
       "    .dataframe tbody tr th {\n",
       "        vertical-align: top;\n",
       "    }\n",
       "\n",
       "    .dataframe thead th {\n",
       "        text-align: right;\n",
       "    }\n",
       "</style>\n",
       "<table border=\"1\" class=\"dataframe\">\n",
       "  <thead>\n",
       "    <tr style=\"text-align: right;\">\n",
       "      <th></th>\n",
       "      <th>Localização</th>\n",
       "      <th>Preço</th>\n",
       "      <th>Tamanho (m2)</th>\n",
       "      <th>Número de quartos</th>\n",
       "      <th>Número de banheiros</th>\n",
       "      <th>vagas para estacionar</th>\n",
       "    </tr>\n",
       "  </thead>\n",
       "  <tbody>\n",
       "    <tr>\n",
       "      <th>2</th>\n",
       "      <td>Rua General Polidoro, Várzea</td>\n",
       "      <td>\\n    R$ 262.900\\n</td>\n",
       "      <td>69 m²</td>\n",
       "      <td>2</td>\n",
       "      <td>1</td>\n",
       "      <td>1</td>\n",
       "    </tr>\n",
       "    <tr>\n",
       "      <th>3</th>\n",
       "      <td>Avenida Boa Viagem, Recife</td>\n",
       "      <td>\\n    R$ 1.700.000\\n</td>\n",
       "      <td>230 m²</td>\n",
       "      <td>4</td>\n",
       "      <td>5</td>\n",
       "      <td>2</td>\n",
       "    </tr>\n",
       "    <tr>\n",
       "      <th>4</th>\n",
       "      <td>Avenida Santos Dumont, Aflitos</td>\n",
       "      <td>\\n    R$ 450.000\\n  \\n      condomínio\\n      ...</td>\n",
       "      <td>54 m²</td>\n",
       "      <td>2</td>\n",
       "      <td>2</td>\n",
       "      <td>1</td>\n",
       "    </tr>\n",
       "    <tr>\n",
       "      <th>5</th>\n",
       "      <td>Rua Alameda das Hortências, Imbiribeira</td>\n",
       "      <td>\\n    R$ 2.500.000\\n  \\n      condomínio\\n    ...</td>\n",
       "      <td>204 m²</td>\n",
       "      <td>4</td>\n",
       "      <td>5</td>\n",
       "      <td>3</td>\n",
       "    </tr>\n",
       "    <tr>\n",
       "      <th>6</th>\n",
       "      <td>Rua Cônego Romeu, Boa Viagem</td>\n",
       "      <td>\\n    R$ 499.000\\n  \\n      condomínio\\n      ...</td>\n",
       "      <td>70 m²</td>\n",
       "      <td>2</td>\n",
       "      <td>2</td>\n",
       "      <td>1</td>\n",
       "    </tr>\n",
       "  </tbody>\n",
       "</table>\n",
       "</div>"
      ],
      "text/plain": [
       "                               Localização  \\\n",
       "2             Rua General Polidoro, Várzea   \n",
       "3               Avenida Boa Viagem, Recife   \n",
       "4           Avenida Santos Dumont, Aflitos   \n",
       "5  Rua Alameda das Hortências, Imbiribeira   \n",
       "6             Rua Cônego Romeu, Boa Viagem   \n",
       "\n",
       "                                               Preço    Tamanho (m2)  \\\n",
       "2                               \\n    R$ 262.900\\n             69 m²   \n",
       "3                             \\n    R$ 1.700.000\\n            230 m²   \n",
       "4  \\n    R$ 450.000\\n  \\n      condomínio\\n      ...           54 m²   \n",
       "5  \\n    R$ 2.500.000\\n  \\n      condomínio\\n    ...          204 m²   \n",
       "6  \\n    R$ 499.000\\n  \\n      condomínio\\n      ...           70 m²   \n",
       "\n",
       "  Número de quartos  Número de banheiros vagas para estacionar  \n",
       "2                2                     1                    1   \n",
       "3                4                     5                    2   \n",
       "4                2                     2                    1   \n",
       "5                4                     5                    3   \n",
       "6                2                     2                    1   "
      ]
     },
     "execution_count": 95,
     "metadata": {},
     "output_type": "execute_result"
    }
   ],
   "source": [
    "new_data_frame = data_frame[data_frame.Preço != '\\n    Sob consulta\\n  ']\n",
    "new_data_frame.head()"
   ]
  },
  {
   "cell_type": "markdown",
   "metadata": {},
   "source": [
    "## 2.1 ['X_tamanho_em_m2']\n",
    "\n",
    "Como o algoritmo de machine learning faz cálculos com as features, precisamos ter certeza que elas sejam números.\n",
    "\n",
    "Coincidentemente ou não, ao eliminarmos as linhas em que os valores ['Preço'] não estavam definidos, também perdemos os dados em formato de intervalo/range como \"55 - 73 m²\"  ou  \"111 - 209 m²\". Logo, precisamos apenas separaros números das strings\n",
    "\"m²\"\n",
    "\n",
    "**lambda** rapidamente resolve essa tarefa."
   ]
  },
  {
   "cell_type": "code",
   "execution_count": 69,
   "metadata": {},
   "outputs": [
    {
     "data": {
      "text/plain": [
       "array(['        69 m²', '        230 m²', '        54 m²',\n",
       "       '        204 m²', '        70 m²', '        74 m²',\n",
       "       '        89 m²', '        110 m²', '        186 m²',\n",
       "       '        51 m²', '        66 m²', '        600 m²',\n",
       "       '        103 m²', '        180 m²', '        55 m²',\n",
       "       '        104 m²', '        87 m²', '        142 m²',\n",
       "       '        82 m²', '        145 m²', '        86 m²'], dtype=object)"
      ]
     },
     "execution_count": 69,
     "metadata": {},
     "output_type": "execute_result"
    }
   ],
   "source": [
    "new_data_frame['Tamanho (m2)'].unique()"
   ]
  },
  {
   "cell_type": "code",
   "execution_count": 96,
   "metadata": {
    "scrolled": true
   },
   "outputs": [
    {
     "name": "stderr",
     "output_type": "stream",
     "text": [
      "C:\\Users\\pc\\.conda\\envs\\tenserflow\\lib\\site-packages\\ipykernel_launcher.py:3: SettingWithCopyWarning: \n",
      "A value is trying to be set on a copy of a slice from a DataFrame.\n",
      "Try using .loc[row_indexer,col_indexer] = value instead\n",
      "\n",
      "See the caveats in the documentation: https://pandas.pydata.org/pandas-docs/stable/user_guide/indexing.html#returning-a-view-versus-a-copy\n",
      "  This is separate from the ipykernel package so we can avoid doing imports until\n"
     ]
    },
    {
     "data": {
      "text/html": [
       "<div>\n",
       "<style scoped>\n",
       "    .dataframe tbody tr th:only-of-type {\n",
       "        vertical-align: middle;\n",
       "    }\n",
       "\n",
       "    .dataframe tbody tr th {\n",
       "        vertical-align: top;\n",
       "    }\n",
       "\n",
       "    .dataframe thead th {\n",
       "        text-align: right;\n",
       "    }\n",
       "</style>\n",
       "<table border=\"1\" class=\"dataframe\">\n",
       "  <thead>\n",
       "    <tr style=\"text-align: right;\">\n",
       "      <th></th>\n",
       "      <th>Localização</th>\n",
       "      <th>Preço</th>\n",
       "      <th>Tamanho (m2)</th>\n",
       "      <th>Número de quartos</th>\n",
       "      <th>Número de banheiros</th>\n",
       "      <th>vagas para estacionar</th>\n",
       "      <th>X_tamanho_em_m2</th>\n",
       "    </tr>\n",
       "  </thead>\n",
       "  <tbody>\n",
       "    <tr>\n",
       "      <th>2</th>\n",
       "      <td>Rua General Polidoro, Várzea</td>\n",
       "      <td>\\n    R$ 262.900\\n</td>\n",
       "      <td>69 m²</td>\n",
       "      <td>2</td>\n",
       "      <td>1</td>\n",
       "      <td>1</td>\n",
       "      <td>69</td>\n",
       "    </tr>\n",
       "    <tr>\n",
       "      <th>3</th>\n",
       "      <td>Avenida Boa Viagem, Recife</td>\n",
       "      <td>\\n    R$ 1.700.000\\n</td>\n",
       "      <td>230 m²</td>\n",
       "      <td>4</td>\n",
       "      <td>5</td>\n",
       "      <td>2</td>\n",
       "      <td>230</td>\n",
       "    </tr>\n",
       "    <tr>\n",
       "      <th>4</th>\n",
       "      <td>Avenida Santos Dumont, Aflitos</td>\n",
       "      <td>\\n    R$ 450.000\\n  \\n      condomínio\\n      ...</td>\n",
       "      <td>54 m²</td>\n",
       "      <td>2</td>\n",
       "      <td>2</td>\n",
       "      <td>1</td>\n",
       "      <td>54</td>\n",
       "    </tr>\n",
       "    <tr>\n",
       "      <th>5</th>\n",
       "      <td>Rua Alameda das Hortências, Imbiribeira</td>\n",
       "      <td>\\n    R$ 2.500.000\\n  \\n      condomínio\\n    ...</td>\n",
       "      <td>204 m²</td>\n",
       "      <td>4</td>\n",
       "      <td>5</td>\n",
       "      <td>3</td>\n",
       "      <td>204</td>\n",
       "    </tr>\n",
       "    <tr>\n",
       "      <th>6</th>\n",
       "      <td>Rua Cônego Romeu, Boa Viagem</td>\n",
       "      <td>\\n    R$ 499.000\\n  \\n      condomínio\\n      ...</td>\n",
       "      <td>70 m²</td>\n",
       "      <td>2</td>\n",
       "      <td>2</td>\n",
       "      <td>1</td>\n",
       "      <td>70</td>\n",
       "    </tr>\n",
       "  </tbody>\n",
       "</table>\n",
       "</div>"
      ],
      "text/plain": [
       "                               Localização  \\\n",
       "2             Rua General Polidoro, Várzea   \n",
       "3               Avenida Boa Viagem, Recife   \n",
       "4           Avenida Santos Dumont, Aflitos   \n",
       "5  Rua Alameda das Hortências, Imbiribeira   \n",
       "6             Rua Cônego Romeu, Boa Viagem   \n",
       "\n",
       "                                               Preço    Tamanho (m2)  \\\n",
       "2                               \\n    R$ 262.900\\n             69 m²   \n",
       "3                             \\n    R$ 1.700.000\\n            230 m²   \n",
       "4  \\n    R$ 450.000\\n  \\n      condomínio\\n      ...           54 m²   \n",
       "5  \\n    R$ 2.500.000\\n  \\n      condomínio\\n    ...          204 m²   \n",
       "6  \\n    R$ 499.000\\n  \\n      condomínio\\n      ...           70 m²   \n",
       "\n",
       "  Número de quartos  Número de banheiros vagas para estacionar  \\\n",
       "2                2                     1                    1    \n",
       "3                4                     5                    2    \n",
       "4                2                     2                    1    \n",
       "5                4                     5                    3    \n",
       "6                2                     2                    1    \n",
       "\n",
       "   X_tamanho_em_m2  \n",
       "2               69  \n",
       "3              230  \n",
       "4               54  \n",
       "5              204  \n",
       "6               70  "
      ]
     },
     "execution_count": 96,
     "metadata": {},
     "output_type": "execute_result"
    }
   ],
   "source": [
    "# Criaremos outra coluna para armazenar apenas os números (já no formato int)\n",
    "\n",
    "new_data_frame['X_tamanho_em_m2'] = new_data_frame['Tamanho (m2)'].apply(lambda x: int(x.split(' ')[8]))\n",
    "new_data_frame.head()"
   ]
  },
  {
   "cell_type": "markdown",
   "metadata": {},
   "source": [
    "### [O que é “A value is trying to be set on a copy of a slice from a dataframe”](https://paulovasconcellos.com.br/o-que-%C3%A9-a-value-is-trying-to-be-set-on-a-copy-of-a-slice-from-a-dataframe-e85f744d8be1)"
   ]
  },
  {
   "cell_type": "markdown",
   "metadata": {},
   "source": [
    "## 2.2 ['y_preço']\n",
    "Criar uma coluna apenas com o preço de compra do apartamento"
   ]
  },
  {
   "cell_type": "code",
   "execution_count": 98,
   "metadata": {},
   "outputs": [
    {
     "data": {
      "text/plain": [
       "array(['\\n    R$ 262.900\\n  ', '\\n    R$ 1.700.000\\n  ',\n",
       "       '\\n    R$ 450.000\\n  \\n      condomínio\\n      R$ 460\\n      IPTU\\n      R$ 1.600',\n",
       "       '\\n    R$ 2.500.000\\n  \\n      condomínio\\n      R$ 1.600',\n",
       "       '\\n    R$ 499.000\\n  \\n      condomínio\\n      R$ 650\\n      IPTU\\n      R$ 1.500',\n",
       "       '\\n    R$ 350.000\\n  \\n      condomínio\\n      R$ 600\\n      IPTU\\n      R$ 1.200',\n",
       "       '\\n    R$ 480.000\\n  \\n      condomínio\\n      R$ 445\\n      IPTU\\n      R$ 180',\n",
       "       '\\n    R$ 280.000\\n  \\n      condomínio\\n      R$ 400',\n",
       "       '\\n    R$ 750.000\\n  \\n      condomínio\\n      R$ 1.760',\n",
       "       '\\n    R$ 320.000\\n  \\n      condomínio\\n      R$ 340\\n      IPTU\\n      R$ 1.300',\n",
       "       '\\n    R$ 245.000\\n  \\n      condomínio\\n      R$ 450',\n",
       "       '\\n    R$ 4.500\\n  ',\n",
       "       '\\n    R$ 680.000\\n  \\n      condomínio\\n      R$ 780\\n      IPTU\\n      R$ 2.922',\n",
       "       '\\n    R$ 450.000\\n  ',\n",
       "       '\\n    R$ 250.000\\n  \\n      condomínio\\n      R$ 700',\n",
       "       '\\n    R$ 317.500\\n  \\n      condomínio\\n      R$ 400',\n",
       "       '\\n    R$ 585.000\\n  \\n      condomínio\\n      R$ 850\\n      IPTU\\n      R$ 255',\n",
       "       '\\n    R$ 450.000\\n  \\n      condomínio\\n      R$ 600',\n",
       "       '\\n    R$ 760.000\\n  \\n      condomínio\\n      R$ 1.000',\n",
       "       '\\n    R$ 530.000\\n  \\n      condomínio\\n      R$ 645\\n      IPTU\\n      R$ 256',\n",
       "       '\\n    R$ 700.000\\n  \\n      condomínio\\n      R$ 1.100\\n      IPTU\\n      R$ 3.500',\n",
       "       '\\n    R$ 620.000\\n  \\n      condomínio\\n      R$ 550'],\n",
       "      dtype=object)"
      ]
     },
     "execution_count": 98,
     "metadata": {},
     "output_type": "execute_result"
    }
   ],
   "source": [
    "new_data_frame['Preço'].unique()"
   ]
  },
  {
   "cell_type": "code",
   "execution_count": 162,
   "metadata": {},
   "outputs": [
    {
     "name": "stderr",
     "output_type": "stream",
     "text": [
      "C:\\Users\\pc\\.conda\\envs\\tenserflow\\lib\\site-packages\\ipykernel_launcher.py:1: SettingWithCopyWarning: \n",
      "A value is trying to be set on a copy of a slice from a DataFrame.\n",
      "Try using .loc[row_indexer,col_indexer] = value instead\n",
      "\n",
      "See the caveats in the documentation: https://pandas.pydata.org/pandas-docs/stable/user_guide/indexing.html#returning-a-view-versus-a-copy\n",
      "  \"\"\"Entry point for launching an IPython kernel.\n"
     ]
    },
    {
     "data": {
      "text/html": [
       "<div>\n",
       "<style scoped>\n",
       "    .dataframe tbody tr th:only-of-type {\n",
       "        vertical-align: middle;\n",
       "    }\n",
       "\n",
       "    .dataframe tbody tr th {\n",
       "        vertical-align: top;\n",
       "    }\n",
       "\n",
       "    .dataframe thead th {\n",
       "        text-align: right;\n",
       "    }\n",
       "</style>\n",
       "<table border=\"1\" class=\"dataframe\">\n",
       "  <thead>\n",
       "    <tr style=\"text-align: right;\">\n",
       "      <th></th>\n",
       "      <th>Localização</th>\n",
       "      <th>Preço</th>\n",
       "      <th>Tamanho (m2)</th>\n",
       "      <th>Número de quartos</th>\n",
       "      <th>Número de banheiros</th>\n",
       "      <th>vagas para estacionar</th>\n",
       "      <th>X_tamanho_em_m2</th>\n",
       "      <th>y_preço</th>\n",
       "    </tr>\n",
       "  </thead>\n",
       "  <tbody>\n",
       "    <tr>\n",
       "      <th>2</th>\n",
       "      <td>Rua General Polidoro, Várzea</td>\n",
       "      <td>\\n    R$ 262.900\\n</td>\n",
       "      <td>69 m²</td>\n",
       "      <td>2</td>\n",
       "      <td>1</td>\n",
       "      <td>1</td>\n",
       "      <td>69</td>\n",
       "      <td>262.900\\n</td>\n",
       "    </tr>\n",
       "    <tr>\n",
       "      <th>3</th>\n",
       "      <td>Avenida Boa Viagem, Recife</td>\n",
       "      <td>\\n    R$ 1.700.000\\n</td>\n",
       "      <td>230 m²</td>\n",
       "      <td>4</td>\n",
       "      <td>5</td>\n",
       "      <td>2</td>\n",
       "      <td>230</td>\n",
       "      <td>1.700.000\\n</td>\n",
       "    </tr>\n",
       "    <tr>\n",
       "      <th>4</th>\n",
       "      <td>Avenida Santos Dumont, Aflitos</td>\n",
       "      <td>\\n    R$ 450.000\\n  \\n      condomínio\\n      ...</td>\n",
       "      <td>54 m²</td>\n",
       "      <td>2</td>\n",
       "      <td>2</td>\n",
       "      <td>1</td>\n",
       "      <td>54</td>\n",
       "      <td>450.000\\n</td>\n",
       "    </tr>\n",
       "    <tr>\n",
       "      <th>5</th>\n",
       "      <td>Rua Alameda das Hortências, Imbiribeira</td>\n",
       "      <td>\\n    R$ 2.500.000\\n  \\n      condomínio\\n    ...</td>\n",
       "      <td>204 m²</td>\n",
       "      <td>4</td>\n",
       "      <td>5</td>\n",
       "      <td>3</td>\n",
       "      <td>204</td>\n",
       "      <td>2.500.000\\n</td>\n",
       "    </tr>\n",
       "    <tr>\n",
       "      <th>6</th>\n",
       "      <td>Rua Cônego Romeu, Boa Viagem</td>\n",
       "      <td>\\n    R$ 499.000\\n  \\n      condomínio\\n      ...</td>\n",
       "      <td>70 m²</td>\n",
       "      <td>2</td>\n",
       "      <td>2</td>\n",
       "      <td>1</td>\n",
       "      <td>70</td>\n",
       "      <td>499.000\\n</td>\n",
       "    </tr>\n",
       "  </tbody>\n",
       "</table>\n",
       "</div>"
      ],
      "text/plain": [
       "                               Localização  \\\n",
       "2             Rua General Polidoro, Várzea   \n",
       "3               Avenida Boa Viagem, Recife   \n",
       "4           Avenida Santos Dumont, Aflitos   \n",
       "5  Rua Alameda das Hortências, Imbiribeira   \n",
       "6             Rua Cônego Romeu, Boa Viagem   \n",
       "\n",
       "                                               Preço    Tamanho (m2)  \\\n",
       "2                               \\n    R$ 262.900\\n             69 m²   \n",
       "3                             \\n    R$ 1.700.000\\n            230 m²   \n",
       "4  \\n    R$ 450.000\\n  \\n      condomínio\\n      ...           54 m²   \n",
       "5  \\n    R$ 2.500.000\\n  \\n      condomínio\\n    ...          204 m²   \n",
       "6  \\n    R$ 499.000\\n  \\n      condomínio\\n      ...           70 m²   \n",
       "\n",
       "  Número de quartos  Número de banheiros vagas para estacionar  \\\n",
       "2                2                     1                    1    \n",
       "3                4                     5                    2    \n",
       "4                2                     2                    1    \n",
       "5                4                     5                    3    \n",
       "6                2                     2                    1    \n",
       "\n",
       "   X_tamanho_em_m2      y_preço  \n",
       "2               69    262.900\\n  \n",
       "3              230  1.700.000\\n  \n",
       "4               54    450.000\\n  \n",
       "5              204  2.500.000\\n  \n",
       "6               70    499.000\\n  "
      ]
     },
     "execution_count": 162,
     "metadata": {},
     "output_type": "execute_result"
    }
   ],
   "source": [
    "new_data_frame['y_preço'] = new_data_frame['Preço'].apply(lambda x: x.split(' ')[5])\n",
    "new_data_frame.head()"
   ]
  },
  {
   "cell_type": "code",
   "execution_count": 163,
   "metadata": {
    "scrolled": true
   },
   "outputs": [
    {
     "name": "stderr",
     "output_type": "stream",
     "text": [
      "C:\\Users\\pc\\.conda\\envs\\tenserflow\\lib\\site-packages\\ipykernel_launcher.py:1: SettingWithCopyWarning: \n",
      "A value is trying to be set on a copy of a slice from a DataFrame.\n",
      "Try using .loc[row_indexer,col_indexer] = value instead\n",
      "\n",
      "See the caveats in the documentation: https://pandas.pydata.org/pandas-docs/stable/user_guide/indexing.html#returning-a-view-versus-a-copy\n",
      "  \"\"\"Entry point for launching an IPython kernel.\n"
     ]
    },
    {
     "data": {
      "text/html": [
       "<div>\n",
       "<style scoped>\n",
       "    .dataframe tbody tr th:only-of-type {\n",
       "        vertical-align: middle;\n",
       "    }\n",
       "\n",
       "    .dataframe tbody tr th {\n",
       "        vertical-align: top;\n",
       "    }\n",
       "\n",
       "    .dataframe thead th {\n",
       "        text-align: right;\n",
       "    }\n",
       "</style>\n",
       "<table border=\"1\" class=\"dataframe\">\n",
       "  <thead>\n",
       "    <tr style=\"text-align: right;\">\n",
       "      <th></th>\n",
       "      <th>Localização</th>\n",
       "      <th>Preço</th>\n",
       "      <th>Tamanho (m2)</th>\n",
       "      <th>Número de quartos</th>\n",
       "      <th>Número de banheiros</th>\n",
       "      <th>vagas para estacionar</th>\n",
       "      <th>X_tamanho_em_m2</th>\n",
       "      <th>y_preço</th>\n",
       "    </tr>\n",
       "  </thead>\n",
       "  <tbody>\n",
       "    <tr>\n",
       "      <th>2</th>\n",
       "      <td>Rua General Polidoro, Várzea</td>\n",
       "      <td>\\n    R$ 262.900\\n</td>\n",
       "      <td>69 m²</td>\n",
       "      <td>2</td>\n",
       "      <td>1</td>\n",
       "      <td>1</td>\n",
       "      <td>69</td>\n",
       "      <td>262.900</td>\n",
       "    </tr>\n",
       "    <tr>\n",
       "      <th>3</th>\n",
       "      <td>Avenida Boa Viagem, Recife</td>\n",
       "      <td>\\n    R$ 1.700.000\\n</td>\n",
       "      <td>230 m²</td>\n",
       "      <td>4</td>\n",
       "      <td>5</td>\n",
       "      <td>2</td>\n",
       "      <td>230</td>\n",
       "      <td>1.700.000</td>\n",
       "    </tr>\n",
       "    <tr>\n",
       "      <th>4</th>\n",
       "      <td>Avenida Santos Dumont, Aflitos</td>\n",
       "      <td>\\n    R$ 450.000\\n  \\n      condomínio\\n      ...</td>\n",
       "      <td>54 m²</td>\n",
       "      <td>2</td>\n",
       "      <td>2</td>\n",
       "      <td>1</td>\n",
       "      <td>54</td>\n",
       "      <td>450.000</td>\n",
       "    </tr>\n",
       "    <tr>\n",
       "      <th>5</th>\n",
       "      <td>Rua Alameda das Hortências, Imbiribeira</td>\n",
       "      <td>\\n    R$ 2.500.000\\n  \\n      condomínio\\n    ...</td>\n",
       "      <td>204 m²</td>\n",
       "      <td>4</td>\n",
       "      <td>5</td>\n",
       "      <td>3</td>\n",
       "      <td>204</td>\n",
       "      <td>2.500.000</td>\n",
       "    </tr>\n",
       "    <tr>\n",
       "      <th>6</th>\n",
       "      <td>Rua Cônego Romeu, Boa Viagem</td>\n",
       "      <td>\\n    R$ 499.000\\n  \\n      condomínio\\n      ...</td>\n",
       "      <td>70 m²</td>\n",
       "      <td>2</td>\n",
       "      <td>2</td>\n",
       "      <td>1</td>\n",
       "      <td>70</td>\n",
       "      <td>499.000</td>\n",
       "    </tr>\n",
       "  </tbody>\n",
       "</table>\n",
       "</div>"
      ],
      "text/plain": [
       "                               Localização  \\\n",
       "2             Rua General Polidoro, Várzea   \n",
       "3               Avenida Boa Viagem, Recife   \n",
       "4           Avenida Santos Dumont, Aflitos   \n",
       "5  Rua Alameda das Hortências, Imbiribeira   \n",
       "6             Rua Cônego Romeu, Boa Viagem   \n",
       "\n",
       "                                               Preço    Tamanho (m2)  \\\n",
       "2                               \\n    R$ 262.900\\n             69 m²   \n",
       "3                             \\n    R$ 1.700.000\\n            230 m²   \n",
       "4  \\n    R$ 450.000\\n  \\n      condomínio\\n      ...           54 m²   \n",
       "5  \\n    R$ 2.500.000\\n  \\n      condomínio\\n    ...          204 m²   \n",
       "6  \\n    R$ 499.000\\n  \\n      condomínio\\n      ...           70 m²   \n",
       "\n",
       "  Número de quartos  Número de banheiros vagas para estacionar  \\\n",
       "2                2                     1                    1    \n",
       "3                4                     5                    2    \n",
       "4                2                     2                    1    \n",
       "5                4                     5                    3    \n",
       "6                2                     2                    1    \n",
       "\n",
       "   X_tamanho_em_m2    y_preço  \n",
       "2               69    262.900  \n",
       "3              230  1.700.000  \n",
       "4               54    450.000  \n",
       "5              204  2.500.000  \n",
       "6               70    499.000  "
      ]
     },
     "execution_count": 163,
     "metadata": {},
     "output_type": "execute_result"
    }
   ],
   "source": [
    "new_data_frame['y_preço'] = new_data_frame['y_preço'].str[:-1]\n",
    "new_data_frame.head()"
   ]
  },
  {
   "cell_type": "markdown",
   "metadata": {},
   "source": [
    "**Não é possível tranformar as strings em número, por haver mais de um ponto '.'. Então substituirei os pontos por nada \"\"**"
   ]
  },
  {
   "cell_type": "code",
   "execution_count": 164,
   "metadata": {
    "scrolled": true
   },
   "outputs": [
    {
     "name": "stderr",
     "output_type": "stream",
     "text": [
      "C:\\Users\\pc\\.conda\\envs\\tenserflow\\lib\\site-packages\\ipykernel_launcher.py:1: SettingWithCopyWarning: \n",
      "A value is trying to be set on a copy of a slice from a DataFrame.\n",
      "Try using .loc[row_indexer,col_indexer] = value instead\n",
      "\n",
      "See the caveats in the documentation: https://pandas.pydata.org/pandas-docs/stable/user_guide/indexing.html#returning-a-view-versus-a-copy\n",
      "  \"\"\"Entry point for launching an IPython kernel.\n"
     ]
    },
    {
     "data": {
      "text/html": [
       "<div>\n",
       "<style scoped>\n",
       "    .dataframe tbody tr th:only-of-type {\n",
       "        vertical-align: middle;\n",
       "    }\n",
       "\n",
       "    .dataframe tbody tr th {\n",
       "        vertical-align: top;\n",
       "    }\n",
       "\n",
       "    .dataframe thead th {\n",
       "        text-align: right;\n",
       "    }\n",
       "</style>\n",
       "<table border=\"1\" class=\"dataframe\">\n",
       "  <thead>\n",
       "    <tr style=\"text-align: right;\">\n",
       "      <th></th>\n",
       "      <th>Localização</th>\n",
       "      <th>Preço</th>\n",
       "      <th>Tamanho (m2)</th>\n",
       "      <th>Número de quartos</th>\n",
       "      <th>Número de banheiros</th>\n",
       "      <th>vagas para estacionar</th>\n",
       "      <th>X_tamanho_em_m2</th>\n",
       "      <th>y_preço</th>\n",
       "    </tr>\n",
       "  </thead>\n",
       "  <tbody>\n",
       "    <tr>\n",
       "      <th>2</th>\n",
       "      <td>Rua General Polidoro, Várzea</td>\n",
       "      <td>\\n    R$ 262.900\\n</td>\n",
       "      <td>69 m²</td>\n",
       "      <td>2</td>\n",
       "      <td>1</td>\n",
       "      <td>1</td>\n",
       "      <td>69</td>\n",
       "      <td>262900</td>\n",
       "    </tr>\n",
       "    <tr>\n",
       "      <th>3</th>\n",
       "      <td>Avenida Boa Viagem, Recife</td>\n",
       "      <td>\\n    R$ 1.700.000\\n</td>\n",
       "      <td>230 m²</td>\n",
       "      <td>4</td>\n",
       "      <td>5</td>\n",
       "      <td>2</td>\n",
       "      <td>230</td>\n",
       "      <td>1700000</td>\n",
       "    </tr>\n",
       "    <tr>\n",
       "      <th>4</th>\n",
       "      <td>Avenida Santos Dumont, Aflitos</td>\n",
       "      <td>\\n    R$ 450.000\\n  \\n      condomínio\\n      ...</td>\n",
       "      <td>54 m²</td>\n",
       "      <td>2</td>\n",
       "      <td>2</td>\n",
       "      <td>1</td>\n",
       "      <td>54</td>\n",
       "      <td>450000</td>\n",
       "    </tr>\n",
       "    <tr>\n",
       "      <th>5</th>\n",
       "      <td>Rua Alameda das Hortências, Imbiribeira</td>\n",
       "      <td>\\n    R$ 2.500.000\\n  \\n      condomínio\\n    ...</td>\n",
       "      <td>204 m²</td>\n",
       "      <td>4</td>\n",
       "      <td>5</td>\n",
       "      <td>3</td>\n",
       "      <td>204</td>\n",
       "      <td>2500000</td>\n",
       "    </tr>\n",
       "    <tr>\n",
       "      <th>6</th>\n",
       "      <td>Rua Cônego Romeu, Boa Viagem</td>\n",
       "      <td>\\n    R$ 499.000\\n  \\n      condomínio\\n      ...</td>\n",
       "      <td>70 m²</td>\n",
       "      <td>2</td>\n",
       "      <td>2</td>\n",
       "      <td>1</td>\n",
       "      <td>70</td>\n",
       "      <td>499000</td>\n",
       "    </tr>\n",
       "  </tbody>\n",
       "</table>\n",
       "</div>"
      ],
      "text/plain": [
       "                               Localização  \\\n",
       "2             Rua General Polidoro, Várzea   \n",
       "3               Avenida Boa Viagem, Recife   \n",
       "4           Avenida Santos Dumont, Aflitos   \n",
       "5  Rua Alameda das Hortências, Imbiribeira   \n",
       "6             Rua Cônego Romeu, Boa Viagem   \n",
       "\n",
       "                                               Preço    Tamanho (m2)  \\\n",
       "2                               \\n    R$ 262.900\\n             69 m²   \n",
       "3                             \\n    R$ 1.700.000\\n            230 m²   \n",
       "4  \\n    R$ 450.000\\n  \\n      condomínio\\n      ...           54 m²   \n",
       "5  \\n    R$ 2.500.000\\n  \\n      condomínio\\n    ...          204 m²   \n",
       "6  \\n    R$ 499.000\\n  \\n      condomínio\\n      ...           70 m²   \n",
       "\n",
       "  Número de quartos  Número de banheiros vagas para estacionar  \\\n",
       "2                2                     1                    1    \n",
       "3                4                     5                    2    \n",
       "4                2                     2                    1    \n",
       "5                4                     5                    3    \n",
       "6                2                     2                    1    \n",
       "\n",
       "   X_tamanho_em_m2  y_preço  \n",
       "2               69   262900  \n",
       "3              230  1700000  \n",
       "4               54   450000  \n",
       "5              204  2500000  \n",
       "6               70   499000  "
      ]
     },
     "execution_count": 164,
     "metadata": {},
     "output_type": "execute_result"
    }
   ],
   "source": [
    "new_data_frame['y_preço'] = new_data_frame['y_preço'].apply(lambda x: x.replace('.','' ))\n",
    "new_data_frame.head()"
   ]
  },
  {
   "cell_type": "code",
   "execution_count": 166,
   "metadata": {},
   "outputs": [
    {
     "name": "stderr",
     "output_type": "stream",
     "text": [
      "C:\\Users\\pc\\.conda\\envs\\tenserflow\\lib\\site-packages\\ipykernel_launcher.py:1: SettingWithCopyWarning: \n",
      "A value is trying to be set on a copy of a slice from a DataFrame.\n",
      "Try using .loc[row_indexer,col_indexer] = value instead\n",
      "\n",
      "See the caveats in the documentation: https://pandas.pydata.org/pandas-docs/stable/user_guide/indexing.html#returning-a-view-versus-a-copy\n",
      "  \"\"\"Entry point for launching an IPython kernel.\n"
     ]
    },
    {
     "data": {
      "text/html": [
       "<div>\n",
       "<style scoped>\n",
       "    .dataframe tbody tr th:only-of-type {\n",
       "        vertical-align: middle;\n",
       "    }\n",
       "\n",
       "    .dataframe tbody tr th {\n",
       "        vertical-align: top;\n",
       "    }\n",
       "\n",
       "    .dataframe thead th {\n",
       "        text-align: right;\n",
       "    }\n",
       "</style>\n",
       "<table border=\"1\" class=\"dataframe\">\n",
       "  <thead>\n",
       "    <tr style=\"text-align: right;\">\n",
       "      <th></th>\n",
       "      <th>Localização</th>\n",
       "      <th>Preço</th>\n",
       "      <th>Tamanho (m2)</th>\n",
       "      <th>Número de quartos</th>\n",
       "      <th>Número de banheiros</th>\n",
       "      <th>vagas para estacionar</th>\n",
       "      <th>X_tamanho_em_m2</th>\n",
       "      <th>y_preço</th>\n",
       "    </tr>\n",
       "  </thead>\n",
       "  <tbody>\n",
       "    <tr>\n",
       "      <th>2</th>\n",
       "      <td>Rua General Polidoro, Várzea</td>\n",
       "      <td>\\n    R$ 262.900\\n</td>\n",
       "      <td>69 m²</td>\n",
       "      <td>2</td>\n",
       "      <td>1</td>\n",
       "      <td>1</td>\n",
       "      <td>69</td>\n",
       "      <td>262900</td>\n",
       "    </tr>\n",
       "    <tr>\n",
       "      <th>3</th>\n",
       "      <td>Avenida Boa Viagem, Recife</td>\n",
       "      <td>\\n    R$ 1.700.000\\n</td>\n",
       "      <td>230 m²</td>\n",
       "      <td>4</td>\n",
       "      <td>5</td>\n",
       "      <td>2</td>\n",
       "      <td>230</td>\n",
       "      <td>1700000</td>\n",
       "    </tr>\n",
       "    <tr>\n",
       "      <th>4</th>\n",
       "      <td>Avenida Santos Dumont, Aflitos</td>\n",
       "      <td>\\n    R$ 450.000\\n  \\n      condomínio\\n      ...</td>\n",
       "      <td>54 m²</td>\n",
       "      <td>2</td>\n",
       "      <td>2</td>\n",
       "      <td>1</td>\n",
       "      <td>54</td>\n",
       "      <td>450000</td>\n",
       "    </tr>\n",
       "    <tr>\n",
       "      <th>5</th>\n",
       "      <td>Rua Alameda das Hortências, Imbiribeira</td>\n",
       "      <td>\\n    R$ 2.500.000\\n  \\n      condomínio\\n    ...</td>\n",
       "      <td>204 m²</td>\n",
       "      <td>4</td>\n",
       "      <td>5</td>\n",
       "      <td>3</td>\n",
       "      <td>204</td>\n",
       "      <td>2500000</td>\n",
       "    </tr>\n",
       "    <tr>\n",
       "      <th>6</th>\n",
       "      <td>Rua Cônego Romeu, Boa Viagem</td>\n",
       "      <td>\\n    R$ 499.000\\n  \\n      condomínio\\n      ...</td>\n",
       "      <td>70 m²</td>\n",
       "      <td>2</td>\n",
       "      <td>2</td>\n",
       "      <td>1</td>\n",
       "      <td>70</td>\n",
       "      <td>499000</td>\n",
       "    </tr>\n",
       "  </tbody>\n",
       "</table>\n",
       "</div>"
      ],
      "text/plain": [
       "                               Localização  \\\n",
       "2             Rua General Polidoro, Várzea   \n",
       "3               Avenida Boa Viagem, Recife   \n",
       "4           Avenida Santos Dumont, Aflitos   \n",
       "5  Rua Alameda das Hortências, Imbiribeira   \n",
       "6             Rua Cônego Romeu, Boa Viagem   \n",
       "\n",
       "                                               Preço    Tamanho (m2)  \\\n",
       "2                               \\n    R$ 262.900\\n             69 m²   \n",
       "3                             \\n    R$ 1.700.000\\n            230 m²   \n",
       "4  \\n    R$ 450.000\\n  \\n      condomínio\\n      ...           54 m²   \n",
       "5  \\n    R$ 2.500.000\\n  \\n      condomínio\\n    ...          204 m²   \n",
       "6  \\n    R$ 499.000\\n  \\n      condomínio\\n      ...           70 m²   \n",
       "\n",
       "  Número de quartos  Número de banheiros vagas para estacionar  \\\n",
       "2                2                     1                    1    \n",
       "3                4                     5                    2    \n",
       "4                2                     2                    1    \n",
       "5                4                     5                    3    \n",
       "6                2                     2                    1    \n",
       "\n",
       "   X_tamanho_em_m2  y_preço  \n",
       "2               69   262900  \n",
       "3              230  1700000  \n",
       "4               54   450000  \n",
       "5              204  2500000  \n",
       "6               70   499000  "
      ]
     },
     "execution_count": 166,
     "metadata": {},
     "output_type": "execute_result"
    }
   ],
   "source": [
    "new_data_frame['y_preço'] = pd.to_numeric(new_data_frame['y_preço'])\n",
    "new_data_frame.head()"
   ]
  },
  {
   "cell_type": "markdown",
   "metadata": {},
   "source": [
    "## 2.3 ['X_número_de_quartos'], ['X_vagas_para_estacionar'] \n",
    "Note que, como em ['tamanho'], os intervalos \"1 - 2\" se foram. Nesse caso, só precisamos converter as 'strings' para números."
   ]
  },
  {
   "cell_type": "code",
   "execution_count": 167,
   "metadata": {},
   "outputs": [
    {
     "data": {
      "text/plain": [
       "array(['        2 ', '        4 ', '        3 '], dtype=object)"
      ]
     },
     "execution_count": 167,
     "metadata": {},
     "output_type": "execute_result"
    }
   ],
   "source": [
    "new_data_frame['Número de quartos'].unique()"
   ]
  },
  {
   "cell_type": "code",
   "execution_count": 168,
   "metadata": {},
   "outputs": [
    {
     "data": {
      "text/plain": [
       "array(['        1 ', '        2 ', '        3 ', '        5 '],\n",
       "      dtype=object)"
      ]
     },
     "execution_count": 168,
     "metadata": {},
     "output_type": "execute_result"
    }
   ],
   "source": [
    "new_data_frame['vagas para estacionar'].unique()"
   ]
  },
  {
   "cell_type": "code",
   "execution_count": 169,
   "metadata": {},
   "outputs": [
    {
     "name": "stderr",
     "output_type": "stream",
     "text": [
      "C:\\Users\\pc\\.conda\\envs\\tenserflow\\lib\\site-packages\\ipykernel_launcher.py:1: SettingWithCopyWarning: \n",
      "A value is trying to be set on a copy of a slice from a DataFrame.\n",
      "Try using .loc[row_indexer,col_indexer] = value instead\n",
      "\n",
      "See the caveats in the documentation: https://pandas.pydata.org/pandas-docs/stable/user_guide/indexing.html#returning-a-view-versus-a-copy\n",
      "  \"\"\"Entry point for launching an IPython kernel.\n",
      "C:\\Users\\pc\\.conda\\envs\\tenserflow\\lib\\site-packages\\ipykernel_launcher.py:2: SettingWithCopyWarning: \n",
      "A value is trying to be set on a copy of a slice from a DataFrame.\n",
      "Try using .loc[row_indexer,col_indexer] = value instead\n",
      "\n",
      "See the caveats in the documentation: https://pandas.pydata.org/pandas-docs/stable/user_guide/indexing.html#returning-a-view-versus-a-copy\n",
      "  \n"
     ]
    },
    {
     "data": {
      "text/html": [
       "<div>\n",
       "<style scoped>\n",
       "    .dataframe tbody tr th:only-of-type {\n",
       "        vertical-align: middle;\n",
       "    }\n",
       "\n",
       "    .dataframe tbody tr th {\n",
       "        vertical-align: top;\n",
       "    }\n",
       "\n",
       "    .dataframe thead th {\n",
       "        text-align: right;\n",
       "    }\n",
       "</style>\n",
       "<table border=\"1\" class=\"dataframe\">\n",
       "  <thead>\n",
       "    <tr style=\"text-align: right;\">\n",
       "      <th></th>\n",
       "      <th>Localização</th>\n",
       "      <th>Preço</th>\n",
       "      <th>Tamanho (m2)</th>\n",
       "      <th>Número de quartos</th>\n",
       "      <th>Número de banheiros</th>\n",
       "      <th>vagas para estacionar</th>\n",
       "      <th>X_tamanho_em_m2</th>\n",
       "      <th>y_preço</th>\n",
       "      <th>X_número_de_quartos</th>\n",
       "      <th>X_vagas_para_estacionar</th>\n",
       "    </tr>\n",
       "  </thead>\n",
       "  <tbody>\n",
       "    <tr>\n",
       "      <th>2</th>\n",
       "      <td>Rua General Polidoro, Várzea</td>\n",
       "      <td>\\n    R$ 262.900\\n</td>\n",
       "      <td>69 m²</td>\n",
       "      <td>2</td>\n",
       "      <td>1</td>\n",
       "      <td>1</td>\n",
       "      <td>69</td>\n",
       "      <td>262900</td>\n",
       "      <td>2</td>\n",
       "      <td>1</td>\n",
       "    </tr>\n",
       "    <tr>\n",
       "      <th>3</th>\n",
       "      <td>Avenida Boa Viagem, Recife</td>\n",
       "      <td>\\n    R$ 1.700.000\\n</td>\n",
       "      <td>230 m²</td>\n",
       "      <td>4</td>\n",
       "      <td>5</td>\n",
       "      <td>2</td>\n",
       "      <td>230</td>\n",
       "      <td>1700000</td>\n",
       "      <td>4</td>\n",
       "      <td>2</td>\n",
       "    </tr>\n",
       "    <tr>\n",
       "      <th>4</th>\n",
       "      <td>Avenida Santos Dumont, Aflitos</td>\n",
       "      <td>\\n    R$ 450.000\\n  \\n      condomínio\\n      ...</td>\n",
       "      <td>54 m²</td>\n",
       "      <td>2</td>\n",
       "      <td>2</td>\n",
       "      <td>1</td>\n",
       "      <td>54</td>\n",
       "      <td>450000</td>\n",
       "      <td>2</td>\n",
       "      <td>1</td>\n",
       "    </tr>\n",
       "    <tr>\n",
       "      <th>5</th>\n",
       "      <td>Rua Alameda das Hortências, Imbiribeira</td>\n",
       "      <td>\\n    R$ 2.500.000\\n  \\n      condomínio\\n    ...</td>\n",
       "      <td>204 m²</td>\n",
       "      <td>4</td>\n",
       "      <td>5</td>\n",
       "      <td>3</td>\n",
       "      <td>204</td>\n",
       "      <td>2500000</td>\n",
       "      <td>4</td>\n",
       "      <td>3</td>\n",
       "    </tr>\n",
       "    <tr>\n",
       "      <th>6</th>\n",
       "      <td>Rua Cônego Romeu, Boa Viagem</td>\n",
       "      <td>\\n    R$ 499.000\\n  \\n      condomínio\\n      ...</td>\n",
       "      <td>70 m²</td>\n",
       "      <td>2</td>\n",
       "      <td>2</td>\n",
       "      <td>1</td>\n",
       "      <td>70</td>\n",
       "      <td>499000</td>\n",
       "      <td>2</td>\n",
       "      <td>1</td>\n",
       "    </tr>\n",
       "  </tbody>\n",
       "</table>\n",
       "</div>"
      ],
      "text/plain": [
       "                               Localização  \\\n",
       "2             Rua General Polidoro, Várzea   \n",
       "3               Avenida Boa Viagem, Recife   \n",
       "4           Avenida Santos Dumont, Aflitos   \n",
       "5  Rua Alameda das Hortências, Imbiribeira   \n",
       "6             Rua Cônego Romeu, Boa Viagem   \n",
       "\n",
       "                                               Preço    Tamanho (m2)  \\\n",
       "2                               \\n    R$ 262.900\\n             69 m²   \n",
       "3                             \\n    R$ 1.700.000\\n            230 m²   \n",
       "4  \\n    R$ 450.000\\n  \\n      condomínio\\n      ...           54 m²   \n",
       "5  \\n    R$ 2.500.000\\n  \\n      condomínio\\n    ...          204 m²   \n",
       "6  \\n    R$ 499.000\\n  \\n      condomínio\\n      ...           70 m²   \n",
       "\n",
       "  Número de quartos  Número de banheiros vagas para estacionar  \\\n",
       "2                2                     1                    1    \n",
       "3                4                     5                    2    \n",
       "4                2                     2                    1    \n",
       "5                4                     5                    3    \n",
       "6                2                     2                    1    \n",
       "\n",
       "   X_tamanho_em_m2  y_preço  X_número_de_quartos  X_vagas_para_estacionar  \n",
       "2               69   262900                    2                        1  \n",
       "3              230  1700000                    4                        2  \n",
       "4               54   450000                    2                        1  \n",
       "5              204  2500000                    4                        3  \n",
       "6               70   499000                    2                        1  "
      ]
     },
     "execution_count": 169,
     "metadata": {},
     "output_type": "execute_result"
    }
   ],
   "source": [
    "new_data_frame['X_número_de_quartos'] = pd.to_numeric(new_data_frame['Número de quartos'])\n",
    "new_data_frame['X_vagas_para_estacionar'] = pd.to_numeric(new_data_frame['vagas para estacionar'])\n",
    "new_data_frame.head()"
   ]
  },
  {
   "cell_type": "markdown",
   "metadata": {},
   "source": [
    "### ['X_número_de_banheiros']\n",
    "\n",
    "**Criando a coluna com o nome padronizado. Sim, eu poderia ter simplesmente mudado o nome das colunas originais utilizando .replace(\" \",\"_\") mas não fiz. Nenhum motivo especial, apenas não fiz kkkk.**"
   ]
  },
  {
   "cell_type": "code",
   "execution_count": 175,
   "metadata": {
    "scrolled": true
   },
   "outputs": [
    {
     "name": "stderr",
     "output_type": "stream",
     "text": [
      "C:\\Users\\pc\\.conda\\envs\\tenserflow\\lib\\site-packages\\ipykernel_launcher.py:1: SettingWithCopyWarning: \n",
      "A value is trying to be set on a copy of a slice from a DataFrame.\n",
      "Try using .loc[row_indexer,col_indexer] = value instead\n",
      "\n",
      "See the caveats in the documentation: https://pandas.pydata.org/pandas-docs/stable/user_guide/indexing.html#returning-a-view-versus-a-copy\n",
      "  \"\"\"Entry point for launching an IPython kernel.\n"
     ]
    }
   ],
   "source": [
    "new_data_frame['X_número_de_banheiros'] = new_data_frame['Número de banheiros']"
   ]
  },
  {
   "cell_type": "code",
   "execution_count": 176,
   "metadata": {
    "scrolled": false
   },
   "outputs": [
    {
     "data": {
      "text/html": [
       "<div>\n",
       "<style scoped>\n",
       "    .dataframe tbody tr th:only-of-type {\n",
       "        vertical-align: middle;\n",
       "    }\n",
       "\n",
       "    .dataframe tbody tr th {\n",
       "        vertical-align: top;\n",
       "    }\n",
       "\n",
       "    .dataframe thead th {\n",
       "        text-align: right;\n",
       "    }\n",
       "</style>\n",
       "<table border=\"1\" class=\"dataframe\">\n",
       "  <thead>\n",
       "    <tr style=\"text-align: right;\">\n",
       "      <th></th>\n",
       "      <th>Localização</th>\n",
       "      <th>Preço</th>\n",
       "      <th>Tamanho (m2)</th>\n",
       "      <th>Número de quartos</th>\n",
       "      <th>Número de banheiros</th>\n",
       "      <th>vagas para estacionar</th>\n",
       "      <th>X_tamanho_em_m2</th>\n",
       "      <th>y_preço</th>\n",
       "      <th>X_número_de_quartos</th>\n",
       "      <th>X_vagas_para_estacionar</th>\n",
       "      <th>X_número_de_banheiros</th>\n",
       "    </tr>\n",
       "  </thead>\n",
       "  <tbody>\n",
       "    <tr>\n",
       "      <th>2</th>\n",
       "      <td>Rua General Polidoro, Várzea</td>\n",
       "      <td>\\n    R$ 262.900\\n</td>\n",
       "      <td>69 m²</td>\n",
       "      <td>2</td>\n",
       "      <td>1</td>\n",
       "      <td>1</td>\n",
       "      <td>69</td>\n",
       "      <td>262900</td>\n",
       "      <td>2</td>\n",
       "      <td>1</td>\n",
       "      <td>1</td>\n",
       "    </tr>\n",
       "    <tr>\n",
       "      <th>3</th>\n",
       "      <td>Avenida Boa Viagem, Recife</td>\n",
       "      <td>\\n    R$ 1.700.000\\n</td>\n",
       "      <td>230 m²</td>\n",
       "      <td>4</td>\n",
       "      <td>5</td>\n",
       "      <td>2</td>\n",
       "      <td>230</td>\n",
       "      <td>1700000</td>\n",
       "      <td>4</td>\n",
       "      <td>2</td>\n",
       "      <td>5</td>\n",
       "    </tr>\n",
       "    <tr>\n",
       "      <th>4</th>\n",
       "      <td>Avenida Santos Dumont, Aflitos</td>\n",
       "      <td>\\n    R$ 450.000\\n  \\n      condomínio\\n      ...</td>\n",
       "      <td>54 m²</td>\n",
       "      <td>2</td>\n",
       "      <td>2</td>\n",
       "      <td>1</td>\n",
       "      <td>54</td>\n",
       "      <td>450000</td>\n",
       "      <td>2</td>\n",
       "      <td>1</td>\n",
       "      <td>2</td>\n",
       "    </tr>\n",
       "    <tr>\n",
       "      <th>5</th>\n",
       "      <td>Rua Alameda das Hortências, Imbiribeira</td>\n",
       "      <td>\\n    R$ 2.500.000\\n  \\n      condomínio\\n    ...</td>\n",
       "      <td>204 m²</td>\n",
       "      <td>4</td>\n",
       "      <td>5</td>\n",
       "      <td>3</td>\n",
       "      <td>204</td>\n",
       "      <td>2500000</td>\n",
       "      <td>4</td>\n",
       "      <td>3</td>\n",
       "      <td>5</td>\n",
       "    </tr>\n",
       "    <tr>\n",
       "      <th>6</th>\n",
       "      <td>Rua Cônego Romeu, Boa Viagem</td>\n",
       "      <td>\\n    R$ 499.000\\n  \\n      condomínio\\n      ...</td>\n",
       "      <td>70 m²</td>\n",
       "      <td>2</td>\n",
       "      <td>2</td>\n",
       "      <td>1</td>\n",
       "      <td>70</td>\n",
       "      <td>499000</td>\n",
       "      <td>2</td>\n",
       "      <td>1</td>\n",
       "      <td>2</td>\n",
       "    </tr>\n",
       "  </tbody>\n",
       "</table>\n",
       "</div>"
      ],
      "text/plain": [
       "                               Localização  \\\n",
       "2             Rua General Polidoro, Várzea   \n",
       "3               Avenida Boa Viagem, Recife   \n",
       "4           Avenida Santos Dumont, Aflitos   \n",
       "5  Rua Alameda das Hortências, Imbiribeira   \n",
       "6             Rua Cônego Romeu, Boa Viagem   \n",
       "\n",
       "                                               Preço    Tamanho (m2)  \\\n",
       "2                               \\n    R$ 262.900\\n             69 m²   \n",
       "3                             \\n    R$ 1.700.000\\n            230 m²   \n",
       "4  \\n    R$ 450.000\\n  \\n      condomínio\\n      ...           54 m²   \n",
       "5  \\n    R$ 2.500.000\\n  \\n      condomínio\\n    ...          204 m²   \n",
       "6  \\n    R$ 499.000\\n  \\n      condomínio\\n      ...           70 m²   \n",
       "\n",
       "  Número de quartos  Número de banheiros vagas para estacionar  \\\n",
       "2                2                     1                    1    \n",
       "3                4                     5                    2    \n",
       "4                2                     2                    1    \n",
       "5                4                     5                    3    \n",
       "6                2                     2                    1    \n",
       "\n",
       "   X_tamanho_em_m2  y_preço  X_número_de_quartos  X_vagas_para_estacionar  \\\n",
       "2               69   262900                    2                        1   \n",
       "3              230  1700000                    4                        2   \n",
       "4               54   450000                    2                        1   \n",
       "5              204  2500000                    4                        3   \n",
       "6               70   499000                    2                        1   \n",
       "\n",
       "   X_número_de_banheiros  \n",
       "2                      1  \n",
       "3                      5  \n",
       "4                      2  \n",
       "5                      5  \n",
       "6                      2  "
      ]
     },
     "execution_count": 176,
     "metadata": {},
     "output_type": "execute_result"
    }
   ],
   "source": [
    "new_data_frame.head()"
   ]
  },
  {
   "cell_type": "markdown",
   "metadata": {},
   "source": [
    "## 2.4 Salvando Alterações\n",
    "Por questões pessoais (tempo) e para não precisar rodar todo o notebook. Salvarei o progresso até agora em um arquivo .csv e posteriormente só precisarei carregá-lo e continuar o _**feature engineering**_."
   ]
  },
  {
   "cell_type": "code",
   "execution_count": 179,
   "metadata": {},
   "outputs": [
    {
     "data": {
      "text/html": [
       "<div>\n",
       "<style scoped>\n",
       "    .dataframe tbody tr th:only-of-type {\n",
       "        vertical-align: middle;\n",
       "    }\n",
       "\n",
       "    .dataframe tbody tr th {\n",
       "        vertical-align: top;\n",
       "    }\n",
       "\n",
       "    .dataframe thead th {\n",
       "        text-align: right;\n",
       "    }\n",
       "</style>\n",
       "<table border=\"1\" class=\"dataframe\">\n",
       "  <thead>\n",
       "    <tr style=\"text-align: right;\">\n",
       "      <th></th>\n",
       "      <th>Localização</th>\n",
       "      <th>X_tamanho_em_m2</th>\n",
       "      <th>X_número_de_quartos</th>\n",
       "      <th>X_vagas_para_estacionar</th>\n",
       "      <th>X_número_de_banheiros</th>\n",
       "      <th>y_preço</th>\n",
       "    </tr>\n",
       "  </thead>\n",
       "  <tbody>\n",
       "    <tr>\n",
       "      <th>2</th>\n",
       "      <td>Rua General Polidoro, Várzea</td>\n",
       "      <td>69</td>\n",
       "      <td>2</td>\n",
       "      <td>1</td>\n",
       "      <td>1</td>\n",
       "      <td>262900</td>\n",
       "    </tr>\n",
       "    <tr>\n",
       "      <th>3</th>\n",
       "      <td>Avenida Boa Viagem, Recife</td>\n",
       "      <td>230</td>\n",
       "      <td>4</td>\n",
       "      <td>2</td>\n",
       "      <td>5</td>\n",
       "      <td>1700000</td>\n",
       "    </tr>\n",
       "    <tr>\n",
       "      <th>4</th>\n",
       "      <td>Avenida Santos Dumont, Aflitos</td>\n",
       "      <td>54</td>\n",
       "      <td>2</td>\n",
       "      <td>1</td>\n",
       "      <td>2</td>\n",
       "      <td>450000</td>\n",
       "    </tr>\n",
       "    <tr>\n",
       "      <th>5</th>\n",
       "      <td>Rua Alameda das Hortências, Imbiribeira</td>\n",
       "      <td>204</td>\n",
       "      <td>4</td>\n",
       "      <td>3</td>\n",
       "      <td>5</td>\n",
       "      <td>2500000</td>\n",
       "    </tr>\n",
       "    <tr>\n",
       "      <th>6</th>\n",
       "      <td>Rua Cônego Romeu, Boa Viagem</td>\n",
       "      <td>70</td>\n",
       "      <td>2</td>\n",
       "      <td>1</td>\n",
       "      <td>2</td>\n",
       "      <td>499000</td>\n",
       "    </tr>\n",
       "  </tbody>\n",
       "</table>\n",
       "</div>"
      ],
      "text/plain": [
       "                               Localização  X_tamanho_em_m2  \\\n",
       "2             Rua General Polidoro, Várzea               69   \n",
       "3               Avenida Boa Viagem, Recife              230   \n",
       "4           Avenida Santos Dumont, Aflitos               54   \n",
       "5  Rua Alameda das Hortências, Imbiribeira              204   \n",
       "6             Rua Cônego Romeu, Boa Viagem               70   \n",
       "\n",
       "   X_número_de_quartos  X_vagas_para_estacionar  X_número_de_banheiros  \\\n",
       "2                    2                        1                      1   \n",
       "3                    4                        2                      5   \n",
       "4                    2                        1                      2   \n",
       "5                    4                        3                      5   \n",
       "6                    2                        1                      2   \n",
       "\n",
       "   y_preço  \n",
       "2   262900  \n",
       "3  1700000  \n",
       "4   450000  \n",
       "5  2500000  \n",
       "6   499000  "
      ]
     },
     "execution_count": 179,
     "metadata": {},
     "output_type": "execute_result"
    }
   ],
   "source": [
    "df = new_data_frame[['Localização','X_tamanho_em_m2','X_número_de_quartos','X_vagas_para_estacionar','X_número_de_banheiros','y_preço']]\n",
    "df.head()"
   ]
  },
  {
   "cell_type": "code",
   "execution_count": 180,
   "metadata": {},
   "outputs": [
    {
     "data": {
      "text/plain": [
       "(6204, 6)"
      ]
     },
     "execution_count": 180,
     "metadata": {},
     "output_type": "execute_result"
    }
   ],
   "source": [
    "df.shape"
   ]
  },
  {
   "cell_type": "code",
   "execution_count": 183,
   "metadata": {},
   "outputs": [],
   "source": [
    "df.to_csv(\"Dados Pré-limpos.csv\", index=False)"
   ]
  },
  {
   "cell_type": "markdown",
   "metadata": {},
   "source": [
    "**That's it!**\n",
    "\n",
    "**Phase 2 - Exploratory Data Analysis Complete!**\n",
    "\n",
    "Na próxima fase, finalizarei o preprocessamento dos dados ['Localização'] e farei mais análises, desta vez com um olhar voltado para preparação do modelo (já que aqui o objetivo era análisar os dados para preparar sua limpeza e torná-los _usáveis_ )."
   ]
  }
 ],
 "metadata": {
  "kernelspec": {
   "display_name": "Python 3",
   "language": "python",
   "name": "python3"
  },
  "language_info": {
   "codemirror_mode": {
    "name": "ipython",
    "version": 3
   },
   "file_extension": ".py",
   "mimetype": "text/x-python",
   "name": "python",
   "nbconvert_exporter": "python",
   "pygments_lexer": "ipython3",
   "version": "3.7.7"
  }
 },
 "nbformat": 4,
 "nbformat_minor": 4
}
