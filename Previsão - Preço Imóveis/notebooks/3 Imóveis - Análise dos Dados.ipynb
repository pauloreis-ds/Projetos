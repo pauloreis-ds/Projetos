{
 "cells": [
  {
   "cell_type": "markdown",
   "metadata": {},
   "source": [
    "## Agenda \n",
    "        1 - Análise Exploratória\n",
    "            Ritual Padrão\n",
    "            Visão Estatística\n",
    "            1.1 Tamanho em m2\n",
    "            1.2 Preço por m²\n",
    "            1.3 Valores únicos das colunas por Número de Quartos\n",
    "            1.4 Valores únicos das colunas por Número de Vagas no Estacionamento\n",
    "            1.5 Valores únicos das colunas por Número de Banheiros\n",
    "            1.6 Valores únicos das colunas por preço\n",
    "            Visão com gráficos"
   ]
  },
  {
   "cell_type": "code",
   "execution_count": 1,
   "metadata": {},
   "outputs": [],
   "source": [
    "import pandas as pd\n",
    "import matplotlib.pyplot as plt\n",
    "import seaborn as sns\n",
    "\n",
    "sns.set_style(\"whitegrid\")"
   ]
  },
  {
   "cell_type": "code",
   "execution_count": 2,
   "metadata": {},
   "outputs": [
    {
     "data": {
      "text/html": [
       "<div>\n",
       "<style scoped>\n",
       "    .dataframe tbody tr th:only-of-type {\n",
       "        vertical-align: middle;\n",
       "    }\n",
       "\n",
       "    .dataframe tbody tr th {\n",
       "        vertical-align: top;\n",
       "    }\n",
       "\n",
       "    .dataframe thead th {\n",
       "        text-align: right;\n",
       "    }\n",
       "</style>\n",
       "<table border=\"1\" class=\"dataframe\">\n",
       "  <thead>\n",
       "    <tr style=\"text-align: right;\">\n",
       "      <th></th>\n",
       "      <th>Localização</th>\n",
       "      <th>X_bairro</th>\n",
       "      <th>X_tamanho_em_m2</th>\n",
       "      <th>X_número_de_quartos</th>\n",
       "      <th>X_vagas_para_estacionar</th>\n",
       "      <th>X_número_de_banheiros</th>\n",
       "      <th>y_preço</th>\n",
       "    </tr>\n",
       "  </thead>\n",
       "  <tbody>\n",
       "    <tr>\n",
       "      <th>0</th>\n",
       "      <td>Rua General Polidoro, Várzea</td>\n",
       "      <td>Várzea</td>\n",
       "      <td>69</td>\n",
       "      <td>2</td>\n",
       "      <td>1</td>\n",
       "      <td>1</td>\n",
       "      <td>262900</td>\n",
       "    </tr>\n",
       "    <tr>\n",
       "      <th>2</th>\n",
       "      <td>Avenida Santos Dumont, Aflitos</td>\n",
       "      <td>Aflitos</td>\n",
       "      <td>54</td>\n",
       "      <td>2</td>\n",
       "      <td>1</td>\n",
       "      <td>2</td>\n",
       "      <td>450000</td>\n",
       "    </tr>\n",
       "    <tr>\n",
       "      <th>3</th>\n",
       "      <td>Rua Alameda das Hortências, Imbiribeira</td>\n",
       "      <td>Imbiribeira</td>\n",
       "      <td>204</td>\n",
       "      <td>4</td>\n",
       "      <td>3</td>\n",
       "      <td>5</td>\n",
       "      <td>2500000</td>\n",
       "    </tr>\n",
       "    <tr>\n",
       "      <th>4</th>\n",
       "      <td>Rua Cônego Romeu, Boa Viagem</td>\n",
       "      <td>Boa Viagem</td>\n",
       "      <td>70</td>\n",
       "      <td>2</td>\n",
       "      <td>1</td>\n",
       "      <td>2</td>\n",
       "      <td>499000</td>\n",
       "    </tr>\n",
       "    <tr>\n",
       "      <th>5</th>\n",
       "      <td>Rua Professor Augusto Lins e Silva, Boa Viagem</td>\n",
       "      <td>Boa Viagem</td>\n",
       "      <td>74</td>\n",
       "      <td>3</td>\n",
       "      <td>1</td>\n",
       "      <td>3</td>\n",
       "      <td>350000</td>\n",
       "    </tr>\n",
       "  </tbody>\n",
       "</table>\n",
       "</div>"
      ],
      "text/plain": [
       "                                      Localização     X_bairro  \\\n",
       "0                    Rua General Polidoro, Várzea       Várzea   \n",
       "2                  Avenida Santos Dumont, Aflitos      Aflitos   \n",
       "3         Rua Alameda das Hortências, Imbiribeira  Imbiribeira   \n",
       "4                    Rua Cônego Romeu, Boa Viagem   Boa Viagem   \n",
       "5  Rua Professor Augusto Lins e Silva, Boa Viagem   Boa Viagem   \n",
       "\n",
       "   X_tamanho_em_m2  X_número_de_quartos  X_vagas_para_estacionar  \\\n",
       "0               69                    2                        1   \n",
       "2               54                    2                        1   \n",
       "3              204                    4                        3   \n",
       "4               70                    2                        1   \n",
       "5               74                    3                        1   \n",
       "\n",
       "   X_número_de_banheiros  y_preço  \n",
       "0                      1   262900  \n",
       "2                      2   450000  \n",
       "3                      5  2500000  \n",
       "4                      2   499000  \n",
       "5                      3   350000  "
      ]
     },
     "execution_count": 2,
     "metadata": {},
     "output_type": "execute_result"
    }
   ],
   "source": [
    "data = pd.read_csv('Dados Limpos Apartamentos.csv', index_col = 0)\n",
    "\n",
    "# Renomeando coluna (tinha esquecido disso no notebook anterior) e reorganizando-as\n",
    "data.rename(columns={\"Bairro\": \"X_bairro\"}, inplace = True)\n",
    "data = data[['Localização', 'X_bairro', 'X_tamanho_em_m2', 'X_número_de_quartos',\n",
    "             'X_vagas_para_estacionar', 'X_número_de_banheiros', 'y_preço']]\n",
    "data.head()"
   ]
  },
  {
   "cell_type": "markdown",
   "metadata": {},
   "source": [
    "## 1 - Análise Exploratória\n",
    "\n",
    "    Ritual Padrão\n",
    "        Conferir a forma da tabela --------------------- 5 mil dados. Parece ser o suficiente.\n",
    "        Se há NaN/Null --------------------------------- Não.\n",
    "        Se os tipos de dados estão adequados para uso -- Aparentemente estão.\n",
    "        etcétera...\n",
    "    "
   ]
  },
  {
   "cell_type": "code",
   "execution_count": 34,
   "metadata": {},
   "outputs": [
    {
     "data": {
      "text/plain": [
       "(5288, 7)"
      ]
     },
     "execution_count": 34,
     "metadata": {},
     "output_type": "execute_result"
    }
   ],
   "source": [
    "data.shape "
   ]
  },
  {
   "cell_type": "code",
   "execution_count": 32,
   "metadata": {},
   "outputs": [
    {
     "data": {
      "text/plain": [
       "Localização                False\n",
       "X_bairro                   False\n",
       "X_tamanho_em_m2            False\n",
       "X_número_de_quartos        False\n",
       "X_vagas_para_estacionar    False\n",
       "X_número_de_banheiros      False\n",
       "y_preço                    False\n",
       "dtype: bool"
      ]
     },
     "execution_count": 32,
     "metadata": {},
     "output_type": "execute_result"
    }
   ],
   "source": [
    "data.isnull().any()"
   ]
  },
  {
   "cell_type": "code",
   "execution_count": 37,
   "metadata": {},
   "outputs": [
    {
     "name": "stdout",
     "output_type": "stream",
     "text": [
      "<class 'pandas.core.frame.DataFrame'>\n",
      "Int64Index: 5288 entries, 0 to 6182\n",
      "Data columns (total 7 columns):\n",
      " #   Column                   Non-Null Count  Dtype \n",
      "---  ------                   --------------  ----- \n",
      " 0   Localização              5288 non-null   object\n",
      " 1   X_bairro                 5288 non-null   object\n",
      " 2   X_tamanho_em_m2          5288 non-null   int64 \n",
      " 3   X_número_de_quartos      5288 non-null   int64 \n",
      " 4   X_vagas_para_estacionar  5288 non-null   int64 \n",
      " 5   X_número_de_banheiros    5288 non-null   int64 \n",
      " 6   y_preço                  5288 non-null   int64 \n",
      "dtypes: int64(5), object(2)\n",
      "memory usage: 330.5+ KB\n"
     ]
    }
   ],
   "source": [
    "data.info() # Se bem que aqui já temos acesso a todas aquelas informações ('-' ) mas enfim"
   ]
  },
  {
   "cell_type": "markdown",
   "metadata": {},
   "source": [
    "## Visão Estatística\n",
    "\n",
    "Os valores mínimos e máximos de  X_número_de_quartos - X_vagas_para_estacionar - X_número_de_banheiros<br>\n",
    "não apresentam nenhuma anormalidade. Já o X_tamanho_em_m2... na verdade, com essa visualização não,<br>\n",
    "podemos afirmar muito, por isso vamos examiar um pouco mais a fundo essa variável para descobrir, ou não,\n",
    "possíveis irregularidades."
   ]
  },
  {
   "cell_type": "code",
   "execution_count": 8,
   "metadata": {},
   "outputs": [
    {
     "data": {
      "text/html": [
       "<div>\n",
       "<style scoped>\n",
       "    .dataframe tbody tr th:only-of-type {\n",
       "        vertical-align: middle;\n",
       "    }\n",
       "\n",
       "    .dataframe tbody tr th {\n",
       "        vertical-align: top;\n",
       "    }\n",
       "\n",
       "    .dataframe thead th {\n",
       "        text-align: right;\n",
       "    }\n",
       "</style>\n",
       "<table border=\"1\" class=\"dataframe\">\n",
       "  <thead>\n",
       "    <tr style=\"text-align: right;\">\n",
       "      <th></th>\n",
       "      <th>X_tamanho_em_m2</th>\n",
       "      <th>X_número_de_quartos</th>\n",
       "      <th>X_vagas_para_estacionar</th>\n",
       "      <th>X_número_de_banheiros</th>\n",
       "      <th>y_preço</th>\n",
       "    </tr>\n",
       "  </thead>\n",
       "  <tbody>\n",
       "    <tr>\n",
       "      <th>count</th>\n",
       "      <td>5288.000000</td>\n",
       "      <td>5288.000000</td>\n",
       "      <td>5288.000000</td>\n",
       "      <td>5288.000000</td>\n",
       "      <td>5.288000e+03</td>\n",
       "    </tr>\n",
       "    <tr>\n",
       "      <th>mean</th>\n",
       "      <td>132.604198</td>\n",
       "      <td>3.096067</td>\n",
       "      <td>1.871407</td>\n",
       "      <td>2.780635</td>\n",
       "      <td>6.046006e+05</td>\n",
       "    </tr>\n",
       "    <tr>\n",
       "      <th>std</th>\n",
       "      <td>115.244214</td>\n",
       "      <td>0.735132</td>\n",
       "      <td>0.930389</td>\n",
       "      <td>1.085135</td>\n",
       "      <td>5.359886e+05</td>\n",
       "    </tr>\n",
       "    <tr>\n",
       "      <th>min</th>\n",
       "      <td>51.000000</td>\n",
       "      <td>2.000000</td>\n",
       "      <td>1.000000</td>\n",
       "      <td>1.000000</td>\n",
       "      <td>4.500000e+03</td>\n",
       "    </tr>\n",
       "    <tr>\n",
       "      <th>25%</th>\n",
       "      <td>70.000000</td>\n",
       "      <td>3.000000</td>\n",
       "      <td>1.000000</td>\n",
       "      <td>2.000000</td>\n",
       "      <td>3.175000e+05</td>\n",
       "    </tr>\n",
       "    <tr>\n",
       "      <th>50%</th>\n",
       "      <td>103.000000</td>\n",
       "      <td>3.000000</td>\n",
       "      <td>2.000000</td>\n",
       "      <td>3.000000</td>\n",
       "      <td>4.500000e+05</td>\n",
       "    </tr>\n",
       "    <tr>\n",
       "      <th>75%</th>\n",
       "      <td>145.000000</td>\n",
       "      <td>4.000000</td>\n",
       "      <td>2.000000</td>\n",
       "      <td>3.000000</td>\n",
       "      <td>6.800000e+05</td>\n",
       "    </tr>\n",
       "    <tr>\n",
       "      <th>max</th>\n",
       "      <td>600.000000</td>\n",
       "      <td>4.000000</td>\n",
       "      <td>5.000000</td>\n",
       "      <td>5.000000</td>\n",
       "      <td>2.500000e+06</td>\n",
       "    </tr>\n",
       "  </tbody>\n",
       "</table>\n",
       "</div>"
      ],
      "text/plain": [
       "       X_tamanho_em_m2  X_número_de_quartos  X_vagas_para_estacionar  \\\n",
       "count      5288.000000          5288.000000              5288.000000   \n",
       "mean        132.604198             3.096067                 1.871407   \n",
       "std         115.244214             0.735132                 0.930389   \n",
       "min          51.000000             2.000000                 1.000000   \n",
       "25%          70.000000             3.000000                 1.000000   \n",
       "50%         103.000000             3.000000                 2.000000   \n",
       "75%         145.000000             4.000000                 2.000000   \n",
       "max         600.000000             4.000000                 5.000000   \n",
       "\n",
       "       X_número_de_banheiros       y_preço  \n",
       "count            5288.000000  5.288000e+03  \n",
       "mean                2.780635  6.046006e+05  \n",
       "std                 1.085135  5.359886e+05  \n",
       "min                 1.000000  4.500000e+03  \n",
       "25%                 2.000000  3.175000e+05  \n",
       "50%                 3.000000  4.500000e+05  \n",
       "75%                 3.000000  6.800000e+05  \n",
       "max                 5.000000  2.500000e+06  "
      ]
     },
     "execution_count": 8,
     "metadata": {},
     "output_type": "execute_result"
    }
   ],
   "source": [
    "data.describe()"
   ]
  },
  {
   "cell_type": "markdown",
   "metadata": {},
   "source": [
    "## Tamanho em m2\n",
    "A princípio os tamanhos dos apartamentos com relação à quantidade dos dados estão bem distribuídos.<br>\n",
    "Há muito mais apartamentos de 110m², mas a distribuição da quantia dos outros não é gritante.<br>\n",
    "Podemos confirmar isso no boxplot logo em seguida."
   ]
  },
  {
   "cell_type": "code",
   "execution_count": 139,
   "metadata": {},
   "outputs": [
    {
     "data": {
      "text/html": [
       "<div>\n",
       "<style scoped>\n",
       "    .dataframe tbody tr th:only-of-type {\n",
       "        vertical-align: middle;\n",
       "    }\n",
       "\n",
       "    .dataframe tbody tr th {\n",
       "        vertical-align: top;\n",
       "    }\n",
       "\n",
       "    .dataframe thead th {\n",
       "        text-align: right;\n",
       "    }\n",
       "</style>\n",
       "<table border=\"1\" class=\"dataframe\">\n",
       "  <thead>\n",
       "    <tr style=\"text-align: right;\">\n",
       "      <th></th>\n",
       "      <th>Localização</th>\n",
       "      <th>X_bairro</th>\n",
       "      <th>X_número_de_quartos</th>\n",
       "      <th>X_vagas_para_estacionar</th>\n",
       "      <th>X_número_de_banheiros</th>\n",
       "      <th>y_preço</th>\n",
       "    </tr>\n",
       "    <tr>\n",
       "      <th>X_tamanho_em_m2</th>\n",
       "      <th></th>\n",
       "      <th></th>\n",
       "      <th></th>\n",
       "      <th></th>\n",
       "      <th></th>\n",
       "      <th></th>\n",
       "    </tr>\n",
       "  </thead>\n",
       "  <tbody>\n",
       "    <tr>\n",
       "      <th>110</th>\n",
       "      <td>482</td>\n",
       "      <td>482</td>\n",
       "      <td>482</td>\n",
       "      <td>482</td>\n",
       "      <td>482</td>\n",
       "      <td>482</td>\n",
       "    </tr>\n",
       "    <tr>\n",
       "      <th>204</th>\n",
       "      <td>261</td>\n",
       "      <td>261</td>\n",
       "      <td>261</td>\n",
       "      <td>261</td>\n",
       "      <td>261</td>\n",
       "      <td>261</td>\n",
       "    </tr>\n",
       "    <tr>\n",
       "      <th>51</th>\n",
       "      <td>256</td>\n",
       "      <td>256</td>\n",
       "      <td>256</td>\n",
       "      <td>256</td>\n",
       "      <td>256</td>\n",
       "      <td>256</td>\n",
       "    </tr>\n",
       "    <tr>\n",
       "      <th>74</th>\n",
       "      <td>253</td>\n",
       "      <td>253</td>\n",
       "      <td>253</td>\n",
       "      <td>253</td>\n",
       "      <td>253</td>\n",
       "      <td>253</td>\n",
       "    </tr>\n",
       "    <tr>\n",
       "      <th>54</th>\n",
       "      <td>252</td>\n",
       "      <td>252</td>\n",
       "      <td>252</td>\n",
       "      <td>252</td>\n",
       "      <td>252</td>\n",
       "      <td>252</td>\n",
       "    </tr>\n",
       "    <tr>\n",
       "      <th>55</th>\n",
       "      <td>250</td>\n",
       "      <td>250</td>\n",
       "      <td>250</td>\n",
       "      <td>250</td>\n",
       "      <td>250</td>\n",
       "      <td>250</td>\n",
       "    </tr>\n",
       "    <tr>\n",
       "      <th>180</th>\n",
       "      <td>248</td>\n",
       "      <td>248</td>\n",
       "      <td>248</td>\n",
       "      <td>248</td>\n",
       "      <td>248</td>\n",
       "      <td>248</td>\n",
       "    </tr>\n",
       "    <tr>\n",
       "      <th>600</th>\n",
       "      <td>248</td>\n",
       "      <td>248</td>\n",
       "      <td>248</td>\n",
       "      <td>248</td>\n",
       "      <td>248</td>\n",
       "      <td>248</td>\n",
       "    </tr>\n",
       "    <tr>\n",
       "      <th>86</th>\n",
       "      <td>244</td>\n",
       "      <td>244</td>\n",
       "      <td>244</td>\n",
       "      <td>244</td>\n",
       "      <td>244</td>\n",
       "      <td>244</td>\n",
       "    </tr>\n",
       "    <tr>\n",
       "      <th>186</th>\n",
       "      <td>243</td>\n",
       "      <td>243</td>\n",
       "      <td>243</td>\n",
       "      <td>243</td>\n",
       "      <td>243</td>\n",
       "      <td>243</td>\n",
       "    </tr>\n",
       "    <tr>\n",
       "      <th>87</th>\n",
       "      <td>242</td>\n",
       "      <td>242</td>\n",
       "      <td>242</td>\n",
       "      <td>242</td>\n",
       "      <td>242</td>\n",
       "      <td>242</td>\n",
       "    </tr>\n",
       "    <tr>\n",
       "      <th>103</th>\n",
       "      <td>242</td>\n",
       "      <td>242</td>\n",
       "      <td>242</td>\n",
       "      <td>242</td>\n",
       "      <td>242</td>\n",
       "      <td>242</td>\n",
       "    </tr>\n",
       "    <tr>\n",
       "      <th>66</th>\n",
       "      <td>241</td>\n",
       "      <td>241</td>\n",
       "      <td>241</td>\n",
       "      <td>241</td>\n",
       "      <td>241</td>\n",
       "      <td>241</td>\n",
       "    </tr>\n",
       "    <tr>\n",
       "      <th>142</th>\n",
       "      <td>237</td>\n",
       "      <td>237</td>\n",
       "      <td>237</td>\n",
       "      <td>237</td>\n",
       "      <td>237</td>\n",
       "      <td>237</td>\n",
       "    </tr>\n",
       "    <tr>\n",
       "      <th>230</th>\n",
       "      <td>236</td>\n",
       "      <td>236</td>\n",
       "      <td>236</td>\n",
       "      <td>236</td>\n",
       "      <td>236</td>\n",
       "      <td>236</td>\n",
       "    </tr>\n",
       "    <tr>\n",
       "      <th>82</th>\n",
       "      <td>234</td>\n",
       "      <td>234</td>\n",
       "      <td>234</td>\n",
       "      <td>234</td>\n",
       "      <td>234</td>\n",
       "      <td>234</td>\n",
       "    </tr>\n",
       "    <tr>\n",
       "      <th>70</th>\n",
       "      <td>230</td>\n",
       "      <td>230</td>\n",
       "      <td>230</td>\n",
       "      <td>230</td>\n",
       "      <td>230</td>\n",
       "      <td>230</td>\n",
       "    </tr>\n",
       "    <tr>\n",
       "      <th>145</th>\n",
       "      <td>230</td>\n",
       "      <td>230</td>\n",
       "      <td>230</td>\n",
       "      <td>230</td>\n",
       "      <td>230</td>\n",
       "      <td>230</td>\n",
       "    </tr>\n",
       "    <tr>\n",
       "      <th>89</th>\n",
       "      <td>228</td>\n",
       "      <td>228</td>\n",
       "      <td>228</td>\n",
       "      <td>228</td>\n",
       "      <td>228</td>\n",
       "      <td>228</td>\n",
       "    </tr>\n",
       "    <tr>\n",
       "      <th>104</th>\n",
       "      <td>220</td>\n",
       "      <td>220</td>\n",
       "      <td>220</td>\n",
       "      <td>220</td>\n",
       "      <td>220</td>\n",
       "      <td>220</td>\n",
       "    </tr>\n",
       "    <tr>\n",
       "      <th>69</th>\n",
       "      <td>211</td>\n",
       "      <td>211</td>\n",
       "      <td>211</td>\n",
       "      <td>211</td>\n",
       "      <td>211</td>\n",
       "      <td>211</td>\n",
       "    </tr>\n",
       "  </tbody>\n",
       "</table>\n",
       "</div>"
      ],
      "text/plain": [
       "                 Localização  X_bairro  X_número_de_quartos  \\\n",
       "X_tamanho_em_m2                                               \n",
       "110                      482       482                  482   \n",
       "204                      261       261                  261   \n",
       "51                       256       256                  256   \n",
       "74                       253       253                  253   \n",
       "54                       252       252                  252   \n",
       "55                       250       250                  250   \n",
       "180                      248       248                  248   \n",
       "600                      248       248                  248   \n",
       "86                       244       244                  244   \n",
       "186                      243       243                  243   \n",
       "87                       242       242                  242   \n",
       "103                      242       242                  242   \n",
       "66                       241       241                  241   \n",
       "142                      237       237                  237   \n",
       "230                      236       236                  236   \n",
       "82                       234       234                  234   \n",
       "70                       230       230                  230   \n",
       "145                      230       230                  230   \n",
       "89                       228       228                  228   \n",
       "104                      220       220                  220   \n",
       "69                       211       211                  211   \n",
       "\n",
       "                 X_vagas_para_estacionar  X_número_de_banheiros  y_preço  \n",
       "X_tamanho_em_m2                                                           \n",
       "110                                  482                    482      482  \n",
       "204                                  261                    261      261  \n",
       "51                                   256                    256      256  \n",
       "74                                   253                    253      253  \n",
       "54                                   252                    252      252  \n",
       "55                                   250                    250      250  \n",
       "180                                  248                    248      248  \n",
       "600                                  248                    248      248  \n",
       "86                                   244                    244      244  \n",
       "186                                  243                    243      243  \n",
       "87                                   242                    242      242  \n",
       "103                                  242                    242      242  \n",
       "66                                   241                    241      241  \n",
       "142                                  237                    237      237  \n",
       "230                                  236                    236      236  \n",
       "82                                   234                    234      234  \n",
       "70                                   230                    230      230  \n",
       "145                                  230                    230      230  \n",
       "89                                   228                    228      228  \n",
       "104                                  220                    220      220  \n",
       "69                                   211                    211      211  "
      ]
     },
     "execution_count": 139,
     "metadata": {},
     "output_type": "execute_result"
    }
   ],
   "source": [
    "data.groupby(\"X_tamanho_em_m2\").count().sort_values(['Localização'], ascending=False)"
   ]
  },
  {
   "cell_type": "code",
   "execution_count": 3,
   "metadata": {},
   "outputs": [
    {
     "data": {
      "text/plain": [
       "Text(0.5, 1.0, 'Quantia de apartamentos (por m²)')"
      ]
     },
     "execution_count": 3,
     "metadata": {},
     "output_type": "execute_result"
    },
    {
     "data": {
      "image/png": "[encoded data removed]",
      "text/plain": [
       "<Figure size 432x288 with 1 Axes>"
      ]
     },
     "metadata": {},
     "output_type": "display_data"
    }
   ],
   "source": [
    "# Os únicos \"outliers\" são justamente os apês de 110m².\n",
    "\n",
    "data.groupby(\"X_tamanho_em_m2\").count().boxplot('Localização')\n",
    "plt.title(\"Quantia de apartamentos (por m²)\")"
   ]
  },
  {
   "cell_type": "markdown",
   "metadata": {},
   "source": [
    "A maior parte dos apartamentos têm entre 50 e 100m². E boa parte dos dados estão concentrados entre 50 a 200m². O que é normal, já a maioria das pessoas não costuma comprar apartamentos com valores altissímos de m², logo, suas ocorrências/construções estarão em menor número."
   ]
  },
  {
   "cell_type": "code",
   "execution_count": 141,
   "metadata": {},
   "outputs": [
    {
     "data": {
      "image/png": "[encoded data removed]",
      "text/plain": [
       "<Figure size 432x360 with 1 Axes>"
      ]
     },
     "metadata": {},
     "output_type": "display_data"
    }
   ],
   "source": [
    "plt.figure(figsize=(6,5))\n",
    "data.X_tamanho_em_m2.hist()\n",
    "plt.xlabel(\"Tamanho em m2\", fontsize=18)\n",
    "plt.ylabel(\"Quantidade de Apartamentos\", fontsize=18)\n",
    "plt.show()"
   ]
  },
  {
   "cell_type": "markdown",
   "metadata": {},
   "source": [
    "## 1.2 Preço por m²\n",
    "\n",
    "Perceba que há um outlier entre os preços. Apartamentos que custam 4500 reais?<br>\n",
    "Ao plotar um gráfico de dispersão observamos que esse valor ocorre em apartamentos<br>\n",
    "de 600m², o que é de se estranhar."
   ]
  },
  {
   "cell_type": "code",
   "execution_count": 179,
   "metadata": {},
   "outputs": [
    {
     "data": {
      "text/plain": [
       "array([ 262900,  450000, 2500000,  499000,  350000,  480000,  280000,\n",
       "        750000,  320000,  245000,    4500,  680000,  250000,  317500,\n",
       "        585000,  760000,  530000,  700000,  620000, 1700000], dtype=int64)"
      ]
     },
     "execution_count": 179,
     "metadata": {},
     "output_type": "execute_result"
    }
   ],
   "source": [
    "data.y_preço.unique()"
   ]
  },
  {
   "cell_type": "code",
   "execution_count": 151,
   "metadata": {},
   "outputs": [
    {
     "data": {
      "image/png": "[encoded data removed]",
      "text/plain": [
       "<Figure size 576x432 with 1 Axes>"
      ]
     },
     "metadata": {},
     "output_type": "display_data"
    }
   ],
   "source": [
    "plt.figure(figsize=(8,6))\n",
    "plt.scatter(data.X_tamanho_em_m2, data.y_preço)\n",
    "plt.xlabel(\"Tamanho em m2\", fontsize=18)\n",
    "plt.ylabel(\"Preço (milhões)\", fontsize=18)\n",
    "plt.show()"
   ]
  },
  {
   "cell_type": "code",
   "execution_count": 183,
   "metadata": {},
   "outputs": [
    {
     "data": {
      "text/html": [
       "<div>\n",
       "<style scoped>\n",
       "    .dataframe tbody tr th:only-of-type {\n",
       "        vertical-align: middle;\n",
       "    }\n",
       "\n",
       "    .dataframe tbody tr th {\n",
       "        vertical-align: top;\n",
       "    }\n",
       "\n",
       "    .dataframe thead th {\n",
       "        text-align: right;\n",
       "    }\n",
       "</style>\n",
       "<table border=\"1\" class=\"dataframe\">\n",
       "  <thead>\n",
       "    <tr style=\"text-align: right;\">\n",
       "      <th></th>\n",
       "      <th>Localização</th>\n",
       "      <th>X_bairro</th>\n",
       "      <th>X_tamanho_em_m2</th>\n",
       "      <th>X_número_de_quartos</th>\n",
       "      <th>X_vagas_para_estacionar</th>\n",
       "      <th>X_número_de_banheiros</th>\n",
       "      <th>y_preço</th>\n",
       "    </tr>\n",
       "  </thead>\n",
       "  <tbody>\n",
       "    <tr>\n",
       "      <th>11</th>\n",
       "      <td>Avenida Conselheiro Rosa e Silva, Espinheiro</td>\n",
       "      <td>Espinheiro</td>\n",
       "      <td>600</td>\n",
       "      <td>3</td>\n",
       "      <td>5</td>\n",
       "      <td>1</td>\n",
       "      <td>4500</td>\n",
       "    </tr>\n",
       "    <tr>\n",
       "      <th>33</th>\n",
       "      <td>Rua Cândido Lacerda, Torreão</td>\n",
       "      <td>Torreão</td>\n",
       "      <td>600</td>\n",
       "      <td>3</td>\n",
       "      <td>5</td>\n",
       "      <td>1</td>\n",
       "      <td>4500</td>\n",
       "    </tr>\n",
       "    <tr>\n",
       "      <th>55</th>\n",
       "      <td>Travessa Augusto Rodrigues, Encruzilhada</td>\n",
       "      <td>Encruzilhada</td>\n",
       "      <td>600</td>\n",
       "      <td>3</td>\n",
       "      <td>5</td>\n",
       "      <td>1</td>\n",
       "      <td>4500</td>\n",
       "    </tr>\n",
       "    <tr>\n",
       "      <th>76</th>\n",
       "      <td>Rua do Giriquiti, Boa Vista</td>\n",
       "      <td>Boa Vista</td>\n",
       "      <td>600</td>\n",
       "      <td>3</td>\n",
       "      <td>5</td>\n",
       "      <td>1</td>\n",
       "      <td>4500</td>\n",
       "    </tr>\n",
       "    <tr>\n",
       "      <th>98</th>\n",
       "      <td>Rua Setúbal, Boa Viagem</td>\n",
       "      <td>Boa Viagem</td>\n",
       "      <td>600</td>\n",
       "      <td>3</td>\n",
       "      <td>5</td>\n",
       "      <td>1</td>\n",
       "      <td>4500</td>\n",
       "    </tr>\n",
       "  </tbody>\n",
       "</table>\n",
       "</div>"
      ],
      "text/plain": [
       "                                     Localização      X_bairro  \\\n",
       "11  Avenida Conselheiro Rosa e Silva, Espinheiro    Espinheiro   \n",
       "33                  Rua Cândido Lacerda, Torreão       Torreão   \n",
       "55      Travessa Augusto Rodrigues, Encruzilhada  Encruzilhada   \n",
       "76                   Rua do Giriquiti, Boa Vista     Boa Vista   \n",
       "98                       Rua Setúbal, Boa Viagem    Boa Viagem   \n",
       "\n",
       "    X_tamanho_em_m2  X_número_de_quartos  X_vagas_para_estacionar  \\\n",
       "11              600                    3                        5   \n",
       "33              600                    3                        5   \n",
       "55              600                    3                        5   \n",
       "76              600                    3                        5   \n",
       "98              600                    3                        5   \n",
       "\n",
       "    X_número_de_banheiros  y_preço  \n",
       "11                      1     4500  \n",
       "33                      1     4500  \n",
       "55                      1     4500  \n",
       "76                      1     4500  \n",
       "98                      1     4500  "
      ]
     },
     "execution_count": 183,
     "metadata": {},
     "output_type": "execute_result"
    }
   ],
   "source": [
    "data[data.X_tamanho_em_m2 == 600].head()"
   ]
  },
  {
   "cell_type": "markdown",
   "metadata": {},
   "source": [
    "**Outra bizarrice é o fato de haver apenas o mesmo valor em todas as colunas numéricas.**<br>\n",
    "Sem contar a quantidade de banheiro ser apenas 1 para um imóvel de 600m².<br>\n",
    "Provavelmente irei excluí-los. Por parecerem ser dados incorretos (talvez por erro meu em algum momento, se for o caso, acredito que possa ter ocorrido na coleta dos dados/web scraping)."
   ]
  },
  {
   "cell_type": "code",
   "execution_count": 184,
   "metadata": {},
   "outputs": [
    {
     "data": {
      "text/plain": [
       "array([3], dtype=int64)"
      ]
     },
     "execution_count": 184,
     "metadata": {},
     "output_type": "execute_result"
    }
   ],
   "source": [
    "data.X_número_de_quartos[data.X_tamanho_em_m2 == 600].unique()"
   ]
  },
  {
   "cell_type": "code",
   "execution_count": 185,
   "metadata": {},
   "outputs": [
    {
     "data": {
      "text/plain": [
       "array([5], dtype=int64)"
      ]
     },
     "execution_count": 185,
     "metadata": {},
     "output_type": "execute_result"
    }
   ],
   "source": [
    "data.X_vagas_para_estacionar[data.X_tamanho_em_m2 == 600].unique()"
   ]
  },
  {
   "cell_type": "code",
   "execution_count": 186,
   "metadata": {},
   "outputs": [
    {
     "data": {
      "text/plain": [
       "array([1], dtype=int64)"
      ]
     },
     "execution_count": 186,
     "metadata": {},
     "output_type": "execute_result"
    }
   ],
   "source": [
    "data.X_número_de_banheiros[data.X_tamanho_em_m2 == 600].unique()"
   ]
  },
  {
   "cell_type": "code",
   "execution_count": 182,
   "metadata": {},
   "outputs": [
    {
     "data": {
      "text/plain": [
       "array(['Espinheiro', 'Torreão', 'Encruzilhada', 'Boa Vista', 'Boa Viagem',\n",
       "       'Santo Amaro', 'Torrões', 'Madalena', 'Caxangá', 'Casa Amarela',\n",
       "       'Várzea', 'Iputinga', 'Tamarineira', 'Casa Forte', 'Pina',\n",
       "       'Rosarinho', 'Ilha do Retiro', 'Afogados', 'Cordeiro', 'Aflitos',\n",
       "       'Graças', 'Torre', 'Vasco da Gama', 'Parnamirim',\n",
       "       'Jardim São Paulo', 'Engenho do Meio', 'Campo Grande', 'Monteiro',\n",
       "       'Imbiribeira', 'Prado', 'Agua Fria', 'San Martin', 'Derby'],\n",
       "      dtype=object)"
      ]
     },
     "execution_count": 182,
     "metadata": {},
     "output_type": "execute_result"
    }
   ],
   "source": [
    "data.X_bairro[data.X_tamanho_em_m2 == 600].unique()"
   ]
  },
  {
   "cell_type": "markdown",
   "metadata": {},
   "source": [
    "**Outros dois pontos que me chamaram a atenção foram os imóveis de m² menor mas com valores bem mais altos.**<br>\n",
    "Ao que parece suas outras características compensam seus tamanhos (que já são grandes)."
   ]
  },
  {
   "cell_type": "code",
   "execution_count": 246,
   "metadata": {},
   "outputs": [
    {
     "data": {
      "text/html": [
       "<div>\n",
       "<style scoped>\n",
       "    .dataframe tbody tr th:only-of-type {\n",
       "        vertical-align: middle;\n",
       "    }\n",
       "\n",
       "    .dataframe tbody tr th {\n",
       "        vertical-align: top;\n",
       "    }\n",
       "\n",
       "    .dataframe thead th {\n",
       "        text-align: right;\n",
       "    }\n",
       "</style>\n",
       "<table border=\"1\" class=\"dataframe\">\n",
       "  <thead>\n",
       "    <tr style=\"text-align: right;\">\n",
       "      <th></th>\n",
       "      <th>Localização</th>\n",
       "      <th>X_bairro</th>\n",
       "      <th>X_tamanho_em_m2</th>\n",
       "      <th>X_número_de_quartos</th>\n",
       "      <th>X_vagas_para_estacionar</th>\n",
       "      <th>X_número_de_banheiros</th>\n",
       "      <th>y_preço</th>\n",
       "    </tr>\n",
       "  </thead>\n",
       "  <tbody>\n",
       "    <tr>\n",
       "      <th>45</th>\n",
       "      <td>Rua Ministro Nelson Hungria, Boa Viagem</td>\n",
       "      <td>Boa Viagem</td>\n",
       "      <td>230</td>\n",
       "      <td>4</td>\n",
       "      <td>2</td>\n",
       "      <td>5</td>\n",
       "      <td>1700000</td>\n",
       "    </tr>\n",
       "    <tr>\n",
       "      <th>66</th>\n",
       "      <td>Rua Desembargador João Paes, Boa Viagem</td>\n",
       "      <td>Boa Viagem</td>\n",
       "      <td>230</td>\n",
       "      <td>4</td>\n",
       "      <td>2</td>\n",
       "      <td>5</td>\n",
       "      <td>1700000</td>\n",
       "    </tr>\n",
       "    <tr>\n",
       "      <th>110</th>\n",
       "      <td>Rua das Creoulas, Graças</td>\n",
       "      <td>Graças</td>\n",
       "      <td>230</td>\n",
       "      <td>4</td>\n",
       "      <td>2</td>\n",
       "      <td>5</td>\n",
       "      <td>1700000</td>\n",
       "    </tr>\n",
       "    <tr>\n",
       "      <th>174</th>\n",
       "      <td>Rua João Arruda Marinho, Boa Viagem</td>\n",
       "      <td>Boa Viagem</td>\n",
       "      <td>230</td>\n",
       "      <td>4</td>\n",
       "      <td>2</td>\n",
       "      <td>5</td>\n",
       "      <td>1700000</td>\n",
       "    </tr>\n",
       "    <tr>\n",
       "      <th>195</th>\n",
       "      <td>Rua Isaac Markman, Bongi</td>\n",
       "      <td>Bongi</td>\n",
       "      <td>230</td>\n",
       "      <td>4</td>\n",
       "      <td>2</td>\n",
       "      <td>5</td>\n",
       "      <td>1700000</td>\n",
       "    </tr>\n",
       "  </tbody>\n",
       "</table>\n",
       "</div>"
      ],
      "text/plain": [
       "                                 Localização    X_bairro  X_tamanho_em_m2  \\\n",
       "45   Rua Ministro Nelson Hungria, Boa Viagem  Boa Viagem              230   \n",
       "66   Rua Desembargador João Paes, Boa Viagem  Boa Viagem              230   \n",
       "110                 Rua das Creoulas, Graças      Graças              230   \n",
       "174      Rua João Arruda Marinho, Boa Viagem  Boa Viagem              230   \n",
       "195                 Rua Isaac Markman, Bongi       Bongi              230   \n",
       "\n",
       "     X_número_de_quartos  X_vagas_para_estacionar  X_número_de_banheiros  \\\n",
       "45                     4                        2                      5   \n",
       "66                     4                        2                      5   \n",
       "110                    4                        2                      5   \n",
       "174                    4                        2                      5   \n",
       "195                    4                        2                      5   \n",
       "\n",
       "     y_preço  \n",
       "45   1700000  \n",
       "66   1700000  \n",
       "110  1700000  \n",
       "174  1700000  \n",
       "195  1700000  "
      ]
     },
     "execution_count": 246,
     "metadata": {},
     "output_type": "execute_result"
    }
   ],
   "source": [
    "data[data.y_preço == 1700000].head()"
   ]
  },
  {
   "cell_type": "code",
   "execution_count": 249,
   "metadata": {},
   "outputs": [
    {
     "data": {
      "text/plain": [
       "236"
      ]
     },
     "execution_count": 249,
     "metadata": {},
     "output_type": "execute_result"
    }
   ],
   "source": [
    "len(data[data.y_preço == 1700000])"
   ]
  },
  {
   "cell_type": "code",
   "execution_count": 247,
   "metadata": {},
   "outputs": [
    {
     "data": {
      "text/html": [
       "<div>\n",
       "<style scoped>\n",
       "    .dataframe tbody tr th:only-of-type {\n",
       "        vertical-align: middle;\n",
       "    }\n",
       "\n",
       "    .dataframe tbody tr th {\n",
       "        vertical-align: top;\n",
       "    }\n",
       "\n",
       "    .dataframe thead th {\n",
       "        text-align: right;\n",
       "    }\n",
       "</style>\n",
       "<table border=\"1\" class=\"dataframe\">\n",
       "  <thead>\n",
       "    <tr style=\"text-align: right;\">\n",
       "      <th></th>\n",
       "      <th>Localização</th>\n",
       "      <th>X_bairro</th>\n",
       "      <th>X_tamanho_em_m2</th>\n",
       "      <th>X_número_de_quartos</th>\n",
       "      <th>X_vagas_para_estacionar</th>\n",
       "      <th>X_número_de_banheiros</th>\n",
       "      <th>y_preço</th>\n",
       "    </tr>\n",
       "  </thead>\n",
       "  <tbody>\n",
       "    <tr>\n",
       "      <th>3</th>\n",
       "      <td>Rua Alameda das Hortências, Imbiribeira</td>\n",
       "      <td>Imbiribeira</td>\n",
       "      <td>204</td>\n",
       "      <td>4</td>\n",
       "      <td>3</td>\n",
       "      <td>5</td>\n",
       "      <td>2500000</td>\n",
       "    </tr>\n",
       "    <tr>\n",
       "      <th>25</th>\n",
       "      <td>Rua Ministro Nelson Hungria, Boa Viagem</td>\n",
       "      <td>Boa Viagem</td>\n",
       "      <td>204</td>\n",
       "      <td>4</td>\n",
       "      <td>3</td>\n",
       "      <td>5</td>\n",
       "      <td>2500000</td>\n",
       "    </tr>\n",
       "    <tr>\n",
       "      <th>47</th>\n",
       "      <td>Rua das Creoulas, Graças</td>\n",
       "      <td>Graças</td>\n",
       "      <td>204</td>\n",
       "      <td>4</td>\n",
       "      <td>3</td>\n",
       "      <td>5</td>\n",
       "      <td>2500000</td>\n",
       "    </tr>\n",
       "    <tr>\n",
       "      <th>68</th>\n",
       "      <td>Rua Visconde de Goiana, Boa Vista</td>\n",
       "      <td>Boa Vista</td>\n",
       "      <td>204</td>\n",
       "      <td>4</td>\n",
       "      <td>3</td>\n",
       "      <td>5</td>\n",
       "      <td>2500000</td>\n",
       "    </tr>\n",
       "    <tr>\n",
       "      <th>90</th>\n",
       "      <td>Avenida Boa Viagem, Pina</td>\n",
       "      <td>Pina</td>\n",
       "      <td>204</td>\n",
       "      <td>4</td>\n",
       "      <td>3</td>\n",
       "      <td>5</td>\n",
       "      <td>2500000</td>\n",
       "    </tr>\n",
       "  </tbody>\n",
       "</table>\n",
       "</div>"
      ],
      "text/plain": [
       "                                Localização     X_bairro  X_tamanho_em_m2  \\\n",
       "3   Rua Alameda das Hortências, Imbiribeira  Imbiribeira              204   \n",
       "25  Rua Ministro Nelson Hungria, Boa Viagem   Boa Viagem              204   \n",
       "47                 Rua das Creoulas, Graças       Graças              204   \n",
       "68        Rua Visconde de Goiana, Boa Vista    Boa Vista              204   \n",
       "90                 Avenida Boa Viagem, Pina         Pina              204   \n",
       "\n",
       "    X_número_de_quartos  X_vagas_para_estacionar  X_número_de_banheiros  \\\n",
       "3                     4                        3                      5   \n",
       "25                    4                        3                      5   \n",
       "47                    4                        3                      5   \n",
       "68                    4                        3                      5   \n",
       "90                    4                        3                      5   \n",
       "\n",
       "    y_preço  \n",
       "3   2500000  \n",
       "25  2500000  \n",
       "47  2500000  \n",
       "68  2500000  \n",
       "90  2500000  "
      ]
     },
     "execution_count": 247,
     "metadata": {},
     "output_type": "execute_result"
    }
   ],
   "source": [
    "data[data.y_preço == 2500000].head()"
   ]
  },
  {
   "cell_type": "code",
   "execution_count": 4,
   "metadata": {},
   "outputs": [
    {
     "data": {
      "text/plain": [
       "261"
      ]
     },
     "execution_count": 4,
     "metadata": {},
     "output_type": "execute_result"
    }
   ],
   "source": [
    "len(data[data.y_preço == 2500000])"
   ]
  },
  {
   "cell_type": "markdown",
   "metadata": {},
   "source": [
    "**Antes de continuar as observações. Vamos eliminar os imóveis com 600m²**"
   ]
  },
  {
   "cell_type": "code",
   "execution_count": 270,
   "metadata": {},
   "outputs": [
    {
     "data": {
      "text/plain": [
       "5040"
      ]
     },
     "execution_count": 270,
     "metadata": {},
     "output_type": "execute_result"
    }
   ],
   "source": [
    "len(data[data.X_tamanho_em_m2 != 600]) # Ficaremos com 5040 dados"
   ]
  },
  {
   "cell_type": "code",
   "execution_count": 5,
   "metadata": {},
   "outputs": [],
   "source": [
    "data = data[data.X_tamanho_em_m2 != 600]"
   ]
  },
  {
   "cell_type": "markdown",
   "metadata": {},
   "source": [
    "Para facilitar minha análise resolvi tentar identificar anomalias análisando as relações entre os valores únicos de cada variável de acordo com as colunas.\n",
    "\n",
    "    Exemplo: os imóveis de 2 quartos aparecem em imóveis que têm 69, 54, 70, 51 ou 55m²\n",
    "    e 1 ou 2 banheiros. O que é normal, já que esse espaço é capaz de receber tais quantidades\n",
    "    de cômodos.\n",
    "    \n",
    "    Porém, se um imóvel com 2 quartos apresentar 5 banheiros... é um elemento a se buscar explicações...\n",
    "    \n",
    "E aparentemente não há mais excentricidade. lembrando que talvez tenha deixado passar alguma por minha falta de conhecimentos específicos da área."
   ]
  },
  {
   "cell_type": "markdown",
   "metadata": {},
   "source": [
    "## Valores únicos das colunas por Número de Quartos"
   ]
  },
  {
   "cell_type": "code",
   "execution_count": 51,
   "metadata": {},
   "outputs": [
    {
     "name": "stdout",
     "output_type": "stream",
     "text": [
      "\n",
      "Para 2 quartos .unique() é:\n",
      "X_tamanho_em_m2:          [69 54 70 51 55]\n",
      "X_vagas_para_estacionar:  [1]\n",
      "X_número_de_banheiros:    [1 2]\n",
      "y_preço:                  [262900 450000 499000 320000 317500]\n",
      "Número de X_bairro:       50\n",
      "Número de observações:    1199\n",
      "----------------------------------------\n",
      "\n",
      "Para 4 quartos .unique() é:\n",
      "X_tamanho_em_m2:          [204 110 186 103 180 145 230]\n",
      "X_vagas_para_estacionar:  [3 2]\n",
      "X_número_de_banheiros:    [5 3 4 2]\n",
      "y_preço:                  [2500000  280000  750000  680000  450000  700000 1700000]\n",
      "Número de X_bairro:       59\n",
      "Número de observações:    1707\n",
      "----------------------------------------\n",
      "\n",
      "Para 3 quartos .unique() é:\n",
      "X_tamanho_em_m2:          [ 74  89  66 110 104  87 142  82  86]\n",
      "X_vagas_para_estacionar:  [1 2]\n",
      "X_número_de_banheiros:    [3 2 4]\n",
      "y_preço:                  [350000 480000 245000 250000 585000 450000 760000 530000 620000]\n",
      "Número de X_bairro:       60\n",
      "Número de observações:    2134\n",
      "----------------------------------------\n"
     ]
    }
   ],
   "source": [
    "for room in data.X_número_de_quartos.unique():\n",
    "    print(\"\\nPara\", room, \"quartos .unique() é:\")\n",
    "    print(\"X_tamanho_em_m2:         \", data.X_tamanho_em_m2[data.X_número_de_quartos == room].unique())\n",
    "    print(\"X_vagas_para_estacionar: \", data.X_vagas_para_estacionar[data.X_número_de_quartos == room].unique())\n",
    "    print(\"X_número_de_banheiros:   \", data.X_número_de_banheiros[data.X_número_de_quartos == room].unique())\n",
    "    print(\"y_preço:                 \", data.y_preço[data.X_número_de_quartos == room].unique())\n",
    "    print(\"Número de X_bairro:      \", len(data.X_bairro[data.X_número_de_quartos == room].unique()))  \n",
    "    print(\"Número de observações:   \",len(data[data.X_número_de_quartos == room]))\n",
    "    print(\"-\"*40) "
   ]
  },
  {
   "cell_type": "markdown",
   "metadata": {},
   "source": [
    "## Valores únicos das colunas por Número de Vagas no Estacionamento"
   ]
  },
  {
   "cell_type": "code",
   "execution_count": 52,
   "metadata": {},
   "outputs": [
    {
     "name": "stdout",
     "output_type": "stream",
     "text": [
      "\n",
      "Para 1 vagas no estacionamento .unique() é:\n",
      "X_tamanho_em_m2:          [ 69  54  70  74  51  66 110  55]\n",
      "X_número_de_quartos:      [2 3]\n",
      "X_número_de_banheiros:    [1 2 3]\n",
      "y_preço:                  [262900 450000 499000 350000 320000 245000 250000 317500]\n",
      "Número de X_bairro:       58\n",
      "Número de observações:    1928\n",
      "----------------------------------------\n",
      "\n",
      "Para 3 vagas no estacionamento .unique() é:\n",
      "X_tamanho_em_m2:          [204 186]\n",
      "X_número_de_quartos:      [4]\n",
      "X_número_de_banheiros:    [5 4]\n",
      "y_preço:                  [2500000  750000]\n",
      "Número de X_bairro:       40\n",
      "Número de observações:    504\n",
      "----------------------------------------\n",
      "\n",
      "Para 2 vagas no estacionamento .unique() é:\n",
      "X_tamanho_em_m2:          [ 89 110 103 180 104  87 142  82 145  86 230]\n",
      "X_número_de_quartos:      [3 4]\n",
      "X_número_de_banheiros:    [3 2 4 5]\n",
      "y_preço:                  [ 480000  280000  680000  450000  585000  760000  530000  700000  620000\n",
      " 1700000]\n",
      "Número de X_bairro:       63\n",
      "Número de observações:    2608\n",
      "----------------------------------------\n"
     ]
    }
   ],
   "source": [
    "for parking_lot in data.X_vagas_para_estacionar.unique():\n",
    "    print(\"\\nPara\", parking_lot, \"vagas no estacionamento .unique() é:\")\n",
    "    print(\"X_tamanho_em_m2:         \", data.X_tamanho_em_m2[data.X_vagas_para_estacionar == parking_lot].unique())\n",
    "    print(\"X_número_de_quartos:     \", data.X_número_de_quartos[data.X_vagas_para_estacionar == parking_lot].unique())\n",
    "    print(\"X_número_de_banheiros:   \", data.X_número_de_banheiros[data.X_vagas_para_estacionar == parking_lot].unique())\n",
    "    print(\"y_preço:                 \", data.y_preço[data.X_vagas_para_estacionar == parking_lot].unique())\n",
    "    print(\"Número de X_bairro:      \", len(data.X_bairro[data.X_vagas_para_estacionar == parking_lot].unique()))  \n",
    "    print(\"Número de observações:   \",len(data[data.X_vagas_para_estacionar == parking_lot]))\n",
    "    print(\"-\"*40) "
   ]
  },
  {
   "cell_type": "markdown",
   "metadata": {},
   "source": [
    "## Valores únicos das colunas por Número de Banheiros"
   ]
  },
  {
   "cell_type": "code",
   "execution_count": 53,
   "metadata": {
    "scrolled": false
   },
   "outputs": [
    {
     "name": "stdout",
     "output_type": "stream",
     "text": [
      "\n",
      "Para 1 banheiros .unique() é:\n",
      "X_tamanho_em_m2:          [69]\n",
      "X_número_de_quartos:      [2]\n",
      "X_vagas_para_estacionar:  [1]\n",
      "y_preço:                  [262900]\n",
      "Número de X_bairro:       31\n",
      "Número de observações:    211\n",
      "----------------------------------------\n",
      "\n",
      "Para 2 banheiros .unique() é:\n",
      "X_tamanho_em_m2:          [ 54  70  51  66 180 110  55  82]\n",
      "X_número_de_quartos:      [2 3 4]\n",
      "X_vagas_para_estacionar:  [1 2]\n",
      "y_preço:                  [450000 499000 320000 245000 250000 317500 530000]\n",
      "Número de X_bairro:       57\n",
      "Número de observações:    1946\n",
      "----------------------------------------\n",
      "\n",
      "Para 5 banheiros .unique() é:\n",
      "X_tamanho_em_m2:          [204 230]\n",
      "X_número_de_quartos:      [4]\n",
      "X_vagas_para_estacionar:  [3 2]\n",
      "y_preço:                  [2500000 1700000]\n",
      "Número de X_bairro:       47\n",
      "Número de observações:    497\n",
      "----------------------------------------\n",
      "\n",
      "Para 3 banheiros .unique() é:\n",
      "X_tamanho_em_m2:          [ 74  89 110 103 104  87  86]\n",
      "X_número_de_quartos:      [3 4]\n",
      "X_vagas_para_estacionar:  [1 2]\n",
      "y_preço:                  [350000 480000 280000 680000 585000 450000 620000]\n",
      "Número de X_bairro:       58\n",
      "Número de observações:    1676\n",
      "----------------------------------------\n",
      "\n",
      "Para 4 banheiros .unique() é:\n",
      "X_tamanho_em_m2:          [186 142 145]\n",
      "X_número_de_quartos:      [4 3]\n",
      "X_vagas_para_estacionar:  [3 2]\n",
      "y_preço:                  [750000 760000 700000]\n",
      "Número de X_bairro:       48\n",
      "Número de observações:    710\n",
      "----------------------------------------\n"
     ]
    }
   ],
   "source": [
    "for bathroom in data.X_número_de_banheiros.unique():\n",
    "    print(\"\\nPara\", bathroom, \"banheiros .unique() é:\")\n",
    "    print(\"X_tamanho_em_m2:         \", data.X_tamanho_em_m2[data.X_número_de_banheiros == bathroom].unique())\n",
    "    print(\"X_número_de_quartos:     \", data.X_número_de_quartos[data.X_número_de_banheiros == bathroom].unique())\n",
    "    print(\"X_vagas_para_estacionar: \", data.X_vagas_para_estacionar[data.X_número_de_banheiros == bathroom].unique())\n",
    "    print(\"y_preço:                 \", data.y_preço[data.X_número_de_banheiros == bathroom].unique())\n",
    "    print(\"Número de X_bairro:      \", len(data.X_bairro[data.X_número_de_banheiros == bathroom].unique()))\n",
    "    print(\"Número de observações:   \",len(data[data.X_número_de_banheiros == bathroom]))\n",
    "\n",
    "    print(\"-\"*40) "
   ]
  },
  {
   "cell_type": "markdown",
   "metadata": {},
   "source": [
    "## Valores únicos das colunas por preço\n",
    "\n",
    "Esperava encontrar mais variedades, mas pelo que vejo apenas imóveis com preço de R$450000 variam em número de quartos, banheiros... é como se todos os outros dados fossem duplicatas. Neste ponto se fortalece a ideia de que ou cometi algum erro durante o processo de coleta e organização dos dados ou obtive dados de imóveis bem semelhantes da cidade do Recife. Padrão da área? \n",
    "\n",
    "ps: o mesmo acontece para esse processo com o m², pouca variedade."
   ]
  },
  {
   "cell_type": "code",
   "execution_count": 284,
   "metadata": {
    "scrolled": false
   },
   "outputs": [
    {
     "name": "stdout",
     "output_type": "stream",
     "text": [
      "\n",
      "Para o valor de 262900 .unique() é:\n",
      "X_tamanho_em_m2:          [69]\n",
      "X_número_de_quartos:      [2]\n",
      "X_vagas_para_estacionar:  [1]\n",
      "X_número_de_banheiros:    [1]\n",
      "Número de X_bairro:       31\n",
      "Número de observações:    211\n",
      "----------------------------------------\n",
      "\n",
      "Para o valor de 450000 .unique() é:\n",
      "X_tamanho_em_m2:          [ 54 180  87]\n",
      "X_número_de_quartos:      [2 4 3]\n",
      "X_vagas_para_estacionar:  [1 2]\n",
      "X_número_de_banheiros:    [2 3]\n",
      "Número de X_bairro:       52\n",
      "Número de observações:    742\n",
      "----------------------------------------\n",
      "\n",
      "Para o valor de 2500000 .unique() é:\n",
      "X_tamanho_em_m2:          [204]\n",
      "X_número_de_quartos:      [4]\n",
      "X_vagas_para_estacionar:  [3]\n",
      "X_número_de_banheiros:    [5]\n",
      "Número de X_bairro:       36\n",
      "Número de observações:    261\n",
      "----------------------------------------\n",
      "\n",
      "Para o valor de 499000 .unique() é:\n",
      "X_tamanho_em_m2:          [70]\n",
      "X_número_de_quartos:      [2]\n",
      "X_vagas_para_estacionar:  [1]\n",
      "X_número_de_banheiros:    [2]\n",
      "Número de X_bairro:       36\n",
      "Número de observações:    230\n",
      "----------------------------------------\n",
      "\n",
      "Para o valor de 350000 .unique() é:\n",
      "X_tamanho_em_m2:          [74]\n",
      "X_número_de_quartos:      [3]\n",
      "X_vagas_para_estacionar:  [1]\n",
      "X_número_de_banheiros:    [3]\n",
      "Número de X_bairro:       32\n",
      "Número de observações:    253\n",
      "----------------------------------------\n",
      "\n",
      "Para o valor de 480000 .unique() é:\n",
      "X_tamanho_em_m2:          [89]\n",
      "X_número_de_quartos:      [3]\n",
      "X_vagas_para_estacionar:  [2]\n",
      "X_número_de_banheiros:    [3]\n",
      "Número de X_bairro:       28\n",
      "Número de observações:    228\n",
      "----------------------------------------\n",
      "\n",
      "Para o valor de 280000 .unique() é:\n",
      "X_tamanho_em_m2:          [110]\n",
      "X_número_de_quartos:      [4]\n",
      "X_vagas_para_estacionar:  [2]\n",
      "X_número_de_banheiros:    [3]\n",
      "Número de X_bairro:       36\n",
      "Número de observações:    247\n",
      "----------------------------------------\n",
      "\n",
      "Para o valor de 750000 .unique() é:\n",
      "X_tamanho_em_m2:          [186]\n",
      "X_número_de_quartos:      [4]\n",
      "X_vagas_para_estacionar:  [3]\n",
      "X_número_de_banheiros:    [4]\n",
      "Número de X_bairro:       29\n",
      "Número de observações:    243\n",
      "----------------------------------------\n",
      "\n",
      "Para o valor de 320000 .unique() é:\n",
      "X_tamanho_em_m2:          [51]\n",
      "X_número_de_quartos:      [2]\n",
      "X_vagas_para_estacionar:  [1]\n",
      "X_número_de_banheiros:    [2]\n",
      "Número de X_bairro:       30\n",
      "Número de observações:    256\n",
      "----------------------------------------\n",
      "\n",
      "Para o valor de 245000 .unique() é:\n",
      "X_tamanho_em_m2:          [66]\n",
      "X_número_de_quartos:      [3]\n",
      "X_vagas_para_estacionar:  [1]\n",
      "X_número_de_banheiros:    [2]\n",
      "Número de X_bairro:       34\n",
      "Número de observações:    241\n",
      "----------------------------------------\n",
      "\n",
      "Para o valor de 680000 .unique() é:\n",
      "X_tamanho_em_m2:          [103]\n",
      "X_número_de_quartos:      [4]\n",
      "X_vagas_para_estacionar:  [2]\n",
      "X_número_de_banheiros:    [3]\n",
      "Número de X_bairro:       40\n",
      "Número de observações:    242\n",
      "----------------------------------------\n",
      "\n",
      "Para o valor de 250000 .unique() é:\n",
      "X_tamanho_em_m2:          [110]\n",
      "X_número_de_quartos:      [3]\n",
      "X_vagas_para_estacionar:  [1]\n",
      "X_número_de_banheiros:    [2]\n",
      "Número de X_bairro:       34\n",
      "Número de observações:    235\n",
      "----------------------------------------\n",
      "\n",
      "Para o valor de 317500 .unique() é:\n",
      "X_tamanho_em_m2:          [55]\n",
      "X_número_de_quartos:      [2]\n",
      "X_vagas_para_estacionar:  [1]\n",
      "X_número_de_banheiros:    [2]\n",
      "Número de X_bairro:       31\n",
      "Número de observações:    250\n",
      "----------------------------------------\n",
      "\n",
      "Para o valor de 585000 .unique() é:\n",
      "X_tamanho_em_m2:          [104]\n",
      "X_número_de_quartos:      [3]\n",
      "X_vagas_para_estacionar:  [2]\n",
      "X_número_de_banheiros:    [3]\n",
      "Número de X_bairro:       29\n",
      "Número de observações:    220\n",
      "----------------------------------------\n",
      "\n",
      "Para o valor de 760000 .unique() é:\n",
      "X_tamanho_em_m2:          [142]\n",
      "X_número_de_quartos:      [3]\n",
      "X_vagas_para_estacionar:  [2]\n",
      "X_número_de_banheiros:    [4]\n",
      "Número de X_bairro:       41\n",
      "Número de observações:    237\n",
      "----------------------------------------\n",
      "\n",
      "Para o valor de 530000 .unique() é:\n",
      "X_tamanho_em_m2:          [82]\n",
      "X_número_de_quartos:      [3]\n",
      "X_vagas_para_estacionar:  [2]\n",
      "X_número_de_banheiros:    [2]\n",
      "Número de X_bairro:       37\n",
      "Número de observações:    234\n",
      "----------------------------------------\n",
      "\n",
      "Para o valor de 700000 .unique() é:\n",
      "X_tamanho_em_m2:          [145]\n",
      "X_número_de_quartos:      [4]\n",
      "X_vagas_para_estacionar:  [2]\n",
      "X_número_de_banheiros:    [4]\n",
      "Número de X_bairro:       35\n",
      "Número de observações:    230\n",
      "----------------------------------------\n",
      "\n",
      "Para o valor de 620000 .unique() é:\n",
      "X_tamanho_em_m2:          [86]\n",
      "X_número_de_quartos:      [3]\n",
      "X_vagas_para_estacionar:  [2]\n",
      "X_número_de_banheiros:    [3]\n",
      "Número de X_bairro:       33\n",
      "Número de observações:    244\n",
      "----------------------------------------\n",
      "\n",
      "Para o valor de 1700000 .unique() é:\n",
      "X_tamanho_em_m2:          [230]\n",
      "X_número_de_quartos:      [4]\n",
      "X_vagas_para_estacionar:  [2]\n",
      "X_número_de_banheiros:    [5]\n",
      "Número de X_bairro:       38\n",
      "Número de observações:    236\n",
      "----------------------------------------\n"
     ]
    }
   ],
   "source": [
    "for price in data.y_preço.unique():\n",
    "    print(\"\\nPara o valor de\", price,\".unique() é:\")\n",
    "    print(\"X_tamanho_em_m2:         \", data.X_tamanho_em_m2[data.y_preço == price].unique())\n",
    "    print(\"X_número_de_quartos:     \", data.X_número_de_quartos[data.y_preço == price].unique())\n",
    "    print(\"X_vagas_para_estacionar: \", data.X_vagas_para_estacionar[data.y_preço == price].unique())\n",
    "    print(\"X_número_de_banheiros:   \", data.X_número_de_banheiros[data.y_preço == price].unique())\n",
    "    print(\"Número de X_bairro:      \", len(data.X_bairro[data.y_preço == price].unique()))\n",
    "    print(\"Número de observações:   \",len(data[data.y_preço == price]))\n",
    "\n",
    "    print(\"-\"*40) "
   ]
  },
  {
   "cell_type": "markdown",
   "metadata": {},
   "source": [
    "## Visão com gráficos\n",
    "\n",
    "Como vemos, tudo parece ser anormalmente normal... imóveis com maior m² apresentam maior número de quartos e banheiros, mas há exceções. No gráfico vemos imóveis com aproximadamente 140m² com 4 quartos, mas também outros com aproximadamente 110m² também com 4 quartos. Não que seja um problema, apenas uma observação."
   ]
  },
  {
   "cell_type": "code",
   "execution_count": 54,
   "metadata": {},
   "outputs": [
    {
     "data": {
      "image/png": "[encoded data removed]",
      "text/plain": [
       "<Figure size 576x432 with 1 Axes>"
      ]
     },
     "metadata": {},
     "output_type": "display_data"
    }
   ],
   "source": [
    "sns.set_style(\"darkgrid\")\n",
    "plt.figure(figsize=(8,6))\n",
    "plt.scatter(data.X_tamanho_em_m2, data.X_número_de_quartos)\n",
    "plt.xlabel(\"Tamanho em m2\", fontsize=18)\n",
    "plt.ylabel(\"Número de Quartos\", fontsize=18)\n",
    "plt.show()"
   ]
  },
  {
   "cell_type": "code",
   "execution_count": 55,
   "metadata": {},
   "outputs": [
    {
     "data": {
      "image/png": "[encoded data removed]",
      "text/plain": [
       "<Figure size 576x432 with 1 Axes>"
      ]
     },
     "metadata": {},
     "output_type": "display_data"
    }
   ],
   "source": [
    "plt.figure(figsize=(8,6))\n",
    "plt.scatter(data.X_tamanho_em_m2, data.X_número_de_banheiros)\n",
    "plt.xlabel(\"Tamanho em m2\", fontsize=18)\n",
    "plt.ylabel(\"Número de Banheiros\", fontsize=18)\n",
    "plt.show()"
   ]
  },
  {
   "cell_type": "markdown",
   "metadata": {},
   "source": [
    "O mesmo gráfico de m² por preço que levantou várias dúvidas, mas agora sem o outlier de 600m²"
   ]
  },
  {
   "cell_type": "code",
   "execution_count": 38,
   "metadata": {},
   "outputs": [
    {
     "data": {
      "image/png": "[encoded data removed]",
      "text/plain": [
       "<Figure size 576x432 with 1 Axes>"
      ]
     },
     "metadata": {},
     "output_type": "display_data"
    }
   ],
   "source": [
    "plt.figure(figsize=(8,6))\n",
    "plt.scatter(data.X_tamanho_em_m2, data.y_preço)\n",
    "plt.xlabel(\"Tamanho em m2\", fontsize=18)\n",
    "plt.ylabel(\"Preço (em milhão)\", fontsize=18)\n",
    "plt.show()"
   ]
  },
  {
   "cell_type": "code",
   "execution_count": null,
   "metadata": {},
   "outputs": [],
   "source": [
    "data.to_csv(\"Dados para modelar.csv.csv\")"
   ]
  },
  {
   "cell_type": "markdown",
   "metadata": {},
   "source": [
    "Mesmo com dúvida no coração, vamos partir para a modelagem dos dados. E a medida que os \"fantasmas do passado\" forem aparecendo para nos assombrar, vamos voltando os processos para enfrentá-los."
   ]
  }
 ],
 "metadata": {
  "kernelspec": {
   "display_name": "Python 3",
   "language": "python",
   "name": "python3"
  },
  "language_info": {
   "codemirror_mode": {
    "name": "ipython",
    "version": 3
   },
   "file_extension": ".py",
   "mimetype": "text/x-python",
   "name": "python",
   "nbconvert_exporter": "python",
   "pygments_lexer": "ipython3",
   "version": "3.7.7"
  }
 },
 "nbformat": 4,
 "nbformat_minor": 4
}
